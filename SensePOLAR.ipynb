{
 "cells": [
  {
   "cell_type": "code",
   "execution_count": 1,
   "metadata": {},
   "outputs": [],
   "source": [
    "from lookup import LookupCreator\n",
    "from sensepolar.polarity import WordPolarity\n",
    "from sensepolar.bertEmbed import BERTWordEmbeddings\n",
    "from sensepolar.polarDim import PolarDimensions\n",
    "from sensepolar.dictionaryapi import Dictionary\n",
    "from sensepolar.plotter import PolarityPlotter"
   ]
  },
  {
   "cell_type": "code",
   "execution_count": 2,
   "metadata": {},
   "outputs": [],
   "source": [
    "def read_word_context_file(file_path):\n",
    "    with open(file_path, 'r') as f:\n",
    "        content = f.read()\n",
    "    lines = content.strip().split('\\n')\n",
    "    words = []\n",
    "    contexts = []\n",
    "    for line in lines:\n",
    "        split_line = [item.strip() for item in line.split(',')]\n",
    "        words.append(split_line[0])\n",
    "        contexts.append(split_line[1])\n",
    "    return words, contexts\n",
    "\n",
    "# read_word_context_file('data/word_context.csv')"
   ]
  },
  {
   "cell_type": "code",
   "execution_count": 3,
   "metadata": {},
   "outputs": [
    {
     "name": "stderr",
     "output_type": "stream",
     "text": [
      "Some weights of the model checkpoint at bert-base-uncased were not used when initializing BertModel: ['cls.predictions.transform.LayerNorm.bias', 'cls.predictions.bias', 'cls.predictions.transform.LayerNorm.weight', 'cls.predictions.transform.dense.weight', 'cls.seq_relationship.weight', 'cls.predictions.transform.dense.bias', 'cls.seq_relationship.bias', 'cls.predictions.decoder.weight']\n",
      "- This IS expected if you are initializing BertModel from the checkpoint of a model trained on another task or with another architecture (e.g. initializing a BertForSequenceClassification model from a BertForPreTraining model).\n",
      "- This IS NOT expected if you are initializing BertModel from the checkpoint of a model that you expect to be exactly identical (initializing a BertForSequenceClassification model from a BertForSequenceClassification model).\n"
     ]
    },
    {
     "name": "stdout",
     "output_type": "stream",
     "text": [
      "Please enter at least one example sentence for the word: slow\n",
      "Unable to create POLAR dimensions.\n",
      "Loading antonyms from ./antonyms/lookup_anto_example_dict.pkl\n",
      "Top: 1\n",
      "Dimension: good <------> bad\n",
      "positive negative\n",
      "Value: -0.1621005\n",
      "\n",
      "\n",
      "Top: 2\n",
      "Dimension: happy <------> sad\n",
      "feeling of joy feeling of sorrow\n",
      "Value: -0.097381435\n",
      "\n",
      "\n",
      "Top: 3\n",
      "Dimension: big <------> small\n",
      "large size tiny size\n",
      "Value: -0.09680711\n",
      "\n",
      "\n",
      "Top: 4\n",
      "Dimension: fast <------> slow\n",
      "high speed  low speed\n",
      "Value: -0.09400594\n",
      "\n",
      "\n",
      "Top: 1\n",
      "Dimension: happy <------> sad\n",
      "feeling of joy feeling of sorrow\n",
      "Value: -0.073004276\n",
      "\n",
      "\n",
      "Top: 2\n",
      "Dimension: big <------> small\n",
      "large size tiny size\n",
      "Value: -0.07295258\n",
      "\n",
      "\n",
      "Top: 3\n",
      "Dimension: good <------> bad\n",
      "positive negative\n",
      "Value: -0.011349425\n",
      "\n",
      "\n",
      "Top: 4\n",
      "Dimension: fast <------> slow\n",
      "high speed  low speed\n",
      "Value: -0.009105166\n",
      "\n",
      "\n",
      "Top: 1\n",
      "Dimension: happy <------> sad\n",
      "feeling of joy feeling of sorrow\n",
      "Value: -0.091014154\n",
      "\n",
      "\n",
      "Top: 2\n",
      "Dimension: big <------> small\n",
      "large size tiny size\n",
      "Value: -0.021272952\n",
      "\n",
      "\n",
      "Top: 3\n",
      "Dimension: fast <------> slow\n",
      "high speed  low speed\n",
      "Value: -0.0073070386\n",
      "\n",
      "\n",
      "Top: 4\n",
      "Dimension: good <------> bad\n",
      "positive negative\n",
      "Value:0.004575877916067839\n",
      "\n",
      "\n",
      "Top: 1\n",
      "Dimension: happy <------> sad\n",
      "feeling of joy feeling of sorrow\n",
      "Value: -0.10952695\n",
      "\n",
      "\n",
      "Top: 2\n",
      "Dimension: big <------> small\n",
      "large size tiny size\n",
      "Value: -0.060032964\n",
      "\n",
      "\n",
      "Top: 3\n",
      "Dimension: fast <------> slow\n",
      "high speed  low speed\n",
      "Value:0.042137261480093\n",
      "\n",
      "\n",
      "Top: 4\n",
      "Dimension: good <------> bad\n",
      "positive negative\n",
      "Value: -0.016946975\n",
      "\n",
      "\n",
      "Top: 1\n",
      "Dimension: happy <------> sad\n",
      "feeling of joy feeling of sorrow\n",
      "Value: -0.09405656\n",
      "\n",
      "\n",
      "Top: 2\n",
      "Dimension: big <------> small\n",
      "large size tiny size\n",
      "Value: -0.042754427\n",
      "\n",
      "\n",
      "Top: 3\n",
      "Dimension: good <------> bad\n",
      "positive negative\n",
      "Value: -0.030429441\n",
      "\n",
      "\n",
      "Top: 4\n",
      "Dimension: fast <------> slow\n",
      "high speed  low speed\n",
      "Value:0.009736530482769012\n",
      "\n",
      "\n",
      "Top: 1\n",
      "Dimension: good <------> bad\n",
      "positive negative\n",
      "Value:0.27137231826782227\n",
      "\n",
      "\n",
      "Top: 2\n",
      "Dimension: happy <------> sad\n",
      "feeling of joy feeling of sorrow\n",
      "Value: -0.03174801\n",
      "\n",
      "\n",
      "Top: 3\n",
      "Dimension: big <------> small\n",
      "large size tiny size\n",
      "Value:0.023835156112909317\n",
      "\n",
      "\n",
      "Top: 4\n",
      "Dimension: fast <------> slow\n",
      "high speed  low speed\n",
      "Value: -0.023422949\n",
      "\n",
      "\n",
      "Top: 1\n",
      "Dimension: big <------> small\n",
      "large size tiny size\n",
      "Value: -0.05327501\n",
      "\n",
      "\n",
      "Top: 2\n",
      "Dimension: happy <------> sad\n",
      "feeling of joy feeling of sorrow\n",
      "Value: -0.041489746\n",
      "\n",
      "\n",
      "Top: 3\n",
      "Dimension: good <------> bad\n",
      "positive negative\n",
      "Value: -0.026755227\n",
      "\n",
      "\n",
      "Top: 4\n",
      "Dimension: fast <------> slow\n",
      "high speed  low speed\n",
      "Value: -0.0112924175\n",
      "\n",
      "\n"
     ]
    }
   ],
   "source": [
    "out_path = './antonyms/'\n",
    "antonym_path = \"data_file.xlsx\"\n",
    "\n",
    "dictionary = Dictionary('wordnet', api_key='')    \n",
    "# dictionary = Dictionary('dictionaryapi', api_key='b4b51989-1b9d-4690-8975-4a83df13efc4 ')\n",
    "# dictionary = Dictionary('wordnik', api_key='6488daf20061aa3e6200c013b470fa8ef1f2678c19b36ef05')\n",
    "lookupSpace = LookupCreator(dictionary, out_path, antonyms_file_path=antonym_path)\n",
    "lookupSpace.create_lookup_files()\n",
    "\n",
    "antonym_path = out_path + \"polar_dimensions.pkl\"\n",
    "\n",
    "model = BERTWordEmbeddings()\n",
    "\n",
    "pdc = PolarDimensions(model, antonym_path=out_path + \"antonym_wordnet_example_sentences_readable_extended.txt\")\n",
    "pdc.create_polar_dimensions(out_path)\n",
    "\n",
    "words, context = read_word_context_file('data/word_context.csv')\n",
    "wp = WordPolarity(model, antonym_path=antonym_path, method='base-change', number_polar=4)\n",
    "\n",
    "polar_dimensions = []\n",
    "for word, context in zip(words, context):\n",
    "    dimension = wp.analyze_word(word, context)\n",
    "    polar_dimensions.append(dimension)"
   ]
  },
  {
   "cell_type": "code",
   "execution_count": 4,
   "metadata": {},
   "outputs": [
    {
     "data": {
      "application/vnd.plotly.v1+json": {
       "config": {
        "plotlyServerURL": "https://plot.ly"
       },
       "data": [
        {
         "marker": {
          "color": "rgb(68, 1, 84)",
          "size": 10,
          "symbol": "square"
         },
         "mode": "markers",
         "name": "sun",
         "showlegend": true,
         "type": "scatter",
         "x": [
          -0.16210049390792847
         ],
         "y": [
          0.01
         ]
        },
        {
         "marker": {
          "color": "rgb(67, 56, 128)",
          "size": 10,
          "symbol": "square"
         },
         "mode": "markers",
         "name": "cat",
         "showlegend": true,
         "type": "scatter",
         "x": [
          -0.011349424719810486
         ],
         "y": [
          0.01
         ]
        },
        {
         "marker": {
          "color": "rgb(49, 104, 142)",
          "size": 10,
          "symbol": "square"
         },
         "mode": "markers",
         "name": "tree",
         "showlegend": true,
         "type": "scatter",
         "x": [
          0.004575877916067839
         ],
         "y": [
          0.01
         ]
        },
        {
         "marker": {
          "color": "rgb(34, 144, 140)",
          "size": 10,
          "symbol": "square"
         },
         "mode": "markers",
         "name": "book",
         "showlegend": true,
         "type": "scatter",
         "x": [
          -0.016946975141763687
         ],
         "y": [
          0.01
         ]
        },
        {
         "marker": {
          "color": "rgb(53, 183, 121)",
          "size": 10,
          "symbol": "square"
         },
         "mode": "markers",
         "name": "dog",
         "showlegend": true,
         "type": "scatter",
         "x": [
          -0.03042944148182869
         ],
         "y": [
          0.01
         ]
        },
        {
         "marker": {
          "color": "rgb(146, 214, 65)",
          "size": 10,
          "symbol": "square"
         },
         "mode": "markers",
         "name": "rain",
         "showlegend": true,
         "type": "scatter",
         "x": [
          0.27137231826782227
         ],
         "y": [
          0.01
         ]
        },
        {
         "marker": {
          "color": "rgb(253, 231, 37)",
          "size": 10,
          "symbol": "square"
         },
         "mode": "markers",
         "name": "mountain",
         "showlegend": true,
         "type": "scatter",
         "x": [
          -0.026755226776003838
         ],
         "y": [
          0.01
         ]
        },
        {
         "marker": {
          "color": "rgb(68, 1, 84)",
          "size": 10,
          "symbol": "square"
         },
         "mode": "markers",
         "name": "sun",
         "showlegend": false,
         "type": "scatter",
         "x": [
          -0.09738143533468246
         ],
         "y": [
          0.115
         ]
        },
        {
         "marker": {
          "color": "rgb(67, 56, 128)",
          "size": 10,
          "symbol": "square"
         },
         "mode": "markers",
         "name": "cat",
         "showlegend": false,
         "type": "scatter",
         "x": [
          -0.07300427556037903
         ],
         "y": [
          0.115
         ]
        },
        {
         "marker": {
          "color": "rgb(49, 104, 142)",
          "size": 10,
          "symbol": "square"
         },
         "mode": "markers",
         "name": "tree",
         "showlegend": false,
         "type": "scatter",
         "x": [
          -0.09101415425539017
         ],
         "y": [
          0.115
         ]
        },
        {
         "marker": {
          "color": "rgb(34, 144, 140)",
          "size": 10,
          "symbol": "square"
         },
         "mode": "markers",
         "name": "book",
         "showlegend": false,
         "type": "scatter",
         "x": [
          -0.10952694714069366
         ],
         "y": [
          0.115
         ]
        },
        {
         "marker": {
          "color": "rgb(53, 183, 121)",
          "size": 10,
          "symbol": "square"
         },
         "mode": "markers",
         "name": "dog",
         "showlegend": false,
         "type": "scatter",
         "x": [
          -0.09405656158924103
         ],
         "y": [
          0.115
         ]
        },
        {
         "marker": {
          "color": "rgb(146, 214, 65)",
          "size": 10,
          "symbol": "square"
         },
         "mode": "markers",
         "name": "rain",
         "showlegend": false,
         "type": "scatter",
         "x": [
          -0.03174801170825958
         ],
         "y": [
          0.115
         ]
        },
        {
         "marker": {
          "color": "rgb(253, 231, 37)",
          "size": 10,
          "symbol": "square"
         },
         "mode": "markers",
         "name": "mountain",
         "showlegend": false,
         "type": "scatter",
         "x": [
          -0.041489746421575546
         ],
         "y": [
          0.115
         ]
        },
        {
         "marker": {
          "color": "rgb(68, 1, 84)",
          "size": 10,
          "symbol": "square"
         },
         "mode": "markers",
         "name": "sun",
         "showlegend": false,
         "type": "scatter",
         "x": [
          -0.09680710732936859
         ],
         "y": [
          0.22000000000000003
         ]
        },
        {
         "marker": {
          "color": "rgb(67, 56, 128)",
          "size": 10,
          "symbol": "square"
         },
         "mode": "markers",
         "name": "cat",
         "showlegend": false,
         "type": "scatter",
         "x": [
          -0.07295258343219757
         ],
         "y": [
          0.22000000000000003
         ]
        },
        {
         "marker": {
          "color": "rgb(49, 104, 142)",
          "size": 10,
          "symbol": "square"
         },
         "mode": "markers",
         "name": "tree",
         "showlegend": false,
         "type": "scatter",
         "x": [
          -0.021272951737046242
         ],
         "y": [
          0.22000000000000003
         ]
        },
        {
         "marker": {
          "color": "rgb(34, 144, 140)",
          "size": 10,
          "symbol": "square"
         },
         "mode": "markers",
         "name": "book",
         "showlegend": false,
         "type": "scatter",
         "x": [
          -0.06003296375274658
         ],
         "y": [
          0.22000000000000003
         ]
        },
        {
         "marker": {
          "color": "rgb(53, 183, 121)",
          "size": 10,
          "symbol": "square"
         },
         "mode": "markers",
         "name": "dog",
         "showlegend": false,
         "type": "scatter",
         "x": [
          -0.04275442659854889
         ],
         "y": [
          0.22000000000000003
         ]
        },
        {
         "marker": {
          "color": "rgb(146, 214, 65)",
          "size": 10,
          "symbol": "square"
         },
         "mode": "markers",
         "name": "rain",
         "showlegend": false,
         "type": "scatter",
         "x": [
          0.023835156112909317
         ],
         "y": [
          0.22000000000000003
         ]
        },
        {
         "marker": {
          "color": "rgb(253, 231, 37)",
          "size": 10,
          "symbol": "square"
         },
         "mode": "markers",
         "name": "mountain",
         "showlegend": false,
         "type": "scatter",
         "x": [
          -0.053275011479854584
         ],
         "y": [
          0.22000000000000003
         ]
        },
        {
         "marker": {
          "color": "rgb(68, 1, 84)",
          "size": 10,
          "symbol": "square"
         },
         "mode": "markers",
         "name": "sun",
         "showlegend": false,
         "type": "scatter",
         "x": [
          -0.09400594234466553
         ],
         "y": [
          0.32500000000000007
         ]
        },
        {
         "marker": {
          "color": "rgb(67, 56, 128)",
          "size": 10,
          "symbol": "square"
         },
         "mode": "markers",
         "name": "cat",
         "showlegend": false,
         "type": "scatter",
         "x": [
          -0.009105166420340538
         ],
         "y": [
          0.32500000000000007
         ]
        },
        {
         "marker": {
          "color": "rgb(49, 104, 142)",
          "size": 10,
          "symbol": "square"
         },
         "mode": "markers",
         "name": "tree",
         "showlegend": false,
         "type": "scatter",
         "x": [
          -0.007307038642466068
         ],
         "y": [
          0.32500000000000007
         ]
        },
        {
         "marker": {
          "color": "rgb(34, 144, 140)",
          "size": 10,
          "symbol": "square"
         },
         "mode": "markers",
         "name": "book",
         "showlegend": false,
         "type": "scatter",
         "x": [
          0.042137261480093
         ],
         "y": [
          0.32500000000000007
         ]
        },
        {
         "marker": {
          "color": "rgb(53, 183, 121)",
          "size": 10,
          "symbol": "square"
         },
         "mode": "markers",
         "name": "dog",
         "showlegend": false,
         "type": "scatter",
         "x": [
          0.009736530482769012
         ],
         "y": [
          0.32500000000000007
         ]
        },
        {
         "marker": {
          "color": "rgb(146, 214, 65)",
          "size": 10,
          "symbol": "square"
         },
         "mode": "markers",
         "name": "rain",
         "showlegend": false,
         "type": "scatter",
         "x": [
          -0.023422949016094208
         ],
         "y": [
          0.32500000000000007
         ]
        },
        {
         "marker": {
          "color": "rgb(253, 231, 37)",
          "size": 10,
          "symbol": "square"
         },
         "mode": "markers",
         "name": "mountain",
         "showlegend": false,
         "type": "scatter",
         "x": [
          -0.011292417533695698
         ],
         "y": [
          0.32500000000000007
         ]
        },
        {
         "line": {
          "color": "rgb(68, 1, 84)",
          "width": 1
         },
         "mode": "lines",
         "showlegend": false,
         "type": "scatter",
         "visible": "legendonly",
         "x": [
          "bad",
          "sad",
          "small",
          "slow"
         ],
         "y": [
          0.43000000000000005,
          0.43000000000000005,
          0.43000000000000005,
          0.43000000000000005
         ]
        },
        {
         "line": {
          "color": "rgb(67, 56, 128)",
          "width": 1
         },
         "mode": "lines",
         "showlegend": false,
         "type": "scatter",
         "visible": "legendonly",
         "x": [
          "sad",
          "small",
          "bad",
          "slow"
         ],
         "y": [
          0.43000000000000005,
          0.43000000000000005,
          0.43000000000000005,
          0.43000000000000005
         ]
        },
        {
         "line": {
          "color": "rgb(49, 104, 142)",
          "width": 1
         },
         "mode": "lines",
         "showlegend": false,
         "type": "scatter",
         "visible": "legendonly",
         "x": [
          "sad",
          "small",
          "slow",
          "bad"
         ],
         "y": [
          0.43000000000000005,
          0.43000000000000005,
          0.43000000000000005,
          0.43000000000000005
         ]
        },
        {
         "line": {
          "color": "rgb(34, 144, 140)",
          "width": 1
         },
         "mode": "lines",
         "showlegend": false,
         "type": "scatter",
         "visible": "legendonly",
         "x": [
          "sad",
          "small",
          "slow",
          "bad"
         ],
         "y": [
          0.43000000000000005,
          0.43000000000000005,
          0.43000000000000005,
          0.43000000000000005
         ]
        },
        {
         "line": {
          "color": "rgb(53, 183, 121)",
          "width": 1
         },
         "mode": "lines",
         "showlegend": false,
         "type": "scatter",
         "visible": "legendonly",
         "x": [
          "sad",
          "small",
          "bad",
          "slow"
         ],
         "y": [
          0.43000000000000005,
          0.43000000000000005,
          0.43000000000000005,
          0.43000000000000005
         ]
        },
        {
         "line": {
          "color": "rgb(146, 214, 65)",
          "width": 1
         },
         "mode": "lines",
         "showlegend": false,
         "type": "scatter",
         "visible": "legendonly",
         "x": [
          "bad",
          "sad",
          "small",
          "slow"
         ],
         "y": [
          0.43000000000000005,
          0.43000000000000005,
          0.43000000000000005,
          0.43000000000000005
         ]
        },
        {
         "line": {
          "color": "rgb(253, 231, 37)",
          "width": 1
         },
         "mode": "lines",
         "showlegend": false,
         "type": "scatter",
         "visible": "legendonly",
         "x": [
          "small",
          "sad",
          "bad",
          "slow"
         ],
         "y": [
          0.43000000000000005,
          0.43000000000000005,
          0.43000000000000005,
          0.43000000000000005
         ]
        }
       ],
       "layout": {
        "annotations": [
         {
          "font": {
           "size": 18
          },
          "showarrow": false,
          "text": "good",
          "x": -1.1,
          "xanchor": "right",
          "y": 0.01
         },
         {
          "font": {
           "size": 18
          },
          "showarrow": false,
          "text": "bad",
          "x": 1.1,
          "xanchor": "left",
          "y": 0.01
         },
         {
          "font": {
           "size": 18
          },
          "showarrow": false,
          "text": "happy",
          "x": -1.1,
          "xanchor": "right",
          "y": 0.115
         },
         {
          "font": {
           "size": 18
          },
          "showarrow": false,
          "text": "sad",
          "x": 1.1,
          "xanchor": "left",
          "y": 0.115
         },
         {
          "font": {
           "size": 18
          },
          "showarrow": false,
          "text": "big",
          "x": -1.1,
          "xanchor": "right",
          "y": 0.22000000000000003
         },
         {
          "font": {
           "size": 18
          },
          "showarrow": false,
          "text": "small",
          "x": 1.1,
          "xanchor": "left",
          "y": 0.22000000000000003
         },
         {
          "font": {
           "size": 18
          },
          "showarrow": false,
          "text": "fast",
          "x": -1.1,
          "xanchor": "right",
          "y": 0.32500000000000007
         },
         {
          "font": {
           "size": 18
          },
          "showarrow": false,
          "text": "slow",
          "x": 1.1,
          "xanchor": "left",
          "y": 0.32500000000000007
         }
        ],
        "shapes": [
         {
          "line": {
           "color": "black",
           "width": 1
          },
          "type": "line",
          "x0": -1,
          "x1": 1,
          "y0": 0,
          "y1": 0
         },
         {
          "line": {
           "color": "black",
           "width": 1
          },
          "type": "line",
          "x0": -1,
          "x1": -1,
          "y0": 0,
          "y1": 0.4
         },
         {
          "line": {
           "color": "black",
           "width": 1
          },
          "type": "line",
          "x0": 1,
          "x1": 1,
          "y0": 0,
          "y1": 0.4
         },
         {
          "line": {
           "color": "black",
           "dash": "dash",
           "width": 1
          },
          "type": "line",
          "x0": 0,
          "x1": 0,
          "y0": 0,
          "y1": 0.4
         },
         {
          "line": {
           "color": "rgb(68, 1, 84)",
           "width": 2
          },
          "type": "line",
          "visible": true,
          "x0": -0.16210049390792847,
          "x1": 0,
          "y0": 0.01,
          "y1": 0.01
         },
         {
          "line": {
           "color": "rgb(67, 56, 128)",
           "width": 2
          },
          "type": "line",
          "visible": true,
          "x0": -0.011349424719810486,
          "x1": 0,
          "y0": 0.01,
          "y1": 0.01
         },
         {
          "line": {
           "color": "rgb(49, 104, 142)",
           "width": 2
          },
          "type": "line",
          "visible": true,
          "x0": 0.004575877916067839,
          "x1": 0,
          "y0": 0.01,
          "y1": 0.01
         },
         {
          "line": {
           "color": "rgb(34, 144, 140)",
           "width": 2
          },
          "type": "line",
          "visible": true,
          "x0": -0.016946975141763687,
          "x1": 0,
          "y0": 0.01,
          "y1": 0.01
         },
         {
          "line": {
           "color": "rgb(53, 183, 121)",
           "width": 2
          },
          "type": "line",
          "visible": true,
          "x0": -0.03042944148182869,
          "x1": 0,
          "y0": 0.01,
          "y1": 0.01
         },
         {
          "line": {
           "color": "rgb(146, 214, 65)",
           "width": 2
          },
          "type": "line",
          "visible": true,
          "x0": 0.27137231826782227,
          "x1": 0,
          "y0": 0.01,
          "y1": 0.01
         },
         {
          "line": {
           "color": "rgb(253, 231, 37)",
           "width": 2
          },
          "type": "line",
          "visible": true,
          "x0": -0.026755226776003838,
          "x1": 0,
          "y0": 0.01,
          "y1": 0.01
         },
         {
          "line": {
           "color": "rgb(68, 1, 84)",
           "width": 2
          },
          "type": "line",
          "visible": false,
          "x0": -0.09738143533468246,
          "x1": 0,
          "y0": 0.115,
          "y1": 0.115
         },
         {
          "line": {
           "color": "rgb(67, 56, 128)",
           "width": 2
          },
          "type": "line",
          "visible": false,
          "x0": -0.07300427556037903,
          "x1": 0,
          "y0": 0.115,
          "y1": 0.115
         },
         {
          "line": {
           "color": "rgb(49, 104, 142)",
           "width": 2
          },
          "type": "line",
          "visible": false,
          "x0": -0.09101415425539017,
          "x1": 0,
          "y0": 0.115,
          "y1": 0.115
         },
         {
          "line": {
           "color": "rgb(34, 144, 140)",
           "width": 2
          },
          "type": "line",
          "visible": false,
          "x0": -0.10952694714069366,
          "x1": 0,
          "y0": 0.115,
          "y1": 0.115
         },
         {
          "line": {
           "color": "rgb(53, 183, 121)",
           "width": 2
          },
          "type": "line",
          "visible": false,
          "x0": -0.09405656158924103,
          "x1": 0,
          "y0": 0.115,
          "y1": 0.115
         },
         {
          "line": {
           "color": "rgb(146, 214, 65)",
           "width": 2
          },
          "type": "line",
          "visible": false,
          "x0": -0.03174801170825958,
          "x1": 0,
          "y0": 0.115,
          "y1": 0.115
         },
         {
          "line": {
           "color": "rgb(253, 231, 37)",
           "width": 2
          },
          "type": "line",
          "visible": false,
          "x0": -0.041489746421575546,
          "x1": 0,
          "y0": 0.115,
          "y1": 0.115
         },
         {
          "line": {
           "color": "rgb(68, 1, 84)",
           "width": 2
          },
          "type": "line",
          "visible": false,
          "x0": -0.09680710732936859,
          "x1": 0,
          "y0": 0.22000000000000003,
          "y1": 0.22000000000000003
         },
         {
          "line": {
           "color": "rgb(67, 56, 128)",
           "width": 2
          },
          "type": "line",
          "visible": false,
          "x0": -0.07295258343219757,
          "x1": 0,
          "y0": 0.22000000000000003,
          "y1": 0.22000000000000003
         },
         {
          "line": {
           "color": "rgb(49, 104, 142)",
           "width": 2
          },
          "type": "line",
          "visible": false,
          "x0": -0.021272951737046242,
          "x1": 0,
          "y0": 0.22000000000000003,
          "y1": 0.22000000000000003
         },
         {
          "line": {
           "color": "rgb(34, 144, 140)",
           "width": 2
          },
          "type": "line",
          "visible": false,
          "x0": -0.06003296375274658,
          "x1": 0,
          "y0": 0.22000000000000003,
          "y1": 0.22000000000000003
         },
         {
          "line": {
           "color": "rgb(53, 183, 121)",
           "width": 2
          },
          "type": "line",
          "visible": false,
          "x0": -0.04275442659854889,
          "x1": 0,
          "y0": 0.22000000000000003,
          "y1": 0.22000000000000003
         },
         {
          "line": {
           "color": "rgb(146, 214, 65)",
           "width": 2
          },
          "type": "line",
          "visible": false,
          "x0": 0.023835156112909317,
          "x1": 0,
          "y0": 0.22000000000000003,
          "y1": 0.22000000000000003
         },
         {
          "line": {
           "color": "rgb(253, 231, 37)",
           "width": 2
          },
          "type": "line",
          "visible": false,
          "x0": -0.053275011479854584,
          "x1": 0,
          "y0": 0.22000000000000003,
          "y1": 0.22000000000000003
         },
         {
          "line": {
           "color": "rgb(68, 1, 84)",
           "width": 2
          },
          "type": "line",
          "visible": false,
          "x0": -0.09400594234466553,
          "x1": 0,
          "y0": 0.32500000000000007,
          "y1": 0.32500000000000007
         },
         {
          "line": {
           "color": "rgb(67, 56, 128)",
           "width": 2
          },
          "type": "line",
          "visible": false,
          "x0": -0.009105166420340538,
          "x1": 0,
          "y0": 0.32500000000000007,
          "y1": 0.32500000000000007
         },
         {
          "line": {
           "color": "rgb(49, 104, 142)",
           "width": 2
          },
          "type": "line",
          "visible": false,
          "x0": -0.007307038642466068,
          "x1": 0,
          "y0": 0.32500000000000007,
          "y1": 0.32500000000000007
         },
         {
          "line": {
           "color": "rgb(34, 144, 140)",
           "width": 2
          },
          "type": "line",
          "visible": false,
          "x0": 0.042137261480093,
          "x1": 0,
          "y0": 0.32500000000000007,
          "y1": 0.32500000000000007
         },
         {
          "line": {
           "color": "rgb(53, 183, 121)",
           "width": 2
          },
          "type": "line",
          "visible": false,
          "x0": 0.009736530482769012,
          "x1": 0,
          "y0": 0.32500000000000007,
          "y1": 0.32500000000000007
         },
         {
          "line": {
           "color": "rgb(146, 214, 65)",
           "width": 2
          },
          "type": "line",
          "visible": false,
          "x0": -0.023422949016094208,
          "x1": 0,
          "y0": 0.32500000000000007,
          "y1": 0.32500000000000007
         },
         {
          "line": {
           "color": "rgb(253, 231, 37)",
           "width": 2
          },
          "type": "line",
          "visible": false,
          "x0": -0.011292417533695698,
          "x1": 0,
          "y0": 0.32500000000000007,
          "y1": 0.32500000000000007
         }
        ],
        "template": {
         "data": {
          "bar": [
           {
            "error_x": {
             "color": "#2a3f5f"
            },
            "error_y": {
             "color": "#2a3f5f"
            },
            "marker": {
             "line": {
              "color": "#E5ECF6",
              "width": 0.5
             },
             "pattern": {
              "fillmode": "overlay",
              "size": 10,
              "solidity": 0.2
             }
            },
            "type": "bar"
           }
          ],
          "barpolar": [
           {
            "marker": {
             "line": {
              "color": "#E5ECF6",
              "width": 0.5
             },
             "pattern": {
              "fillmode": "overlay",
              "size": 10,
              "solidity": 0.2
             }
            },
            "type": "barpolar"
           }
          ],
          "carpet": [
           {
            "aaxis": {
             "endlinecolor": "#2a3f5f",
             "gridcolor": "white",
             "linecolor": "white",
             "minorgridcolor": "white",
             "startlinecolor": "#2a3f5f"
            },
            "baxis": {
             "endlinecolor": "#2a3f5f",
             "gridcolor": "white",
             "linecolor": "white",
             "minorgridcolor": "white",
             "startlinecolor": "#2a3f5f"
            },
            "type": "carpet"
           }
          ],
          "choropleth": [
           {
            "colorbar": {
             "outlinewidth": 0,
             "ticks": ""
            },
            "type": "choropleth"
           }
          ],
          "contour": [
           {
            "colorbar": {
             "outlinewidth": 0,
             "ticks": ""
            },
            "colorscale": [
             [
              0,
              "#0d0887"
             ],
             [
              0.1111111111111111,
              "#46039f"
             ],
             [
              0.2222222222222222,
              "#7201a8"
             ],
             [
              0.3333333333333333,
              "#9c179e"
             ],
             [
              0.4444444444444444,
              "#bd3786"
             ],
             [
              0.5555555555555556,
              "#d8576b"
             ],
             [
              0.6666666666666666,
              "#ed7953"
             ],
             [
              0.7777777777777778,
              "#fb9f3a"
             ],
             [
              0.8888888888888888,
              "#fdca26"
             ],
             [
              1,
              "#f0f921"
             ]
            ],
            "type": "contour"
           }
          ],
          "contourcarpet": [
           {
            "colorbar": {
             "outlinewidth": 0,
             "ticks": ""
            },
            "type": "contourcarpet"
           }
          ],
          "heatmap": [
           {
            "colorbar": {
             "outlinewidth": 0,
             "ticks": ""
            },
            "colorscale": [
             [
              0,
              "#0d0887"
             ],
             [
              0.1111111111111111,
              "#46039f"
             ],
             [
              0.2222222222222222,
              "#7201a8"
             ],
             [
              0.3333333333333333,
              "#9c179e"
             ],
             [
              0.4444444444444444,
              "#bd3786"
             ],
             [
              0.5555555555555556,
              "#d8576b"
             ],
             [
              0.6666666666666666,
              "#ed7953"
             ],
             [
              0.7777777777777778,
              "#fb9f3a"
             ],
             [
              0.8888888888888888,
              "#fdca26"
             ],
             [
              1,
              "#f0f921"
             ]
            ],
            "type": "heatmap"
           }
          ],
          "heatmapgl": [
           {
            "colorbar": {
             "outlinewidth": 0,
             "ticks": ""
            },
            "colorscale": [
             [
              0,
              "#0d0887"
             ],
             [
              0.1111111111111111,
              "#46039f"
             ],
             [
              0.2222222222222222,
              "#7201a8"
             ],
             [
              0.3333333333333333,
              "#9c179e"
             ],
             [
              0.4444444444444444,
              "#bd3786"
             ],
             [
              0.5555555555555556,
              "#d8576b"
             ],
             [
              0.6666666666666666,
              "#ed7953"
             ],
             [
              0.7777777777777778,
              "#fb9f3a"
             ],
             [
              0.8888888888888888,
              "#fdca26"
             ],
             [
              1,
              "#f0f921"
             ]
            ],
            "type": "heatmapgl"
           }
          ],
          "histogram": [
           {
            "marker": {
             "pattern": {
              "fillmode": "overlay",
              "size": 10,
              "solidity": 0.2
             }
            },
            "type": "histogram"
           }
          ],
          "histogram2d": [
           {
            "colorbar": {
             "outlinewidth": 0,
             "ticks": ""
            },
            "colorscale": [
             [
              0,
              "#0d0887"
             ],
             [
              0.1111111111111111,
              "#46039f"
             ],
             [
              0.2222222222222222,
              "#7201a8"
             ],
             [
              0.3333333333333333,
              "#9c179e"
             ],
             [
              0.4444444444444444,
              "#bd3786"
             ],
             [
              0.5555555555555556,
              "#d8576b"
             ],
             [
              0.6666666666666666,
              "#ed7953"
             ],
             [
              0.7777777777777778,
              "#fb9f3a"
             ],
             [
              0.8888888888888888,
              "#fdca26"
             ],
             [
              1,
              "#f0f921"
             ]
            ],
            "type": "histogram2d"
           }
          ],
          "histogram2dcontour": [
           {
            "colorbar": {
             "outlinewidth": 0,
             "ticks": ""
            },
            "colorscale": [
             [
              0,
              "#0d0887"
             ],
             [
              0.1111111111111111,
              "#46039f"
             ],
             [
              0.2222222222222222,
              "#7201a8"
             ],
             [
              0.3333333333333333,
              "#9c179e"
             ],
             [
              0.4444444444444444,
              "#bd3786"
             ],
             [
              0.5555555555555556,
              "#d8576b"
             ],
             [
              0.6666666666666666,
              "#ed7953"
             ],
             [
              0.7777777777777778,
              "#fb9f3a"
             ],
             [
              0.8888888888888888,
              "#fdca26"
             ],
             [
              1,
              "#f0f921"
             ]
            ],
            "type": "histogram2dcontour"
           }
          ],
          "mesh3d": [
           {
            "colorbar": {
             "outlinewidth": 0,
             "ticks": ""
            },
            "type": "mesh3d"
           }
          ],
          "parcoords": [
           {
            "line": {
             "colorbar": {
              "outlinewidth": 0,
              "ticks": ""
             }
            },
            "type": "parcoords"
           }
          ],
          "pie": [
           {
            "automargin": true,
            "type": "pie"
           }
          ],
          "scatter": [
           {
            "fillpattern": {
             "fillmode": "overlay",
             "size": 10,
             "solidity": 0.2
            },
            "type": "scatter"
           }
          ],
          "scatter3d": [
           {
            "line": {
             "colorbar": {
              "outlinewidth": 0,
              "ticks": ""
             }
            },
            "marker": {
             "colorbar": {
              "outlinewidth": 0,
              "ticks": ""
             }
            },
            "type": "scatter3d"
           }
          ],
          "scattercarpet": [
           {
            "marker": {
             "colorbar": {
              "outlinewidth": 0,
              "ticks": ""
             }
            },
            "type": "scattercarpet"
           }
          ],
          "scattergeo": [
           {
            "marker": {
             "colorbar": {
              "outlinewidth": 0,
              "ticks": ""
             }
            },
            "type": "scattergeo"
           }
          ],
          "scattergl": [
           {
            "marker": {
             "colorbar": {
              "outlinewidth": 0,
              "ticks": ""
             }
            },
            "type": "scattergl"
           }
          ],
          "scattermapbox": [
           {
            "marker": {
             "colorbar": {
              "outlinewidth": 0,
              "ticks": ""
             }
            },
            "type": "scattermapbox"
           }
          ],
          "scatterpolar": [
           {
            "marker": {
             "colorbar": {
              "outlinewidth": 0,
              "ticks": ""
             }
            },
            "type": "scatterpolar"
           }
          ],
          "scatterpolargl": [
           {
            "marker": {
             "colorbar": {
              "outlinewidth": 0,
              "ticks": ""
             }
            },
            "type": "scatterpolargl"
           }
          ],
          "scatterternary": [
           {
            "marker": {
             "colorbar": {
              "outlinewidth": 0,
              "ticks": ""
             }
            },
            "type": "scatterternary"
           }
          ],
          "surface": [
           {
            "colorbar": {
             "outlinewidth": 0,
             "ticks": ""
            },
            "colorscale": [
             [
              0,
              "#0d0887"
             ],
             [
              0.1111111111111111,
              "#46039f"
             ],
             [
              0.2222222222222222,
              "#7201a8"
             ],
             [
              0.3333333333333333,
              "#9c179e"
             ],
             [
              0.4444444444444444,
              "#bd3786"
             ],
             [
              0.5555555555555556,
              "#d8576b"
             ],
             [
              0.6666666666666666,
              "#ed7953"
             ],
             [
              0.7777777777777778,
              "#fb9f3a"
             ],
             [
              0.8888888888888888,
              "#fdca26"
             ],
             [
              1,
              "#f0f921"
             ]
            ],
            "type": "surface"
           }
          ],
          "table": [
           {
            "cells": {
             "fill": {
              "color": "#EBF0F8"
             },
             "line": {
              "color": "white"
             }
            },
            "header": {
             "fill": {
              "color": "#C8D4E3"
             },
             "line": {
              "color": "white"
             }
            },
            "type": "table"
           }
          ]
         },
         "layout": {
          "annotationdefaults": {
           "arrowcolor": "#2a3f5f",
           "arrowhead": 0,
           "arrowwidth": 1
          },
          "autotypenumbers": "strict",
          "coloraxis": {
           "colorbar": {
            "outlinewidth": 0,
            "ticks": ""
           }
          },
          "colorscale": {
           "diverging": [
            [
             0,
             "#8e0152"
            ],
            [
             0.1,
             "#c51b7d"
            ],
            [
             0.2,
             "#de77ae"
            ],
            [
             0.3,
             "#f1b6da"
            ],
            [
             0.4,
             "#fde0ef"
            ],
            [
             0.5,
             "#f7f7f7"
            ],
            [
             0.6,
             "#e6f5d0"
            ],
            [
             0.7,
             "#b8e186"
            ],
            [
             0.8,
             "#7fbc41"
            ],
            [
             0.9,
             "#4d9221"
            ],
            [
             1,
             "#276419"
            ]
           ],
           "sequential": [
            [
             0,
             "#0d0887"
            ],
            [
             0.1111111111111111,
             "#46039f"
            ],
            [
             0.2222222222222222,
             "#7201a8"
            ],
            [
             0.3333333333333333,
             "#9c179e"
            ],
            [
             0.4444444444444444,
             "#bd3786"
            ],
            [
             0.5555555555555556,
             "#d8576b"
            ],
            [
             0.6666666666666666,
             "#ed7953"
            ],
            [
             0.7777777777777778,
             "#fb9f3a"
            ],
            [
             0.8888888888888888,
             "#fdca26"
            ],
            [
             1,
             "#f0f921"
            ]
           ],
           "sequentialminus": [
            [
             0,
             "#0d0887"
            ],
            [
             0.1111111111111111,
             "#46039f"
            ],
            [
             0.2222222222222222,
             "#7201a8"
            ],
            [
             0.3333333333333333,
             "#9c179e"
            ],
            [
             0.4444444444444444,
             "#bd3786"
            ],
            [
             0.5555555555555556,
             "#d8576b"
            ],
            [
             0.6666666666666666,
             "#ed7953"
            ],
            [
             0.7777777777777778,
             "#fb9f3a"
            ],
            [
             0.8888888888888888,
             "#fdca26"
            ],
            [
             1,
             "#f0f921"
            ]
           ]
          },
          "colorway": [
           "#636efa",
           "#EF553B",
           "#00cc96",
           "#ab63fa",
           "#FFA15A",
           "#19d3f3",
           "#FF6692",
           "#B6E880",
           "#FF97FF",
           "#FECB52"
          ],
          "font": {
           "color": "#2a3f5f"
          },
          "geo": {
           "bgcolor": "white",
           "lakecolor": "white",
           "landcolor": "#E5ECF6",
           "showlakes": true,
           "showland": true,
           "subunitcolor": "white"
          },
          "hoverlabel": {
           "align": "left"
          },
          "hovermode": "closest",
          "mapbox": {
           "style": "light"
          },
          "paper_bgcolor": "white",
          "plot_bgcolor": "#E5ECF6",
          "polar": {
           "angularaxis": {
            "gridcolor": "white",
            "linecolor": "white",
            "ticks": ""
           },
           "bgcolor": "#E5ECF6",
           "radialaxis": {
            "gridcolor": "white",
            "linecolor": "white",
            "ticks": ""
           }
          },
          "scene": {
           "xaxis": {
            "backgroundcolor": "#E5ECF6",
            "gridcolor": "white",
            "gridwidth": 2,
            "linecolor": "white",
            "showbackground": true,
            "ticks": "",
            "zerolinecolor": "white"
           },
           "yaxis": {
            "backgroundcolor": "#E5ECF6",
            "gridcolor": "white",
            "gridwidth": 2,
            "linecolor": "white",
            "showbackground": true,
            "ticks": "",
            "zerolinecolor": "white"
           },
           "zaxis": {
            "backgroundcolor": "#E5ECF6",
            "gridcolor": "white",
            "gridwidth": 2,
            "linecolor": "white",
            "showbackground": true,
            "ticks": "",
            "zerolinecolor": "white"
           }
          },
          "shapedefaults": {
           "line": {
            "color": "#2a3f5f"
           }
          },
          "ternary": {
           "aaxis": {
            "gridcolor": "white",
            "linecolor": "white",
            "ticks": ""
           },
           "baxis": {
            "gridcolor": "white",
            "linecolor": "white",
            "ticks": ""
           },
           "bgcolor": "#E5ECF6",
           "caxis": {
            "gridcolor": "white",
            "linecolor": "white",
            "ticks": ""
           }
          },
          "title": {
           "x": 0.05
          },
          "xaxis": {
           "automargin": true,
           "gridcolor": "white",
           "linecolor": "white",
           "ticks": "",
           "title": {
            "standoff": 15
           },
           "zerolinecolor": "white",
           "zerolinewidth": 2
          },
          "yaxis": {
           "automargin": true,
           "gridcolor": "white",
           "linecolor": "white",
           "ticks": "",
           "title": {
            "standoff": 15
           },
           "zerolinecolor": "white",
           "zerolinewidth": 2
          }
         }
        },
        "xaxis": {
         "autorange": true,
         "range": [
          -1,
          1
         ],
         "title": {
          "text": "Polarity"
         }
        },
        "yaxis": {
         "autorange": true,
         "title": {
          "text": "Words"
         }
        }
       }
      }
     },
     "metadata": {},
     "output_type": "display_data"
    },
    {
     "data": {
      "application/vnd.plotly.v1+json": {
       "config": {
        "plotlyServerURL": "https://plot.ly"
       },
       "data": [
        {
         "marker": {
          "color": "rgb(68, 1, 84)",
          "size": 10
         },
         "mode": "markers",
         "name": "sun",
         "type": "scatter",
         "x": [
          -0.16210049390792847
         ],
         "y": [
          -0.09738143533468246
         ]
        },
        {
         "marker": {
          "color": "rgb(67, 56, 128)",
          "size": 10
         },
         "mode": "markers",
         "name": "cat",
         "type": "scatter",
         "x": [
          -0.07300427556037903
         ],
         "y": [
          -0.07295258343219757
         ]
        },
        {
         "marker": {
          "color": "rgb(49, 104, 142)",
          "size": 10
         },
         "mode": "markers",
         "name": "tree",
         "type": "scatter",
         "x": [
          -0.09101415425539017
         ],
         "y": [
          -0.021272951737046242
         ]
        },
        {
         "marker": {
          "color": "rgb(34, 144, 140)",
          "size": 10
         },
         "mode": "markers",
         "name": "book",
         "type": "scatter",
         "x": [
          -0.10952694714069366
         ],
         "y": [
          -0.06003296375274658
         ]
        },
        {
         "marker": {
          "color": "rgb(53, 183, 121)",
          "size": 10
         },
         "mode": "markers",
         "name": "dog",
         "type": "scatter",
         "x": [
          -0.09405656158924103
         ],
         "y": [
          -0.04275442659854889
         ]
        },
        {
         "marker": {
          "color": "rgb(146, 214, 65)",
          "size": 10
         },
         "mode": "markers",
         "name": "rain",
         "type": "scatter",
         "x": [
          0.27137231826782227
         ],
         "y": [
          -0.03174801170825958
         ]
        },
        {
         "marker": {
          "color": "rgb(253, 231, 37)",
          "size": 10
         },
         "mode": "markers",
         "name": "mountain",
         "type": "scatter",
         "x": [
          -0.053275011479854584
         ],
         "y": [
          -0.041489746421575546
         ]
        }
       ],
       "layout": {
        "annotations": [
         {
          "showarrow": false,
          "text": "good",
          "x": -1,
          "xshift": -15,
          "y": 0
         },
         {
          "showarrow": false,
          "text": "bad",
          "x": 1,
          "xshift": 15,
          "y": 0
         },
         {
          "showarrow": false,
          "text": "happy",
          "x": 0,
          "y": -1,
          "yshift": -15
         },
         {
          "showarrow": false,
          "text": "sad",
          "x": 0,
          "y": 1,
          "yshift": 15
         }
        ],
        "shapes": [
         {
          "line": {
           "color": "black",
           "width": 1
          },
          "type": "line",
          "x0": -1,
          "x1": 1,
          "y0": 0,
          "y1": 0
         },
         {
          "line": {
           "color": "black",
           "width": 1
          },
          "type": "line",
          "x0": 0,
          "x1": 0,
          "y0": -1,
          "y1": 1
         }
        ],
        "template": {
         "data": {
          "bar": [
           {
            "error_x": {
             "color": "#2a3f5f"
            },
            "error_y": {
             "color": "#2a3f5f"
            },
            "marker": {
             "line": {
              "color": "#E5ECF6",
              "width": 0.5
             },
             "pattern": {
              "fillmode": "overlay",
              "size": 10,
              "solidity": 0.2
             }
            },
            "type": "bar"
           }
          ],
          "barpolar": [
           {
            "marker": {
             "line": {
              "color": "#E5ECF6",
              "width": 0.5
             },
             "pattern": {
              "fillmode": "overlay",
              "size": 10,
              "solidity": 0.2
             }
            },
            "type": "barpolar"
           }
          ],
          "carpet": [
           {
            "aaxis": {
             "endlinecolor": "#2a3f5f",
             "gridcolor": "white",
             "linecolor": "white",
             "minorgridcolor": "white",
             "startlinecolor": "#2a3f5f"
            },
            "baxis": {
             "endlinecolor": "#2a3f5f",
             "gridcolor": "white",
             "linecolor": "white",
             "minorgridcolor": "white",
             "startlinecolor": "#2a3f5f"
            },
            "type": "carpet"
           }
          ],
          "choropleth": [
           {
            "colorbar": {
             "outlinewidth": 0,
             "ticks": ""
            },
            "type": "choropleth"
           }
          ],
          "contour": [
           {
            "colorbar": {
             "outlinewidth": 0,
             "ticks": ""
            },
            "colorscale": [
             [
              0,
              "#0d0887"
             ],
             [
              0.1111111111111111,
              "#46039f"
             ],
             [
              0.2222222222222222,
              "#7201a8"
             ],
             [
              0.3333333333333333,
              "#9c179e"
             ],
             [
              0.4444444444444444,
              "#bd3786"
             ],
             [
              0.5555555555555556,
              "#d8576b"
             ],
             [
              0.6666666666666666,
              "#ed7953"
             ],
             [
              0.7777777777777778,
              "#fb9f3a"
             ],
             [
              0.8888888888888888,
              "#fdca26"
             ],
             [
              1,
              "#f0f921"
             ]
            ],
            "type": "contour"
           }
          ],
          "contourcarpet": [
           {
            "colorbar": {
             "outlinewidth": 0,
             "ticks": ""
            },
            "type": "contourcarpet"
           }
          ],
          "heatmap": [
           {
            "colorbar": {
             "outlinewidth": 0,
             "ticks": ""
            },
            "colorscale": [
             [
              0,
              "#0d0887"
             ],
             [
              0.1111111111111111,
              "#46039f"
             ],
             [
              0.2222222222222222,
              "#7201a8"
             ],
             [
              0.3333333333333333,
              "#9c179e"
             ],
             [
              0.4444444444444444,
              "#bd3786"
             ],
             [
              0.5555555555555556,
              "#d8576b"
             ],
             [
              0.6666666666666666,
              "#ed7953"
             ],
             [
              0.7777777777777778,
              "#fb9f3a"
             ],
             [
              0.8888888888888888,
              "#fdca26"
             ],
             [
              1,
              "#f0f921"
             ]
            ],
            "type": "heatmap"
           }
          ],
          "heatmapgl": [
           {
            "colorbar": {
             "outlinewidth": 0,
             "ticks": ""
            },
            "colorscale": [
             [
              0,
              "#0d0887"
             ],
             [
              0.1111111111111111,
              "#46039f"
             ],
             [
              0.2222222222222222,
              "#7201a8"
             ],
             [
              0.3333333333333333,
              "#9c179e"
             ],
             [
              0.4444444444444444,
              "#bd3786"
             ],
             [
              0.5555555555555556,
              "#d8576b"
             ],
             [
              0.6666666666666666,
              "#ed7953"
             ],
             [
              0.7777777777777778,
              "#fb9f3a"
             ],
             [
              0.8888888888888888,
              "#fdca26"
             ],
             [
              1,
              "#f0f921"
             ]
            ],
            "type": "heatmapgl"
           }
          ],
          "histogram": [
           {
            "marker": {
             "pattern": {
              "fillmode": "overlay",
              "size": 10,
              "solidity": 0.2
             }
            },
            "type": "histogram"
           }
          ],
          "histogram2d": [
           {
            "colorbar": {
             "outlinewidth": 0,
             "ticks": ""
            },
            "colorscale": [
             [
              0,
              "#0d0887"
             ],
             [
              0.1111111111111111,
              "#46039f"
             ],
             [
              0.2222222222222222,
              "#7201a8"
             ],
             [
              0.3333333333333333,
              "#9c179e"
             ],
             [
              0.4444444444444444,
              "#bd3786"
             ],
             [
              0.5555555555555556,
              "#d8576b"
             ],
             [
              0.6666666666666666,
              "#ed7953"
             ],
             [
              0.7777777777777778,
              "#fb9f3a"
             ],
             [
              0.8888888888888888,
              "#fdca26"
             ],
             [
              1,
              "#f0f921"
             ]
            ],
            "type": "histogram2d"
           }
          ],
          "histogram2dcontour": [
           {
            "colorbar": {
             "outlinewidth": 0,
             "ticks": ""
            },
            "colorscale": [
             [
              0,
              "#0d0887"
             ],
             [
              0.1111111111111111,
              "#46039f"
             ],
             [
              0.2222222222222222,
              "#7201a8"
             ],
             [
              0.3333333333333333,
              "#9c179e"
             ],
             [
              0.4444444444444444,
              "#bd3786"
             ],
             [
              0.5555555555555556,
              "#d8576b"
             ],
             [
              0.6666666666666666,
              "#ed7953"
             ],
             [
              0.7777777777777778,
              "#fb9f3a"
             ],
             [
              0.8888888888888888,
              "#fdca26"
             ],
             [
              1,
              "#f0f921"
             ]
            ],
            "type": "histogram2dcontour"
           }
          ],
          "mesh3d": [
           {
            "colorbar": {
             "outlinewidth": 0,
             "ticks": ""
            },
            "type": "mesh3d"
           }
          ],
          "parcoords": [
           {
            "line": {
             "colorbar": {
              "outlinewidth": 0,
              "ticks": ""
             }
            },
            "type": "parcoords"
           }
          ],
          "pie": [
           {
            "automargin": true,
            "type": "pie"
           }
          ],
          "scatter": [
           {
            "fillpattern": {
             "fillmode": "overlay",
             "size": 10,
             "solidity": 0.2
            },
            "type": "scatter"
           }
          ],
          "scatter3d": [
           {
            "line": {
             "colorbar": {
              "outlinewidth": 0,
              "ticks": ""
             }
            },
            "marker": {
             "colorbar": {
              "outlinewidth": 0,
              "ticks": ""
             }
            },
            "type": "scatter3d"
           }
          ],
          "scattercarpet": [
           {
            "marker": {
             "colorbar": {
              "outlinewidth": 0,
              "ticks": ""
             }
            },
            "type": "scattercarpet"
           }
          ],
          "scattergeo": [
           {
            "marker": {
             "colorbar": {
              "outlinewidth": 0,
              "ticks": ""
             }
            },
            "type": "scattergeo"
           }
          ],
          "scattergl": [
           {
            "marker": {
             "colorbar": {
              "outlinewidth": 0,
              "ticks": ""
             }
            },
            "type": "scattergl"
           }
          ],
          "scattermapbox": [
           {
            "marker": {
             "colorbar": {
              "outlinewidth": 0,
              "ticks": ""
             }
            },
            "type": "scattermapbox"
           }
          ],
          "scatterpolar": [
           {
            "marker": {
             "colorbar": {
              "outlinewidth": 0,
              "ticks": ""
             }
            },
            "type": "scatterpolar"
           }
          ],
          "scatterpolargl": [
           {
            "marker": {
             "colorbar": {
              "outlinewidth": 0,
              "ticks": ""
             }
            },
            "type": "scatterpolargl"
           }
          ],
          "scatterternary": [
           {
            "marker": {
             "colorbar": {
              "outlinewidth": 0,
              "ticks": ""
             }
            },
            "type": "scatterternary"
           }
          ],
          "surface": [
           {
            "colorbar": {
             "outlinewidth": 0,
             "ticks": ""
            },
            "colorscale": [
             [
              0,
              "#0d0887"
             ],
             [
              0.1111111111111111,
              "#46039f"
             ],
             [
              0.2222222222222222,
              "#7201a8"
             ],
             [
              0.3333333333333333,
              "#9c179e"
             ],
             [
              0.4444444444444444,
              "#bd3786"
             ],
             [
              0.5555555555555556,
              "#d8576b"
             ],
             [
              0.6666666666666666,
              "#ed7953"
             ],
             [
              0.7777777777777778,
              "#fb9f3a"
             ],
             [
              0.8888888888888888,
              "#fdca26"
             ],
             [
              1,
              "#f0f921"
             ]
            ],
            "type": "surface"
           }
          ],
          "table": [
           {
            "cells": {
             "fill": {
              "color": "#EBF0F8"
             },
             "line": {
              "color": "white"
             }
            },
            "header": {
             "fill": {
              "color": "#C8D4E3"
             },
             "line": {
              "color": "white"
             }
            },
            "type": "table"
           }
          ]
         },
         "layout": {
          "annotationdefaults": {
           "arrowcolor": "#2a3f5f",
           "arrowhead": 0,
           "arrowwidth": 1
          },
          "autotypenumbers": "strict",
          "coloraxis": {
           "colorbar": {
            "outlinewidth": 0,
            "ticks": ""
           }
          },
          "colorscale": {
           "diverging": [
            [
             0,
             "#8e0152"
            ],
            [
             0.1,
             "#c51b7d"
            ],
            [
             0.2,
             "#de77ae"
            ],
            [
             0.3,
             "#f1b6da"
            ],
            [
             0.4,
             "#fde0ef"
            ],
            [
             0.5,
             "#f7f7f7"
            ],
            [
             0.6,
             "#e6f5d0"
            ],
            [
             0.7,
             "#b8e186"
            ],
            [
             0.8,
             "#7fbc41"
            ],
            [
             0.9,
             "#4d9221"
            ],
            [
             1,
             "#276419"
            ]
           ],
           "sequential": [
            [
             0,
             "#0d0887"
            ],
            [
             0.1111111111111111,
             "#46039f"
            ],
            [
             0.2222222222222222,
             "#7201a8"
            ],
            [
             0.3333333333333333,
             "#9c179e"
            ],
            [
             0.4444444444444444,
             "#bd3786"
            ],
            [
             0.5555555555555556,
             "#d8576b"
            ],
            [
             0.6666666666666666,
             "#ed7953"
            ],
            [
             0.7777777777777778,
             "#fb9f3a"
            ],
            [
             0.8888888888888888,
             "#fdca26"
            ],
            [
             1,
             "#f0f921"
            ]
           ],
           "sequentialminus": [
            [
             0,
             "#0d0887"
            ],
            [
             0.1111111111111111,
             "#46039f"
            ],
            [
             0.2222222222222222,
             "#7201a8"
            ],
            [
             0.3333333333333333,
             "#9c179e"
            ],
            [
             0.4444444444444444,
             "#bd3786"
            ],
            [
             0.5555555555555556,
             "#d8576b"
            ],
            [
             0.6666666666666666,
             "#ed7953"
            ],
            [
             0.7777777777777778,
             "#fb9f3a"
            ],
            [
             0.8888888888888888,
             "#fdca26"
            ],
            [
             1,
             "#f0f921"
            ]
           ]
          },
          "colorway": [
           "#636efa",
           "#EF553B",
           "#00cc96",
           "#ab63fa",
           "#FFA15A",
           "#19d3f3",
           "#FF6692",
           "#B6E880",
           "#FF97FF",
           "#FECB52"
          ],
          "font": {
           "color": "#2a3f5f"
          },
          "geo": {
           "bgcolor": "white",
           "lakecolor": "white",
           "landcolor": "#E5ECF6",
           "showlakes": true,
           "showland": true,
           "subunitcolor": "white"
          },
          "hoverlabel": {
           "align": "left"
          },
          "hovermode": "closest",
          "mapbox": {
           "style": "light"
          },
          "paper_bgcolor": "white",
          "plot_bgcolor": "#E5ECF6",
          "polar": {
           "angularaxis": {
            "gridcolor": "white",
            "linecolor": "white",
            "ticks": ""
           },
           "bgcolor": "#E5ECF6",
           "radialaxis": {
            "gridcolor": "white",
            "linecolor": "white",
            "ticks": ""
           }
          },
          "scene": {
           "xaxis": {
            "backgroundcolor": "#E5ECF6",
            "gridcolor": "white",
            "gridwidth": 2,
            "linecolor": "white",
            "showbackground": true,
            "ticks": "",
            "zerolinecolor": "white"
           },
           "yaxis": {
            "backgroundcolor": "#E5ECF6",
            "gridcolor": "white",
            "gridwidth": 2,
            "linecolor": "white",
            "showbackground": true,
            "ticks": "",
            "zerolinecolor": "white"
           },
           "zaxis": {
            "backgroundcolor": "#E5ECF6",
            "gridcolor": "white",
            "gridwidth": 2,
            "linecolor": "white",
            "showbackground": true,
            "ticks": "",
            "zerolinecolor": "white"
           }
          },
          "shapedefaults": {
           "line": {
            "color": "#2a3f5f"
           }
          },
          "ternary": {
           "aaxis": {
            "gridcolor": "white",
            "linecolor": "white",
            "ticks": ""
           },
           "baxis": {
            "gridcolor": "white",
            "linecolor": "white",
            "ticks": ""
           },
           "bgcolor": "#E5ECF6",
           "caxis": {
            "gridcolor": "white",
            "linecolor": "white",
            "ticks": ""
           }
          },
          "title": {
           "x": 0.05
          },
          "xaxis": {
           "automargin": true,
           "gridcolor": "white",
           "linecolor": "white",
           "ticks": "",
           "title": {
            "standoff": 15
           },
           "zerolinecolor": "white",
           "zerolinewidth": 2
          },
          "yaxis": {
           "automargin": true,
           "gridcolor": "white",
           "linecolor": "white",
           "ticks": "",
           "title": {
            "standoff": 15
           },
           "zerolinecolor": "white",
           "zerolinewidth": 2
          }
         }
        },
        "xaxis": {
         "range": [
          -1,
          1
         ]
        },
        "yaxis": {
         "range": [
          -1,
          1
         ]
        }
       }
      }
     },
     "metadata": {},
     "output_type": "display_data"
    },
    {
     "data": {
      "application/vnd.plotly.v1+json": {
       "config": {
        "plotlyServerURL": "https://plot.ly"
       },
       "data": [
        {
         "fill": "toself",
         "line": {
          "color": "rgb(68, 1, 84)",
          "width": 1
         },
         "name": "sun",
         "r": [
          0.16210049390792847,
          0.09738143533468246,
          0.09680710732936859,
          0.09400594234466553
         ],
         "subplot": "polar",
         "theta": [
          "bad",
          "sad",
          "small",
          "slow"
         ],
         "type": "scatterpolar"
        },
        {
         "fill": "toself",
         "line": {
          "color": "rgb(67, 56, 128)",
          "width": 1
         },
         "name": "cat",
         "r": [
          0.07300427556037903,
          0.07295258343219757,
          0.011349424719810486,
          0.009105166420340538
         ],
         "subplot": "polar2",
         "theta": [
          "sad",
          "small",
          "bad",
          "slow"
         ],
         "type": "scatterpolar"
        },
        {
         "fill": "toself",
         "line": {
          "color": "rgb(49, 104, 142)",
          "width": 1
         },
         "name": "tree",
         "r": [
          0.09101415425539017,
          0.021272951737046242,
          0.007307038642466068,
          0.004575877916067839
         ],
         "subplot": "polar3",
         "theta": [
          "sad",
          "small",
          "slow",
          "good"
         ],
         "type": "scatterpolar"
        },
        {
         "fill": "toself",
         "line": {
          "color": "rgb(34, 144, 140)",
          "width": 1
         },
         "name": "book",
         "r": [
          0.10952694714069366,
          0.06003296375274658,
          0.042137261480093,
          0.016946975141763687
         ],
         "subplot": "polar4",
         "theta": [
          "sad",
          "small",
          "fast",
          "bad"
         ],
         "type": "scatterpolar"
        },
        {
         "fill": "toself",
         "line": {
          "color": "rgb(53, 183, 121)",
          "width": 1
         },
         "name": "dog",
         "r": [
          0.09405656158924103,
          0.04275442659854889,
          0.03042944148182869,
          0.009736530482769012
         ],
         "subplot": "polar5",
         "theta": [
          "sad",
          "small",
          "bad",
          "fast"
         ],
         "type": "scatterpolar"
        },
        {
         "fill": "toself",
         "line": {
          "color": "rgb(146, 214, 65)",
          "width": 1
         },
         "name": "rain",
         "r": [
          0.27137231826782227,
          0.03174801170825958,
          0.023835156112909317,
          0.023422949016094208
         ],
         "subplot": "polar6",
         "theta": [
          "good",
          "sad",
          "big",
          "slow"
         ],
         "type": "scatterpolar"
        },
        {
         "fill": "toself",
         "line": {
          "color": "rgb(253, 231, 37)",
          "width": 1
         },
         "name": "mountain",
         "r": [
          0.053275011479854584,
          0.041489746421575546,
          0.026755226776003838,
          0.011292417533695698
         ],
         "subplot": "polar7",
         "theta": [
          "small",
          "sad",
          "bad",
          "slow"
         ],
         "type": "scatterpolar"
        }
       ],
       "layout": {
        "polar": {
         "domain": {
          "x": [
           0,
           0.45
          ],
          "y": [
           0.80625,
           1
          ]
         }
        },
        "polar2": {
         "domain": {
          "x": [
           0.55,
           1
          ],
          "y": [
           0.80625,
           1
          ]
         }
        },
        "polar3": {
         "domain": {
          "x": [
           0,
           0.45
          ],
          "y": [
           0.5375,
           0.73125
          ]
         }
        },
        "polar4": {
         "domain": {
          "x": [
           0.55,
           1
          ],
          "y": [
           0.5375,
           0.73125
          ]
         }
        },
        "polar5": {
         "domain": {
          "x": [
           0,
           0.45
          ],
          "y": [
           0.26875,
           0.4625
          ]
         }
        },
        "polar6": {
         "domain": {
          "x": [
           0.55,
           1
          ],
          "y": [
           0.26875,
           0.4625
          ]
         }
        },
        "polar7": {
         "domain": {
          "x": [
           0,
           0.45
          ],
          "y": [
           0,
           0.19375
          ]
         }
        },
        "polar8": {
         "domain": {
          "x": [
           0.55,
           1
          ],
          "y": [
           0,
           0.19375
          ]
         }
        },
        "template": {
         "data": {
          "bar": [
           {
            "error_x": {
             "color": "#2a3f5f"
            },
            "error_y": {
             "color": "#2a3f5f"
            },
            "marker": {
             "line": {
              "color": "#E5ECF6",
              "width": 0.5
             },
             "pattern": {
              "fillmode": "overlay",
              "size": 10,
              "solidity": 0.2
             }
            },
            "type": "bar"
           }
          ],
          "barpolar": [
           {
            "marker": {
             "line": {
              "color": "#E5ECF6",
              "width": 0.5
             },
             "pattern": {
              "fillmode": "overlay",
              "size": 10,
              "solidity": 0.2
             }
            },
            "type": "barpolar"
           }
          ],
          "carpet": [
           {
            "aaxis": {
             "endlinecolor": "#2a3f5f",
             "gridcolor": "white",
             "linecolor": "white",
             "minorgridcolor": "white",
             "startlinecolor": "#2a3f5f"
            },
            "baxis": {
             "endlinecolor": "#2a3f5f",
             "gridcolor": "white",
             "linecolor": "white",
             "minorgridcolor": "white",
             "startlinecolor": "#2a3f5f"
            },
            "type": "carpet"
           }
          ],
          "choropleth": [
           {
            "colorbar": {
             "outlinewidth": 0,
             "ticks": ""
            },
            "type": "choropleth"
           }
          ],
          "contour": [
           {
            "colorbar": {
             "outlinewidth": 0,
             "ticks": ""
            },
            "colorscale": [
             [
              0,
              "#0d0887"
             ],
             [
              0.1111111111111111,
              "#46039f"
             ],
             [
              0.2222222222222222,
              "#7201a8"
             ],
             [
              0.3333333333333333,
              "#9c179e"
             ],
             [
              0.4444444444444444,
              "#bd3786"
             ],
             [
              0.5555555555555556,
              "#d8576b"
             ],
             [
              0.6666666666666666,
              "#ed7953"
             ],
             [
              0.7777777777777778,
              "#fb9f3a"
             ],
             [
              0.8888888888888888,
              "#fdca26"
             ],
             [
              1,
              "#f0f921"
             ]
            ],
            "type": "contour"
           }
          ],
          "contourcarpet": [
           {
            "colorbar": {
             "outlinewidth": 0,
             "ticks": ""
            },
            "type": "contourcarpet"
           }
          ],
          "heatmap": [
           {
            "colorbar": {
             "outlinewidth": 0,
             "ticks": ""
            },
            "colorscale": [
             [
              0,
              "#0d0887"
             ],
             [
              0.1111111111111111,
              "#46039f"
             ],
             [
              0.2222222222222222,
              "#7201a8"
             ],
             [
              0.3333333333333333,
              "#9c179e"
             ],
             [
              0.4444444444444444,
              "#bd3786"
             ],
             [
              0.5555555555555556,
              "#d8576b"
             ],
             [
              0.6666666666666666,
              "#ed7953"
             ],
             [
              0.7777777777777778,
              "#fb9f3a"
             ],
             [
              0.8888888888888888,
              "#fdca26"
             ],
             [
              1,
              "#f0f921"
             ]
            ],
            "type": "heatmap"
           }
          ],
          "heatmapgl": [
           {
            "colorbar": {
             "outlinewidth": 0,
             "ticks": ""
            },
            "colorscale": [
             [
              0,
              "#0d0887"
             ],
             [
              0.1111111111111111,
              "#46039f"
             ],
             [
              0.2222222222222222,
              "#7201a8"
             ],
             [
              0.3333333333333333,
              "#9c179e"
             ],
             [
              0.4444444444444444,
              "#bd3786"
             ],
             [
              0.5555555555555556,
              "#d8576b"
             ],
             [
              0.6666666666666666,
              "#ed7953"
             ],
             [
              0.7777777777777778,
              "#fb9f3a"
             ],
             [
              0.8888888888888888,
              "#fdca26"
             ],
             [
              1,
              "#f0f921"
             ]
            ],
            "type": "heatmapgl"
           }
          ],
          "histogram": [
           {
            "marker": {
             "pattern": {
              "fillmode": "overlay",
              "size": 10,
              "solidity": 0.2
             }
            },
            "type": "histogram"
           }
          ],
          "histogram2d": [
           {
            "colorbar": {
             "outlinewidth": 0,
             "ticks": ""
            },
            "colorscale": [
             [
              0,
              "#0d0887"
             ],
             [
              0.1111111111111111,
              "#46039f"
             ],
             [
              0.2222222222222222,
              "#7201a8"
             ],
             [
              0.3333333333333333,
              "#9c179e"
             ],
             [
              0.4444444444444444,
              "#bd3786"
             ],
             [
              0.5555555555555556,
              "#d8576b"
             ],
             [
              0.6666666666666666,
              "#ed7953"
             ],
             [
              0.7777777777777778,
              "#fb9f3a"
             ],
             [
              0.8888888888888888,
              "#fdca26"
             ],
             [
              1,
              "#f0f921"
             ]
            ],
            "type": "histogram2d"
           }
          ],
          "histogram2dcontour": [
           {
            "colorbar": {
             "outlinewidth": 0,
             "ticks": ""
            },
            "colorscale": [
             [
              0,
              "#0d0887"
             ],
             [
              0.1111111111111111,
              "#46039f"
             ],
             [
              0.2222222222222222,
              "#7201a8"
             ],
             [
              0.3333333333333333,
              "#9c179e"
             ],
             [
              0.4444444444444444,
              "#bd3786"
             ],
             [
              0.5555555555555556,
              "#d8576b"
             ],
             [
              0.6666666666666666,
              "#ed7953"
             ],
             [
              0.7777777777777778,
              "#fb9f3a"
             ],
             [
              0.8888888888888888,
              "#fdca26"
             ],
             [
              1,
              "#f0f921"
             ]
            ],
            "type": "histogram2dcontour"
           }
          ],
          "mesh3d": [
           {
            "colorbar": {
             "outlinewidth": 0,
             "ticks": ""
            },
            "type": "mesh3d"
           }
          ],
          "parcoords": [
           {
            "line": {
             "colorbar": {
              "outlinewidth": 0,
              "ticks": ""
             }
            },
            "type": "parcoords"
           }
          ],
          "pie": [
           {
            "automargin": true,
            "type": "pie"
           }
          ],
          "scatter": [
           {
            "fillpattern": {
             "fillmode": "overlay",
             "size": 10,
             "solidity": 0.2
            },
            "type": "scatter"
           }
          ],
          "scatter3d": [
           {
            "line": {
             "colorbar": {
              "outlinewidth": 0,
              "ticks": ""
             }
            },
            "marker": {
             "colorbar": {
              "outlinewidth": 0,
              "ticks": ""
             }
            },
            "type": "scatter3d"
           }
          ],
          "scattercarpet": [
           {
            "marker": {
             "colorbar": {
              "outlinewidth": 0,
              "ticks": ""
             }
            },
            "type": "scattercarpet"
           }
          ],
          "scattergeo": [
           {
            "marker": {
             "colorbar": {
              "outlinewidth": 0,
              "ticks": ""
             }
            },
            "type": "scattergeo"
           }
          ],
          "scattergl": [
           {
            "marker": {
             "colorbar": {
              "outlinewidth": 0,
              "ticks": ""
             }
            },
            "type": "scattergl"
           }
          ],
          "scattermapbox": [
           {
            "marker": {
             "colorbar": {
              "outlinewidth": 0,
              "ticks": ""
             }
            },
            "type": "scattermapbox"
           }
          ],
          "scatterpolar": [
           {
            "marker": {
             "colorbar": {
              "outlinewidth": 0,
              "ticks": ""
             }
            },
            "type": "scatterpolar"
           }
          ],
          "scatterpolargl": [
           {
            "marker": {
             "colorbar": {
              "outlinewidth": 0,
              "ticks": ""
             }
            },
            "type": "scatterpolargl"
           }
          ],
          "scatterternary": [
           {
            "marker": {
             "colorbar": {
              "outlinewidth": 0,
              "ticks": ""
             }
            },
            "type": "scatterternary"
           }
          ],
          "surface": [
           {
            "colorbar": {
             "outlinewidth": 0,
             "ticks": ""
            },
            "colorscale": [
             [
              0,
              "#0d0887"
             ],
             [
              0.1111111111111111,
              "#46039f"
             ],
             [
              0.2222222222222222,
              "#7201a8"
             ],
             [
              0.3333333333333333,
              "#9c179e"
             ],
             [
              0.4444444444444444,
              "#bd3786"
             ],
             [
              0.5555555555555556,
              "#d8576b"
             ],
             [
              0.6666666666666666,
              "#ed7953"
             ],
             [
              0.7777777777777778,
              "#fb9f3a"
             ],
             [
              0.8888888888888888,
              "#fdca26"
             ],
             [
              1,
              "#f0f921"
             ]
            ],
            "type": "surface"
           }
          ],
          "table": [
           {
            "cells": {
             "fill": {
              "color": "#EBF0F8"
             },
             "line": {
              "color": "white"
             }
            },
            "header": {
             "fill": {
              "color": "#C8D4E3"
             },
             "line": {
              "color": "white"
             }
            },
            "type": "table"
           }
          ]
         },
         "layout": {
          "annotationdefaults": {
           "arrowcolor": "#2a3f5f",
           "arrowhead": 0,
           "arrowwidth": 1
          },
          "autotypenumbers": "strict",
          "coloraxis": {
           "colorbar": {
            "outlinewidth": 0,
            "ticks": ""
           }
          },
          "colorscale": {
           "diverging": [
            [
             0,
             "#8e0152"
            ],
            [
             0.1,
             "#c51b7d"
            ],
            [
             0.2,
             "#de77ae"
            ],
            [
             0.3,
             "#f1b6da"
            ],
            [
             0.4,
             "#fde0ef"
            ],
            [
             0.5,
             "#f7f7f7"
            ],
            [
             0.6,
             "#e6f5d0"
            ],
            [
             0.7,
             "#b8e186"
            ],
            [
             0.8,
             "#7fbc41"
            ],
            [
             0.9,
             "#4d9221"
            ],
            [
             1,
             "#276419"
            ]
           ],
           "sequential": [
            [
             0,
             "#0d0887"
            ],
            [
             0.1111111111111111,
             "#46039f"
            ],
            [
             0.2222222222222222,
             "#7201a8"
            ],
            [
             0.3333333333333333,
             "#9c179e"
            ],
            [
             0.4444444444444444,
             "#bd3786"
            ],
            [
             0.5555555555555556,
             "#d8576b"
            ],
            [
             0.6666666666666666,
             "#ed7953"
            ],
            [
             0.7777777777777778,
             "#fb9f3a"
            ],
            [
             0.8888888888888888,
             "#fdca26"
            ],
            [
             1,
             "#f0f921"
            ]
           ],
           "sequentialminus": [
            [
             0,
             "#0d0887"
            ],
            [
             0.1111111111111111,
             "#46039f"
            ],
            [
             0.2222222222222222,
             "#7201a8"
            ],
            [
             0.3333333333333333,
             "#9c179e"
            ],
            [
             0.4444444444444444,
             "#bd3786"
            ],
            [
             0.5555555555555556,
             "#d8576b"
            ],
            [
             0.6666666666666666,
             "#ed7953"
            ],
            [
             0.7777777777777778,
             "#fb9f3a"
            ],
            [
             0.8888888888888888,
             "#fdca26"
            ],
            [
             1,
             "#f0f921"
            ]
           ]
          },
          "colorway": [
           "#636efa",
           "#EF553B",
           "#00cc96",
           "#ab63fa",
           "#FFA15A",
           "#19d3f3",
           "#FF6692",
           "#B6E880",
           "#FF97FF",
           "#FECB52"
          ],
          "font": {
           "color": "#2a3f5f"
          },
          "geo": {
           "bgcolor": "white",
           "lakecolor": "white",
           "landcolor": "#E5ECF6",
           "showlakes": true,
           "showland": true,
           "subunitcolor": "white"
          },
          "hoverlabel": {
           "align": "left"
          },
          "hovermode": "closest",
          "mapbox": {
           "style": "light"
          },
          "paper_bgcolor": "white",
          "plot_bgcolor": "#E5ECF6",
          "polar": {
           "angularaxis": {
            "gridcolor": "white",
            "linecolor": "white",
            "ticks": ""
           },
           "bgcolor": "#E5ECF6",
           "radialaxis": {
            "gridcolor": "white",
            "linecolor": "white",
            "ticks": ""
           }
          },
          "scene": {
           "xaxis": {
            "backgroundcolor": "#E5ECF6",
            "gridcolor": "white",
            "gridwidth": 2,
            "linecolor": "white",
            "showbackground": true,
            "ticks": "",
            "zerolinecolor": "white"
           },
           "yaxis": {
            "backgroundcolor": "#E5ECF6",
            "gridcolor": "white",
            "gridwidth": 2,
            "linecolor": "white",
            "showbackground": true,
            "ticks": "",
            "zerolinecolor": "white"
           },
           "zaxis": {
            "backgroundcolor": "#E5ECF6",
            "gridcolor": "white",
            "gridwidth": 2,
            "linecolor": "white",
            "showbackground": true,
            "ticks": "",
            "zerolinecolor": "white"
           }
          },
          "shapedefaults": {
           "line": {
            "color": "#2a3f5f"
           }
          },
          "ternary": {
           "aaxis": {
            "gridcolor": "white",
            "linecolor": "white",
            "ticks": ""
           },
           "baxis": {
            "gridcolor": "white",
            "linecolor": "white",
            "ticks": ""
           },
           "bgcolor": "#E5ECF6",
           "caxis": {
            "gridcolor": "white",
            "linecolor": "white",
            "ticks": ""
           }
          },
          "title": {
           "x": 0.05
          },
          "xaxis": {
           "automargin": true,
           "gridcolor": "white",
           "linecolor": "white",
           "ticks": "",
           "title": {
            "standoff": 15
           },
           "zerolinecolor": "white",
           "zerolinewidth": 2
          },
          "yaxis": {
           "automargin": true,
           "gridcolor": "white",
           "linecolor": "white",
           "ticks": "",
           "title": {
            "standoff": 15
           },
           "zerolinecolor": "white",
           "zerolinewidth": 2
          }
         }
        }
       }
      }
     },
     "metadata": {},
     "output_type": "display_data"
    }
   ],
   "source": [
    "plotter = PolarityPlotter() \n",
    "plotter.plot_word_polarity(words, polar_dimensions)\n",
    "plotter.plot_word_polarity_2d(words, polar_dimensions)\n",
    "plotter.plot_word_polarity_polar_fig(words, polar_dimensions)"
   ]
  }
 ],
 "metadata": {
  "kernelspec": {
   "display_name": "Python 3",
   "language": "python",
   "name": "python3"
  },
  "language_info": {
   "codemirror_mode": {
    "name": "ipython",
    "version": 3
   },
   "file_extension": ".py",
   "mimetype": "text/x-python",
   "name": "python",
   "nbconvert_exporter": "python",
   "pygments_lexer": "ipython3",
   "version": "3.10.9"
  },
  "orig_nbformat": 4
 },
 "nbformat": 4,
 "nbformat_minor": 2
}
