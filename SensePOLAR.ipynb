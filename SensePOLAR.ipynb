{
 "cells": [
  {
   "cell_type": "code",
   "execution_count": 1,
   "metadata": {},
   "outputs": [],
   "source": [
    "from lookup import LookupCreator\n",
    "from sensepolar.polarity import WordPolarity\n",
    "from sensepolar.bertEmbed import BERTWordEmbeddings\n",
    "from sensepolar.polarDim import PolarDimensions\n",
    "from sensepolar.dictionaryapi import Dictionary\n",
    "from sensepolar.plotter import PolarityPlotter"
   ]
  },
  {
   "cell_type": "code",
   "execution_count": 2,
   "metadata": {},
   "outputs": [],
   "source": [
    "def read_word_context_file(file_path):\n",
    "    with open(file_path, 'r') as f:\n",
    "        content = f.read()\n",
    "    lines = content.strip().split('\\n')\n",
    "    words = []\n",
    "    contexts = []\n",
    "    for line in lines:\n",
    "        split_line = [item.strip() for item in line.split(',')]\n",
    "        words.append(split_line[0])\n",
    "        contexts.append(split_line[1])\n",
    "    return words, contexts\n",
    "\n",
    "# read_word_context_file('data/word_context.csv')"
   ]
  },
  {
   "cell_type": "code",
   "execution_count": 17,
   "metadata": {},
   "outputs": [
    {
     "name": "stderr",
     "output_type": "stream",
     "text": [
      "Some weights of the model checkpoint at bert-base-uncased were not used when initializing BertModel: ['cls.predictions.transform.LayerNorm.weight', 'cls.predictions.transform.LayerNorm.bias', 'cls.predictions.transform.dense.weight', 'cls.predictions.bias', 'cls.predictions.transform.dense.bias', 'cls.seq_relationship.bias', 'cls.predictions.decoder.weight', 'cls.seq_relationship.weight']\n",
      "- This IS expected if you are initializing BertModel from the checkpoint of a model trained on another task or with another architecture (e.g. initializing a BertForSequenceClassification model from a BertForPreTraining model).\n",
      "- This IS NOT expected if you are initializing BertModel from the checkpoint of a model that you expect to be exactly identical (initializing a BertForSequenceClassification model from a BertForSequenceClassification model).\n"
     ]
    },
    {
     "name": "stdout",
     "output_type": "stream",
     "text": [
      "{\"['big' 'small']\": {'big': ['the elephant is big '], 'small': ['the ant is small ']}, \"['fast' 'slow']\": {'fast': ['the cheetah runs fast '], 'slow': ['the snail moves slow ']}, \"['good' 'bad']\": {'good': ['eating healthy food is good for you '], 'bad': ['smoking is bad for your health ']}, \"['happy' 'sad']\": {'happy': ['i feel happy today '], 'sad': ['he looks sad ']}, \"['hot' 'cold']\": {'hot': ['it s hot outside '], 'cold': ['the ice is cold to touch ']}}\n",
      "Loading antonyms from ./antonyms/lookup_anto_example_dict.pkl\n",
      "Index: 4\n",
      "[[['big', ['the elephant is big ']], ['small', ['the ant is small ']]], [['fast', ['the cheetah runs fast ']], ['slow', ['the snail moves slow ']]], [['good', ['eating healthy food is good for you ']], ['bad', ['smoking is bad for your health ']]], [['happy', ['i feel happy today ']], ['sad', ['he looks sad ']]], [['hot', ['it s hot outside ']], ['cold', ['the ice is cold to touch ']]]]\n",
      "Top: 1\n",
      "Dimension: hot <------> cold\n",
      "high temperature  low temperature\n",
      "Value: -6.340019\n",
      "\n",
      "\n",
      "Index: 2\n",
      "[[['big', ['the elephant is big ']], ['small', ['the ant is small ']]], [['fast', ['the cheetah runs fast ']], ['slow', ['the snail moves slow ']]], [['good', ['eating healthy food is good for you ']], ['bad', ['smoking is bad for your health ']]], [['happy', ['i feel happy today ']], ['sad', ['he looks sad ']]], [['hot', ['it s hot outside ']], ['cold', ['the ice is cold to touch ']]]]\n",
      "Top: 2\n",
      "Dimension: good <------> bad\n",
      "positive negative\n",
      "Value: -1.7328361\n",
      "\n",
      "\n",
      "Index: 3\n",
      "[[['big', ['the elephant is big ']], ['small', ['the ant is small ']]], [['fast', ['the cheetah runs fast ']], ['slow', ['the snail moves slow ']]], [['good', ['eating healthy food is good for you ']], ['bad', ['smoking is bad for your health ']]], [['happy', ['i feel happy today ']], ['sad', ['he looks sad ']]], [['hot', ['it s hot outside ']], ['cold', ['the ice is cold to touch ']]]]\n",
      "Top: 3\n",
      "Dimension: happy <------> sad\n",
      "feeling of joy feeling of sorrow\n",
      "Value: -1.5031792\n",
      "\n",
      "\n",
      "Index: 1\n",
      "[[['big', ['the elephant is big ']], ['small', ['the ant is small ']]], [['fast', ['the cheetah runs fast ']], ['slow', ['the snail moves slow ']]], [['good', ['eating healthy food is good for you ']], ['bad', ['smoking is bad for your health ']]], [['happy', ['i feel happy today ']], ['sad', ['he looks sad ']]], [['hot', ['it s hot outside ']], ['cold', ['the ice is cold to touch ']]]]\n",
      "Top: 4\n",
      "Dimension: fast <------> slow\n",
      "high speed  low speed\n",
      "Value: -1.4614241\n",
      "\n",
      "\n",
      "Index: 4\n",
      "[[['big', ['the elephant is big ']], ['small', ['the ant is small ']]], [['fast', ['the cheetah runs fast ']], ['slow', ['the snail moves slow ']]], [['good', ['eating healthy food is good for you ']], ['bad', ['smoking is bad for your health ']]], [['happy', ['i feel happy today ']], ['sad', ['he looks sad ']]], [['hot', ['it s hot outside ']], ['cold', ['the ice is cold to touch ']]]]\n",
      "Top: 1\n",
      "Dimension: hot <------> cold\n",
      "high temperature  low temperature\n",
      "Value: -2.3979406\n",
      "\n",
      "\n",
      "Index: 1\n",
      "[[['big', ['the elephant is big ']], ['small', ['the ant is small ']]], [['fast', ['the cheetah runs fast ']], ['slow', ['the snail moves slow ']]], [['good', ['eating healthy food is good for you ']], ['bad', ['smoking is bad for your health ']]], [['happy', ['i feel happy today ']], ['sad', ['he looks sad ']]], [['hot', ['it s hot outside ']], ['cold', ['the ice is cold to touch ']]]]\n",
      "Top: 2\n",
      "Dimension: fast <------> slow\n",
      "high speed  low speed\n",
      "Value: -1.1141827\n",
      "\n",
      "\n",
      "Index: 0\n",
      "[[['big', ['the elephant is big ']], ['small', ['the ant is small ']]], [['fast', ['the cheetah runs fast ']], ['slow', ['the snail moves slow ']]], [['good', ['eating healthy food is good for you ']], ['bad', ['smoking is bad for your health ']]], [['happy', ['i feel happy today ']], ['sad', ['he looks sad ']]], [['hot', ['it s hot outside ']], ['cold', ['the ice is cold to touch ']]]]\n",
      "Top: 3\n",
      "Dimension: big <------> small\n",
      "large size tiny size\n",
      "Value:0.4712963104248047\n",
      "\n",
      "\n",
      "Index: 3\n",
      "[[['big', ['the elephant is big ']], ['small', ['the ant is small ']]], [['fast', ['the cheetah runs fast ']], ['slow', ['the snail moves slow ']]], [['good', ['eating healthy food is good for you ']], ['bad', ['smoking is bad for your health ']]], [['happy', ['i feel happy today ']], ['sad', ['he looks sad ']]], [['hot', ['it s hot outside ']], ['cold', ['the ice is cold to touch ']]]]\n",
      "Top: 4\n",
      "Dimension: happy <------> sad\n",
      "feeling of joy feeling of sorrow\n",
      "Value: -0.43990123\n",
      "\n",
      "\n",
      "Index: 1\n",
      "[[['big', ['the elephant is big ']], ['small', ['the ant is small ']]], [['fast', ['the cheetah runs fast ']], ['slow', ['the snail moves slow ']]], [['good', ['eating healthy food is good for you ']], ['bad', ['smoking is bad for your health ']]], [['happy', ['i feel happy today ']], ['sad', ['he looks sad ']]], [['hot', ['it s hot outside ']], ['cold', ['the ice is cold to touch ']]]]\n",
      "Top: 1\n",
      "Dimension: fast <------> slow\n",
      "high speed  low speed\n",
      "Value: -1.6935301\n",
      "\n",
      "\n",
      "Index: 0\n",
      "[[['big', ['the elephant is big ']], ['small', ['the ant is small ']]], [['fast', ['the cheetah runs fast ']], ['slow', ['the snail moves slow ']]], [['good', ['eating healthy food is good for you ']], ['bad', ['smoking is bad for your health ']]], [['happy', ['i feel happy today ']], ['sad', ['he looks sad ']]], [['hot', ['it s hot outside ']], ['cold', ['the ice is cold to touch ']]]]\n",
      "Top: 2\n",
      "Dimension: big <------> small\n",
      "large size tiny size\n",
      "Value: -1.1064599\n",
      "\n",
      "\n",
      "Index: 2\n",
      "[[['big', ['the elephant is big ']], ['small', ['the ant is small ']]], [['fast', ['the cheetah runs fast ']], ['slow', ['the snail moves slow ']]], [['good', ['eating healthy food is good for you ']], ['bad', ['smoking is bad for your health ']]], [['happy', ['i feel happy today ']], ['sad', ['he looks sad ']]], [['hot', ['it s hot outside ']], ['cold', ['the ice is cold to touch ']]]]\n",
      "Top: 3\n",
      "Dimension: good <------> bad\n",
      "positive negative\n",
      "Value: -0.7773825\n",
      "\n",
      "\n",
      "Index: 4\n",
      "[[['big', ['the elephant is big ']], ['small', ['the ant is small ']]], [['fast', ['the cheetah runs fast ']], ['slow', ['the snail moves slow ']]], [['good', ['eating healthy food is good for you ']], ['bad', ['smoking is bad for your health ']]], [['happy', ['i feel happy today ']], ['sad', ['he looks sad ']]], [['hot', ['it s hot outside ']], ['cold', ['the ice is cold to touch ']]]]\n",
      "Top: 4\n",
      "Dimension: hot <------> cold\n",
      "high temperature  low temperature\n",
      "Value: -0.35254246\n",
      "\n",
      "\n",
      "Index: 0\n",
      "[[['big', ['the elephant is big ']], ['small', ['the ant is small ']]], [['fast', ['the cheetah runs fast ']], ['slow', ['the snail moves slow ']]], [['good', ['eating healthy food is good for you ']], ['bad', ['smoking is bad for your health ']]], [['happy', ['i feel happy today ']], ['sad', ['he looks sad ']]], [['hot', ['it s hot outside ']], ['cold', ['the ice is cold to touch ']]]]\n",
      "Top: 1\n",
      "Dimension: big <------> small\n",
      "large size tiny size\n",
      "Value: -2.4687705\n",
      "\n",
      "\n",
      "Index: 2\n",
      "[[['big', ['the elephant is big ']], ['small', ['the ant is small ']]], [['fast', ['the cheetah runs fast ']], ['slow', ['the snail moves slow ']]], [['good', ['eating healthy food is good for you ']], ['bad', ['smoking is bad for your health ']]], [['happy', ['i feel happy today ']], ['sad', ['he looks sad ']]], [['hot', ['it s hot outside ']], ['cold', ['the ice is cold to touch ']]]]\n",
      "Top: 2\n",
      "Dimension: good <------> bad\n",
      "positive negative\n",
      "Value: -1.5000556\n",
      "\n",
      "\n",
      "Index: 1\n",
      "[[['big', ['the elephant is big ']], ['small', ['the ant is small ']]], [['fast', ['the cheetah runs fast ']], ['slow', ['the snail moves slow ']]], [['good', ['eating healthy food is good for you ']], ['bad', ['smoking is bad for your health ']]], [['happy', ['i feel happy today ']], ['sad', ['he looks sad ']]], [['hot', ['it s hot outside ']], ['cold', ['the ice is cold to touch ']]]]\n",
      "Top: 3\n",
      "Dimension: fast <------> slow\n",
      "high speed  low speed\n",
      "Value: -1.1117796\n",
      "\n",
      "\n",
      "Index: 3\n",
      "[[['big', ['the elephant is big ']], ['small', ['the ant is small ']]], [['fast', ['the cheetah runs fast ']], ['slow', ['the snail moves slow ']]], [['good', ['eating healthy food is good for you ']], ['bad', ['smoking is bad for your health ']]], [['happy', ['i feel happy today ']], ['sad', ['he looks sad ']]], [['hot', ['it s hot outside ']], ['cold', ['the ice is cold to touch ']]]]\n",
      "Top: 4\n",
      "Dimension: happy <------> sad\n",
      "feeling of joy feeling of sorrow\n",
      "Value: -0.61770546\n",
      "\n",
      "\n",
      "Index: 3\n",
      "[[['big', ['the elephant is big ']], ['small', ['the ant is small ']]], [['fast', ['the cheetah runs fast ']], ['slow', ['the snail moves slow ']]], [['good', ['eating healthy food is good for you ']], ['bad', ['smoking is bad for your health ']]], [['happy', ['i feel happy today ']], ['sad', ['he looks sad ']]], [['hot', ['it s hot outside ']], ['cold', ['the ice is cold to touch ']]]]\n",
      "Top: 1\n",
      "Dimension: happy <------> sad\n",
      "feeling of joy feeling of sorrow\n",
      "Value: -0.5355705\n",
      "\n",
      "\n",
      "Index: 0\n",
      "[[['big', ['the elephant is big ']], ['small', ['the ant is small ']]], [['fast', ['the cheetah runs fast ']], ['slow', ['the snail moves slow ']]], [['good', ['eating healthy food is good for you ']], ['bad', ['smoking is bad for your health ']]], [['happy', ['i feel happy today ']], ['sad', ['he looks sad ']]], [['hot', ['it s hot outside ']], ['cold', ['the ice is cold to touch ']]]]\n",
      "Top: 2\n",
      "Dimension: big <------> small\n",
      "large size tiny size\n",
      "Value:0.5153264999389648\n",
      "\n",
      "\n",
      "Index: 4\n",
      "[[['big', ['the elephant is big ']], ['small', ['the ant is small ']]], [['fast', ['the cheetah runs fast ']], ['slow', ['the snail moves slow ']]], [['good', ['eating healthy food is good for you ']], ['bad', ['smoking is bad for your health ']]], [['happy', ['i feel happy today ']], ['sad', ['he looks sad ']]], [['hot', ['it s hot outside ']], ['cold', ['the ice is cold to touch ']]]]\n",
      "Top: 3\n",
      "Dimension: hot <------> cold\n",
      "high temperature  low temperature\n",
      "Value: -0.5074059\n",
      "\n",
      "\n",
      "Index: 1\n",
      "[[['big', ['the elephant is big ']], ['small', ['the ant is small ']]], [['fast', ['the cheetah runs fast ']], ['slow', ['the snail moves slow ']]], [['good', ['eating healthy food is good for you ']], ['bad', ['smoking is bad for your health ']]], [['happy', ['i feel happy today ']], ['sad', ['he looks sad ']]], [['hot', ['it s hot outside ']], ['cold', ['the ice is cold to touch ']]]]\n",
      "Top: 4\n",
      "Dimension: fast <------> slow\n",
      "high speed  low speed\n",
      "Value: -0.3176002\n",
      "\n",
      "\n",
      "Index: 3\n",
      "[[['big', ['the elephant is big ']], ['small', ['the ant is small ']]], [['fast', ['the cheetah runs fast ']], ['slow', ['the snail moves slow ']]], [['good', ['eating healthy food is good for you ']], ['bad', ['smoking is bad for your health ']]], [['happy', ['i feel happy today ']], ['sad', ['he looks sad ']]], [['hot', ['it s hot outside ']], ['cold', ['the ice is cold to touch ']]]]\n",
      "Top: 1\n",
      "Dimension: happy <------> sad\n",
      "feeling of joy feeling of sorrow\n",
      "Value:5.306953430175781\n",
      "\n",
      "\n",
      "Index: 0\n",
      "[[['big', ['the elephant is big ']], ['small', ['the ant is small ']]], [['fast', ['the cheetah runs fast ']], ['slow', ['the snail moves slow ']]], [['good', ['eating healthy food is good for you ']], ['bad', ['smoking is bad for your health ']]], [['happy', ['i feel happy today ']], ['sad', ['he looks sad ']]], [['hot', ['it s hot outside ']], ['cold', ['the ice is cold to touch ']]]]\n",
      "Top: 2\n",
      "Dimension: big <------> small\n",
      "large size tiny size\n",
      "Value: -2.539312\n",
      "\n",
      "\n",
      "Index: 4\n",
      "[[['big', ['the elephant is big ']], ['small', ['the ant is small ']]], [['fast', ['the cheetah runs fast ']], ['slow', ['the snail moves slow ']]], [['good', ['eating healthy food is good for you ']], ['bad', ['smoking is bad for your health ']]], [['happy', ['i feel happy today ']], ['sad', ['he looks sad ']]], [['hot', ['it s hot outside ']], ['cold', ['the ice is cold to touch ']]]]\n",
      "Top: 3\n",
      "Dimension: hot <------> cold\n",
      "high temperature  low temperature\n",
      "Value: -1.0438247\n",
      "\n",
      "\n",
      "Index: 2\n",
      "[[['big', ['the elephant is big ']], ['small', ['the ant is small ']]], [['fast', ['the cheetah runs fast ']], ['slow', ['the snail moves slow ']]], [['good', ['eating healthy food is good for you ']], ['bad', ['smoking is bad for your health ']]], [['happy', ['i feel happy today ']], ['sad', ['he looks sad ']]], [['hot', ['it s hot outside ']], ['cold', ['the ice is cold to touch ']]]]\n",
      "Top: 4\n",
      "Dimension: good <------> bad\n",
      "positive negative\n",
      "Value:0.646878182888031\n",
      "\n",
      "\n",
      "Index: 1\n",
      "[[['big', ['the elephant is big ']], ['small', ['the ant is small ']]], [['fast', ['the cheetah runs fast ']], ['slow', ['the snail moves slow ']]], [['good', ['eating healthy food is good for you ']], ['bad', ['smoking is bad for your health ']]], [['happy', ['i feel happy today ']], ['sad', ['he looks sad ']]], [['hot', ['it s hot outside ']], ['cold', ['the ice is cold to touch ']]]]\n",
      "Top: 1\n",
      "Dimension: fast <------> slow\n",
      "high speed  low speed\n",
      "Value: -1.3040977\n",
      "\n",
      "\n",
      "Index: 0\n",
      "[[['big', ['the elephant is big ']], ['small', ['the ant is small ']]], [['fast', ['the cheetah runs fast ']], ['slow', ['the snail moves slow ']]], [['good', ['eating healthy food is good for you ']], ['bad', ['smoking is bad for your health ']]], [['happy', ['i feel happy today ']], ['sad', ['he looks sad ']]], [['hot', ['it s hot outside ']], ['cold', ['the ice is cold to touch ']]]]\n",
      "Top: 2\n",
      "Dimension: big <------> small\n",
      "large size tiny size\n",
      "Value: -1.2850001\n",
      "\n",
      "\n",
      "Index: 4\n",
      "[[['big', ['the elephant is big ']], ['small', ['the ant is small ']]], [['fast', ['the cheetah runs fast ']], ['slow', ['the snail moves slow ']]], [['good', ['eating healthy food is good for you ']], ['bad', ['smoking is bad for your health ']]], [['happy', ['i feel happy today ']], ['sad', ['he looks sad ']]], [['hot', ['it s hot outside ']], ['cold', ['the ice is cold to touch ']]]]\n",
      "Top: 3\n",
      "Dimension: hot <------> cold\n",
      "high temperature  low temperature\n",
      "Value: -0.7631526\n",
      "\n",
      "\n",
      "Index: 3\n",
      "[[['big', ['the elephant is big ']], ['small', ['the ant is small ']]], [['fast', ['the cheetah runs fast ']], ['slow', ['the snail moves slow ']]], [['good', ['eating healthy food is good for you ']], ['bad', ['smoking is bad for your health ']]], [['happy', ['i feel happy today ']], ['sad', ['he looks sad ']]], [['hot', ['it s hot outside ']], ['cold', ['the ice is cold to touch ']]]]\n",
      "Top: 4\n",
      "Dimension: happy <------> sad\n",
      "feeling of joy feeling of sorrow\n",
      "Value: -0.32590726\n",
      "\n",
      "\n"
     ]
    }
   ],
   "source": [
    "out_path = './antonyms/'\n",
    "antonym_path = \"data_file.xlsx\"\n",
    "\n",
    "# dictionary = Dictionary('wordnet', api_key='')    \n",
    "dictionary = Dictionary('dictionaryapi', api_key='b4b51989-1b9d-4690-8975-4a83df13efc4 ')\n",
    "# dictionary = Dictionary('wordnik', api_key='6488daf20061aa3e6200c013b470fa8ef1f2678c19b36ef05')\n",
    "lookupSpace = LookupCreator(dictionary, out_path, antonyms_file_path=antonym_path)\n",
    "lookupSpace.create_lookup_files()\n",
    "\n",
    "antonym_path = out_path + \"polar_dimensions.pkl\"\n",
    "\n",
    "model = BERTWordEmbeddings()\n",
    "\n",
    "pdc = PolarDimensions(model, antonym_path=out_path + \"antonym_wordnet_example_sentences_readable_extended.txt\")\n",
    "pdc.create_polar_dimensions(out_path)\n",
    "\n",
    "words, context = read_word_context_file('data/word_context.csv')\n",
    "wp = WordPolarity(model, antonym_path=antonym_path, method='projection', number_polar=4)\n",
    "\n",
    "polar_dimensions = []\n",
    "for word, context in zip(words, context):\n",
    "    dimension = wp.analyze_word(word, context)\n",
    "    polar_dimensions.append(dimension)"
   ]
  },
  {
   "cell_type": "code",
   "execution_count": 18,
   "metadata": {},
   "outputs": [
    {
     "name": "stderr",
     "output_type": "stream",
     "text": [
      "/usr/local/anaconda3/envs/SensePOLAR/lib/python3.10/site-packages/plotly/graph_objs/_deprecations.py:378: DeprecationWarning:\n",
      "\n",
      "plotly.graph_objs.Line is deprecated.\n",
      "Please replace it with one of the following more specific types\n",
      "  - plotly.graph_objs.scatter.Line\n",
      "  - plotly.graph_objs.layout.shape.Line\n",
      "  - etc.\n",
      "\n",
      "\n"
     ]
    },
    {
     "data": {
      "application/vnd.plotly.v1+json": {
       "config": {
        "plotlyServerURL": "https://plot.ly"
       },
       "data": [
        {
         "legendgroup": "sun",
         "marker": {
          "color": "rgb(68, 1, 84)",
          "size": 20,
          "symbol": "square"
         },
         "mode": "markers",
         "name": "sun",
         "showlegend": true,
         "type": "scatter",
         "x": [
          -6.340019226074219
         ],
         "y": [
          0.01
         ]
        },
        {
         "legendgroup": "sun",
         "line": {
          "color": "rgb(68, 1, 84)",
          "width": 2
         },
         "mode": "lines",
         "showlegend": false,
         "type": "scatter",
         "x": [
          -6.340019226074219,
          0
         ],
         "y": [
          0.01,
          0.01
         ]
        },
        {
         "legendgroup": "cat",
         "marker": {
          "color": "rgb(67, 56, 128)",
          "size": 20,
          "symbol": "square"
         },
         "mode": "markers",
         "name": "cat",
         "showlegend": true,
         "type": "scatter",
         "x": [
          -2.3979406356811523
         ],
         "y": [
          0.01
         ]
        },
        {
         "legendgroup": "cat",
         "line": {
          "color": "rgb(67, 56, 128)",
          "width": 2
         },
         "mode": "lines",
         "showlegend": false,
         "type": "scatter",
         "x": [
          -2.3979406356811523,
          0
         ],
         "y": [
          0.01,
          0.01
         ]
        },
        {
         "legendgroup": "tree",
         "marker": {
          "color": "rgb(49, 104, 142)",
          "size": 20,
          "symbol": "square"
         },
         "mode": "markers",
         "name": "tree",
         "showlegend": true,
         "type": "scatter",
         "x": [
          -0.3525424599647522
         ],
         "y": [
          0.01
         ]
        },
        {
         "legendgroup": "tree",
         "line": {
          "color": "rgb(49, 104, 142)",
          "width": 2
         },
         "mode": "lines",
         "showlegend": false,
         "type": "scatter",
         "x": [
          -0.3525424599647522,
          0
         ],
         "y": [
          0.01,
          0.01
         ]
        },
        {
         "legendgroup": "dog",
         "marker": {
          "color": "rgb(53, 183, 121)",
          "size": 20,
          "symbol": "square"
         },
         "mode": "markers",
         "name": "dog",
         "showlegend": true,
         "type": "scatter",
         "x": [
          -0.5074058771133423
         ],
         "y": [
          0.01
         ]
        },
        {
         "legendgroup": "dog",
         "line": {
          "color": "rgb(53, 183, 121)",
          "width": 2
         },
         "mode": "lines",
         "showlegend": false,
         "type": "scatter",
         "x": [
          -0.5074058771133423,
          0
         ],
         "y": [
          0.01,
          0.01
         ]
        },
        {
         "legendgroup": "rain",
         "marker": {
          "color": "rgb(146, 214, 65)",
          "size": 20,
          "symbol": "square"
         },
         "mode": "markers",
         "name": "rain",
         "showlegend": true,
         "type": "scatter",
         "x": [
          -1.0438246726989746
         ],
         "y": [
          0.01
         ]
        },
        {
         "legendgroup": "rain",
         "line": {
          "color": "rgb(146, 214, 65)",
          "width": 2
         },
         "mode": "lines",
         "showlegend": false,
         "type": "scatter",
         "x": [
          -1.0438246726989746,
          0
         ],
         "y": [
          0.01,
          0.01
         ]
        },
        {
         "legendgroup": "mountain",
         "marker": {
          "color": "rgb(253, 231, 37)",
          "size": 20,
          "symbol": "square"
         },
         "mode": "markers",
         "name": "mountain",
         "showlegend": true,
         "type": "scatter",
         "x": [
          -0.7631525993347168
         ],
         "y": [
          0.01
         ]
        },
        {
         "legendgroup": "mountain",
         "line": {
          "color": "rgb(253, 231, 37)",
          "width": 2
         },
         "mode": "lines",
         "showlegend": false,
         "type": "scatter",
         "x": [
          -0.7631525993347168,
          0
         ],
         "y": [
          0.01,
          0.01
         ]
        },
        {
         "legendgroup": "sun",
         "marker": {
          "color": "rgb(68, 1, 84)",
          "size": 20,
          "symbol": "square"
         },
         "mode": "markers",
         "name": "sun",
         "showlegend": false,
         "type": "scatter",
         "x": [
          -1.732836127281189
         ],
         "y": [
          0.115
         ]
        },
        {
         "legendgroup": "sun",
         "line": {
          "color": "rgb(68, 1, 84)",
          "width": 2
         },
         "mode": "lines",
         "showlegend": false,
         "type": "scatter",
         "x": [
          -1.732836127281189,
          0
         ],
         "y": [
          0.115,
          0.115
         ]
        },
        {
         "legendgroup": "tree",
         "marker": {
          "color": "rgb(49, 104, 142)",
          "size": 20,
          "symbol": "square"
         },
         "mode": "markers",
         "name": "tree",
         "showlegend": false,
         "type": "scatter",
         "x": [
          -0.777382493019104
         ],
         "y": [
          0.115
         ]
        },
        {
         "legendgroup": "tree",
         "line": {
          "color": "rgb(49, 104, 142)",
          "width": 2
         },
         "mode": "lines",
         "showlegend": false,
         "type": "scatter",
         "x": [
          -0.777382493019104,
          0
         ],
         "y": [
          0.115,
          0.115
         ]
        },
        {
         "legendgroup": "book",
         "marker": {
          "color": "rgb(34, 144, 140)",
          "size": 20,
          "symbol": "square"
         },
         "mode": "markers",
         "name": "book",
         "showlegend": false,
         "type": "scatter",
         "x": [
          -1.5000555515289307
         ],
         "y": [
          0.115
         ]
        },
        {
         "legendgroup": "book",
         "line": {
          "color": "rgb(34, 144, 140)",
          "width": 2
         },
         "mode": "lines",
         "showlegend": false,
         "type": "scatter",
         "x": [
          -1.5000555515289307,
          0
         ],
         "y": [
          0.115,
          0.115
         ]
        },
        {
         "legendgroup": "rain",
         "marker": {
          "color": "rgb(146, 214, 65)",
          "size": 20,
          "symbol": "square"
         },
         "mode": "markers",
         "name": "rain",
         "showlegend": false,
         "type": "scatter",
         "x": [
          0.646878182888031
         ],
         "y": [
          0.115
         ]
        },
        {
         "legendgroup": "rain",
         "line": {
          "color": "rgb(146, 214, 65)",
          "width": 2
         },
         "mode": "lines",
         "showlegend": false,
         "type": "scatter",
         "x": [
          0.646878182888031,
          0
         ],
         "y": [
          0.115,
          0.115
         ]
        },
        {
         "legendgroup": "sun",
         "marker": {
          "color": "rgb(68, 1, 84)",
          "size": 20,
          "symbol": "square"
         },
         "mode": "markers",
         "name": "sun",
         "showlegend": false,
         "type": "scatter",
         "x": [
          -1.5031791925430298
         ],
         "y": [
          0.22000000000000003
         ]
        },
        {
         "legendgroup": "sun",
         "line": {
          "color": "rgb(68, 1, 84)",
          "width": 2
         },
         "mode": "lines",
         "showlegend": false,
         "type": "scatter",
         "x": [
          -1.5031791925430298,
          0
         ],
         "y": [
          0.22000000000000003,
          0.22000000000000003
         ]
        },
        {
         "legendgroup": "cat",
         "marker": {
          "color": "rgb(67, 56, 128)",
          "size": 20,
          "symbol": "square"
         },
         "mode": "markers",
         "name": "cat",
         "showlegend": false,
         "type": "scatter",
         "x": [
          -0.4399012327194214
         ],
         "y": [
          0.22000000000000003
         ]
        },
        {
         "legendgroup": "cat",
         "line": {
          "color": "rgb(67, 56, 128)",
          "width": 2
         },
         "mode": "lines",
         "showlegend": false,
         "type": "scatter",
         "x": [
          -0.4399012327194214,
          0
         ],
         "y": [
          0.22000000000000003,
          0.22000000000000003
         ]
        },
        {
         "legendgroup": "book",
         "marker": {
          "color": "rgb(34, 144, 140)",
          "size": 20,
          "symbol": "square"
         },
         "mode": "markers",
         "name": "book",
         "showlegend": false,
         "type": "scatter",
         "x": [
          -0.6177054643630981
         ],
         "y": [
          0.22000000000000003
         ]
        },
        {
         "legendgroup": "book",
         "line": {
          "color": "rgb(34, 144, 140)",
          "width": 2
         },
         "mode": "lines",
         "showlegend": false,
         "type": "scatter",
         "x": [
          -0.6177054643630981,
          0
         ],
         "y": [
          0.22000000000000003,
          0.22000000000000003
         ]
        },
        {
         "legendgroup": "dog",
         "marker": {
          "color": "rgb(53, 183, 121)",
          "size": 20,
          "symbol": "square"
         },
         "mode": "markers",
         "name": "dog",
         "showlegend": false,
         "type": "scatter",
         "x": [
          -0.535570502281189
         ],
         "y": [
          0.22000000000000003
         ]
        },
        {
         "legendgroup": "dog",
         "line": {
          "color": "rgb(53, 183, 121)",
          "width": 2
         },
         "mode": "lines",
         "showlegend": false,
         "type": "scatter",
         "x": [
          -0.535570502281189,
          0
         ],
         "y": [
          0.22000000000000003,
          0.22000000000000003
         ]
        },
        {
         "legendgroup": "rain",
         "marker": {
          "color": "rgb(146, 214, 65)",
          "size": 20,
          "symbol": "square"
         },
         "mode": "markers",
         "name": "rain",
         "showlegend": false,
         "type": "scatter",
         "x": [
          5.306953430175781
         ],
         "y": [
          0.22000000000000003
         ]
        },
        {
         "legendgroup": "rain",
         "line": {
          "color": "rgb(146, 214, 65)",
          "width": 2
         },
         "mode": "lines",
         "showlegend": false,
         "type": "scatter",
         "x": [
          5.306953430175781,
          0
         ],
         "y": [
          0.22000000000000003,
          0.22000000000000003
         ]
        },
        {
         "legendgroup": "mountain",
         "marker": {
          "color": "rgb(253, 231, 37)",
          "size": 20,
          "symbol": "square"
         },
         "mode": "markers",
         "name": "mountain",
         "showlegend": false,
         "type": "scatter",
         "x": [
          -0.32590726017951965
         ],
         "y": [
          0.22000000000000003
         ]
        },
        {
         "legendgroup": "mountain",
         "line": {
          "color": "rgb(253, 231, 37)",
          "width": 2
         },
         "mode": "lines",
         "showlegend": false,
         "type": "scatter",
         "x": [
          -0.32590726017951965,
          0
         ],
         "y": [
          0.22000000000000003,
          0.22000000000000003
         ]
        },
        {
         "legendgroup": "sun",
         "marker": {
          "color": "rgb(68, 1, 84)",
          "size": 20,
          "symbol": "square"
         },
         "mode": "markers",
         "name": "sun",
         "showlegend": false,
         "type": "scatter",
         "x": [
          -1.4614241123199463
         ],
         "y": [
          0.32500000000000007
         ]
        },
        {
         "legendgroup": "sun",
         "line": {
          "color": "rgb(68, 1, 84)",
          "width": 2
         },
         "mode": "lines",
         "showlegend": false,
         "type": "scatter",
         "x": [
          -1.4614241123199463,
          0
         ],
         "y": [
          0.32500000000000007,
          0.32500000000000007
         ]
        },
        {
         "legendgroup": "cat",
         "marker": {
          "color": "rgb(67, 56, 128)",
          "size": 20,
          "symbol": "square"
         },
         "mode": "markers",
         "name": "cat",
         "showlegend": false,
         "type": "scatter",
         "x": [
          -1.114182710647583
         ],
         "y": [
          0.32500000000000007
         ]
        },
        {
         "legendgroup": "cat",
         "line": {
          "color": "rgb(67, 56, 128)",
          "width": 2
         },
         "mode": "lines",
         "showlegend": false,
         "type": "scatter",
         "x": [
          -1.114182710647583,
          0
         ],
         "y": [
          0.32500000000000007,
          0.32500000000000007
         ]
        },
        {
         "legendgroup": "tree",
         "marker": {
          "color": "rgb(49, 104, 142)",
          "size": 20,
          "symbol": "square"
         },
         "mode": "markers",
         "name": "tree",
         "showlegend": false,
         "type": "scatter",
         "x": [
          -1.6935300827026367
         ],
         "y": [
          0.32500000000000007
         ]
        },
        {
         "legendgroup": "tree",
         "line": {
          "color": "rgb(49, 104, 142)",
          "width": 2
         },
         "mode": "lines",
         "showlegend": false,
         "type": "scatter",
         "x": [
          -1.6935300827026367,
          0
         ],
         "y": [
          0.32500000000000007,
          0.32500000000000007
         ]
        },
        {
         "legendgroup": "book",
         "marker": {
          "color": "rgb(34, 144, 140)",
          "size": 20,
          "symbol": "square"
         },
         "mode": "markers",
         "name": "book",
         "showlegend": false,
         "type": "scatter",
         "x": [
          -1.1117795705795288
         ],
         "y": [
          0.32500000000000007
         ]
        },
        {
         "legendgroup": "book",
         "line": {
          "color": "rgb(34, 144, 140)",
          "width": 2
         },
         "mode": "lines",
         "showlegend": false,
         "type": "scatter",
         "x": [
          -1.1117795705795288,
          0
         ],
         "y": [
          0.32500000000000007,
          0.32500000000000007
         ]
        },
        {
         "legendgroup": "dog",
         "marker": {
          "color": "rgb(53, 183, 121)",
          "size": 20,
          "symbol": "square"
         },
         "mode": "markers",
         "name": "dog",
         "showlegend": false,
         "type": "scatter",
         "x": [
          -0.31760019063949585
         ],
         "y": [
          0.32500000000000007
         ]
        },
        {
         "legendgroup": "dog",
         "line": {
          "color": "rgb(53, 183, 121)",
          "width": 2
         },
         "mode": "lines",
         "showlegend": false,
         "type": "scatter",
         "x": [
          -0.31760019063949585,
          0
         ],
         "y": [
          0.32500000000000007,
          0.32500000000000007
         ]
        },
        {
         "legendgroup": "mountain",
         "marker": {
          "color": "rgb(253, 231, 37)",
          "size": 20,
          "symbol": "square"
         },
         "mode": "markers",
         "name": "mountain",
         "showlegend": false,
         "type": "scatter",
         "x": [
          -1.3040976524353027
         ],
         "y": [
          0.32500000000000007
         ]
        },
        {
         "legendgroup": "mountain",
         "line": {
          "color": "rgb(253, 231, 37)",
          "width": 2
         },
         "mode": "lines",
         "showlegend": false,
         "type": "scatter",
         "x": [
          -1.3040976524353027,
          0
         ],
         "y": [
          0.32500000000000007,
          0.32500000000000007
         ]
        },
        {
         "legendgroup": "cat",
         "marker": {
          "color": "rgb(67, 56, 128)",
          "size": 20,
          "symbol": "square"
         },
         "mode": "markers",
         "name": "cat",
         "showlegend": false,
         "type": "scatter",
         "x": [
          0.4712963104248047
         ],
         "y": [
          0.43000000000000005
         ]
        },
        {
         "legendgroup": "cat",
         "line": {
          "color": "rgb(67, 56, 128)",
          "width": 2
         },
         "mode": "lines",
         "showlegend": false,
         "type": "scatter",
         "x": [
          0.4712963104248047,
          0
         ],
         "y": [
          0.43000000000000005,
          0.43000000000000005
         ]
        },
        {
         "legendgroup": "tree",
         "marker": {
          "color": "rgb(49, 104, 142)",
          "size": 20,
          "symbol": "square"
         },
         "mode": "markers",
         "name": "tree",
         "showlegend": false,
         "type": "scatter",
         "x": [
          -1.1064598560333252
         ],
         "y": [
          0.43000000000000005
         ]
        },
        {
         "legendgroup": "tree",
         "line": {
          "color": "rgb(49, 104, 142)",
          "width": 2
         },
         "mode": "lines",
         "showlegend": false,
         "type": "scatter",
         "x": [
          -1.1064598560333252,
          0
         ],
         "y": [
          0.43000000000000005,
          0.43000000000000005
         ]
        },
        {
         "legendgroup": "book",
         "marker": {
          "color": "rgb(34, 144, 140)",
          "size": 20,
          "symbol": "square"
         },
         "mode": "markers",
         "name": "book",
         "showlegend": false,
         "type": "scatter",
         "x": [
          -2.4687705039978027
         ],
         "y": [
          0.43000000000000005
         ]
        },
        {
         "legendgroup": "book",
         "line": {
          "color": "rgb(34, 144, 140)",
          "width": 2
         },
         "mode": "lines",
         "showlegend": false,
         "type": "scatter",
         "x": [
          -2.4687705039978027,
          0
         ],
         "y": [
          0.43000000000000005,
          0.43000000000000005
         ]
        },
        {
         "legendgroup": "dog",
         "marker": {
          "color": "rgb(53, 183, 121)",
          "size": 20,
          "symbol": "square"
         },
         "mode": "markers",
         "name": "dog",
         "showlegend": false,
         "type": "scatter",
         "x": [
          0.5153264999389648
         ],
         "y": [
          0.43000000000000005
         ]
        },
        {
         "legendgroup": "dog",
         "line": {
          "color": "rgb(53, 183, 121)",
          "width": 2
         },
         "mode": "lines",
         "showlegend": false,
         "type": "scatter",
         "x": [
          0.5153264999389648,
          0
         ],
         "y": [
          0.43000000000000005,
          0.43000000000000005
         ]
        },
        {
         "legendgroup": "rain",
         "marker": {
          "color": "rgb(146, 214, 65)",
          "size": 20,
          "symbol": "square"
         },
         "mode": "markers",
         "name": "rain",
         "showlegend": false,
         "type": "scatter",
         "x": [
          -2.5393118858337402
         ],
         "y": [
          0.43000000000000005
         ]
        },
        {
         "legendgroup": "rain",
         "line": {
          "color": "rgb(146, 214, 65)",
          "width": 2
         },
         "mode": "lines",
         "showlegend": false,
         "type": "scatter",
         "x": [
          -2.5393118858337402,
          0
         ],
         "y": [
          0.43000000000000005,
          0.43000000000000005
         ]
        },
        {
         "legendgroup": "mountain",
         "marker": {
          "color": "rgb(253, 231, 37)",
          "size": 20,
          "symbol": "square"
         },
         "mode": "markers",
         "name": "mountain",
         "showlegend": false,
         "type": "scatter",
         "x": [
          -1.2850000858306885
         ],
         "y": [
          0.43000000000000005
         ]
        },
        {
         "legendgroup": "mountain",
         "line": {
          "color": "rgb(253, 231, 37)",
          "width": 2
         },
         "mode": "lines",
         "showlegend": false,
         "type": "scatter",
         "x": [
          -1.2850000858306885,
          0
         ],
         "y": [
          0.43000000000000005,
          0.43000000000000005
         ]
        }
       ],
       "layout": {
        "annotations": [
         {
          "font": {
           "size": 18
          },
          "showarrow": false,
          "text": "hot",
          "x": -6.540019226074218,
          "xanchor": "right",
          "xref": "x",
          "y": 0.01,
          "yref": "y"
         },
         {
          "font": {
           "size": 18
          },
          "showarrow": false,
          "text": "cold",
          "x": 6.540019226074218,
          "xanchor": "left",
          "xref": "x",
          "y": 0.01,
          "yref": "y"
         },
         {
          "font": {
           "size": 18
          },
          "showarrow": false,
          "text": "good",
          "x": -6.540019226074218,
          "xanchor": "right",
          "xref": "x",
          "y": 0.115,
          "yref": "y"
         },
         {
          "font": {
           "size": 18
          },
          "showarrow": false,
          "text": "bad",
          "x": 6.540019226074218,
          "xanchor": "left",
          "xref": "x",
          "y": 0.115,
          "yref": "y"
         },
         {
          "font": {
           "size": 18
          },
          "showarrow": false,
          "text": "happy",
          "x": -6.540019226074218,
          "xanchor": "right",
          "xref": "x",
          "y": 0.22000000000000003,
          "yref": "y"
         },
         {
          "font": {
           "size": 18
          },
          "showarrow": false,
          "text": "sad",
          "x": 6.540019226074218,
          "xanchor": "left",
          "xref": "x",
          "y": 0.22000000000000003,
          "yref": "y"
         },
         {
          "font": {
           "size": 18
          },
          "showarrow": false,
          "text": "fast",
          "x": -6.540019226074218,
          "xanchor": "right",
          "xref": "x",
          "y": 0.32500000000000007,
          "yref": "y"
         },
         {
          "font": {
           "size": 18
          },
          "showarrow": false,
          "text": "slow",
          "x": 6.540019226074218,
          "xanchor": "left",
          "xref": "x",
          "y": 0.32500000000000007,
          "yref": "y"
         },
         {
          "font": {
           "size": 18
          },
          "showarrow": false,
          "text": "big",
          "x": -6.540019226074218,
          "xanchor": "right",
          "xref": "x",
          "y": 0.43000000000000005,
          "yref": "y"
         },
         {
          "font": {
           "size": 18
          },
          "showarrow": false,
          "text": "small",
          "x": 6.540019226074218,
          "xanchor": "left",
          "xref": "x",
          "y": 0.43000000000000005,
          "yref": "y"
         }
        ],
        "shapes": [
         {
          "line": {
           "color": "black",
           "width": 1
          },
          "type": "line",
          "x0": -6.440019226074218,
          "x1": 6.440019226074218,
          "y0": 0,
          "y1": 0
         },
         {
          "line": {
           "color": "black",
           "width": 1
          },
          "type": "line",
          "x0": -6.440019226074218,
          "x1": -6.440019226074218,
          "y0": 0,
          "y1": 0.5
         },
         {
          "line": {
           "color": "black",
           "width": 1
          },
          "type": "line",
          "x0": 6.440019226074218,
          "x1": 6.440019226074218,
          "y0": 0,
          "y1": 0.5
         },
         {
          "line": {
           "color": "black",
           "dash": "dash",
           "width": 1
          },
          "type": "line",
          "x0": 0,
          "x1": 0,
          "y0": 0,
          "y1": 0.5
         }
        ],
        "template": {
         "data": {
          "bar": [
           {
            "error_x": {
             "color": "#2a3f5f"
            },
            "error_y": {
             "color": "#2a3f5f"
            },
            "marker": {
             "line": {
              "color": "#E5ECF6",
              "width": 0.5
             },
             "pattern": {
              "fillmode": "overlay",
              "size": 10,
              "solidity": 0.2
             }
            },
            "type": "bar"
           }
          ],
          "barpolar": [
           {
            "marker": {
             "line": {
              "color": "#E5ECF6",
              "width": 0.5
             },
             "pattern": {
              "fillmode": "overlay",
              "size": 10,
              "solidity": 0.2
             }
            },
            "type": "barpolar"
           }
          ],
          "carpet": [
           {
            "aaxis": {
             "endlinecolor": "#2a3f5f",
             "gridcolor": "white",
             "linecolor": "white",
             "minorgridcolor": "white",
             "startlinecolor": "#2a3f5f"
            },
            "baxis": {
             "endlinecolor": "#2a3f5f",
             "gridcolor": "white",
             "linecolor": "white",
             "minorgridcolor": "white",
             "startlinecolor": "#2a3f5f"
            },
            "type": "carpet"
           }
          ],
          "choropleth": [
           {
            "colorbar": {
             "outlinewidth": 0,
             "ticks": ""
            },
            "type": "choropleth"
           }
          ],
          "contour": [
           {
            "colorbar": {
             "outlinewidth": 0,
             "ticks": ""
            },
            "colorscale": [
             [
              0,
              "#0d0887"
             ],
             [
              0.1111111111111111,
              "#46039f"
             ],
             [
              0.2222222222222222,
              "#7201a8"
             ],
             [
              0.3333333333333333,
              "#9c179e"
             ],
             [
              0.4444444444444444,
              "#bd3786"
             ],
             [
              0.5555555555555556,
              "#d8576b"
             ],
             [
              0.6666666666666666,
              "#ed7953"
             ],
             [
              0.7777777777777778,
              "#fb9f3a"
             ],
             [
              0.8888888888888888,
              "#fdca26"
             ],
             [
              1,
              "#f0f921"
             ]
            ],
            "type": "contour"
           }
          ],
          "contourcarpet": [
           {
            "colorbar": {
             "outlinewidth": 0,
             "ticks": ""
            },
            "type": "contourcarpet"
           }
          ],
          "heatmap": [
           {
            "colorbar": {
             "outlinewidth": 0,
             "ticks": ""
            },
            "colorscale": [
             [
              0,
              "#0d0887"
             ],
             [
              0.1111111111111111,
              "#46039f"
             ],
             [
              0.2222222222222222,
              "#7201a8"
             ],
             [
              0.3333333333333333,
              "#9c179e"
             ],
             [
              0.4444444444444444,
              "#bd3786"
             ],
             [
              0.5555555555555556,
              "#d8576b"
             ],
             [
              0.6666666666666666,
              "#ed7953"
             ],
             [
              0.7777777777777778,
              "#fb9f3a"
             ],
             [
              0.8888888888888888,
              "#fdca26"
             ],
             [
              1,
              "#f0f921"
             ]
            ],
            "type": "heatmap"
           }
          ],
          "heatmapgl": [
           {
            "colorbar": {
             "outlinewidth": 0,
             "ticks": ""
            },
            "colorscale": [
             [
              0,
              "#0d0887"
             ],
             [
              0.1111111111111111,
              "#46039f"
             ],
             [
              0.2222222222222222,
              "#7201a8"
             ],
             [
              0.3333333333333333,
              "#9c179e"
             ],
             [
              0.4444444444444444,
              "#bd3786"
             ],
             [
              0.5555555555555556,
              "#d8576b"
             ],
             [
              0.6666666666666666,
              "#ed7953"
             ],
             [
              0.7777777777777778,
              "#fb9f3a"
             ],
             [
              0.8888888888888888,
              "#fdca26"
             ],
             [
              1,
              "#f0f921"
             ]
            ],
            "type": "heatmapgl"
           }
          ],
          "histogram": [
           {
            "marker": {
             "pattern": {
              "fillmode": "overlay",
              "size": 10,
              "solidity": 0.2
             }
            },
            "type": "histogram"
           }
          ],
          "histogram2d": [
           {
            "colorbar": {
             "outlinewidth": 0,
             "ticks": ""
            },
            "colorscale": [
             [
              0,
              "#0d0887"
             ],
             [
              0.1111111111111111,
              "#46039f"
             ],
             [
              0.2222222222222222,
              "#7201a8"
             ],
             [
              0.3333333333333333,
              "#9c179e"
             ],
             [
              0.4444444444444444,
              "#bd3786"
             ],
             [
              0.5555555555555556,
              "#d8576b"
             ],
             [
              0.6666666666666666,
              "#ed7953"
             ],
             [
              0.7777777777777778,
              "#fb9f3a"
             ],
             [
              0.8888888888888888,
              "#fdca26"
             ],
             [
              1,
              "#f0f921"
             ]
            ],
            "type": "histogram2d"
           }
          ],
          "histogram2dcontour": [
           {
            "colorbar": {
             "outlinewidth": 0,
             "ticks": ""
            },
            "colorscale": [
             [
              0,
              "#0d0887"
             ],
             [
              0.1111111111111111,
              "#46039f"
             ],
             [
              0.2222222222222222,
              "#7201a8"
             ],
             [
              0.3333333333333333,
              "#9c179e"
             ],
             [
              0.4444444444444444,
              "#bd3786"
             ],
             [
              0.5555555555555556,
              "#d8576b"
             ],
             [
              0.6666666666666666,
              "#ed7953"
             ],
             [
              0.7777777777777778,
              "#fb9f3a"
             ],
             [
              0.8888888888888888,
              "#fdca26"
             ],
             [
              1,
              "#f0f921"
             ]
            ],
            "type": "histogram2dcontour"
           }
          ],
          "mesh3d": [
           {
            "colorbar": {
             "outlinewidth": 0,
             "ticks": ""
            },
            "type": "mesh3d"
           }
          ],
          "parcoords": [
           {
            "line": {
             "colorbar": {
              "outlinewidth": 0,
              "ticks": ""
             }
            },
            "type": "parcoords"
           }
          ],
          "pie": [
           {
            "automargin": true,
            "type": "pie"
           }
          ],
          "scatter": [
           {
            "fillpattern": {
             "fillmode": "overlay",
             "size": 10,
             "solidity": 0.2
            },
            "type": "scatter"
           }
          ],
          "scatter3d": [
           {
            "line": {
             "colorbar": {
              "outlinewidth": 0,
              "ticks": ""
             }
            },
            "marker": {
             "colorbar": {
              "outlinewidth": 0,
              "ticks": ""
             }
            },
            "type": "scatter3d"
           }
          ],
          "scattercarpet": [
           {
            "marker": {
             "colorbar": {
              "outlinewidth": 0,
              "ticks": ""
             }
            },
            "type": "scattercarpet"
           }
          ],
          "scattergeo": [
           {
            "marker": {
             "colorbar": {
              "outlinewidth": 0,
              "ticks": ""
             }
            },
            "type": "scattergeo"
           }
          ],
          "scattergl": [
           {
            "marker": {
             "colorbar": {
              "outlinewidth": 0,
              "ticks": ""
             }
            },
            "type": "scattergl"
           }
          ],
          "scattermapbox": [
           {
            "marker": {
             "colorbar": {
              "outlinewidth": 0,
              "ticks": ""
             }
            },
            "type": "scattermapbox"
           }
          ],
          "scatterpolar": [
           {
            "marker": {
             "colorbar": {
              "outlinewidth": 0,
              "ticks": ""
             }
            },
            "type": "scatterpolar"
           }
          ],
          "scatterpolargl": [
           {
            "marker": {
             "colorbar": {
              "outlinewidth": 0,
              "ticks": ""
             }
            },
            "type": "scatterpolargl"
           }
          ],
          "scatterternary": [
           {
            "marker": {
             "colorbar": {
              "outlinewidth": 0,
              "ticks": ""
             }
            },
            "type": "scatterternary"
           }
          ],
          "surface": [
           {
            "colorbar": {
             "outlinewidth": 0,
             "ticks": ""
            },
            "colorscale": [
             [
              0,
              "#0d0887"
             ],
             [
              0.1111111111111111,
              "#46039f"
             ],
             [
              0.2222222222222222,
              "#7201a8"
             ],
             [
              0.3333333333333333,
              "#9c179e"
             ],
             [
              0.4444444444444444,
              "#bd3786"
             ],
             [
              0.5555555555555556,
              "#d8576b"
             ],
             [
              0.6666666666666666,
              "#ed7953"
             ],
             [
              0.7777777777777778,
              "#fb9f3a"
             ],
             [
              0.8888888888888888,
              "#fdca26"
             ],
             [
              1,
              "#f0f921"
             ]
            ],
            "type": "surface"
           }
          ],
          "table": [
           {
            "cells": {
             "fill": {
              "color": "#EBF0F8"
             },
             "line": {
              "color": "white"
             }
            },
            "header": {
             "fill": {
              "color": "#C8D4E3"
             },
             "line": {
              "color": "white"
             }
            },
            "type": "table"
           }
          ]
         },
         "layout": {
          "annotationdefaults": {
           "arrowcolor": "#2a3f5f",
           "arrowhead": 0,
           "arrowwidth": 1
          },
          "autotypenumbers": "strict",
          "coloraxis": {
           "colorbar": {
            "outlinewidth": 0,
            "ticks": ""
           }
          },
          "colorscale": {
           "diverging": [
            [
             0,
             "#8e0152"
            ],
            [
             0.1,
             "#c51b7d"
            ],
            [
             0.2,
             "#de77ae"
            ],
            [
             0.3,
             "#f1b6da"
            ],
            [
             0.4,
             "#fde0ef"
            ],
            [
             0.5,
             "#f7f7f7"
            ],
            [
             0.6,
             "#e6f5d0"
            ],
            [
             0.7,
             "#b8e186"
            ],
            [
             0.8,
             "#7fbc41"
            ],
            [
             0.9,
             "#4d9221"
            ],
            [
             1,
             "#276419"
            ]
           ],
           "sequential": [
            [
             0,
             "#0d0887"
            ],
            [
             0.1111111111111111,
             "#46039f"
            ],
            [
             0.2222222222222222,
             "#7201a8"
            ],
            [
             0.3333333333333333,
             "#9c179e"
            ],
            [
             0.4444444444444444,
             "#bd3786"
            ],
            [
             0.5555555555555556,
             "#d8576b"
            ],
            [
             0.6666666666666666,
             "#ed7953"
            ],
            [
             0.7777777777777778,
             "#fb9f3a"
            ],
            [
             0.8888888888888888,
             "#fdca26"
            ],
            [
             1,
             "#f0f921"
            ]
           ],
           "sequentialminus": [
            [
             0,
             "#0d0887"
            ],
            [
             0.1111111111111111,
             "#46039f"
            ],
            [
             0.2222222222222222,
             "#7201a8"
            ],
            [
             0.3333333333333333,
             "#9c179e"
            ],
            [
             0.4444444444444444,
             "#bd3786"
            ],
            [
             0.5555555555555556,
             "#d8576b"
            ],
            [
             0.6666666666666666,
             "#ed7953"
            ],
            [
             0.7777777777777778,
             "#fb9f3a"
            ],
            [
             0.8888888888888888,
             "#fdca26"
            ],
            [
             1,
             "#f0f921"
            ]
           ]
          },
          "colorway": [
           "#636efa",
           "#EF553B",
           "#00cc96",
           "#ab63fa",
           "#FFA15A",
           "#19d3f3",
           "#FF6692",
           "#B6E880",
           "#FF97FF",
           "#FECB52"
          ],
          "font": {
           "color": "#2a3f5f"
          },
          "geo": {
           "bgcolor": "white",
           "lakecolor": "white",
           "landcolor": "#E5ECF6",
           "showlakes": true,
           "showland": true,
           "subunitcolor": "white"
          },
          "hoverlabel": {
           "align": "left"
          },
          "hovermode": "closest",
          "mapbox": {
           "style": "light"
          },
          "paper_bgcolor": "white",
          "plot_bgcolor": "#E5ECF6",
          "polar": {
           "angularaxis": {
            "gridcolor": "white",
            "linecolor": "white",
            "ticks": ""
           },
           "bgcolor": "#E5ECF6",
           "radialaxis": {
            "gridcolor": "white",
            "linecolor": "white",
            "ticks": ""
           }
          },
          "scene": {
           "xaxis": {
            "backgroundcolor": "#E5ECF6",
            "gridcolor": "white",
            "gridwidth": 2,
            "linecolor": "white",
            "showbackground": true,
            "ticks": "",
            "zerolinecolor": "white"
           },
           "yaxis": {
            "backgroundcolor": "#E5ECF6",
            "gridcolor": "white",
            "gridwidth": 2,
            "linecolor": "white",
            "showbackground": true,
            "ticks": "",
            "zerolinecolor": "white"
           },
           "zaxis": {
            "backgroundcolor": "#E5ECF6",
            "gridcolor": "white",
            "gridwidth": 2,
            "linecolor": "white",
            "showbackground": true,
            "ticks": "",
            "zerolinecolor": "white"
           }
          },
          "shapedefaults": {
           "line": {
            "color": "#2a3f5f"
           }
          },
          "ternary": {
           "aaxis": {
            "gridcolor": "white",
            "linecolor": "white",
            "ticks": ""
           },
           "baxis": {
            "gridcolor": "white",
            "linecolor": "white",
            "ticks": ""
           },
           "bgcolor": "#E5ECF6",
           "caxis": {
            "gridcolor": "white",
            "linecolor": "white",
            "ticks": ""
           }
          },
          "title": {
           "x": 0.05
          },
          "xaxis": {
           "automargin": true,
           "gridcolor": "white",
           "linecolor": "white",
           "ticks": "",
           "title": {
            "standoff": 15
           },
           "zerolinecolor": "white",
           "zerolinewidth": 2
          },
          "yaxis": {
           "automargin": true,
           "gridcolor": "white",
           "linecolor": "white",
           "ticks": "",
           "title": {
            "standoff": 15
           },
           "zerolinecolor": "white",
           "zerolinewidth": 2
          }
         }
        },
        "xaxis": {
         "anchor": "y",
         "autorange": true,
         "domain": [
          0,
          1
         ],
         "range": [
          -6.440019226074218,
          5.406953430175781
         ],
         "title": {
          "text": "Polarity"
         }
        },
        "yaxis": {
         "anchor": "x",
         "autorange": true,
         "domain": [
          0,
          1
         ],
         "title": {
          "text": "Words"
         }
        }
       }
      }
     },
     "metadata": {},
     "output_type": "display_data"
    },
    {
     "data": {
      "application/vnd.plotly.v1+json": {
       "config": {
        "plotlyServerURL": "https://plot.ly"
       },
       "data": [
        {
         "marker": {
          "color": "rgb(68, 1, 84)",
          "size": 18
         },
         "mode": "markers",
         "name": "sun",
         "type": "scatter",
         "x": [
          -6.340019226074219
         ],
         "y": [
          -1.732836127281189
         ]
        },
        {
         "marker": {
          "color": "rgb(67, 56, 128)",
          "size": 18
         },
         "mode": "markers",
         "name": "cat",
         "type": "scatter",
         "x": [
          -2.3979406356811523
         ],
         "y": [
          -1.114182710647583
         ]
        },
        {
         "marker": {
          "color": "rgb(49, 104, 142)",
          "size": 18
         },
         "mode": "markers",
         "name": "tree",
         "type": "scatter",
         "x": [
          -1.6935300827026367
         ],
         "y": [
          -1.1064598560333252
         ]
        },
        {
         "marker": {
          "color": "rgb(34, 144, 140)",
          "size": 18
         },
         "mode": "markers",
         "name": "book",
         "type": "scatter",
         "x": [
          -2.4687705039978027
         ],
         "y": [
          -1.5000555515289307
         ]
        },
        {
         "marker": {
          "color": "rgb(53, 183, 121)",
          "size": 18
         },
         "mode": "markers",
         "name": "dog",
         "type": "scatter",
         "x": [
          -0.535570502281189
         ],
         "y": [
          0.5153264999389648
         ]
        },
        {
         "marker": {
          "color": "rgb(146, 214, 65)",
          "size": 18
         },
         "mode": "markers",
         "name": "rain",
         "type": "scatter",
         "x": [
          5.306953430175781
         ],
         "y": [
          -2.5393118858337402
         ]
        },
        {
         "marker": {
          "color": "rgb(253, 231, 37)",
          "size": 18
         },
         "mode": "markers",
         "name": "mountain",
         "type": "scatter",
         "x": [
          -1.3040976524353027
         ],
         "y": [
          -1.2850000858306885
         ]
        }
       ],
       "layout": {
        "annotations": [
         {
          "font": {
           "size": 18
          },
          "showarrow": false,
          "text": "hot",
          "x": -6.840019226074219,
          "xshift": -15,
          "y": 0
         },
         {
          "font": {
           "size": 18
          },
          "showarrow": false,
          "text": "cold",
          "x": 6.840019226074219,
          "xshift": 15,
          "y": 0
         },
         {
          "font": {
           "size": 18
          },
          "showarrow": false,
          "text": "good",
          "x": 0,
          "y": -6.840019226074219,
          "yshift": -15
         },
         {
          "font": {
           "size": 18
          },
          "showarrow": false,
          "text": "bad",
          "x": 0,
          "y": 6.840019226074219,
          "yshift": 15
         }
        ],
        "height": 800,
        "shapes": [
         {
          "line": {
           "color": "black",
           "width": 1
          },
          "type": "line",
          "x0": -6.840019226074219,
          "x1": 6.840019226074219,
          "y0": 0,
          "y1": 0
         },
         {
          "line": {
           "color": "black",
           "width": 1
          },
          "type": "line",
          "x0": 0,
          "x1": 0,
          "y0": -6.840019226074219,
          "y1": 6.840019226074219
         }
        ],
        "template": {
         "data": {
          "bar": [
           {
            "error_x": {
             "color": "#2a3f5f"
            },
            "error_y": {
             "color": "#2a3f5f"
            },
            "marker": {
             "line": {
              "color": "#E5ECF6",
              "width": 0.5
             },
             "pattern": {
              "fillmode": "overlay",
              "size": 10,
              "solidity": 0.2
             }
            },
            "type": "bar"
           }
          ],
          "barpolar": [
           {
            "marker": {
             "line": {
              "color": "#E5ECF6",
              "width": 0.5
             },
             "pattern": {
              "fillmode": "overlay",
              "size": 10,
              "solidity": 0.2
             }
            },
            "type": "barpolar"
           }
          ],
          "carpet": [
           {
            "aaxis": {
             "endlinecolor": "#2a3f5f",
             "gridcolor": "white",
             "linecolor": "white",
             "minorgridcolor": "white",
             "startlinecolor": "#2a3f5f"
            },
            "baxis": {
             "endlinecolor": "#2a3f5f",
             "gridcolor": "white",
             "linecolor": "white",
             "minorgridcolor": "white",
             "startlinecolor": "#2a3f5f"
            },
            "type": "carpet"
           }
          ],
          "choropleth": [
           {
            "colorbar": {
             "outlinewidth": 0,
             "ticks": ""
            },
            "type": "choropleth"
           }
          ],
          "contour": [
           {
            "colorbar": {
             "outlinewidth": 0,
             "ticks": ""
            },
            "colorscale": [
             [
              0,
              "#0d0887"
             ],
             [
              0.1111111111111111,
              "#46039f"
             ],
             [
              0.2222222222222222,
              "#7201a8"
             ],
             [
              0.3333333333333333,
              "#9c179e"
             ],
             [
              0.4444444444444444,
              "#bd3786"
             ],
             [
              0.5555555555555556,
              "#d8576b"
             ],
             [
              0.6666666666666666,
              "#ed7953"
             ],
             [
              0.7777777777777778,
              "#fb9f3a"
             ],
             [
              0.8888888888888888,
              "#fdca26"
             ],
             [
              1,
              "#f0f921"
             ]
            ],
            "type": "contour"
           }
          ],
          "contourcarpet": [
           {
            "colorbar": {
             "outlinewidth": 0,
             "ticks": ""
            },
            "type": "contourcarpet"
           }
          ],
          "heatmap": [
           {
            "colorbar": {
             "outlinewidth": 0,
             "ticks": ""
            },
            "colorscale": [
             [
              0,
              "#0d0887"
             ],
             [
              0.1111111111111111,
              "#46039f"
             ],
             [
              0.2222222222222222,
              "#7201a8"
             ],
             [
              0.3333333333333333,
              "#9c179e"
             ],
             [
              0.4444444444444444,
              "#bd3786"
             ],
             [
              0.5555555555555556,
              "#d8576b"
             ],
             [
              0.6666666666666666,
              "#ed7953"
             ],
             [
              0.7777777777777778,
              "#fb9f3a"
             ],
             [
              0.8888888888888888,
              "#fdca26"
             ],
             [
              1,
              "#f0f921"
             ]
            ],
            "type": "heatmap"
           }
          ],
          "heatmapgl": [
           {
            "colorbar": {
             "outlinewidth": 0,
             "ticks": ""
            },
            "colorscale": [
             [
              0,
              "#0d0887"
             ],
             [
              0.1111111111111111,
              "#46039f"
             ],
             [
              0.2222222222222222,
              "#7201a8"
             ],
             [
              0.3333333333333333,
              "#9c179e"
             ],
             [
              0.4444444444444444,
              "#bd3786"
             ],
             [
              0.5555555555555556,
              "#d8576b"
             ],
             [
              0.6666666666666666,
              "#ed7953"
             ],
             [
              0.7777777777777778,
              "#fb9f3a"
             ],
             [
              0.8888888888888888,
              "#fdca26"
             ],
             [
              1,
              "#f0f921"
             ]
            ],
            "type": "heatmapgl"
           }
          ],
          "histogram": [
           {
            "marker": {
             "pattern": {
              "fillmode": "overlay",
              "size": 10,
              "solidity": 0.2
             }
            },
            "type": "histogram"
           }
          ],
          "histogram2d": [
           {
            "colorbar": {
             "outlinewidth": 0,
             "ticks": ""
            },
            "colorscale": [
             [
              0,
              "#0d0887"
             ],
             [
              0.1111111111111111,
              "#46039f"
             ],
             [
              0.2222222222222222,
              "#7201a8"
             ],
             [
              0.3333333333333333,
              "#9c179e"
             ],
             [
              0.4444444444444444,
              "#bd3786"
             ],
             [
              0.5555555555555556,
              "#d8576b"
             ],
             [
              0.6666666666666666,
              "#ed7953"
             ],
             [
              0.7777777777777778,
              "#fb9f3a"
             ],
             [
              0.8888888888888888,
              "#fdca26"
             ],
             [
              1,
              "#f0f921"
             ]
            ],
            "type": "histogram2d"
           }
          ],
          "histogram2dcontour": [
           {
            "colorbar": {
             "outlinewidth": 0,
             "ticks": ""
            },
            "colorscale": [
             [
              0,
              "#0d0887"
             ],
             [
              0.1111111111111111,
              "#46039f"
             ],
             [
              0.2222222222222222,
              "#7201a8"
             ],
             [
              0.3333333333333333,
              "#9c179e"
             ],
             [
              0.4444444444444444,
              "#bd3786"
             ],
             [
              0.5555555555555556,
              "#d8576b"
             ],
             [
              0.6666666666666666,
              "#ed7953"
             ],
             [
              0.7777777777777778,
              "#fb9f3a"
             ],
             [
              0.8888888888888888,
              "#fdca26"
             ],
             [
              1,
              "#f0f921"
             ]
            ],
            "type": "histogram2dcontour"
           }
          ],
          "mesh3d": [
           {
            "colorbar": {
             "outlinewidth": 0,
             "ticks": ""
            },
            "type": "mesh3d"
           }
          ],
          "parcoords": [
           {
            "line": {
             "colorbar": {
              "outlinewidth": 0,
              "ticks": ""
             }
            },
            "type": "parcoords"
           }
          ],
          "pie": [
           {
            "automargin": true,
            "type": "pie"
           }
          ],
          "scatter": [
           {
            "fillpattern": {
             "fillmode": "overlay",
             "size": 10,
             "solidity": 0.2
            },
            "type": "scatter"
           }
          ],
          "scatter3d": [
           {
            "line": {
             "colorbar": {
              "outlinewidth": 0,
              "ticks": ""
             }
            },
            "marker": {
             "colorbar": {
              "outlinewidth": 0,
              "ticks": ""
             }
            },
            "type": "scatter3d"
           }
          ],
          "scattercarpet": [
           {
            "marker": {
             "colorbar": {
              "outlinewidth": 0,
              "ticks": ""
             }
            },
            "type": "scattercarpet"
           }
          ],
          "scattergeo": [
           {
            "marker": {
             "colorbar": {
              "outlinewidth": 0,
              "ticks": ""
             }
            },
            "type": "scattergeo"
           }
          ],
          "scattergl": [
           {
            "marker": {
             "colorbar": {
              "outlinewidth": 0,
              "ticks": ""
             }
            },
            "type": "scattergl"
           }
          ],
          "scattermapbox": [
           {
            "marker": {
             "colorbar": {
              "outlinewidth": 0,
              "ticks": ""
             }
            },
            "type": "scattermapbox"
           }
          ],
          "scatterpolar": [
           {
            "marker": {
             "colorbar": {
              "outlinewidth": 0,
              "ticks": ""
             }
            },
            "type": "scatterpolar"
           }
          ],
          "scatterpolargl": [
           {
            "marker": {
             "colorbar": {
              "outlinewidth": 0,
              "ticks": ""
             }
            },
            "type": "scatterpolargl"
           }
          ],
          "scatterternary": [
           {
            "marker": {
             "colorbar": {
              "outlinewidth": 0,
              "ticks": ""
             }
            },
            "type": "scatterternary"
           }
          ],
          "surface": [
           {
            "colorbar": {
             "outlinewidth": 0,
             "ticks": ""
            },
            "colorscale": [
             [
              0,
              "#0d0887"
             ],
             [
              0.1111111111111111,
              "#46039f"
             ],
             [
              0.2222222222222222,
              "#7201a8"
             ],
             [
              0.3333333333333333,
              "#9c179e"
             ],
             [
              0.4444444444444444,
              "#bd3786"
             ],
             [
              0.5555555555555556,
              "#d8576b"
             ],
             [
              0.6666666666666666,
              "#ed7953"
             ],
             [
              0.7777777777777778,
              "#fb9f3a"
             ],
             [
              0.8888888888888888,
              "#fdca26"
             ],
             [
              1,
              "#f0f921"
             ]
            ],
            "type": "surface"
           }
          ],
          "table": [
           {
            "cells": {
             "fill": {
              "color": "#EBF0F8"
             },
             "line": {
              "color": "white"
             }
            },
            "header": {
             "fill": {
              "color": "#C8D4E3"
             },
             "line": {
              "color": "white"
             }
            },
            "type": "table"
           }
          ]
         },
         "layout": {
          "annotationdefaults": {
           "arrowcolor": "#2a3f5f",
           "arrowhead": 0,
           "arrowwidth": 1
          },
          "autotypenumbers": "strict",
          "coloraxis": {
           "colorbar": {
            "outlinewidth": 0,
            "ticks": ""
           }
          },
          "colorscale": {
           "diverging": [
            [
             0,
             "#8e0152"
            ],
            [
             0.1,
             "#c51b7d"
            ],
            [
             0.2,
             "#de77ae"
            ],
            [
             0.3,
             "#f1b6da"
            ],
            [
             0.4,
             "#fde0ef"
            ],
            [
             0.5,
             "#f7f7f7"
            ],
            [
             0.6,
             "#e6f5d0"
            ],
            [
             0.7,
             "#b8e186"
            ],
            [
             0.8,
             "#7fbc41"
            ],
            [
             0.9,
             "#4d9221"
            ],
            [
             1,
             "#276419"
            ]
           ],
           "sequential": [
            [
             0,
             "#0d0887"
            ],
            [
             0.1111111111111111,
             "#46039f"
            ],
            [
             0.2222222222222222,
             "#7201a8"
            ],
            [
             0.3333333333333333,
             "#9c179e"
            ],
            [
             0.4444444444444444,
             "#bd3786"
            ],
            [
             0.5555555555555556,
             "#d8576b"
            ],
            [
             0.6666666666666666,
             "#ed7953"
            ],
            [
             0.7777777777777778,
             "#fb9f3a"
            ],
            [
             0.8888888888888888,
             "#fdca26"
            ],
            [
             1,
             "#f0f921"
            ]
           ],
           "sequentialminus": [
            [
             0,
             "#0d0887"
            ],
            [
             0.1111111111111111,
             "#46039f"
            ],
            [
             0.2222222222222222,
             "#7201a8"
            ],
            [
             0.3333333333333333,
             "#9c179e"
            ],
            [
             0.4444444444444444,
             "#bd3786"
            ],
            [
             0.5555555555555556,
             "#d8576b"
            ],
            [
             0.6666666666666666,
             "#ed7953"
            ],
            [
             0.7777777777777778,
             "#fb9f3a"
            ],
            [
             0.8888888888888888,
             "#fdca26"
            ],
            [
             1,
             "#f0f921"
            ]
           ]
          },
          "colorway": [
           "#636efa",
           "#EF553B",
           "#00cc96",
           "#ab63fa",
           "#FFA15A",
           "#19d3f3",
           "#FF6692",
           "#B6E880",
           "#FF97FF",
           "#FECB52"
          ],
          "font": {
           "color": "#2a3f5f"
          },
          "geo": {
           "bgcolor": "white",
           "lakecolor": "white",
           "landcolor": "#E5ECF6",
           "showlakes": true,
           "showland": true,
           "subunitcolor": "white"
          },
          "hoverlabel": {
           "align": "left"
          },
          "hovermode": "closest",
          "mapbox": {
           "style": "light"
          },
          "paper_bgcolor": "white",
          "plot_bgcolor": "#E5ECF6",
          "polar": {
           "angularaxis": {
            "gridcolor": "white",
            "linecolor": "white",
            "ticks": ""
           },
           "bgcolor": "#E5ECF6",
           "radialaxis": {
            "gridcolor": "white",
            "linecolor": "white",
            "ticks": ""
           }
          },
          "scene": {
           "xaxis": {
            "backgroundcolor": "#E5ECF6",
            "gridcolor": "white",
            "gridwidth": 2,
            "linecolor": "white",
            "showbackground": true,
            "ticks": "",
            "zerolinecolor": "white"
           },
           "yaxis": {
            "backgroundcolor": "#E5ECF6",
            "gridcolor": "white",
            "gridwidth": 2,
            "linecolor": "white",
            "showbackground": true,
            "ticks": "",
            "zerolinecolor": "white"
           },
           "zaxis": {
            "backgroundcolor": "#E5ECF6",
            "gridcolor": "white",
            "gridwidth": 2,
            "linecolor": "white",
            "showbackground": true,
            "ticks": "",
            "zerolinecolor": "white"
           }
          },
          "shapedefaults": {
           "line": {
            "color": "#2a3f5f"
           }
          },
          "ternary": {
           "aaxis": {
            "gridcolor": "white",
            "linecolor": "white",
            "ticks": ""
           },
           "baxis": {
            "gridcolor": "white",
            "linecolor": "white",
            "ticks": ""
           },
           "bgcolor": "#E5ECF6",
           "caxis": {
            "gridcolor": "white",
            "linecolor": "white",
            "ticks": ""
           }
          },
          "title": {
           "x": 0.05
          },
          "xaxis": {
           "automargin": true,
           "gridcolor": "white",
           "linecolor": "white",
           "ticks": "",
           "title": {
            "standoff": 15
           },
           "zerolinecolor": "white",
           "zerolinewidth": 2
          },
          "yaxis": {
           "automargin": true,
           "gridcolor": "white",
           "linecolor": "white",
           "ticks": "",
           "title": {
            "standoff": 15
           },
           "zerolinecolor": "white",
           "zerolinewidth": 2
          }
         }
        },
        "width": 800,
        "xaxis": {
         "range": [
          -6.840019226074219,
          6.840019226074219
         ]
        },
        "yaxis": {
         "range": [
          -6.840019226074219,
          6.840019226074219
         ]
        }
       }
      }
     },
     "metadata": {},
     "output_type": "display_data"
    },
    {
     "data": {
      "application/vnd.plotly.v1+json": {
       "config": {
        "plotlyServerURL": "https://plot.ly"
       },
       "data": [
        {
         "fill": "toself",
         "line": {
          "color": "rgb(68, 1, 84)",
          "width": 1
         },
         "name": "sun",
         "r": [
          6.340019226074219,
          1.732836127281189,
          1.5031791925430298,
          1.4614241123199463
         ],
         "subplot": "polar",
         "theta": [
          "cold",
          "bad",
          "sad",
          "slow"
         ],
         "type": "scatterpolar"
        },
        {
         "fill": "toself",
         "line": {
          "color": "rgb(67, 56, 128)",
          "width": 1
         },
         "name": "cat",
         "r": [
          2.3979406356811523,
          1.114182710647583,
          0.4712963104248047,
          0.4399012327194214
         ],
         "subplot": "polar2",
         "theta": [
          "cold",
          "slow",
          "big",
          "sad"
         ],
         "type": "scatterpolar"
        },
        {
         "fill": "toself",
         "line": {
          "color": "rgb(49, 104, 142)",
          "width": 1
         },
         "name": "tree",
         "r": [
          1.6935300827026367,
          1.1064598560333252,
          0.777382493019104,
          0.3525424599647522
         ],
         "subplot": "polar3",
         "theta": [
          "slow",
          "small",
          "bad",
          "cold"
         ],
         "type": "scatterpolar"
        },
        {
         "fill": "toself",
         "line": {
          "color": "rgb(34, 144, 140)",
          "width": 1
         },
         "name": "book",
         "r": [
          2.4687705039978027,
          1.5000555515289307,
          1.1117795705795288,
          0.6177054643630981
         ],
         "subplot": "polar4",
         "theta": [
          "small",
          "bad",
          "slow",
          "sad"
         ],
         "type": "scatterpolar"
        },
        {
         "fill": "toself",
         "line": {
          "color": "rgb(53, 183, 121)",
          "width": 1
         },
         "name": "dog",
         "r": [
          0.535570502281189,
          0.5153264999389648,
          0.5074058771133423,
          0.31760019063949585
         ],
         "subplot": "polar5",
         "theta": [
          "sad",
          "big",
          "cold",
          "slow"
         ],
         "type": "scatterpolar"
        },
        {
         "fill": "toself",
         "line": {
          "color": "rgb(146, 214, 65)",
          "width": 1
         },
         "name": "rain",
         "r": [
          5.306953430175781,
          2.5393118858337402,
          1.0438246726989746,
          0.646878182888031
         ],
         "subplot": "polar6",
         "theta": [
          "happy",
          "small",
          "cold",
          "good"
         ],
         "type": "scatterpolar"
        },
        {
         "fill": "toself",
         "line": {
          "color": "rgb(253, 231, 37)",
          "width": 1
         },
         "name": "mountain",
         "r": [
          1.3040976524353027,
          1.2850000858306885,
          0.7631525993347168,
          0.32590726017951965
         ],
         "subplot": "polar7",
         "theta": [
          "slow",
          "small",
          "cold",
          "sad"
         ],
         "type": "scatterpolar"
        }
       ],
       "layout": {
        "polar": {
         "domain": {
          "x": [
           0,
           0.45
          ],
          "y": [
           0.80625,
           1
          ]
         }
        },
        "polar2": {
         "domain": {
          "x": [
           0.55,
           1
          ],
          "y": [
           0.80625,
           1
          ]
         }
        },
        "polar3": {
         "domain": {
          "x": [
           0,
           0.45
          ],
          "y": [
           0.5375,
           0.73125
          ]
         }
        },
        "polar4": {
         "domain": {
          "x": [
           0.55,
           1
          ],
          "y": [
           0.5375,
           0.73125
          ]
         }
        },
        "polar5": {
         "domain": {
          "x": [
           0,
           0.45
          ],
          "y": [
           0.26875,
           0.4625
          ]
         }
        },
        "polar6": {
         "domain": {
          "x": [
           0.55,
           1
          ],
          "y": [
           0.26875,
           0.4625
          ]
         }
        },
        "polar7": {
         "domain": {
          "x": [
           0,
           0.45
          ],
          "y": [
           0,
           0.19375
          ]
         }
        },
        "polar8": {
         "domain": {
          "x": [
           0.55,
           1
          ],
          "y": [
           0,
           0.19375
          ]
         }
        },
        "template": {
         "data": {
          "bar": [
           {
            "error_x": {
             "color": "#2a3f5f"
            },
            "error_y": {
             "color": "#2a3f5f"
            },
            "marker": {
             "line": {
              "color": "#E5ECF6",
              "width": 0.5
             },
             "pattern": {
              "fillmode": "overlay",
              "size": 10,
              "solidity": 0.2
             }
            },
            "type": "bar"
           }
          ],
          "barpolar": [
           {
            "marker": {
             "line": {
              "color": "#E5ECF6",
              "width": 0.5
             },
             "pattern": {
              "fillmode": "overlay",
              "size": 10,
              "solidity": 0.2
             }
            },
            "type": "barpolar"
           }
          ],
          "carpet": [
           {
            "aaxis": {
             "endlinecolor": "#2a3f5f",
             "gridcolor": "white",
             "linecolor": "white",
             "minorgridcolor": "white",
             "startlinecolor": "#2a3f5f"
            },
            "baxis": {
             "endlinecolor": "#2a3f5f",
             "gridcolor": "white",
             "linecolor": "white",
             "minorgridcolor": "white",
             "startlinecolor": "#2a3f5f"
            },
            "type": "carpet"
           }
          ],
          "choropleth": [
           {
            "colorbar": {
             "outlinewidth": 0,
             "ticks": ""
            },
            "type": "choropleth"
           }
          ],
          "contour": [
           {
            "colorbar": {
             "outlinewidth": 0,
             "ticks": ""
            },
            "colorscale": [
             [
              0,
              "#0d0887"
             ],
             [
              0.1111111111111111,
              "#46039f"
             ],
             [
              0.2222222222222222,
              "#7201a8"
             ],
             [
              0.3333333333333333,
              "#9c179e"
             ],
             [
              0.4444444444444444,
              "#bd3786"
             ],
             [
              0.5555555555555556,
              "#d8576b"
             ],
             [
              0.6666666666666666,
              "#ed7953"
             ],
             [
              0.7777777777777778,
              "#fb9f3a"
             ],
             [
              0.8888888888888888,
              "#fdca26"
             ],
             [
              1,
              "#f0f921"
             ]
            ],
            "type": "contour"
           }
          ],
          "contourcarpet": [
           {
            "colorbar": {
             "outlinewidth": 0,
             "ticks": ""
            },
            "type": "contourcarpet"
           }
          ],
          "heatmap": [
           {
            "colorbar": {
             "outlinewidth": 0,
             "ticks": ""
            },
            "colorscale": [
             [
              0,
              "#0d0887"
             ],
             [
              0.1111111111111111,
              "#46039f"
             ],
             [
              0.2222222222222222,
              "#7201a8"
             ],
             [
              0.3333333333333333,
              "#9c179e"
             ],
             [
              0.4444444444444444,
              "#bd3786"
             ],
             [
              0.5555555555555556,
              "#d8576b"
             ],
             [
              0.6666666666666666,
              "#ed7953"
             ],
             [
              0.7777777777777778,
              "#fb9f3a"
             ],
             [
              0.8888888888888888,
              "#fdca26"
             ],
             [
              1,
              "#f0f921"
             ]
            ],
            "type": "heatmap"
           }
          ],
          "heatmapgl": [
           {
            "colorbar": {
             "outlinewidth": 0,
             "ticks": ""
            },
            "colorscale": [
             [
              0,
              "#0d0887"
             ],
             [
              0.1111111111111111,
              "#46039f"
             ],
             [
              0.2222222222222222,
              "#7201a8"
             ],
             [
              0.3333333333333333,
              "#9c179e"
             ],
             [
              0.4444444444444444,
              "#bd3786"
             ],
             [
              0.5555555555555556,
              "#d8576b"
             ],
             [
              0.6666666666666666,
              "#ed7953"
             ],
             [
              0.7777777777777778,
              "#fb9f3a"
             ],
             [
              0.8888888888888888,
              "#fdca26"
             ],
             [
              1,
              "#f0f921"
             ]
            ],
            "type": "heatmapgl"
           }
          ],
          "histogram": [
           {
            "marker": {
             "pattern": {
              "fillmode": "overlay",
              "size": 10,
              "solidity": 0.2
             }
            },
            "type": "histogram"
           }
          ],
          "histogram2d": [
           {
            "colorbar": {
             "outlinewidth": 0,
             "ticks": ""
            },
            "colorscale": [
             [
              0,
              "#0d0887"
             ],
             [
              0.1111111111111111,
              "#46039f"
             ],
             [
              0.2222222222222222,
              "#7201a8"
             ],
             [
              0.3333333333333333,
              "#9c179e"
             ],
             [
              0.4444444444444444,
              "#bd3786"
             ],
             [
              0.5555555555555556,
              "#d8576b"
             ],
             [
              0.6666666666666666,
              "#ed7953"
             ],
             [
              0.7777777777777778,
              "#fb9f3a"
             ],
             [
              0.8888888888888888,
              "#fdca26"
             ],
             [
              1,
              "#f0f921"
             ]
            ],
            "type": "histogram2d"
           }
          ],
          "histogram2dcontour": [
           {
            "colorbar": {
             "outlinewidth": 0,
             "ticks": ""
            },
            "colorscale": [
             [
              0,
              "#0d0887"
             ],
             [
              0.1111111111111111,
              "#46039f"
             ],
             [
              0.2222222222222222,
              "#7201a8"
             ],
             [
              0.3333333333333333,
              "#9c179e"
             ],
             [
              0.4444444444444444,
              "#bd3786"
             ],
             [
              0.5555555555555556,
              "#d8576b"
             ],
             [
              0.6666666666666666,
              "#ed7953"
             ],
             [
              0.7777777777777778,
              "#fb9f3a"
             ],
             [
              0.8888888888888888,
              "#fdca26"
             ],
             [
              1,
              "#f0f921"
             ]
            ],
            "type": "histogram2dcontour"
           }
          ],
          "mesh3d": [
           {
            "colorbar": {
             "outlinewidth": 0,
             "ticks": ""
            },
            "type": "mesh3d"
           }
          ],
          "parcoords": [
           {
            "line": {
             "colorbar": {
              "outlinewidth": 0,
              "ticks": ""
             }
            },
            "type": "parcoords"
           }
          ],
          "pie": [
           {
            "automargin": true,
            "type": "pie"
           }
          ],
          "scatter": [
           {
            "fillpattern": {
             "fillmode": "overlay",
             "size": 10,
             "solidity": 0.2
            },
            "type": "scatter"
           }
          ],
          "scatter3d": [
           {
            "line": {
             "colorbar": {
              "outlinewidth": 0,
              "ticks": ""
             }
            },
            "marker": {
             "colorbar": {
              "outlinewidth": 0,
              "ticks": ""
             }
            },
            "type": "scatter3d"
           }
          ],
          "scattercarpet": [
           {
            "marker": {
             "colorbar": {
              "outlinewidth": 0,
              "ticks": ""
             }
            },
            "type": "scattercarpet"
           }
          ],
          "scattergeo": [
           {
            "marker": {
             "colorbar": {
              "outlinewidth": 0,
              "ticks": ""
             }
            },
            "type": "scattergeo"
           }
          ],
          "scattergl": [
           {
            "marker": {
             "colorbar": {
              "outlinewidth": 0,
              "ticks": ""
             }
            },
            "type": "scattergl"
           }
          ],
          "scattermapbox": [
           {
            "marker": {
             "colorbar": {
              "outlinewidth": 0,
              "ticks": ""
             }
            },
            "type": "scattermapbox"
           }
          ],
          "scatterpolar": [
           {
            "marker": {
             "colorbar": {
              "outlinewidth": 0,
              "ticks": ""
             }
            },
            "type": "scatterpolar"
           }
          ],
          "scatterpolargl": [
           {
            "marker": {
             "colorbar": {
              "outlinewidth": 0,
              "ticks": ""
             }
            },
            "type": "scatterpolargl"
           }
          ],
          "scatterternary": [
           {
            "marker": {
             "colorbar": {
              "outlinewidth": 0,
              "ticks": ""
             }
            },
            "type": "scatterternary"
           }
          ],
          "surface": [
           {
            "colorbar": {
             "outlinewidth": 0,
             "ticks": ""
            },
            "colorscale": [
             [
              0,
              "#0d0887"
             ],
             [
              0.1111111111111111,
              "#46039f"
             ],
             [
              0.2222222222222222,
              "#7201a8"
             ],
             [
              0.3333333333333333,
              "#9c179e"
             ],
             [
              0.4444444444444444,
              "#bd3786"
             ],
             [
              0.5555555555555556,
              "#d8576b"
             ],
             [
              0.6666666666666666,
              "#ed7953"
             ],
             [
              0.7777777777777778,
              "#fb9f3a"
             ],
             [
              0.8888888888888888,
              "#fdca26"
             ],
             [
              1,
              "#f0f921"
             ]
            ],
            "type": "surface"
           }
          ],
          "table": [
           {
            "cells": {
             "fill": {
              "color": "#EBF0F8"
             },
             "line": {
              "color": "white"
             }
            },
            "header": {
             "fill": {
              "color": "#C8D4E3"
             },
             "line": {
              "color": "white"
             }
            },
            "type": "table"
           }
          ]
         },
         "layout": {
          "annotationdefaults": {
           "arrowcolor": "#2a3f5f",
           "arrowhead": 0,
           "arrowwidth": 1
          },
          "autotypenumbers": "strict",
          "coloraxis": {
           "colorbar": {
            "outlinewidth": 0,
            "ticks": ""
           }
          },
          "colorscale": {
           "diverging": [
            [
             0,
             "#8e0152"
            ],
            [
             0.1,
             "#c51b7d"
            ],
            [
             0.2,
             "#de77ae"
            ],
            [
             0.3,
             "#f1b6da"
            ],
            [
             0.4,
             "#fde0ef"
            ],
            [
             0.5,
             "#f7f7f7"
            ],
            [
             0.6,
             "#e6f5d0"
            ],
            [
             0.7,
             "#b8e186"
            ],
            [
             0.8,
             "#7fbc41"
            ],
            [
             0.9,
             "#4d9221"
            ],
            [
             1,
             "#276419"
            ]
           ],
           "sequential": [
            [
             0,
             "#0d0887"
            ],
            [
             0.1111111111111111,
             "#46039f"
            ],
            [
             0.2222222222222222,
             "#7201a8"
            ],
            [
             0.3333333333333333,
             "#9c179e"
            ],
            [
             0.4444444444444444,
             "#bd3786"
            ],
            [
             0.5555555555555556,
             "#d8576b"
            ],
            [
             0.6666666666666666,
             "#ed7953"
            ],
            [
             0.7777777777777778,
             "#fb9f3a"
            ],
            [
             0.8888888888888888,
             "#fdca26"
            ],
            [
             1,
             "#f0f921"
            ]
           ],
           "sequentialminus": [
            [
             0,
             "#0d0887"
            ],
            [
             0.1111111111111111,
             "#46039f"
            ],
            [
             0.2222222222222222,
             "#7201a8"
            ],
            [
             0.3333333333333333,
             "#9c179e"
            ],
            [
             0.4444444444444444,
             "#bd3786"
            ],
            [
             0.5555555555555556,
             "#d8576b"
            ],
            [
             0.6666666666666666,
             "#ed7953"
            ],
            [
             0.7777777777777778,
             "#fb9f3a"
            ],
            [
             0.8888888888888888,
             "#fdca26"
            ],
            [
             1,
             "#f0f921"
            ]
           ]
          },
          "colorway": [
           "#636efa",
           "#EF553B",
           "#00cc96",
           "#ab63fa",
           "#FFA15A",
           "#19d3f3",
           "#FF6692",
           "#B6E880",
           "#FF97FF",
           "#FECB52"
          ],
          "font": {
           "color": "#2a3f5f"
          },
          "geo": {
           "bgcolor": "white",
           "lakecolor": "white",
           "landcolor": "#E5ECF6",
           "showlakes": true,
           "showland": true,
           "subunitcolor": "white"
          },
          "hoverlabel": {
           "align": "left"
          },
          "hovermode": "closest",
          "mapbox": {
           "style": "light"
          },
          "paper_bgcolor": "white",
          "plot_bgcolor": "#E5ECF6",
          "polar": {
           "angularaxis": {
            "gridcolor": "white",
            "linecolor": "white",
            "ticks": ""
           },
           "bgcolor": "#E5ECF6",
           "radialaxis": {
            "gridcolor": "white",
            "linecolor": "white",
            "ticks": ""
           }
          },
          "scene": {
           "xaxis": {
            "backgroundcolor": "#E5ECF6",
            "gridcolor": "white",
            "gridwidth": 2,
            "linecolor": "white",
            "showbackground": true,
            "ticks": "",
            "zerolinecolor": "white"
           },
           "yaxis": {
            "backgroundcolor": "#E5ECF6",
            "gridcolor": "white",
            "gridwidth": 2,
            "linecolor": "white",
            "showbackground": true,
            "ticks": "",
            "zerolinecolor": "white"
           },
           "zaxis": {
            "backgroundcolor": "#E5ECF6",
            "gridcolor": "white",
            "gridwidth": 2,
            "linecolor": "white",
            "showbackground": true,
            "ticks": "",
            "zerolinecolor": "white"
           }
          },
          "shapedefaults": {
           "line": {
            "color": "#2a3f5f"
           }
          },
          "ternary": {
           "aaxis": {
            "gridcolor": "white",
            "linecolor": "white",
            "ticks": ""
           },
           "baxis": {
            "gridcolor": "white",
            "linecolor": "white",
            "ticks": ""
           },
           "bgcolor": "#E5ECF6",
           "caxis": {
            "gridcolor": "white",
            "linecolor": "white",
            "ticks": ""
           }
          },
          "title": {
           "x": 0.05
          },
          "xaxis": {
           "automargin": true,
           "gridcolor": "white",
           "linecolor": "white",
           "ticks": "",
           "title": {
            "standoff": 15
           },
           "zerolinecolor": "white",
           "zerolinewidth": 2
          },
          "yaxis": {
           "automargin": true,
           "gridcolor": "white",
           "linecolor": "white",
           "ticks": "",
           "title": {
            "standoff": 15
           },
           "zerolinecolor": "white",
           "zerolinewidth": 2
          }
         }
        }
       }
      }
     },
     "metadata": {},
     "output_type": "display_data"
    }
   ],
   "source": [
    "plotter = PolarityPlotter() \n",
    "plotter.plot_word_polarity(words, polar_dimensions)\n",
    "plotter.plot_word_polarity_2d(words, polar_dimensions)\n",
    "plotter.plot_word_polarity_polar_fig(words, polar_dimensions)"
   ]
  },
  {
   "cell_type": "code",
   "execution_count": 15,
   "metadata": {},
   "outputs": [
    {
     "name": "stderr",
     "output_type": "stream",
     "text": [
      "Some weights of the model checkpoint at bert-base-uncased were not used when initializing BertModel: ['cls.predictions.transform.LayerNorm.weight', 'cls.predictions.transform.LayerNorm.bias', 'cls.predictions.transform.dense.weight', 'cls.predictions.bias', 'cls.predictions.transform.dense.bias', 'cls.seq_relationship.bias', 'cls.predictions.decoder.weight', 'cls.seq_relationship.weight']\n",
      "- This IS expected if you are initializing BertModel from the checkpoint of a model trained on another task or with another architecture (e.g. initializing a BertForSequenceClassification model from a BertForPreTraining model).\n",
      "- This IS NOT expected if you are initializing BertModel from the checkpoint of a model that you expect to be exactly identical (initializing a BertForSequenceClassification model from a BertForSequenceClassification model).\n"
     ]
    },
    {
     "name": "stdout",
     "output_type": "stream",
     "text": [
      "{\"['cold.a.01', 'hot.a.01']\": {'cold': ['a cold climate ', 'a cold room ', 'dinner has gotten cold ', 'cold fingers ', 'if you are cold  turn up the heat ', 'a cold beer '], 'hot': ['hot stove ', 'hot water ', 'a hot August day ', 'a hot stuffy room ', 'she s hot and tired ', 'a hot forehead ']}, \"['bad.a.01', 'good.a.01']\": {'bad': ['a bad report card ', 'his sloppy appearance made a bad impression ', 'a bad little boy ', 'clothes in bad shape ', 'a bad cut ', 'bad luck ', 'the news was very bad ', 'the reviews were bad ', 'the pay is bad ', 'it was a bad light for reading ', 'the movie was a bad choice '], 'good': ['good news from the hospital ', 'a good report card ', 'when she was good she was very very good ', 'a good knife is one good for cutting ', 'this stump will make a good picnic table ', 'a good check ', 'a good joke ', 'a good exterior paint ', 'a good secretary ', 'a good dress for the office ']}, \"['intelligent.a.01', 'unintelligent.a.01']\": {'intelligent': ['is there intelligent life in the universe  ', 'an intelligent question '], 'unintelligent': ['a dull job with lazy and unintelligent co workers ']}, \"['capable.a.01', 'incapable.a.01']\": {'capable': ['capable of winning ', 'capable of hard work ', 'capable of walking on two feet '], 'incapable': ['incapable of carrying a tune ', 'he is incapable of understanding the matter ', 'incapable of doing the work ']}}\n",
      "Loading antonyms from ../SensePOLAR-TeamProject/antonyms/lookup_anto_example_dict.pkl\n",
      "Index: 0\n",
      "[[['cold', ['a cold climate ', 'a cold room ', 'dinner has gotten cold ', 'cold fingers ', 'if you are cold  turn up the heat ', 'a cold beer ']], ['hot', ['hot stove ', 'hot water ', 'a hot August day ', 'a hot stuffy room ', 'she s hot and tired ', 'a hot forehead ']]], [['bad', ['a bad report card ', 'his sloppy appearance made a bad impression ', 'a bad little boy ', 'clothes in bad shape ', 'a bad cut ', 'bad luck ', 'the news was very bad ', 'the reviews were bad ', 'the pay is bad ', 'it was a bad light for reading ', 'the movie was a bad choice ']], ['good', ['good news from the hospital ', 'a good report card ', 'when she was good she was very very good ', 'a good knife is one good for cutting ', 'this stump will make a good picnic table ', 'a good check ', 'a good joke ', 'a good exterior paint ', 'a good secretary ', 'a good dress for the office ']]], [['intelligent', ['is there intelligent life in the universe  ', 'an intelligent question ']], ['unintelligent', ['a dull job with lazy and unintelligent co workers ']]], [['capable', ['capable of winning ', 'capable of hard work ', 'capable of walking on two feet ']], ['incapable', ['incapable of carrying a tune ', 'he is incapable of understanding the matter ', 'incapable of doing the work ']]]]\n",
      "Top: 1\n",
      "Dimension: cold <------> hot\n",
      "having a low or inadequate temperature or feeling a sensation of coldness or having been made cold by e.g. ice or refrigeration used of physical heat; having a high or higher than desirable temperature or giving off heat or feeling or causing a sensation of heat or burning\n",
      "Value:3.1664366722106934\n",
      "\n",
      "\n",
      "Index: 2\n",
      "[[['cold', ['a cold climate ', 'a cold room ', 'dinner has gotten cold ', 'cold fingers ', 'if you are cold  turn up the heat ', 'a cold beer ']], ['hot', ['hot stove ', 'hot water ', 'a hot August day ', 'a hot stuffy room ', 'she s hot and tired ', 'a hot forehead ']]], [['bad', ['a bad report card ', 'his sloppy appearance made a bad impression ', 'a bad little boy ', 'clothes in bad shape ', 'a bad cut ', 'bad luck ', 'the news was very bad ', 'the reviews were bad ', 'the pay is bad ', 'it was a bad light for reading ', 'the movie was a bad choice ']], ['good', ['good news from the hospital ', 'a good report card ', 'when she was good she was very very good ', 'a good knife is one good for cutting ', 'this stump will make a good picnic table ', 'a good check ', 'a good joke ', 'a good exterior paint ', 'a good secretary ', 'a good dress for the office ']]], [['intelligent', ['is there intelligent life in the universe  ', 'an intelligent question ']], ['unintelligent', ['a dull job with lazy and unintelligent co workers ']]], [['capable', ['capable of winning ', 'capable of hard work ', 'capable of walking on two feet ']], ['incapable', ['incapable of carrying a tune ', 'he is incapable of understanding the matter ', 'incapable of doing the work ']]]]\n",
      "Top: 2\n",
      "Dimension: intelligent <------> unintelligent\n",
      "having the capacity for thought and reason especially to a high degree lacking intelligence\n",
      "Value: -1.3334509\n",
      "\n",
      "\n",
      "Index: 3\n",
      "[[['cold', ['a cold climate ', 'a cold room ', 'dinner has gotten cold ', 'cold fingers ', 'if you are cold  turn up the heat ', 'a cold beer ']], ['hot', ['hot stove ', 'hot water ', 'a hot August day ', 'a hot stuffy room ', 'she s hot and tired ', 'a hot forehead ']]], [['bad', ['a bad report card ', 'his sloppy appearance made a bad impression ', 'a bad little boy ', 'clothes in bad shape ', 'a bad cut ', 'bad luck ', 'the news was very bad ', 'the reviews were bad ', 'the pay is bad ', 'it was a bad light for reading ', 'the movie was a bad choice ']], ['good', ['good news from the hospital ', 'a good report card ', 'when she was good she was very very good ', 'a good knife is one good for cutting ', 'this stump will make a good picnic table ', 'a good check ', 'a good joke ', 'a good exterior paint ', 'a good secretary ', 'a good dress for the office ']]], [['intelligent', ['is there intelligent life in the universe  ', 'an intelligent question ']], ['unintelligent', ['a dull job with lazy and unintelligent co workers ']]], [['capable', ['capable of winning ', 'capable of hard work ', 'capable of walking on two feet ']], ['incapable', ['incapable of carrying a tune ', 'he is incapable of understanding the matter ', 'incapable of doing the work ']]]]\n",
      "Top: 3\n",
      "Dimension: capable <------> incapable\n",
      "(usually followed by `of') having capacity or ability (followed by `of') lacking capacity or ability\n",
      "Value:0.23145735263824463\n",
      "\n",
      "\n",
      "Index: 1\n",
      "[[['cold', ['a cold climate ', 'a cold room ', 'dinner has gotten cold ', 'cold fingers ', 'if you are cold  turn up the heat ', 'a cold beer ']], ['hot', ['hot stove ', 'hot water ', 'a hot August day ', 'a hot stuffy room ', 'she s hot and tired ', 'a hot forehead ']]], [['bad', ['a bad report card ', 'his sloppy appearance made a bad impression ', 'a bad little boy ', 'clothes in bad shape ', 'a bad cut ', 'bad luck ', 'the news was very bad ', 'the reviews were bad ', 'the pay is bad ', 'it was a bad light for reading ', 'the movie was a bad choice ']], ['good', ['good news from the hospital ', 'a good report card ', 'when she was good she was very very good ', 'a good knife is one good for cutting ', 'this stump will make a good picnic table ', 'a good check ', 'a good joke ', 'a good exterior paint ', 'a good secretary ', 'a good dress for the office ']]], [['intelligent', ['is there intelligent life in the universe  ', 'an intelligent question ']], ['unintelligent', ['a dull job with lazy and unintelligent co workers ']]], [['capable', ['capable of winning ', 'capable of hard work ', 'capable of walking on two feet ']], ['incapable', ['incapable of carrying a tune ', 'he is incapable of understanding the matter ', 'incapable of doing the work ']]]]\n",
      "Top: 4\n",
      "Dimension: bad <------> good\n",
      "having undesirable or negative qualities having desirable or positive qualities especially those suitable for a thing specified\n",
      "Value: -0.16076827\n",
      "\n",
      "\n",
      "Index: 0\n",
      "[[['cold', ['a cold climate ', 'a cold room ', 'dinner has gotten cold ', 'cold fingers ', 'if you are cold  turn up the heat ', 'a cold beer ']], ['hot', ['hot stove ', 'hot water ', 'a hot August day ', 'a hot stuffy room ', 'she s hot and tired ', 'a hot forehead ']]], [['bad', ['a bad report card ', 'his sloppy appearance made a bad impression ', 'a bad little boy ', 'clothes in bad shape ', 'a bad cut ', 'bad luck ', 'the news was very bad ', 'the reviews were bad ', 'the pay is bad ', 'it was a bad light for reading ', 'the movie was a bad choice ']], ['good', ['good news from the hospital ', 'a good report card ', 'when she was good she was very very good ', 'a good knife is one good for cutting ', 'this stump will make a good picnic table ', 'a good check ', 'a good joke ', 'a good exterior paint ', 'a good secretary ', 'a good dress for the office ']]], [['intelligent', ['is there intelligent life in the universe  ', 'an intelligent question ']], ['unintelligent', ['a dull job with lazy and unintelligent co workers ']]], [['capable', ['capable of winning ', 'capable of hard work ', 'capable of walking on two feet ']], ['incapable', ['incapable of carrying a tune ', 'he is incapable of understanding the matter ', 'incapable of doing the work ']]]]\n",
      "Top: 1\n",
      "Dimension: cold <------> hot\n",
      "having a low or inadequate temperature or feeling a sensation of coldness or having been made cold by e.g. ice or refrigeration used of physical heat; having a high or higher than desirable temperature or giving off heat or feeling or causing a sensation of heat or burning\n",
      "Value:2.827411651611328\n",
      "\n",
      "\n",
      "Index: 3\n",
      "[[['cold', ['a cold climate ', 'a cold room ', 'dinner has gotten cold ', 'cold fingers ', 'if you are cold  turn up the heat ', 'a cold beer ']], ['hot', ['hot stove ', 'hot water ', 'a hot August day ', 'a hot stuffy room ', 'she s hot and tired ', 'a hot forehead ']]], [['bad', ['a bad report card ', 'his sloppy appearance made a bad impression ', 'a bad little boy ', 'clothes in bad shape ', 'a bad cut ', 'bad luck ', 'the news was very bad ', 'the reviews were bad ', 'the pay is bad ', 'it was a bad light for reading ', 'the movie was a bad choice ']], ['good', ['good news from the hospital ', 'a good report card ', 'when she was good she was very very good ', 'a good knife is one good for cutting ', 'this stump will make a good picnic table ', 'a good check ', 'a good joke ', 'a good exterior paint ', 'a good secretary ', 'a good dress for the office ']]], [['intelligent', ['is there intelligent life in the universe  ', 'an intelligent question ']], ['unintelligent', ['a dull job with lazy and unintelligent co workers ']]], [['capable', ['capable of winning ', 'capable of hard work ', 'capable of walking on two feet ']], ['incapable', ['incapable of carrying a tune ', 'he is incapable of understanding the matter ', 'incapable of doing the work ']]]]\n",
      "Top: 2\n",
      "Dimension: capable <------> incapable\n",
      "(usually followed by `of') having capacity or ability (followed by `of') lacking capacity or ability\n",
      "Value: -2.6643844\n",
      "\n",
      "\n",
      "Index: 2\n",
      "[[['cold', ['a cold climate ', 'a cold room ', 'dinner has gotten cold ', 'cold fingers ', 'if you are cold  turn up the heat ', 'a cold beer ']], ['hot', ['hot stove ', 'hot water ', 'a hot August day ', 'a hot stuffy room ', 'she s hot and tired ', 'a hot forehead ']]], [['bad', ['a bad report card ', 'his sloppy appearance made a bad impression ', 'a bad little boy ', 'clothes in bad shape ', 'a bad cut ', 'bad luck ', 'the news was very bad ', 'the reviews were bad ', 'the pay is bad ', 'it was a bad light for reading ', 'the movie was a bad choice ']], ['good', ['good news from the hospital ', 'a good report card ', 'when she was good she was very very good ', 'a good knife is one good for cutting ', 'this stump will make a good picnic table ', 'a good check ', 'a good joke ', 'a good exterior paint ', 'a good secretary ', 'a good dress for the office ']]], [['intelligent', ['is there intelligent life in the universe  ', 'an intelligent question ']], ['unintelligent', ['a dull job with lazy and unintelligent co workers ']]], [['capable', ['capable of winning ', 'capable of hard work ', 'capable of walking on two feet ']], ['incapable', ['incapable of carrying a tune ', 'he is incapable of understanding the matter ', 'incapable of doing the work ']]]]\n",
      "Top: 3\n",
      "Dimension: intelligent <------> unintelligent\n",
      "having the capacity for thought and reason especially to a high degree lacking intelligence\n",
      "Value: -2.0595617\n",
      "\n",
      "\n",
      "Index: 1\n",
      "[[['cold', ['a cold climate ', 'a cold room ', 'dinner has gotten cold ', 'cold fingers ', 'if you are cold  turn up the heat ', 'a cold beer ']], ['hot', ['hot stove ', 'hot water ', 'a hot August day ', 'a hot stuffy room ', 'she s hot and tired ', 'a hot forehead ']]], [['bad', ['a bad report card ', 'his sloppy appearance made a bad impression ', 'a bad little boy ', 'clothes in bad shape ', 'a bad cut ', 'bad luck ', 'the news was very bad ', 'the reviews were bad ', 'the pay is bad ', 'it was a bad light for reading ', 'the movie was a bad choice ']], ['good', ['good news from the hospital ', 'a good report card ', 'when she was good she was very very good ', 'a good knife is one good for cutting ', 'this stump will make a good picnic table ', 'a good check ', 'a good joke ', 'a good exterior paint ', 'a good secretary ', 'a good dress for the office ']]], [['intelligent', ['is there intelligent life in the universe  ', 'an intelligent question ']], ['unintelligent', ['a dull job with lazy and unintelligent co workers ']]], [['capable', ['capable of winning ', 'capable of hard work ', 'capable of walking on two feet ']], ['incapable', ['incapable of carrying a tune ', 'he is incapable of understanding the matter ', 'incapable of doing the work ']]]]\n",
      "Top: 4\n",
      "Dimension: bad <------> good\n",
      "having undesirable or negative qualities having desirable or positive qualities especially those suitable for a thing specified\n",
      "Value:0.2815138101577759\n",
      "\n",
      "\n"
     ]
    }
   ],
   "source": [
    "out_path = '../SensePOLAR-TeamProject/antonyms/'\n",
    "# antonym_path = \"data_file.xlsx\"\n",
    "dims = [['hot', 'cold'], ['bad', 'good'], ['intelligent', 'unintelligent'], ['capable', 'incapable']]\n",
    "\n",
    "dictionary = Dictionary('wordnet', api_key='')    \n",
    "# dictionary = Dictionary('dictionaryapi', api_key='b4b51989-1b9d-4690-8975-4a83df13efc4 ')\n",
    "# dictionary = Dictionary('wordnik', api_key='6488daf20061aa3e6200c013b470fa8ef1f2678c19b36ef05')\n",
    "# lookupSpace = LookupCreator(dictionary, out_path, antonym_pairs=dims)\n",
    "# lookupSpace.create_lookup_files()\n",
    "\n",
    "antonym_path = out_path + \"polar_dimensions.pkl\"\n",
    "\n",
    "model = BERTWordEmbeddings()\n",
    "\n",
    "pdc = PolarDimensions(model, antonym_path=out_path + \"antonym_wordnet_example_sentences_readable_extended.txt\")\n",
    "pdc.create_polar_dimensions(out_path)\n",
    "\n",
    "words, context = ['fire', \"sun\"], [\"the fire is burning\", \"sun is shining\"]\n",
    "wp = WordPolarity(model, antonym_path=antonym_path,lookup_path=out_path, method='projection', number_polar=4)\n",
    "\n",
    "polar_dimensions = []\n",
    "for word, context in zip(words, context):\n",
    "    dimension = wp.analyze_word(word, context)\n",
    "    polar_dimensions.append(dimension)"
   ]
  },
  {
   "cell_type": "code",
   "execution_count": 16,
   "metadata": {},
   "outputs": [
    {
     "data": {
      "application/vnd.plotly.v1+json": {
       "config": {
        "plotlyServerURL": "https://plot.ly"
       },
       "data": [
        {
         "legendgroup": "fire",
         "marker": {
          "color": "rgb(68, 1, 84)",
          "size": 20,
          "symbol": "square"
         },
         "mode": "markers",
         "name": "fire",
         "showlegend": true,
         "type": "scatter",
         "x": [
          3.1664366722106934
         ],
         "y": [
          0.01
         ]
        },
        {
         "legendgroup": "fire",
         "line": {
          "color": "rgb(68, 1, 84)",
          "width": 2
         },
         "mode": "lines",
         "showlegend": false,
         "type": "scatter",
         "x": [
          3.1664366722106934,
          0
         ],
         "y": [
          0.01,
          0.01
         ]
        },
        {
         "legendgroup": "sun",
         "marker": {
          "color": "rgb(253, 231, 37)",
          "size": 20,
          "symbol": "square"
         },
         "mode": "markers",
         "name": "sun",
         "showlegend": true,
         "type": "scatter",
         "x": [
          2.827411651611328
         ],
         "y": [
          0.01
         ]
        },
        {
         "legendgroup": "sun",
         "line": {
          "color": "rgb(253, 231, 37)",
          "width": 2
         },
         "mode": "lines",
         "showlegend": false,
         "type": "scatter",
         "x": [
          2.827411651611328,
          0
         ],
         "y": [
          0.01,
          0.01
         ]
        },
        {
         "legendgroup": "fire",
         "marker": {
          "color": "rgb(68, 1, 84)",
          "size": 20,
          "symbol": "square"
         },
         "mode": "markers",
         "name": "fire",
         "showlegend": false,
         "type": "scatter",
         "x": [
          -1.3334509134292603
         ],
         "y": [
          0.115
         ]
        },
        {
         "legendgroup": "fire",
         "line": {
          "color": "rgb(68, 1, 84)",
          "width": 2
         },
         "mode": "lines",
         "showlegend": false,
         "type": "scatter",
         "x": [
          -1.3334509134292603,
          0
         ],
         "y": [
          0.115,
          0.115
         ]
        },
        {
         "legendgroup": "sun",
         "marker": {
          "color": "rgb(253, 231, 37)",
          "size": 20,
          "symbol": "square"
         },
         "mode": "markers",
         "name": "sun",
         "showlegend": false,
         "type": "scatter",
         "x": [
          -2.0595617294311523
         ],
         "y": [
          0.115
         ]
        },
        {
         "legendgroup": "sun",
         "line": {
          "color": "rgb(253, 231, 37)",
          "width": 2
         },
         "mode": "lines",
         "showlegend": false,
         "type": "scatter",
         "x": [
          -2.0595617294311523,
          0
         ],
         "y": [
          0.115,
          0.115
         ]
        },
        {
         "legendgroup": "fire",
         "marker": {
          "color": "rgb(68, 1, 84)",
          "size": 20,
          "symbol": "square"
         },
         "mode": "markers",
         "name": "fire",
         "showlegend": false,
         "type": "scatter",
         "x": [
          0.23145735263824463
         ],
         "y": [
          0.22000000000000003
         ]
        },
        {
         "legendgroup": "fire",
         "line": {
          "color": "rgb(68, 1, 84)",
          "width": 2
         },
         "mode": "lines",
         "showlegend": false,
         "type": "scatter",
         "x": [
          0.23145735263824463,
          0
         ],
         "y": [
          0.22000000000000003,
          0.22000000000000003
         ]
        },
        {
         "legendgroup": "sun",
         "marker": {
          "color": "rgb(253, 231, 37)",
          "size": 20,
          "symbol": "square"
         },
         "mode": "markers",
         "name": "sun",
         "showlegend": false,
         "type": "scatter",
         "x": [
          -2.664384365081787
         ],
         "y": [
          0.22000000000000003
         ]
        },
        {
         "legendgroup": "sun",
         "line": {
          "color": "rgb(253, 231, 37)",
          "width": 2
         },
         "mode": "lines",
         "showlegend": false,
         "type": "scatter",
         "x": [
          -2.664384365081787,
          0
         ],
         "y": [
          0.22000000000000003,
          0.22000000000000003
         ]
        },
        {
         "legendgroup": "fire",
         "marker": {
          "color": "rgb(68, 1, 84)",
          "size": 20,
          "symbol": "square"
         },
         "mode": "markers",
         "name": "fire",
         "showlegend": false,
         "type": "scatter",
         "x": [
          -0.1607682704925537
         ],
         "y": [
          0.32500000000000007
         ]
        },
        {
         "legendgroup": "fire",
         "line": {
          "color": "rgb(68, 1, 84)",
          "width": 2
         },
         "mode": "lines",
         "showlegend": false,
         "type": "scatter",
         "x": [
          -0.1607682704925537,
          0
         ],
         "y": [
          0.32500000000000007,
          0.32500000000000007
         ]
        },
        {
         "legendgroup": "sun",
         "marker": {
          "color": "rgb(253, 231, 37)",
          "size": 20,
          "symbol": "square"
         },
         "mode": "markers",
         "name": "sun",
         "showlegend": false,
         "type": "scatter",
         "x": [
          0.2815138101577759
         ],
         "y": [
          0.32500000000000007
         ]
        },
        {
         "legendgroup": "sun",
         "line": {
          "color": "rgb(253, 231, 37)",
          "width": 2
         },
         "mode": "lines",
         "showlegend": false,
         "type": "scatter",
         "x": [
          0.2815138101577759,
          0
         ],
         "y": [
          0.32500000000000007,
          0.32500000000000007
         ]
        }
       ],
       "layout": {
        "annotations": [
         {
          "font": {
           "size": 18
          },
          "showarrow": false,
          "text": "cold",
          "x": -3.3664366722106935,
          "xanchor": "right",
          "xref": "x",
          "y": 0.01,
          "yref": "y"
         },
         {
          "font": {
           "size": 18
          },
          "showarrow": false,
          "text": "hot",
          "x": 3.3664366722106935,
          "xanchor": "left",
          "xref": "x",
          "y": 0.01,
          "yref": "y"
         },
         {
          "font": {
           "size": 18
          },
          "showarrow": false,
          "text": "intelligent",
          "x": -3.3664366722106935,
          "xanchor": "right",
          "xref": "x",
          "y": 0.115,
          "yref": "y"
         },
         {
          "font": {
           "size": 18
          },
          "showarrow": false,
          "text": "unintelligent",
          "x": 3.3664366722106935,
          "xanchor": "left",
          "xref": "x",
          "y": 0.115,
          "yref": "y"
         },
         {
          "font": {
           "size": 18
          },
          "showarrow": false,
          "text": "capable",
          "x": -3.3664366722106935,
          "xanchor": "right",
          "xref": "x",
          "y": 0.22000000000000003,
          "yref": "y"
         },
         {
          "font": {
           "size": 18
          },
          "showarrow": false,
          "text": "incapable",
          "x": 3.3664366722106935,
          "xanchor": "left",
          "xref": "x",
          "y": 0.22000000000000003,
          "yref": "y"
         },
         {
          "font": {
           "size": 18
          },
          "showarrow": false,
          "text": "bad",
          "x": -3.3664366722106935,
          "xanchor": "right",
          "xref": "x",
          "y": 0.32500000000000007,
          "yref": "y"
         },
         {
          "font": {
           "size": 18
          },
          "showarrow": false,
          "text": "good",
          "x": 3.3664366722106935,
          "xanchor": "left",
          "xref": "x",
          "y": 0.32500000000000007,
          "yref": "y"
         }
        ],
        "shapes": [
         {
          "line": {
           "color": "black",
           "width": 1
          },
          "type": "line",
          "x0": -3.2664366722106934,
          "x1": 3.2664366722106934,
          "y0": 0,
          "y1": 0
         },
         {
          "line": {
           "color": "black",
           "width": 1
          },
          "type": "line",
          "x0": -3.2664366722106934,
          "x1": -3.2664366722106934,
          "y0": 0,
          "y1": 0.4
         },
         {
          "line": {
           "color": "black",
           "width": 1
          },
          "type": "line",
          "x0": 3.2664366722106934,
          "x1": 3.2664366722106934,
          "y0": 0,
          "y1": 0.4
         },
         {
          "line": {
           "color": "black",
           "dash": "dash",
           "width": 1
          },
          "type": "line",
          "x0": 0,
          "x1": 0,
          "y0": 0,
          "y1": 0.4
         }
        ],
        "template": {
         "data": {
          "bar": [
           {
            "error_x": {
             "color": "#2a3f5f"
            },
            "error_y": {
             "color": "#2a3f5f"
            },
            "marker": {
             "line": {
              "color": "#E5ECF6",
              "width": 0.5
             },
             "pattern": {
              "fillmode": "overlay",
              "size": 10,
              "solidity": 0.2
             }
            },
            "type": "bar"
           }
          ],
          "barpolar": [
           {
            "marker": {
             "line": {
              "color": "#E5ECF6",
              "width": 0.5
             },
             "pattern": {
              "fillmode": "overlay",
              "size": 10,
              "solidity": 0.2
             }
            },
            "type": "barpolar"
           }
          ],
          "carpet": [
           {
            "aaxis": {
             "endlinecolor": "#2a3f5f",
             "gridcolor": "white",
             "linecolor": "white",
             "minorgridcolor": "white",
             "startlinecolor": "#2a3f5f"
            },
            "baxis": {
             "endlinecolor": "#2a3f5f",
             "gridcolor": "white",
             "linecolor": "white",
             "minorgridcolor": "white",
             "startlinecolor": "#2a3f5f"
            },
            "type": "carpet"
           }
          ],
          "choropleth": [
           {
            "colorbar": {
             "outlinewidth": 0,
             "ticks": ""
            },
            "type": "choropleth"
           }
          ],
          "contour": [
           {
            "colorbar": {
             "outlinewidth": 0,
             "ticks": ""
            },
            "colorscale": [
             [
              0,
              "#0d0887"
             ],
             [
              0.1111111111111111,
              "#46039f"
             ],
             [
              0.2222222222222222,
              "#7201a8"
             ],
             [
              0.3333333333333333,
              "#9c179e"
             ],
             [
              0.4444444444444444,
              "#bd3786"
             ],
             [
              0.5555555555555556,
              "#d8576b"
             ],
             [
              0.6666666666666666,
              "#ed7953"
             ],
             [
              0.7777777777777778,
              "#fb9f3a"
             ],
             [
              0.8888888888888888,
              "#fdca26"
             ],
             [
              1,
              "#f0f921"
             ]
            ],
            "type": "contour"
           }
          ],
          "contourcarpet": [
           {
            "colorbar": {
             "outlinewidth": 0,
             "ticks": ""
            },
            "type": "contourcarpet"
           }
          ],
          "heatmap": [
           {
            "colorbar": {
             "outlinewidth": 0,
             "ticks": ""
            },
            "colorscale": [
             [
              0,
              "#0d0887"
             ],
             [
              0.1111111111111111,
              "#46039f"
             ],
             [
              0.2222222222222222,
              "#7201a8"
             ],
             [
              0.3333333333333333,
              "#9c179e"
             ],
             [
              0.4444444444444444,
              "#bd3786"
             ],
             [
              0.5555555555555556,
              "#d8576b"
             ],
             [
              0.6666666666666666,
              "#ed7953"
             ],
             [
              0.7777777777777778,
              "#fb9f3a"
             ],
             [
              0.8888888888888888,
              "#fdca26"
             ],
             [
              1,
              "#f0f921"
             ]
            ],
            "type": "heatmap"
           }
          ],
          "heatmapgl": [
           {
            "colorbar": {
             "outlinewidth": 0,
             "ticks": ""
            },
            "colorscale": [
             [
              0,
              "#0d0887"
             ],
             [
              0.1111111111111111,
              "#46039f"
             ],
             [
              0.2222222222222222,
              "#7201a8"
             ],
             [
              0.3333333333333333,
              "#9c179e"
             ],
             [
              0.4444444444444444,
              "#bd3786"
             ],
             [
              0.5555555555555556,
              "#d8576b"
             ],
             [
              0.6666666666666666,
              "#ed7953"
             ],
             [
              0.7777777777777778,
              "#fb9f3a"
             ],
             [
              0.8888888888888888,
              "#fdca26"
             ],
             [
              1,
              "#f0f921"
             ]
            ],
            "type": "heatmapgl"
           }
          ],
          "histogram": [
           {
            "marker": {
             "pattern": {
              "fillmode": "overlay",
              "size": 10,
              "solidity": 0.2
             }
            },
            "type": "histogram"
           }
          ],
          "histogram2d": [
           {
            "colorbar": {
             "outlinewidth": 0,
             "ticks": ""
            },
            "colorscale": [
             [
              0,
              "#0d0887"
             ],
             [
              0.1111111111111111,
              "#46039f"
             ],
             [
              0.2222222222222222,
              "#7201a8"
             ],
             [
              0.3333333333333333,
              "#9c179e"
             ],
             [
              0.4444444444444444,
              "#bd3786"
             ],
             [
              0.5555555555555556,
              "#d8576b"
             ],
             [
              0.6666666666666666,
              "#ed7953"
             ],
             [
              0.7777777777777778,
              "#fb9f3a"
             ],
             [
              0.8888888888888888,
              "#fdca26"
             ],
             [
              1,
              "#f0f921"
             ]
            ],
            "type": "histogram2d"
           }
          ],
          "histogram2dcontour": [
           {
            "colorbar": {
             "outlinewidth": 0,
             "ticks": ""
            },
            "colorscale": [
             [
              0,
              "#0d0887"
             ],
             [
              0.1111111111111111,
              "#46039f"
             ],
             [
              0.2222222222222222,
              "#7201a8"
             ],
             [
              0.3333333333333333,
              "#9c179e"
             ],
             [
              0.4444444444444444,
              "#bd3786"
             ],
             [
              0.5555555555555556,
              "#d8576b"
             ],
             [
              0.6666666666666666,
              "#ed7953"
             ],
             [
              0.7777777777777778,
              "#fb9f3a"
             ],
             [
              0.8888888888888888,
              "#fdca26"
             ],
             [
              1,
              "#f0f921"
             ]
            ],
            "type": "histogram2dcontour"
           }
          ],
          "mesh3d": [
           {
            "colorbar": {
             "outlinewidth": 0,
             "ticks": ""
            },
            "type": "mesh3d"
           }
          ],
          "parcoords": [
           {
            "line": {
             "colorbar": {
              "outlinewidth": 0,
              "ticks": ""
             }
            },
            "type": "parcoords"
           }
          ],
          "pie": [
           {
            "automargin": true,
            "type": "pie"
           }
          ],
          "scatter": [
           {
            "fillpattern": {
             "fillmode": "overlay",
             "size": 10,
             "solidity": 0.2
            },
            "type": "scatter"
           }
          ],
          "scatter3d": [
           {
            "line": {
             "colorbar": {
              "outlinewidth": 0,
              "ticks": ""
             }
            },
            "marker": {
             "colorbar": {
              "outlinewidth": 0,
              "ticks": ""
             }
            },
            "type": "scatter3d"
           }
          ],
          "scattercarpet": [
           {
            "marker": {
             "colorbar": {
              "outlinewidth": 0,
              "ticks": ""
             }
            },
            "type": "scattercarpet"
           }
          ],
          "scattergeo": [
           {
            "marker": {
             "colorbar": {
              "outlinewidth": 0,
              "ticks": ""
             }
            },
            "type": "scattergeo"
           }
          ],
          "scattergl": [
           {
            "marker": {
             "colorbar": {
              "outlinewidth": 0,
              "ticks": ""
             }
            },
            "type": "scattergl"
           }
          ],
          "scattermapbox": [
           {
            "marker": {
             "colorbar": {
              "outlinewidth": 0,
              "ticks": ""
             }
            },
            "type": "scattermapbox"
           }
          ],
          "scatterpolar": [
           {
            "marker": {
             "colorbar": {
              "outlinewidth": 0,
              "ticks": ""
             }
            },
            "type": "scatterpolar"
           }
          ],
          "scatterpolargl": [
           {
            "marker": {
             "colorbar": {
              "outlinewidth": 0,
              "ticks": ""
             }
            },
            "type": "scatterpolargl"
           }
          ],
          "scatterternary": [
           {
            "marker": {
             "colorbar": {
              "outlinewidth": 0,
              "ticks": ""
             }
            },
            "type": "scatterternary"
           }
          ],
          "surface": [
           {
            "colorbar": {
             "outlinewidth": 0,
             "ticks": ""
            },
            "colorscale": [
             [
              0,
              "#0d0887"
             ],
             [
              0.1111111111111111,
              "#46039f"
             ],
             [
              0.2222222222222222,
              "#7201a8"
             ],
             [
              0.3333333333333333,
              "#9c179e"
             ],
             [
              0.4444444444444444,
              "#bd3786"
             ],
             [
              0.5555555555555556,
              "#d8576b"
             ],
             [
              0.6666666666666666,
              "#ed7953"
             ],
             [
              0.7777777777777778,
              "#fb9f3a"
             ],
             [
              0.8888888888888888,
              "#fdca26"
             ],
             [
              1,
              "#f0f921"
             ]
            ],
            "type": "surface"
           }
          ],
          "table": [
           {
            "cells": {
             "fill": {
              "color": "#EBF0F8"
             },
             "line": {
              "color": "white"
             }
            },
            "header": {
             "fill": {
              "color": "#C8D4E3"
             },
             "line": {
              "color": "white"
             }
            },
            "type": "table"
           }
          ]
         },
         "layout": {
          "annotationdefaults": {
           "arrowcolor": "#2a3f5f",
           "arrowhead": 0,
           "arrowwidth": 1
          },
          "autotypenumbers": "strict",
          "coloraxis": {
           "colorbar": {
            "outlinewidth": 0,
            "ticks": ""
           }
          },
          "colorscale": {
           "diverging": [
            [
             0,
             "#8e0152"
            ],
            [
             0.1,
             "#c51b7d"
            ],
            [
             0.2,
             "#de77ae"
            ],
            [
             0.3,
             "#f1b6da"
            ],
            [
             0.4,
             "#fde0ef"
            ],
            [
             0.5,
             "#f7f7f7"
            ],
            [
             0.6,
             "#e6f5d0"
            ],
            [
             0.7,
             "#b8e186"
            ],
            [
             0.8,
             "#7fbc41"
            ],
            [
             0.9,
             "#4d9221"
            ],
            [
             1,
             "#276419"
            ]
           ],
           "sequential": [
            [
             0,
             "#0d0887"
            ],
            [
             0.1111111111111111,
             "#46039f"
            ],
            [
             0.2222222222222222,
             "#7201a8"
            ],
            [
             0.3333333333333333,
             "#9c179e"
            ],
            [
             0.4444444444444444,
             "#bd3786"
            ],
            [
             0.5555555555555556,
             "#d8576b"
            ],
            [
             0.6666666666666666,
             "#ed7953"
            ],
            [
             0.7777777777777778,
             "#fb9f3a"
            ],
            [
             0.8888888888888888,
             "#fdca26"
            ],
            [
             1,
             "#f0f921"
            ]
           ],
           "sequentialminus": [
            [
             0,
             "#0d0887"
            ],
            [
             0.1111111111111111,
             "#46039f"
            ],
            [
             0.2222222222222222,
             "#7201a8"
            ],
            [
             0.3333333333333333,
             "#9c179e"
            ],
            [
             0.4444444444444444,
             "#bd3786"
            ],
            [
             0.5555555555555556,
             "#d8576b"
            ],
            [
             0.6666666666666666,
             "#ed7953"
            ],
            [
             0.7777777777777778,
             "#fb9f3a"
            ],
            [
             0.8888888888888888,
             "#fdca26"
            ],
            [
             1,
             "#f0f921"
            ]
           ]
          },
          "colorway": [
           "#636efa",
           "#EF553B",
           "#00cc96",
           "#ab63fa",
           "#FFA15A",
           "#19d3f3",
           "#FF6692",
           "#B6E880",
           "#FF97FF",
           "#FECB52"
          ],
          "font": {
           "color": "#2a3f5f"
          },
          "geo": {
           "bgcolor": "white",
           "lakecolor": "white",
           "landcolor": "#E5ECF6",
           "showlakes": true,
           "showland": true,
           "subunitcolor": "white"
          },
          "hoverlabel": {
           "align": "left"
          },
          "hovermode": "closest",
          "mapbox": {
           "style": "light"
          },
          "paper_bgcolor": "white",
          "plot_bgcolor": "#E5ECF6",
          "polar": {
           "angularaxis": {
            "gridcolor": "white",
            "linecolor": "white",
            "ticks": ""
           },
           "bgcolor": "#E5ECF6",
           "radialaxis": {
            "gridcolor": "white",
            "linecolor": "white",
            "ticks": ""
           }
          },
          "scene": {
           "xaxis": {
            "backgroundcolor": "#E5ECF6",
            "gridcolor": "white",
            "gridwidth": 2,
            "linecolor": "white",
            "showbackground": true,
            "ticks": "",
            "zerolinecolor": "white"
           },
           "yaxis": {
            "backgroundcolor": "#E5ECF6",
            "gridcolor": "white",
            "gridwidth": 2,
            "linecolor": "white",
            "showbackground": true,
            "ticks": "",
            "zerolinecolor": "white"
           },
           "zaxis": {
            "backgroundcolor": "#E5ECF6",
            "gridcolor": "white",
            "gridwidth": 2,
            "linecolor": "white",
            "showbackground": true,
            "ticks": "",
            "zerolinecolor": "white"
           }
          },
          "shapedefaults": {
           "line": {
            "color": "#2a3f5f"
           }
          },
          "ternary": {
           "aaxis": {
            "gridcolor": "white",
            "linecolor": "white",
            "ticks": ""
           },
           "baxis": {
            "gridcolor": "white",
            "linecolor": "white",
            "ticks": ""
           },
           "bgcolor": "#E5ECF6",
           "caxis": {
            "gridcolor": "white",
            "linecolor": "white",
            "ticks": ""
           }
          },
          "title": {
           "x": 0.05
          },
          "xaxis": {
           "automargin": true,
           "gridcolor": "white",
           "linecolor": "white",
           "ticks": "",
           "title": {
            "standoff": 15
           },
           "zerolinecolor": "white",
           "zerolinewidth": 2
          },
          "yaxis": {
           "automargin": true,
           "gridcolor": "white",
           "linecolor": "white",
           "ticks": "",
           "title": {
            "standoff": 15
           },
           "zerolinecolor": "white",
           "zerolinewidth": 2
          }
         }
        },
        "xaxis": {
         "anchor": "y",
         "autorange": true,
         "domain": [
          0,
          1
         ],
         "range": [
          -2.764384365081787,
          3.2664366722106934
         ],
         "title": {
          "text": "Polarity"
         }
        },
        "yaxis": {
         "anchor": "x",
         "autorange": true,
         "domain": [
          0,
          1
         ],
         "title": {
          "text": "Words"
         }
        }
       }
      }
     },
     "metadata": {},
     "output_type": "display_data"
    }
   ],
   "source": [
    "plotter = PolarityPlotter() \n",
    "plotter.plot_word_polarity(words, polar_dimensions)\n"
   ]
  },
  {
   "cell_type": "code",
   "execution_count": 25,
   "metadata": {},
   "outputs": [
    {
     "name": "stderr",
     "output_type": "stream",
     "text": [
      "Some weights of the model checkpoint at bert-base-uncased were not used when initializing BertModel: ['cls.predictions.transform.LayerNorm.weight', 'cls.predictions.transform.LayerNorm.bias', 'cls.predictions.transform.dense.weight', 'cls.predictions.bias', 'cls.predictions.transform.dense.bias', 'cls.seq_relationship.bias', 'cls.predictions.decoder.weight', 'cls.seq_relationship.weight']\n",
      "- This IS expected if you are initializing BertModel from the checkpoint of a model trained on another task or with another architecture (e.g. initializing a BertForSequenceClassification model from a BertForPreTraining model).\n",
      "- This IS NOT expected if you are initializing BertModel from the checkpoint of a model that you expect to be exactly identical (initializing a BertForSequenceClassification model from a BertForSequenceClassification model).\n"
     ]
    },
    {
     "name": "stdout",
     "output_type": "stream",
     "text": [
      "{\"['bad' 'good']\": {'bad': ['take the bad with the good ', 'a bad report card ', 'his sloppy appearance made a bad impression ', 'a bad little boy ', 'clothes in bad shape ', 'a bad cut ', 'bad luck ', 'the news was very bad ', 'the reviews were bad ', 'the pay is bad ', 'it was a bad light for reading ', 'the movie was a bad choice ', 'a bad headache ', 'had a big  or bad  shock ', 'a bad earthquake ', 'a bad storm ', 'my throat feels bad ', 'she felt bad all over ', 'bad meat ', 'he felt bad about breaking the vase ', 'a bad  or uncollectible  debt ', 'a bad chess player ', 'a bad recital ', 'so called bad grammar ', 'a bad investment ', 'has a bad back ', 'a bad heart ', 'bad teeth ', 'bad air ', 'smoking is bad for you ', 'led a very bad life ', 'like a bad penny    ', 'a bad telephone connection ', 'it hurts bad ', 'we need water bad ', 'he wants a bicycle so bad he can taste it '], 'good': ['for your own good ', 'what s the good of worrying  ', 'there is much good to be found in people ', 'weigh the good against the bad ', 'good news from the hospital ', 'a good report card ', 'when she was good she was very very good ', 'a good knife is one good for cutting ', 'this stump will make a good picnic table ', 'a good check ', 'a good joke ', 'a good exterior paint ', 'a good secretary ', 'a good dress for the office ', 'gives good measure ', 'a good mile from here ', 'ruined the family s good name ', 'the experience was good for her ', 'we all had a good time ', 'good manners ', 'a genuinely good person ', 'a good mechanic ', 'had a good workout ', 'gave the house a good cleaning ', 'a good friend ', 'a good investment ', 'a good time to plant tomatoes ', 'it s a good thing that i wasn t there ', 'it is good that you stayed ', 'a warranty good for two years ', 'good looks ', 'good music ', 'good teeth ', 'i still have one good leg ', 'a good night s sleep ', 'a good dollar bill ', 'the meat is still good ', 'good taste ', 'the baby can walk pretty good ', 'we beat him good ']}, \"['capable' 'incapable']\": {'capable': ['capable of winning ', 'capable of hard work ', 'capable of walking on two feet ', 'a passage capable of misinterpretation ', 'no one believed her capable of murder ', 'a capable administrator ', 'children as young as 14 can be extremely capable and dependable '], 'incapable': ['incapable of carrying a tune ', 'he is incapable of understanding the matter ', 'incapable of doing the work ', 'incapable of solution ', 'simply incapable of lying ']}, \"['hot' 'cold']\": {'hot': ['hot stove ', 'hot water ', 'a hot august day ', 'a hot stuffy room ', 'she s hot and tired ', 'a hot forehead ', 'the fighting became hot and heavy ', 'a hot engagement ', 'a hot temper ', 'a hot topic ', 'a hot new book ', 'a hot love affair ', 'a hot argument ', 'hot pink ', 'was hot for her ', 'hot pants ', 'hot merchandise ', 'a hot car ', 'a hot sports car ', 'got off to a hot start ', 'in hot pursuit ', 'a red hot line drive ', 'a hot suspect ', 'hot salsa ', 'jalapeno peppers are very hot ', 'a hot drummer ', 'he s hot tonight ', 'one of the hot young talents ', 'cabbage patch dolls were hot last season ', 'make it hot for him ', 'in the hot seat ', 'in hot water ', 'news hot off the press ', 'red hot information ', 'hot at craps ', 'the dice are hot tonight ', 'he s hot at math but not so hot at history ', 'a hot scent ', 'hot for travel ', 'you are hot ', 'hot fuel rods ', 'a hot laboratory ', 'a hot wire ', 'a hot week on the stock market '], 'cold': ['will they never find a cure for the common cold  ', 'come in out of the cold ', 'cold is a vasoconstrictor ', 'he shivered from the cold ', 'the cold helped clear his head ', 'a cold climate ', 'a cold room ', 'dinner has gotten cold ', 'cold fingers ', 'if you are cold  turn up the heat ', 'a cold beer ', 'a cold unfriendly nod ', 'a cold and unaffectionate person ', 'a cold impersonal manner ', 'cold logic ', 'the concert left me cold ', 'a cold trail ', 'dogs attempting to catch a cold scent ', 'a cold bluish grey ', 'had her lines cold before rehearsals started ', 'cold fury gripped him ', 'was cold to his advances ', 'in cold blood ', 'cold blooded killing ', 'a cold audience ', 'a cold response to the new play ', 'the boxer was out cold ', 'pass out cold ', 'cold in his grave ']}, \"['intelligent' 'unintelligent']\": {'intelligent': ['is there intelligent life in the universe  ', 'an intelligent question ', 'an intelligent solution '], 'unintelligent': ['a dull job with lazy and unintelligent co workers ']}}\n",
      "Loading antonyms from ./antonyms/lookup_anto_example_dict.pkl\n",
      "Index: 2\n",
      "[[['bad', ['take the bad with the good ', 'a bad report card ', 'his sloppy appearance made a bad impression ', 'a bad little boy ', 'clothes in bad shape ', 'a bad cut ', 'bad luck ', 'the news was very bad ', 'the reviews were bad ', 'the pay is bad ', 'it was a bad light for reading ', 'the movie was a bad choice ', 'a bad headache ', 'had a big  or bad  shock ', 'a bad earthquake ', 'a bad storm ', 'my throat feels bad ', 'she felt bad all over ', 'bad meat ', 'he felt bad about breaking the vase ', 'a bad  or uncollectible  debt ', 'a bad chess player ', 'a bad recital ', 'so called bad grammar ', 'a bad investment ', 'has a bad back ', 'a bad heart ', 'bad teeth ', 'bad air ', 'smoking is bad for you ', 'led a very bad life ', 'like a bad penny    ', 'a bad telephone connection ', 'it hurts bad ', 'we need water bad ', 'he wants a bicycle so bad he can taste it ']], ['good', ['for your own good ', 'what s the good of worrying  ', 'there is much good to be found in people ', 'weigh the good against the bad ', 'good news from the hospital ', 'a good report card ', 'when she was good she was very very good ', 'a good knife is one good for cutting ', 'this stump will make a good picnic table ', 'a good check ', 'a good joke ', 'a good exterior paint ', 'a good secretary ', 'a good dress for the office ', 'gives good measure ', 'a good mile from here ', 'ruined the family s good name ', 'the experience was good for her ', 'we all had a good time ', 'good manners ', 'a genuinely good person ', 'a good mechanic ', 'had a good workout ', 'gave the house a good cleaning ', 'a good friend ', 'a good investment ', 'a good time to plant tomatoes ', 'it s a good thing that i wasn t there ', 'it is good that you stayed ', 'a warranty good for two years ', 'good looks ', 'good music ', 'good teeth ', 'i still have one good leg ', 'a good night s sleep ', 'a good dollar bill ', 'the meat is still good ', 'good taste ', 'the baby can walk pretty good ', 'we beat him good ']]], [['capable', ['capable of winning ', 'capable of hard work ', 'capable of walking on two feet ', 'a passage capable of misinterpretation ', 'no one believed her capable of murder ', 'a capable administrator ', 'children as young as 14 can be extremely capable and dependable ']], ['incapable', ['incapable of carrying a tune ', 'he is incapable of understanding the matter ', 'incapable of doing the work ', 'incapable of solution ', 'simply incapable of lying ']]], [['hot', ['hot stove ', 'hot water ', 'a hot august day ', 'a hot stuffy room ', 'she s hot and tired ', 'a hot forehead ', 'the fighting became hot and heavy ', 'a hot engagement ', 'a hot temper ', 'a hot topic ', 'a hot new book ', 'a hot love affair ', 'a hot argument ', 'hot pink ', 'was hot for her ', 'hot pants ', 'hot merchandise ', 'a hot car ', 'a hot sports car ', 'got off to a hot start ', 'in hot pursuit ', 'a red hot line drive ', 'a hot suspect ', 'hot salsa ', 'jalapeno peppers are very hot ', 'a hot drummer ', 'he s hot tonight ', 'one of the hot young talents ', 'cabbage patch dolls were hot last season ', 'make it hot for him ', 'in the hot seat ', 'in hot water ', 'news hot off the press ', 'red hot information ', 'hot at craps ', 'the dice are hot tonight ', 'he s hot at math but not so hot at history ', 'a hot scent ', 'hot for travel ', 'you are hot ', 'hot fuel rods ', 'a hot laboratory ', 'a hot wire ', 'a hot week on the stock market ']], ['cold', ['will they never find a cure for the common cold  ', 'come in out of the cold ', 'cold is a vasoconstrictor ', 'he shivered from the cold ', 'the cold helped clear his head ', 'a cold climate ', 'a cold room ', 'dinner has gotten cold ', 'cold fingers ', 'if you are cold  turn up the heat ', 'a cold beer ', 'a cold unfriendly nod ', 'a cold and unaffectionate person ', 'a cold impersonal manner ', 'cold logic ', 'the concert left me cold ', 'a cold trail ', 'dogs attempting to catch a cold scent ', 'a cold bluish grey ', 'had her lines cold before rehearsals started ', 'cold fury gripped him ', 'was cold to his advances ', 'in cold blood ', 'cold blooded killing ', 'a cold audience ', 'a cold response to the new play ', 'the boxer was out cold ', 'pass out cold ', 'cold in his grave ']]], [['intelligent', ['is there intelligent life in the universe  ', 'an intelligent question ', 'an intelligent solution ']], ['unintelligent', ['a dull job with lazy and unintelligent co workers ']]]]\n",
      "Top: 1\n",
      "Dimension: hot <------> cold\n",
      "['newly made', 'characterized by violent and forceful activity or movement; very intense', 'charged or energized with electricity', 'having or bringing unusually good luck', 'used of physical heat; having a high or higher than desirable temperature or giving off heat or feeling or causing a sensation of heat or burning', 'recently stolen or smuggled', 'of a seeker; very near to the object sought', 'marked by excited activity', 'extended meanings; especially of psychological heat; marked by intensity or vehemence especially of passion or enthusiasm', 'sexually excited or exciting', 'performed or performing with unusually great skill and daring and energy', 'very good; often used in the negative', 'wanted by the police', 'producing a burning sensation on the taste nerves', 'newest or most recent', '(color) bold and intense', 'very fast; capable of quick response and great speed', 'having or dealing with dangerously high levels of radioactivity', 'having or showing great eagerness or enthusiasm', 'very unpleasant or even dangerous', 'very popular or successful'] ['a mild viral infection involving the nose and respiratory passages (but not the lungs)', 'lacking originality or spontaneity; no longer new', 'unconscious from a blow or shock or intoxication', 'the absence of heat', 'the sensation produced by low temperatures', 'having lost freshness through passage of time', 'lacking the warmth of life', '(color) giving no sensation of warmth', 'having a low or inadequate temperature or feeling a sensation of coldness or having been made cold by e.g. ice or refrigeration', 'marked by errorless familiarity', 'so intense as to be almost uncontrollable', 'without compunction or human feeling', 'sexually unresponsive', 'of a seeker; far from the object sought', 'feeling or showing no enthusiasm', 'extended meanings; especially of psychological coldness; without human warmth or emotion']\n",
      "Value: -1.6723347\n",
      "\n",
      "\n",
      "Index: 3\n",
      "[[['bad', ['take the bad with the good ', 'a bad report card ', 'his sloppy appearance made a bad impression ', 'a bad little boy ', 'clothes in bad shape ', 'a bad cut ', 'bad luck ', 'the news was very bad ', 'the reviews were bad ', 'the pay is bad ', 'it was a bad light for reading ', 'the movie was a bad choice ', 'a bad headache ', 'had a big  or bad  shock ', 'a bad earthquake ', 'a bad storm ', 'my throat feels bad ', 'she felt bad all over ', 'bad meat ', 'he felt bad about breaking the vase ', 'a bad  or uncollectible  debt ', 'a bad chess player ', 'a bad recital ', 'so called bad grammar ', 'a bad investment ', 'has a bad back ', 'a bad heart ', 'bad teeth ', 'bad air ', 'smoking is bad for you ', 'led a very bad life ', 'like a bad penny    ', 'a bad telephone connection ', 'it hurts bad ', 'we need water bad ', 'he wants a bicycle so bad he can taste it ']], ['good', ['for your own good ', 'what s the good of worrying  ', 'there is much good to be found in people ', 'weigh the good against the bad ', 'good news from the hospital ', 'a good report card ', 'when she was good she was very very good ', 'a good knife is one good for cutting ', 'this stump will make a good picnic table ', 'a good check ', 'a good joke ', 'a good exterior paint ', 'a good secretary ', 'a good dress for the office ', 'gives good measure ', 'a good mile from here ', 'ruined the family s good name ', 'the experience was good for her ', 'we all had a good time ', 'good manners ', 'a genuinely good person ', 'a good mechanic ', 'had a good workout ', 'gave the house a good cleaning ', 'a good friend ', 'a good investment ', 'a good time to plant tomatoes ', 'it s a good thing that i wasn t there ', 'it is good that you stayed ', 'a warranty good for two years ', 'good looks ', 'good music ', 'good teeth ', 'i still have one good leg ', 'a good night s sleep ', 'a good dollar bill ', 'the meat is still good ', 'good taste ', 'the baby can walk pretty good ', 'we beat him good ']]], [['capable', ['capable of winning ', 'capable of hard work ', 'capable of walking on two feet ', 'a passage capable of misinterpretation ', 'no one believed her capable of murder ', 'a capable administrator ', 'children as young as 14 can be extremely capable and dependable ']], ['incapable', ['incapable of carrying a tune ', 'he is incapable of understanding the matter ', 'incapable of doing the work ', 'incapable of solution ', 'simply incapable of lying ']]], [['hot', ['hot stove ', 'hot water ', 'a hot august day ', 'a hot stuffy room ', 'she s hot and tired ', 'a hot forehead ', 'the fighting became hot and heavy ', 'a hot engagement ', 'a hot temper ', 'a hot topic ', 'a hot new book ', 'a hot love affair ', 'a hot argument ', 'hot pink ', 'was hot for her ', 'hot pants ', 'hot merchandise ', 'a hot car ', 'a hot sports car ', 'got off to a hot start ', 'in hot pursuit ', 'a red hot line drive ', 'a hot suspect ', 'hot salsa ', 'jalapeno peppers are very hot ', 'a hot drummer ', 'he s hot tonight ', 'one of the hot young talents ', 'cabbage patch dolls were hot last season ', 'make it hot for him ', 'in the hot seat ', 'in hot water ', 'news hot off the press ', 'red hot information ', 'hot at craps ', 'the dice are hot tonight ', 'he s hot at math but not so hot at history ', 'a hot scent ', 'hot for travel ', 'you are hot ', 'hot fuel rods ', 'a hot laboratory ', 'a hot wire ', 'a hot week on the stock market ']], ['cold', ['will they never find a cure for the common cold  ', 'come in out of the cold ', 'cold is a vasoconstrictor ', 'he shivered from the cold ', 'the cold helped clear his head ', 'a cold climate ', 'a cold room ', 'dinner has gotten cold ', 'cold fingers ', 'if you are cold  turn up the heat ', 'a cold beer ', 'a cold unfriendly nod ', 'a cold and unaffectionate person ', 'a cold impersonal manner ', 'cold logic ', 'the concert left me cold ', 'a cold trail ', 'dogs attempting to catch a cold scent ', 'a cold bluish grey ', 'had her lines cold before rehearsals started ', 'cold fury gripped him ', 'was cold to his advances ', 'in cold blood ', 'cold blooded killing ', 'a cold audience ', 'a cold response to the new play ', 'the boxer was out cold ', 'pass out cold ', 'cold in his grave ']]], [['intelligent', ['is there intelligent life in the universe  ', 'an intelligent question ', 'an intelligent solution ']], ['unintelligent', ['a dull job with lazy and unintelligent co workers ']]]]\n",
      "Top: 2\n",
      "Dimension: intelligent <------> unintelligent\n",
      "['possessing sound knowledge', 'exercising or showing good judgment', 'endowed with the capacity to reason', 'having the capacity for thought and reason especially to a high degree'] ['lacking intelligence']\n",
      "Value: -1.3139641\n",
      "\n",
      "\n",
      "Index: 1\n",
      "[[['bad', ['take the bad with the good ', 'a bad report card ', 'his sloppy appearance made a bad impression ', 'a bad little boy ', 'clothes in bad shape ', 'a bad cut ', 'bad luck ', 'the news was very bad ', 'the reviews were bad ', 'the pay is bad ', 'it was a bad light for reading ', 'the movie was a bad choice ', 'a bad headache ', 'had a big  or bad  shock ', 'a bad earthquake ', 'a bad storm ', 'my throat feels bad ', 'she felt bad all over ', 'bad meat ', 'he felt bad about breaking the vase ', 'a bad  or uncollectible  debt ', 'a bad chess player ', 'a bad recital ', 'so called bad grammar ', 'a bad investment ', 'has a bad back ', 'a bad heart ', 'bad teeth ', 'bad air ', 'smoking is bad for you ', 'led a very bad life ', 'like a bad penny    ', 'a bad telephone connection ', 'it hurts bad ', 'we need water bad ', 'he wants a bicycle so bad he can taste it ']], ['good', ['for your own good ', 'what s the good of worrying  ', 'there is much good to be found in people ', 'weigh the good against the bad ', 'good news from the hospital ', 'a good report card ', 'when she was good she was very very good ', 'a good knife is one good for cutting ', 'this stump will make a good picnic table ', 'a good check ', 'a good joke ', 'a good exterior paint ', 'a good secretary ', 'a good dress for the office ', 'gives good measure ', 'a good mile from here ', 'ruined the family s good name ', 'the experience was good for her ', 'we all had a good time ', 'good manners ', 'a genuinely good person ', 'a good mechanic ', 'had a good workout ', 'gave the house a good cleaning ', 'a good friend ', 'a good investment ', 'a good time to plant tomatoes ', 'it s a good thing that i wasn t there ', 'it is good that you stayed ', 'a warranty good for two years ', 'good looks ', 'good music ', 'good teeth ', 'i still have one good leg ', 'a good night s sleep ', 'a good dollar bill ', 'the meat is still good ', 'good taste ', 'the baby can walk pretty good ', 'we beat him good ']]], [['capable', ['capable of winning ', 'capable of hard work ', 'capable of walking on two feet ', 'a passage capable of misinterpretation ', 'no one believed her capable of murder ', 'a capable administrator ', 'children as young as 14 can be extremely capable and dependable ']], ['incapable', ['incapable of carrying a tune ', 'he is incapable of understanding the matter ', 'incapable of doing the work ', 'incapable of solution ', 'simply incapable of lying ']]], [['hot', ['hot stove ', 'hot water ', 'a hot august day ', 'a hot stuffy room ', 'she s hot and tired ', 'a hot forehead ', 'the fighting became hot and heavy ', 'a hot engagement ', 'a hot temper ', 'a hot topic ', 'a hot new book ', 'a hot love affair ', 'a hot argument ', 'hot pink ', 'was hot for her ', 'hot pants ', 'hot merchandise ', 'a hot car ', 'a hot sports car ', 'got off to a hot start ', 'in hot pursuit ', 'a red hot line drive ', 'a hot suspect ', 'hot salsa ', 'jalapeno peppers are very hot ', 'a hot drummer ', 'he s hot tonight ', 'one of the hot young talents ', 'cabbage patch dolls were hot last season ', 'make it hot for him ', 'in the hot seat ', 'in hot water ', 'news hot off the press ', 'red hot information ', 'hot at craps ', 'the dice are hot tonight ', 'he s hot at math but not so hot at history ', 'a hot scent ', 'hot for travel ', 'you are hot ', 'hot fuel rods ', 'a hot laboratory ', 'a hot wire ', 'a hot week on the stock market ']], ['cold', ['will they never find a cure for the common cold  ', 'come in out of the cold ', 'cold is a vasoconstrictor ', 'he shivered from the cold ', 'the cold helped clear his head ', 'a cold climate ', 'a cold room ', 'dinner has gotten cold ', 'cold fingers ', 'if you are cold  turn up the heat ', 'a cold beer ', 'a cold unfriendly nod ', 'a cold and unaffectionate person ', 'a cold impersonal manner ', 'cold logic ', 'the concert left me cold ', 'a cold trail ', 'dogs attempting to catch a cold scent ', 'a cold bluish grey ', 'had her lines cold before rehearsals started ', 'cold fury gripped him ', 'was cold to his advances ', 'in cold blood ', 'cold blooded killing ', 'a cold audience ', 'a cold response to the new play ', 'the boxer was out cold ', 'pass out cold ', 'cold in his grave ']]], [['intelligent', ['is there intelligent life in the universe  ', 'an intelligent question ', 'an intelligent solution ']], ['unintelligent', ['a dull job with lazy and unintelligent co workers ']]]]\n",
      "Top: 3\n",
      "Dimension: capable <------> incapable\n",
      "['possibly accepting or permitting', \"(followed by `of') having the temperament or inclination for\", \"(usually followed by `of') having capacity or ability\", 'have the skills and qualifications to do things well', 'having the requisite qualities for'] [\"(followed by `of') lacking capacity or ability\", \"not being susceptible to or admitting of something (usually followed by `of')\", 'not meeting requirements', \"(followed by `of') not having the temperament or inclination for\"]\n",
      "Value:0.6392658948898315\n",
      "\n",
      "\n",
      "Index: 0\n",
      "[[['bad', ['take the bad with the good ', 'a bad report card ', 'his sloppy appearance made a bad impression ', 'a bad little boy ', 'clothes in bad shape ', 'a bad cut ', 'bad luck ', 'the news was very bad ', 'the reviews were bad ', 'the pay is bad ', 'it was a bad light for reading ', 'the movie was a bad choice ', 'a bad headache ', 'had a big  or bad  shock ', 'a bad earthquake ', 'a bad storm ', 'my throat feels bad ', 'she felt bad all over ', 'bad meat ', 'he felt bad about breaking the vase ', 'a bad  or uncollectible  debt ', 'a bad chess player ', 'a bad recital ', 'so called bad grammar ', 'a bad investment ', 'has a bad back ', 'a bad heart ', 'bad teeth ', 'bad air ', 'smoking is bad for you ', 'led a very bad life ', 'like a bad penny    ', 'a bad telephone connection ', 'it hurts bad ', 'we need water bad ', 'he wants a bicycle so bad he can taste it ']], ['good', ['for your own good ', 'what s the good of worrying  ', 'there is much good to be found in people ', 'weigh the good against the bad ', 'good news from the hospital ', 'a good report card ', 'when she was good she was very very good ', 'a good knife is one good for cutting ', 'this stump will make a good picnic table ', 'a good check ', 'a good joke ', 'a good exterior paint ', 'a good secretary ', 'a good dress for the office ', 'gives good measure ', 'a good mile from here ', 'ruined the family s good name ', 'the experience was good for her ', 'we all had a good time ', 'good manners ', 'a genuinely good person ', 'a good mechanic ', 'had a good workout ', 'gave the house a good cleaning ', 'a good friend ', 'a good investment ', 'a good time to plant tomatoes ', 'it s a good thing that i wasn t there ', 'it is good that you stayed ', 'a warranty good for two years ', 'good looks ', 'good music ', 'good teeth ', 'i still have one good leg ', 'a good night s sleep ', 'a good dollar bill ', 'the meat is still good ', 'good taste ', 'the baby can walk pretty good ', 'we beat him good ']]], [['capable', ['capable of winning ', 'capable of hard work ', 'capable of walking on two feet ', 'a passage capable of misinterpretation ', 'no one believed her capable of murder ', 'a capable administrator ', 'children as young as 14 can be extremely capable and dependable ']], ['incapable', ['incapable of carrying a tune ', 'he is incapable of understanding the matter ', 'incapable of doing the work ', 'incapable of solution ', 'simply incapable of lying ']]], [['hot', ['hot stove ', 'hot water ', 'a hot august day ', 'a hot stuffy room ', 'she s hot and tired ', 'a hot forehead ', 'the fighting became hot and heavy ', 'a hot engagement ', 'a hot temper ', 'a hot topic ', 'a hot new book ', 'a hot love affair ', 'a hot argument ', 'hot pink ', 'was hot for her ', 'hot pants ', 'hot merchandise ', 'a hot car ', 'a hot sports car ', 'got off to a hot start ', 'in hot pursuit ', 'a red hot line drive ', 'a hot suspect ', 'hot salsa ', 'jalapeno peppers are very hot ', 'a hot drummer ', 'he s hot tonight ', 'one of the hot young talents ', 'cabbage patch dolls were hot last season ', 'make it hot for him ', 'in the hot seat ', 'in hot water ', 'news hot off the press ', 'red hot information ', 'hot at craps ', 'the dice are hot tonight ', 'he s hot at math but not so hot at history ', 'a hot scent ', 'hot for travel ', 'you are hot ', 'hot fuel rods ', 'a hot laboratory ', 'a hot wire ', 'a hot week on the stock market ']], ['cold', ['will they never find a cure for the common cold  ', 'come in out of the cold ', 'cold is a vasoconstrictor ', 'he shivered from the cold ', 'the cold helped clear his head ', 'a cold climate ', 'a cold room ', 'dinner has gotten cold ', 'cold fingers ', 'if you are cold  turn up the heat ', 'a cold beer ', 'a cold unfriendly nod ', 'a cold and unaffectionate person ', 'a cold impersonal manner ', 'cold logic ', 'the concert left me cold ', 'a cold trail ', 'dogs attempting to catch a cold scent ', 'a cold bluish grey ', 'had her lines cold before rehearsals started ', 'cold fury gripped him ', 'was cold to his advances ', 'in cold blood ', 'cold blooded killing ', 'a cold audience ', 'a cold response to the new play ', 'the boxer was out cold ', 'pass out cold ', 'cold in his grave ']]], [['intelligent', ['is there intelligent life in the universe  ', 'an intelligent question ', 'an intelligent solution ']], ['unintelligent', ['a dull job with lazy and unintelligent co workers ']]]]\n",
      "Top: 4\n",
      "Dimension: bad <------> good\n",
      "['characterized by wickedness or immorality', 'that which is below standard or expectations as of ethics or decency', 'reproduced fraudulently', 'not capable of being collected', '(of foodstuffs) not in an edible or usable condition', 'nonstandard', 'not working properly', 'very much; strongly', \"feeling physical discomfort or pain (`tough' is occasionally used colloquially for `bad')\", 'feeling or expressing regret or sorrow or a sense of loss over something done or undone', 'below average in quality or performance', 'having undesirable or negative qualities', 'physically unsound or diseased', \"with great intensity (`bad' is a nonstandard variant for `badly')\", 'very intense', 'capable of harming', 'not financially safe or secure'] ['benefit', 'appealing to the mind', 'having the normally expected amount', \"completely and absolutely (`good' is sometimes used informally for `thoroughly')\", 'promoting or enhancing well-being', 'having or showing knowledge and skill and aptitude', 'agreeable or pleasing', 'morally admirable', 'not left to spoil', 'deserving of esteem and respect', 'tending to promote physical well-being; beneficial to health', 'exerting force or influence', 'moral excellence or admirableness', 'articles of commerce', 'resulting favorably', 'having desirable or positive qualities especially those suitable for a thing specified', 'with or in a close or intimate relationship', 'generally admired', 'thorough', 'that which is pleasing or valuable or useful', 'financially sound', \"(often used as a combining form) in a good or proper or satisfactory manner or to a high standard (`good' is a nonstandard dialectal variant for `well')\", 'capable of pleasing', 'not forged', 'most suitable or right for a particular purpose', 'of moral excellence', 'in excellent physical condition']\n",
      "Value:0.5019084215164185\n",
      "\n",
      "\n",
      "Index: 3\n",
      "[[['bad', ['take the bad with the good ', 'a bad report card ', 'his sloppy appearance made a bad impression ', 'a bad little boy ', 'clothes in bad shape ', 'a bad cut ', 'bad luck ', 'the news was very bad ', 'the reviews were bad ', 'the pay is bad ', 'it was a bad light for reading ', 'the movie was a bad choice ', 'a bad headache ', 'had a big  or bad  shock ', 'a bad earthquake ', 'a bad storm ', 'my throat feels bad ', 'she felt bad all over ', 'bad meat ', 'he felt bad about breaking the vase ', 'a bad  or uncollectible  debt ', 'a bad chess player ', 'a bad recital ', 'so called bad grammar ', 'a bad investment ', 'has a bad back ', 'a bad heart ', 'bad teeth ', 'bad air ', 'smoking is bad for you ', 'led a very bad life ', 'like a bad penny    ', 'a bad telephone connection ', 'it hurts bad ', 'we need water bad ', 'he wants a bicycle so bad he can taste it ']], ['good', ['for your own good ', 'what s the good of worrying  ', 'there is much good to be found in people ', 'weigh the good against the bad ', 'good news from the hospital ', 'a good report card ', 'when she was good she was very very good ', 'a good knife is one good for cutting ', 'this stump will make a good picnic table ', 'a good check ', 'a good joke ', 'a good exterior paint ', 'a good secretary ', 'a good dress for the office ', 'gives good measure ', 'a good mile from here ', 'ruined the family s good name ', 'the experience was good for her ', 'we all had a good time ', 'good manners ', 'a genuinely good person ', 'a good mechanic ', 'had a good workout ', 'gave the house a good cleaning ', 'a good friend ', 'a good investment ', 'a good time to plant tomatoes ', 'it s a good thing that i wasn t there ', 'it is good that you stayed ', 'a warranty good for two years ', 'good looks ', 'good music ', 'good teeth ', 'i still have one good leg ', 'a good night s sleep ', 'a good dollar bill ', 'the meat is still good ', 'good taste ', 'the baby can walk pretty good ', 'we beat him good ']]], [['capable', ['capable of winning ', 'capable of hard work ', 'capable of walking on two feet ', 'a passage capable of misinterpretation ', 'no one believed her capable of murder ', 'a capable administrator ', 'children as young as 14 can be extremely capable and dependable ']], ['incapable', ['incapable of carrying a tune ', 'he is incapable of understanding the matter ', 'incapable of doing the work ', 'incapable of solution ', 'simply incapable of lying ']]], [['hot', ['hot stove ', 'hot water ', 'a hot august day ', 'a hot stuffy room ', 'she s hot and tired ', 'a hot forehead ', 'the fighting became hot and heavy ', 'a hot engagement ', 'a hot temper ', 'a hot topic ', 'a hot new book ', 'a hot love affair ', 'a hot argument ', 'hot pink ', 'was hot for her ', 'hot pants ', 'hot merchandise ', 'a hot car ', 'a hot sports car ', 'got off to a hot start ', 'in hot pursuit ', 'a red hot line drive ', 'a hot suspect ', 'hot salsa ', 'jalapeno peppers are very hot ', 'a hot drummer ', 'he s hot tonight ', 'one of the hot young talents ', 'cabbage patch dolls were hot last season ', 'make it hot for him ', 'in the hot seat ', 'in hot water ', 'news hot off the press ', 'red hot information ', 'hot at craps ', 'the dice are hot tonight ', 'he s hot at math but not so hot at history ', 'a hot scent ', 'hot for travel ', 'you are hot ', 'hot fuel rods ', 'a hot laboratory ', 'a hot wire ', 'a hot week on the stock market ']], ['cold', ['will they never find a cure for the common cold  ', 'come in out of the cold ', 'cold is a vasoconstrictor ', 'he shivered from the cold ', 'the cold helped clear his head ', 'a cold climate ', 'a cold room ', 'dinner has gotten cold ', 'cold fingers ', 'if you are cold  turn up the heat ', 'a cold beer ', 'a cold unfriendly nod ', 'a cold and unaffectionate person ', 'a cold impersonal manner ', 'cold logic ', 'the concert left me cold ', 'a cold trail ', 'dogs attempting to catch a cold scent ', 'a cold bluish grey ', 'had her lines cold before rehearsals started ', 'cold fury gripped him ', 'was cold to his advances ', 'in cold blood ', 'cold blooded killing ', 'a cold audience ', 'a cold response to the new play ', 'the boxer was out cold ', 'pass out cold ', 'cold in his grave ']]], [['intelligent', ['is there intelligent life in the universe  ', 'an intelligent question ', 'an intelligent solution ']], ['unintelligent', ['a dull job with lazy and unintelligent co workers ']]]]\n",
      "Top: 1\n",
      "Dimension: intelligent <------> unintelligent\n",
      "['possessing sound knowledge', 'exercising or showing good judgment', 'endowed with the capacity to reason', 'having the capacity for thought and reason especially to a high degree'] ['lacking intelligence']\n",
      "Value: -2.1102662\n",
      "\n",
      "\n",
      "Index: 0\n",
      "[[['bad', ['take the bad with the good ', 'a bad report card ', 'his sloppy appearance made a bad impression ', 'a bad little boy ', 'clothes in bad shape ', 'a bad cut ', 'bad luck ', 'the news was very bad ', 'the reviews were bad ', 'the pay is bad ', 'it was a bad light for reading ', 'the movie was a bad choice ', 'a bad headache ', 'had a big  or bad  shock ', 'a bad earthquake ', 'a bad storm ', 'my throat feels bad ', 'she felt bad all over ', 'bad meat ', 'he felt bad about breaking the vase ', 'a bad  or uncollectible  debt ', 'a bad chess player ', 'a bad recital ', 'so called bad grammar ', 'a bad investment ', 'has a bad back ', 'a bad heart ', 'bad teeth ', 'bad air ', 'smoking is bad for you ', 'led a very bad life ', 'like a bad penny    ', 'a bad telephone connection ', 'it hurts bad ', 'we need water bad ', 'he wants a bicycle so bad he can taste it ']], ['good', ['for your own good ', 'what s the good of worrying  ', 'there is much good to be found in people ', 'weigh the good against the bad ', 'good news from the hospital ', 'a good report card ', 'when she was good she was very very good ', 'a good knife is one good for cutting ', 'this stump will make a good picnic table ', 'a good check ', 'a good joke ', 'a good exterior paint ', 'a good secretary ', 'a good dress for the office ', 'gives good measure ', 'a good mile from here ', 'ruined the family s good name ', 'the experience was good for her ', 'we all had a good time ', 'good manners ', 'a genuinely good person ', 'a good mechanic ', 'had a good workout ', 'gave the house a good cleaning ', 'a good friend ', 'a good investment ', 'a good time to plant tomatoes ', 'it s a good thing that i wasn t there ', 'it is good that you stayed ', 'a warranty good for two years ', 'good looks ', 'good music ', 'good teeth ', 'i still have one good leg ', 'a good night s sleep ', 'a good dollar bill ', 'the meat is still good ', 'good taste ', 'the baby can walk pretty good ', 'we beat him good ']]], [['capable', ['capable of winning ', 'capable of hard work ', 'capable of walking on two feet ', 'a passage capable of misinterpretation ', 'no one believed her capable of murder ', 'a capable administrator ', 'children as young as 14 can be extremely capable and dependable ']], ['incapable', ['incapable of carrying a tune ', 'he is incapable of understanding the matter ', 'incapable of doing the work ', 'incapable of solution ', 'simply incapable of lying ']]], [['hot', ['hot stove ', 'hot water ', 'a hot august day ', 'a hot stuffy room ', 'she s hot and tired ', 'a hot forehead ', 'the fighting became hot and heavy ', 'a hot engagement ', 'a hot temper ', 'a hot topic ', 'a hot new book ', 'a hot love affair ', 'a hot argument ', 'hot pink ', 'was hot for her ', 'hot pants ', 'hot merchandise ', 'a hot car ', 'a hot sports car ', 'got off to a hot start ', 'in hot pursuit ', 'a red hot line drive ', 'a hot suspect ', 'hot salsa ', 'jalapeno peppers are very hot ', 'a hot drummer ', 'he s hot tonight ', 'one of the hot young talents ', 'cabbage patch dolls were hot last season ', 'make it hot for him ', 'in the hot seat ', 'in hot water ', 'news hot off the press ', 'red hot information ', 'hot at craps ', 'the dice are hot tonight ', 'he s hot at math but not so hot at history ', 'a hot scent ', 'hot for travel ', 'you are hot ', 'hot fuel rods ', 'a hot laboratory ', 'a hot wire ', 'a hot week on the stock market ']], ['cold', ['will they never find a cure for the common cold  ', 'come in out of the cold ', 'cold is a vasoconstrictor ', 'he shivered from the cold ', 'the cold helped clear his head ', 'a cold climate ', 'a cold room ', 'dinner has gotten cold ', 'cold fingers ', 'if you are cold  turn up the heat ', 'a cold beer ', 'a cold unfriendly nod ', 'a cold and unaffectionate person ', 'a cold impersonal manner ', 'cold logic ', 'the concert left me cold ', 'a cold trail ', 'dogs attempting to catch a cold scent ', 'a cold bluish grey ', 'had her lines cold before rehearsals started ', 'cold fury gripped him ', 'was cold to his advances ', 'in cold blood ', 'cold blooded killing ', 'a cold audience ', 'a cold response to the new play ', 'the boxer was out cold ', 'pass out cold ', 'cold in his grave ']]], [['intelligent', ['is there intelligent life in the universe  ', 'an intelligent question ', 'an intelligent solution ']], ['unintelligent', ['a dull job with lazy and unintelligent co workers ']]]]\n",
      "Top: 2\n",
      "Dimension: bad <------> good\n",
      "['characterized by wickedness or immorality', 'that which is below standard or expectations as of ethics or decency', 'reproduced fraudulently', 'not capable of being collected', '(of foodstuffs) not in an edible or usable condition', 'nonstandard', 'not working properly', 'very much; strongly', \"feeling physical discomfort or pain (`tough' is occasionally used colloquially for `bad')\", 'feeling or expressing regret or sorrow or a sense of loss over something done or undone', 'below average in quality or performance', 'having undesirable or negative qualities', 'physically unsound or diseased', \"with great intensity (`bad' is a nonstandard variant for `badly')\", 'very intense', 'capable of harming', 'not financially safe or secure'] ['benefit', 'appealing to the mind', 'having the normally expected amount', \"completely and absolutely (`good' is sometimes used informally for `thoroughly')\", 'promoting or enhancing well-being', 'having or showing knowledge and skill and aptitude', 'agreeable or pleasing', 'morally admirable', 'not left to spoil', 'deserving of esteem and respect', 'tending to promote physical well-being; beneficial to health', 'exerting force or influence', 'moral excellence or admirableness', 'articles of commerce', 'resulting favorably', 'having desirable or positive qualities especially those suitable for a thing specified', 'with or in a close or intimate relationship', 'generally admired', 'thorough', 'that which is pleasing or valuable or useful', 'financially sound', \"(often used as a combining form) in a good or proper or satisfactory manner or to a high standard (`good' is a nonstandard dialectal variant for `well')\", 'capable of pleasing', 'not forged', 'most suitable or right for a particular purpose', 'of moral excellence', 'in excellent physical condition']\n",
      "Value:1.4804089069366455\n",
      "\n",
      "\n",
      "Index: 2\n",
      "[[['bad', ['take the bad with the good ', 'a bad report card ', 'his sloppy appearance made a bad impression ', 'a bad little boy ', 'clothes in bad shape ', 'a bad cut ', 'bad luck ', 'the news was very bad ', 'the reviews were bad ', 'the pay is bad ', 'it was a bad light for reading ', 'the movie was a bad choice ', 'a bad headache ', 'had a big  or bad  shock ', 'a bad earthquake ', 'a bad storm ', 'my throat feels bad ', 'she felt bad all over ', 'bad meat ', 'he felt bad about breaking the vase ', 'a bad  or uncollectible  debt ', 'a bad chess player ', 'a bad recital ', 'so called bad grammar ', 'a bad investment ', 'has a bad back ', 'a bad heart ', 'bad teeth ', 'bad air ', 'smoking is bad for you ', 'led a very bad life ', 'like a bad penny    ', 'a bad telephone connection ', 'it hurts bad ', 'we need water bad ', 'he wants a bicycle so bad he can taste it ']], ['good', ['for your own good ', 'what s the good of worrying  ', 'there is much good to be found in people ', 'weigh the good against the bad ', 'good news from the hospital ', 'a good report card ', 'when she was good she was very very good ', 'a good knife is one good for cutting ', 'this stump will make a good picnic table ', 'a good check ', 'a good joke ', 'a good exterior paint ', 'a good secretary ', 'a good dress for the office ', 'gives good measure ', 'a good mile from here ', 'ruined the family s good name ', 'the experience was good for her ', 'we all had a good time ', 'good manners ', 'a genuinely good person ', 'a good mechanic ', 'had a good workout ', 'gave the house a good cleaning ', 'a good friend ', 'a good investment ', 'a good time to plant tomatoes ', 'it s a good thing that i wasn t there ', 'it is good that you stayed ', 'a warranty good for two years ', 'good looks ', 'good music ', 'good teeth ', 'i still have one good leg ', 'a good night s sleep ', 'a good dollar bill ', 'the meat is still good ', 'good taste ', 'the baby can walk pretty good ', 'we beat him good ']]], [['capable', ['capable of winning ', 'capable of hard work ', 'capable of walking on two feet ', 'a passage capable of misinterpretation ', 'no one believed her capable of murder ', 'a capable administrator ', 'children as young as 14 can be extremely capable and dependable ']], ['incapable', ['incapable of carrying a tune ', 'he is incapable of understanding the matter ', 'incapable of doing the work ', 'incapable of solution ', 'simply incapable of lying ']]], [['hot', ['hot stove ', 'hot water ', 'a hot august day ', 'a hot stuffy room ', 'she s hot and tired ', 'a hot forehead ', 'the fighting became hot and heavy ', 'a hot engagement ', 'a hot temper ', 'a hot topic ', 'a hot new book ', 'a hot love affair ', 'a hot argument ', 'hot pink ', 'was hot for her ', 'hot pants ', 'hot merchandise ', 'a hot car ', 'a hot sports car ', 'got off to a hot start ', 'in hot pursuit ', 'a red hot line drive ', 'a hot suspect ', 'hot salsa ', 'jalapeno peppers are very hot ', 'a hot drummer ', 'he s hot tonight ', 'one of the hot young talents ', 'cabbage patch dolls were hot last season ', 'make it hot for him ', 'in the hot seat ', 'in hot water ', 'news hot off the press ', 'red hot information ', 'hot at craps ', 'the dice are hot tonight ', 'he s hot at math but not so hot at history ', 'a hot scent ', 'hot for travel ', 'you are hot ', 'hot fuel rods ', 'a hot laboratory ', 'a hot wire ', 'a hot week on the stock market ']], ['cold', ['will they never find a cure for the common cold  ', 'come in out of the cold ', 'cold is a vasoconstrictor ', 'he shivered from the cold ', 'the cold helped clear his head ', 'a cold climate ', 'a cold room ', 'dinner has gotten cold ', 'cold fingers ', 'if you are cold  turn up the heat ', 'a cold beer ', 'a cold unfriendly nod ', 'a cold and unaffectionate person ', 'a cold impersonal manner ', 'cold logic ', 'the concert left me cold ', 'a cold trail ', 'dogs attempting to catch a cold scent ', 'a cold bluish grey ', 'had her lines cold before rehearsals started ', 'cold fury gripped him ', 'was cold to his advances ', 'in cold blood ', 'cold blooded killing ', 'a cold audience ', 'a cold response to the new play ', 'the boxer was out cold ', 'pass out cold ', 'cold in his grave ']]], [['intelligent', ['is there intelligent life in the universe  ', 'an intelligent question ', 'an intelligent solution ']], ['unintelligent', ['a dull job with lazy and unintelligent co workers ']]]]\n",
      "Top: 3\n",
      "Dimension: hot <------> cold\n",
      "['newly made', 'characterized by violent and forceful activity or movement; very intense', 'charged or energized with electricity', 'having or bringing unusually good luck', 'used of physical heat; having a high or higher than desirable temperature or giving off heat or feeling or causing a sensation of heat or burning', 'recently stolen or smuggled', 'of a seeker; very near to the object sought', 'marked by excited activity', 'extended meanings; especially of psychological heat; marked by intensity or vehemence especially of passion or enthusiasm', 'sexually excited or exciting', 'performed or performing with unusually great skill and daring and energy', 'very good; often used in the negative', 'wanted by the police', 'producing a burning sensation on the taste nerves', 'newest or most recent', '(color) bold and intense', 'very fast; capable of quick response and great speed', 'having or dealing with dangerously high levels of radioactivity', 'having or showing great eagerness or enthusiasm', 'very unpleasant or even dangerous', 'very popular or successful'] ['a mild viral infection involving the nose and respiratory passages (but not the lungs)', 'lacking originality or spontaneity; no longer new', 'unconscious from a blow or shock or intoxication', 'the absence of heat', 'the sensation produced by low temperatures', 'having lost freshness through passage of time', 'lacking the warmth of life', '(color) giving no sensation of warmth', 'having a low or inadequate temperature or feeling a sensation of coldness or having been made cold by e.g. ice or refrigeration', 'marked by errorless familiarity', 'so intense as to be almost uncontrollable', 'without compunction or human feeling', 'sexually unresponsive', 'of a seeker; far from the object sought', 'feeling or showing no enthusiasm', 'extended meanings; especially of psychological coldness; without human warmth or emotion']\n",
      "Value: -1.1701711\n",
      "\n",
      "\n",
      "Index: 1\n",
      "[[['bad', ['take the bad with the good ', 'a bad report card ', 'his sloppy appearance made a bad impression ', 'a bad little boy ', 'clothes in bad shape ', 'a bad cut ', 'bad luck ', 'the news was very bad ', 'the reviews were bad ', 'the pay is bad ', 'it was a bad light for reading ', 'the movie was a bad choice ', 'a bad headache ', 'had a big  or bad  shock ', 'a bad earthquake ', 'a bad storm ', 'my throat feels bad ', 'she felt bad all over ', 'bad meat ', 'he felt bad about breaking the vase ', 'a bad  or uncollectible  debt ', 'a bad chess player ', 'a bad recital ', 'so called bad grammar ', 'a bad investment ', 'has a bad back ', 'a bad heart ', 'bad teeth ', 'bad air ', 'smoking is bad for you ', 'led a very bad life ', 'like a bad penny    ', 'a bad telephone connection ', 'it hurts bad ', 'we need water bad ', 'he wants a bicycle so bad he can taste it ']], ['good', ['for your own good ', 'what s the good of worrying  ', 'there is much good to be found in people ', 'weigh the good against the bad ', 'good news from the hospital ', 'a good report card ', 'when she was good she was very very good ', 'a good knife is one good for cutting ', 'this stump will make a good picnic table ', 'a good check ', 'a good joke ', 'a good exterior paint ', 'a good secretary ', 'a good dress for the office ', 'gives good measure ', 'a good mile from here ', 'ruined the family s good name ', 'the experience was good for her ', 'we all had a good time ', 'good manners ', 'a genuinely good person ', 'a good mechanic ', 'had a good workout ', 'gave the house a good cleaning ', 'a good friend ', 'a good investment ', 'a good time to plant tomatoes ', 'it s a good thing that i wasn t there ', 'it is good that you stayed ', 'a warranty good for two years ', 'good looks ', 'good music ', 'good teeth ', 'i still have one good leg ', 'a good night s sleep ', 'a good dollar bill ', 'the meat is still good ', 'good taste ', 'the baby can walk pretty good ', 'we beat him good ']]], [['capable', ['capable of winning ', 'capable of hard work ', 'capable of walking on two feet ', 'a passage capable of misinterpretation ', 'no one believed her capable of murder ', 'a capable administrator ', 'children as young as 14 can be extremely capable and dependable ']], ['incapable', ['incapable of carrying a tune ', 'he is incapable of understanding the matter ', 'incapable of doing the work ', 'incapable of solution ', 'simply incapable of lying ']]], [['hot', ['hot stove ', 'hot water ', 'a hot august day ', 'a hot stuffy room ', 'she s hot and tired ', 'a hot forehead ', 'the fighting became hot and heavy ', 'a hot engagement ', 'a hot temper ', 'a hot topic ', 'a hot new book ', 'a hot love affair ', 'a hot argument ', 'hot pink ', 'was hot for her ', 'hot pants ', 'hot merchandise ', 'a hot car ', 'a hot sports car ', 'got off to a hot start ', 'in hot pursuit ', 'a red hot line drive ', 'a hot suspect ', 'hot salsa ', 'jalapeno peppers are very hot ', 'a hot drummer ', 'he s hot tonight ', 'one of the hot young talents ', 'cabbage patch dolls were hot last season ', 'make it hot for him ', 'in the hot seat ', 'in hot water ', 'news hot off the press ', 'red hot information ', 'hot at craps ', 'the dice are hot tonight ', 'he s hot at math but not so hot at history ', 'a hot scent ', 'hot for travel ', 'you are hot ', 'hot fuel rods ', 'a hot laboratory ', 'a hot wire ', 'a hot week on the stock market ']], ['cold', ['will they never find a cure for the common cold  ', 'come in out of the cold ', 'cold is a vasoconstrictor ', 'he shivered from the cold ', 'the cold helped clear his head ', 'a cold climate ', 'a cold room ', 'dinner has gotten cold ', 'cold fingers ', 'if you are cold  turn up the heat ', 'a cold beer ', 'a cold unfriendly nod ', 'a cold and unaffectionate person ', 'a cold impersonal manner ', 'cold logic ', 'the concert left me cold ', 'a cold trail ', 'dogs attempting to catch a cold scent ', 'a cold bluish grey ', 'had her lines cold before rehearsals started ', 'cold fury gripped him ', 'was cold to his advances ', 'in cold blood ', 'cold blooded killing ', 'a cold audience ', 'a cold response to the new play ', 'the boxer was out cold ', 'pass out cold ', 'cold in his grave ']]], [['intelligent', ['is there intelligent life in the universe  ', 'an intelligent question ', 'an intelligent solution ']], ['unintelligent', ['a dull job with lazy and unintelligent co workers ']]]]\n",
      "Top: 4\n",
      "Dimension: capable <------> incapable\n",
      "['possibly accepting or permitting', \"(followed by `of') having the temperament or inclination for\", \"(usually followed by `of') having capacity or ability\", 'have the skills and qualifications to do things well', 'having the requisite qualities for'] [\"(followed by `of') lacking capacity or ability\", \"not being susceptible to or admitting of something (usually followed by `of')\", 'not meeting requirements', \"(followed by `of') not having the temperament or inclination for\"]\n",
      "Value:0.5392138957977295\n",
      "\n",
      "\n"
     ]
    },
    {
     "data": {
      "application/vnd.plotly.v1+json": {
       "config": {
        "plotlyServerURL": "https://plot.ly"
       },
       "data": [
        {
         "legendgroup": "fire",
         "marker": {
          "color": "rgb(68, 1, 84)",
          "size": 20,
          "symbol": "square"
         },
         "mode": "markers",
         "name": "fire",
         "showlegend": true,
         "type": "scatter",
         "x": [
          -1.6723346710205078
         ],
         "y": [
          0.01
         ]
        },
        {
         "legendgroup": "fire",
         "line": {
          "color": "rgb(68, 1, 84)",
          "width": 2
         },
         "mode": "lines",
         "showlegend": false,
         "type": "scatter",
         "x": [
          -1.6723346710205078,
          0
         ],
         "y": [
          0.01,
          0.01
         ]
        },
        {
         "legendgroup": "sun",
         "marker": {
          "color": "rgb(253, 231, 37)",
          "size": 20,
          "symbol": "square"
         },
         "mode": "markers",
         "name": "sun",
         "showlegend": true,
         "type": "scatter",
         "x": [
          -1.1701711416244507
         ],
         "y": [
          0.01
         ]
        },
        {
         "legendgroup": "sun",
         "line": {
          "color": "rgb(253, 231, 37)",
          "width": 2
         },
         "mode": "lines",
         "showlegend": false,
         "type": "scatter",
         "x": [
          -1.1701711416244507,
          0
         ],
         "y": [
          0.01,
          0.01
         ]
        },
        {
         "legendgroup": "fire",
         "marker": {
          "color": "rgb(68, 1, 84)",
          "size": 20,
          "symbol": "square"
         },
         "mode": "markers",
         "name": "fire",
         "showlegend": false,
         "type": "scatter",
         "x": [
          -1.3139641284942627
         ],
         "y": [
          0.115
         ]
        },
        {
         "legendgroup": "fire",
         "line": {
          "color": "rgb(68, 1, 84)",
          "width": 2
         },
         "mode": "lines",
         "showlegend": false,
         "type": "scatter",
         "x": [
          -1.3139641284942627,
          0
         ],
         "y": [
          0.115,
          0.115
         ]
        },
        {
         "legendgroup": "sun",
         "marker": {
          "color": "rgb(253, 231, 37)",
          "size": 20,
          "symbol": "square"
         },
         "mode": "markers",
         "name": "sun",
         "showlegend": false,
         "type": "scatter",
         "x": [
          -2.1102662086486816
         ],
         "y": [
          0.115
         ]
        },
        {
         "legendgroup": "sun",
         "line": {
          "color": "rgb(253, 231, 37)",
          "width": 2
         },
         "mode": "lines",
         "showlegend": false,
         "type": "scatter",
         "x": [
          -2.1102662086486816,
          0
         ],
         "y": [
          0.115,
          0.115
         ]
        },
        {
         "legendgroup": "fire",
         "marker": {
          "color": "rgb(68, 1, 84)",
          "size": 20,
          "symbol": "square"
         },
         "mode": "markers",
         "name": "fire",
         "showlegend": false,
         "type": "scatter",
         "x": [
          0.6392658948898315
         ],
         "y": [
          0.22000000000000003
         ]
        },
        {
         "legendgroup": "fire",
         "line": {
          "color": "rgb(68, 1, 84)",
          "width": 2
         },
         "mode": "lines",
         "showlegend": false,
         "type": "scatter",
         "x": [
          0.6392658948898315,
          0
         ],
         "y": [
          0.22000000000000003,
          0.22000000000000003
         ]
        },
        {
         "legendgroup": "sun",
         "marker": {
          "color": "rgb(253, 231, 37)",
          "size": 20,
          "symbol": "square"
         },
         "mode": "markers",
         "name": "sun",
         "showlegend": false,
         "type": "scatter",
         "x": [
          0.5392138957977295
         ],
         "y": [
          0.22000000000000003
         ]
        },
        {
         "legendgroup": "sun",
         "line": {
          "color": "rgb(253, 231, 37)",
          "width": 2
         },
         "mode": "lines",
         "showlegend": false,
         "type": "scatter",
         "x": [
          0.5392138957977295,
          0
         ],
         "y": [
          0.22000000000000003,
          0.22000000000000003
         ]
        },
        {
         "legendgroup": "fire",
         "marker": {
          "color": "rgb(68, 1, 84)",
          "size": 20,
          "symbol": "square"
         },
         "mode": "markers",
         "name": "fire",
         "showlegend": false,
         "type": "scatter",
         "x": [
          0.5019084215164185
         ],
         "y": [
          0.32500000000000007
         ]
        },
        {
         "legendgroup": "fire",
         "line": {
          "color": "rgb(68, 1, 84)",
          "width": 2
         },
         "mode": "lines",
         "showlegend": false,
         "type": "scatter",
         "x": [
          0.5019084215164185,
          0
         ],
         "y": [
          0.32500000000000007,
          0.32500000000000007
         ]
        },
        {
         "legendgroup": "sun",
         "marker": {
          "color": "rgb(253, 231, 37)",
          "size": 20,
          "symbol": "square"
         },
         "mode": "markers",
         "name": "sun",
         "showlegend": false,
         "type": "scatter",
         "x": [
          1.4804089069366455
         ],
         "y": [
          0.32500000000000007
         ]
        },
        {
         "legendgroup": "sun",
         "line": {
          "color": "rgb(253, 231, 37)",
          "width": 2
         },
         "mode": "lines",
         "showlegend": false,
         "type": "scatter",
         "x": [
          1.4804089069366455,
          0
         ],
         "y": [
          0.32500000000000007,
          0.32500000000000007
         ]
        }
       ],
       "layout": {
        "annotations": [
         {
          "font": {
           "size": 18
          },
          "showarrow": false,
          "text": "hot",
          "x": -2.310266208648682,
          "xanchor": "right",
          "xref": "x",
          "y": 0.01,
          "yref": "y"
         },
         {
          "font": {
           "size": 18
          },
          "showarrow": false,
          "text": "cold",
          "x": 2.310266208648682,
          "xanchor": "left",
          "xref": "x",
          "y": 0.01,
          "yref": "y"
         },
         {
          "font": {
           "size": 18
          },
          "showarrow": false,
          "text": "intelligent",
          "x": -2.310266208648682,
          "xanchor": "right",
          "xref": "x",
          "y": 0.115,
          "yref": "y"
         },
         {
          "font": {
           "size": 18
          },
          "showarrow": false,
          "text": "unintelligent",
          "x": 2.310266208648682,
          "xanchor": "left",
          "xref": "x",
          "y": 0.115,
          "yref": "y"
         },
         {
          "font": {
           "size": 18
          },
          "showarrow": false,
          "text": "capable",
          "x": -2.310266208648682,
          "xanchor": "right",
          "xref": "x",
          "y": 0.22000000000000003,
          "yref": "y"
         },
         {
          "font": {
           "size": 18
          },
          "showarrow": false,
          "text": "incapable",
          "x": 2.310266208648682,
          "xanchor": "left",
          "xref": "x",
          "y": 0.22000000000000003,
          "yref": "y"
         },
         {
          "font": {
           "size": 18
          },
          "showarrow": false,
          "text": "bad",
          "x": -2.310266208648682,
          "xanchor": "right",
          "xref": "x",
          "y": 0.32500000000000007,
          "yref": "y"
         },
         {
          "font": {
           "size": 18
          },
          "showarrow": false,
          "text": "good",
          "x": 2.310266208648682,
          "xanchor": "left",
          "xref": "x",
          "y": 0.32500000000000007,
          "yref": "y"
         }
        ],
        "shapes": [
         {
          "line": {
           "color": "black",
           "width": 1
          },
          "type": "line",
          "x0": -2.2102662086486817,
          "x1": 2.2102662086486817,
          "y0": 0,
          "y1": 0
         },
         {
          "line": {
           "color": "black",
           "width": 1
          },
          "type": "line",
          "x0": -2.2102662086486817,
          "x1": -2.2102662086486817,
          "y0": 0,
          "y1": 0.4
         },
         {
          "line": {
           "color": "black",
           "width": 1
          },
          "type": "line",
          "x0": 2.2102662086486817,
          "x1": 2.2102662086486817,
          "y0": 0,
          "y1": 0.4
         },
         {
          "line": {
           "color": "black",
           "dash": "dash",
           "width": 1
          },
          "type": "line",
          "x0": 0,
          "x1": 0,
          "y0": 0,
          "y1": 0.4
         }
        ],
        "template": {
         "data": {
          "bar": [
           {
            "error_x": {
             "color": "#2a3f5f"
            },
            "error_y": {
             "color": "#2a3f5f"
            },
            "marker": {
             "line": {
              "color": "#E5ECF6",
              "width": 0.5
             },
             "pattern": {
              "fillmode": "overlay",
              "size": 10,
              "solidity": 0.2
             }
            },
            "type": "bar"
           }
          ],
          "barpolar": [
           {
            "marker": {
             "line": {
              "color": "#E5ECF6",
              "width": 0.5
             },
             "pattern": {
              "fillmode": "overlay",
              "size": 10,
              "solidity": 0.2
             }
            },
            "type": "barpolar"
           }
          ],
          "carpet": [
           {
            "aaxis": {
             "endlinecolor": "#2a3f5f",
             "gridcolor": "white",
             "linecolor": "white",
             "minorgridcolor": "white",
             "startlinecolor": "#2a3f5f"
            },
            "baxis": {
             "endlinecolor": "#2a3f5f",
             "gridcolor": "white",
             "linecolor": "white",
             "minorgridcolor": "white",
             "startlinecolor": "#2a3f5f"
            },
            "type": "carpet"
           }
          ],
          "choropleth": [
           {
            "colorbar": {
             "outlinewidth": 0,
             "ticks": ""
            },
            "type": "choropleth"
           }
          ],
          "contour": [
           {
            "colorbar": {
             "outlinewidth": 0,
             "ticks": ""
            },
            "colorscale": [
             [
              0,
              "#0d0887"
             ],
             [
              0.1111111111111111,
              "#46039f"
             ],
             [
              0.2222222222222222,
              "#7201a8"
             ],
             [
              0.3333333333333333,
              "#9c179e"
             ],
             [
              0.4444444444444444,
              "#bd3786"
             ],
             [
              0.5555555555555556,
              "#d8576b"
             ],
             [
              0.6666666666666666,
              "#ed7953"
             ],
             [
              0.7777777777777778,
              "#fb9f3a"
             ],
             [
              0.8888888888888888,
              "#fdca26"
             ],
             [
              1,
              "#f0f921"
             ]
            ],
            "type": "contour"
           }
          ],
          "contourcarpet": [
           {
            "colorbar": {
             "outlinewidth": 0,
             "ticks": ""
            },
            "type": "contourcarpet"
           }
          ],
          "heatmap": [
           {
            "colorbar": {
             "outlinewidth": 0,
             "ticks": ""
            },
            "colorscale": [
             [
              0,
              "#0d0887"
             ],
             [
              0.1111111111111111,
              "#46039f"
             ],
             [
              0.2222222222222222,
              "#7201a8"
             ],
             [
              0.3333333333333333,
              "#9c179e"
             ],
             [
              0.4444444444444444,
              "#bd3786"
             ],
             [
              0.5555555555555556,
              "#d8576b"
             ],
             [
              0.6666666666666666,
              "#ed7953"
             ],
             [
              0.7777777777777778,
              "#fb9f3a"
             ],
             [
              0.8888888888888888,
              "#fdca26"
             ],
             [
              1,
              "#f0f921"
             ]
            ],
            "type": "heatmap"
           }
          ],
          "heatmapgl": [
           {
            "colorbar": {
             "outlinewidth": 0,
             "ticks": ""
            },
            "colorscale": [
             [
              0,
              "#0d0887"
             ],
             [
              0.1111111111111111,
              "#46039f"
             ],
             [
              0.2222222222222222,
              "#7201a8"
             ],
             [
              0.3333333333333333,
              "#9c179e"
             ],
             [
              0.4444444444444444,
              "#bd3786"
             ],
             [
              0.5555555555555556,
              "#d8576b"
             ],
             [
              0.6666666666666666,
              "#ed7953"
             ],
             [
              0.7777777777777778,
              "#fb9f3a"
             ],
             [
              0.8888888888888888,
              "#fdca26"
             ],
             [
              1,
              "#f0f921"
             ]
            ],
            "type": "heatmapgl"
           }
          ],
          "histogram": [
           {
            "marker": {
             "pattern": {
              "fillmode": "overlay",
              "size": 10,
              "solidity": 0.2
             }
            },
            "type": "histogram"
           }
          ],
          "histogram2d": [
           {
            "colorbar": {
             "outlinewidth": 0,
             "ticks": ""
            },
            "colorscale": [
             [
              0,
              "#0d0887"
             ],
             [
              0.1111111111111111,
              "#46039f"
             ],
             [
              0.2222222222222222,
              "#7201a8"
             ],
             [
              0.3333333333333333,
              "#9c179e"
             ],
             [
              0.4444444444444444,
              "#bd3786"
             ],
             [
              0.5555555555555556,
              "#d8576b"
             ],
             [
              0.6666666666666666,
              "#ed7953"
             ],
             [
              0.7777777777777778,
              "#fb9f3a"
             ],
             [
              0.8888888888888888,
              "#fdca26"
             ],
             [
              1,
              "#f0f921"
             ]
            ],
            "type": "histogram2d"
           }
          ],
          "histogram2dcontour": [
           {
            "colorbar": {
             "outlinewidth": 0,
             "ticks": ""
            },
            "colorscale": [
             [
              0,
              "#0d0887"
             ],
             [
              0.1111111111111111,
              "#46039f"
             ],
             [
              0.2222222222222222,
              "#7201a8"
             ],
             [
              0.3333333333333333,
              "#9c179e"
             ],
             [
              0.4444444444444444,
              "#bd3786"
             ],
             [
              0.5555555555555556,
              "#d8576b"
             ],
             [
              0.6666666666666666,
              "#ed7953"
             ],
             [
              0.7777777777777778,
              "#fb9f3a"
             ],
             [
              0.8888888888888888,
              "#fdca26"
             ],
             [
              1,
              "#f0f921"
             ]
            ],
            "type": "histogram2dcontour"
           }
          ],
          "mesh3d": [
           {
            "colorbar": {
             "outlinewidth": 0,
             "ticks": ""
            },
            "type": "mesh3d"
           }
          ],
          "parcoords": [
           {
            "line": {
             "colorbar": {
              "outlinewidth": 0,
              "ticks": ""
             }
            },
            "type": "parcoords"
           }
          ],
          "pie": [
           {
            "automargin": true,
            "type": "pie"
           }
          ],
          "scatter": [
           {
            "fillpattern": {
             "fillmode": "overlay",
             "size": 10,
             "solidity": 0.2
            },
            "type": "scatter"
           }
          ],
          "scatter3d": [
           {
            "line": {
             "colorbar": {
              "outlinewidth": 0,
              "ticks": ""
             }
            },
            "marker": {
             "colorbar": {
              "outlinewidth": 0,
              "ticks": ""
             }
            },
            "type": "scatter3d"
           }
          ],
          "scattercarpet": [
           {
            "marker": {
             "colorbar": {
              "outlinewidth": 0,
              "ticks": ""
             }
            },
            "type": "scattercarpet"
           }
          ],
          "scattergeo": [
           {
            "marker": {
             "colorbar": {
              "outlinewidth": 0,
              "ticks": ""
             }
            },
            "type": "scattergeo"
           }
          ],
          "scattergl": [
           {
            "marker": {
             "colorbar": {
              "outlinewidth": 0,
              "ticks": ""
             }
            },
            "type": "scattergl"
           }
          ],
          "scattermapbox": [
           {
            "marker": {
             "colorbar": {
              "outlinewidth": 0,
              "ticks": ""
             }
            },
            "type": "scattermapbox"
           }
          ],
          "scatterpolar": [
           {
            "marker": {
             "colorbar": {
              "outlinewidth": 0,
              "ticks": ""
             }
            },
            "type": "scatterpolar"
           }
          ],
          "scatterpolargl": [
           {
            "marker": {
             "colorbar": {
              "outlinewidth": 0,
              "ticks": ""
             }
            },
            "type": "scatterpolargl"
           }
          ],
          "scatterternary": [
           {
            "marker": {
             "colorbar": {
              "outlinewidth": 0,
              "ticks": ""
             }
            },
            "type": "scatterternary"
           }
          ],
          "surface": [
           {
            "colorbar": {
             "outlinewidth": 0,
             "ticks": ""
            },
            "colorscale": [
             [
              0,
              "#0d0887"
             ],
             [
              0.1111111111111111,
              "#46039f"
             ],
             [
              0.2222222222222222,
              "#7201a8"
             ],
             [
              0.3333333333333333,
              "#9c179e"
             ],
             [
              0.4444444444444444,
              "#bd3786"
             ],
             [
              0.5555555555555556,
              "#d8576b"
             ],
             [
              0.6666666666666666,
              "#ed7953"
             ],
             [
              0.7777777777777778,
              "#fb9f3a"
             ],
             [
              0.8888888888888888,
              "#fdca26"
             ],
             [
              1,
              "#f0f921"
             ]
            ],
            "type": "surface"
           }
          ],
          "table": [
           {
            "cells": {
             "fill": {
              "color": "#EBF0F8"
             },
             "line": {
              "color": "white"
             }
            },
            "header": {
             "fill": {
              "color": "#C8D4E3"
             },
             "line": {
              "color": "white"
             }
            },
            "type": "table"
           }
          ]
         },
         "layout": {
          "annotationdefaults": {
           "arrowcolor": "#2a3f5f",
           "arrowhead": 0,
           "arrowwidth": 1
          },
          "autotypenumbers": "strict",
          "coloraxis": {
           "colorbar": {
            "outlinewidth": 0,
            "ticks": ""
           }
          },
          "colorscale": {
           "diverging": [
            [
             0,
             "#8e0152"
            ],
            [
             0.1,
             "#c51b7d"
            ],
            [
             0.2,
             "#de77ae"
            ],
            [
             0.3,
             "#f1b6da"
            ],
            [
             0.4,
             "#fde0ef"
            ],
            [
             0.5,
             "#f7f7f7"
            ],
            [
             0.6,
             "#e6f5d0"
            ],
            [
             0.7,
             "#b8e186"
            ],
            [
             0.8,
             "#7fbc41"
            ],
            [
             0.9,
             "#4d9221"
            ],
            [
             1,
             "#276419"
            ]
           ],
           "sequential": [
            [
             0,
             "#0d0887"
            ],
            [
             0.1111111111111111,
             "#46039f"
            ],
            [
             0.2222222222222222,
             "#7201a8"
            ],
            [
             0.3333333333333333,
             "#9c179e"
            ],
            [
             0.4444444444444444,
             "#bd3786"
            ],
            [
             0.5555555555555556,
             "#d8576b"
            ],
            [
             0.6666666666666666,
             "#ed7953"
            ],
            [
             0.7777777777777778,
             "#fb9f3a"
            ],
            [
             0.8888888888888888,
             "#fdca26"
            ],
            [
             1,
             "#f0f921"
            ]
           ],
           "sequentialminus": [
            [
             0,
             "#0d0887"
            ],
            [
             0.1111111111111111,
             "#46039f"
            ],
            [
             0.2222222222222222,
             "#7201a8"
            ],
            [
             0.3333333333333333,
             "#9c179e"
            ],
            [
             0.4444444444444444,
             "#bd3786"
            ],
            [
             0.5555555555555556,
             "#d8576b"
            ],
            [
             0.6666666666666666,
             "#ed7953"
            ],
            [
             0.7777777777777778,
             "#fb9f3a"
            ],
            [
             0.8888888888888888,
             "#fdca26"
            ],
            [
             1,
             "#f0f921"
            ]
           ]
          },
          "colorway": [
           "#636efa",
           "#EF553B",
           "#00cc96",
           "#ab63fa",
           "#FFA15A",
           "#19d3f3",
           "#FF6692",
           "#B6E880",
           "#FF97FF",
           "#FECB52"
          ],
          "font": {
           "color": "#2a3f5f"
          },
          "geo": {
           "bgcolor": "white",
           "lakecolor": "white",
           "landcolor": "#E5ECF6",
           "showlakes": true,
           "showland": true,
           "subunitcolor": "white"
          },
          "hoverlabel": {
           "align": "left"
          },
          "hovermode": "closest",
          "mapbox": {
           "style": "light"
          },
          "paper_bgcolor": "white",
          "plot_bgcolor": "#E5ECF6",
          "polar": {
           "angularaxis": {
            "gridcolor": "white",
            "linecolor": "white",
            "ticks": ""
           },
           "bgcolor": "#E5ECF6",
           "radialaxis": {
            "gridcolor": "white",
            "linecolor": "white",
            "ticks": ""
           }
          },
          "scene": {
           "xaxis": {
            "backgroundcolor": "#E5ECF6",
            "gridcolor": "white",
            "gridwidth": 2,
            "linecolor": "white",
            "showbackground": true,
            "ticks": "",
            "zerolinecolor": "white"
           },
           "yaxis": {
            "backgroundcolor": "#E5ECF6",
            "gridcolor": "white",
            "gridwidth": 2,
            "linecolor": "white",
            "showbackground": true,
            "ticks": "",
            "zerolinecolor": "white"
           },
           "zaxis": {
            "backgroundcolor": "#E5ECF6",
            "gridcolor": "white",
            "gridwidth": 2,
            "linecolor": "white",
            "showbackground": true,
            "ticks": "",
            "zerolinecolor": "white"
           }
          },
          "shapedefaults": {
           "line": {
            "color": "#2a3f5f"
           }
          },
          "ternary": {
           "aaxis": {
            "gridcolor": "white",
            "linecolor": "white",
            "ticks": ""
           },
           "baxis": {
            "gridcolor": "white",
            "linecolor": "white",
            "ticks": ""
           },
           "bgcolor": "#E5ECF6",
           "caxis": {
            "gridcolor": "white",
            "linecolor": "white",
            "ticks": ""
           }
          },
          "title": {
           "x": 0.05
          },
          "xaxis": {
           "automargin": true,
           "gridcolor": "white",
           "linecolor": "white",
           "ticks": "",
           "title": {
            "standoff": 15
           },
           "zerolinecolor": "white",
           "zerolinewidth": 2
          },
          "yaxis": {
           "automargin": true,
           "gridcolor": "white",
           "linecolor": "white",
           "ticks": "",
           "title": {
            "standoff": 15
           },
           "zerolinecolor": "white",
           "zerolinewidth": 2
          }
         }
        },
        "xaxis": {
         "anchor": "y",
         "autorange": true,
         "domain": [
          0,
          1
         ],
         "range": [
          -2.2102662086486817,
          1.5804089069366456
         ],
         "title": {
          "text": "Polarity"
         }
        },
        "yaxis": {
         "anchor": "x",
         "autorange": true,
         "domain": [
          0,
          1
         ],
         "title": {
          "text": "Words"
         }
        }
       }
      }
     },
     "metadata": {},
     "output_type": "display_data"
    }
   ],
   "source": [
    "out_path = './antonyms/'\n",
    "# antonym_path = \"data_file.xlsx\"\n",
    "dims = [['hot', 'cold'], ['bad', 'good'], ['intelligent', 'unintelligent'], ['capable', 'incapable']]\n",
    "\n",
    "dictionary = Dictionary('wordnet', api_key='')    \n",
    "# dictionary = Dictionary('dictionaryapi', api_key='b4b51989-1b9d-4690-8975-4a83df13efc4 ')\n",
    "# dictionary = Dictionary('wordnik', api_key='6488daf20061aa3e6200c013b470fa8ef1f2678c19b36ef05')\n",
    "lookupSpace = LookupCreator(dictionary, out_path, antonym_pairs=dims)\n",
    "lookupSpace.create_lookup_files()\n",
    "\n",
    "antonym_path = out_path + \"polar_dimensions.pkl\"\n",
    "\n",
    "model = BERTWordEmbeddings()\n",
    "\n",
    "pdc = PolarDimensions(model, antonym_path=out_path + \"antonym_wordnet_example_sentences_readable_extended.txt\")\n",
    "pdc.create_polar_dimensions(out_path)\n",
    "\n",
    "words, context = ['fire', \"sun\"], [\"the fire is burning\", \"sun is shining\"]\n",
    "wp = WordPolarity(model, antonym_path=antonym_path,lookup_path=out_path, method='projection', number_polar=4)\n",
    "\n",
    "polar_dimensions = []\n",
    "for word, context in zip(words, context):\n",
    "    dimension = wp.analyze_word(word, context)\n",
    "    polar_dimensions.append(dimension)\n",
    "\n",
    "plotter.plot_word_polarity(words, polar_dimensions)"
   ]
  },
  {
   "cell_type": "code",
   "execution_count": 27,
   "metadata": {},
   "outputs": [],
   "source": [
    "# plotter.plot_word_polarity_2d(words, polar_dimensions)"
   ]
  },
  {
   "cell_type": "code",
   "execution_count": 23,
   "metadata": {},
   "outputs": [
    {
     "name": "stderr",
     "output_type": "stream",
     "text": [
      "Some weights of the model checkpoint at bert-base-uncased were not used when initializing BertModel: ['cls.predictions.transform.LayerNorm.weight', 'cls.predictions.transform.LayerNorm.bias', 'cls.predictions.transform.dense.weight', 'cls.predictions.bias', 'cls.predictions.transform.dense.bias', 'cls.seq_relationship.bias', 'cls.predictions.decoder.weight', 'cls.seq_relationship.weight']\n",
      "- This IS expected if you are initializing BertModel from the checkpoint of a model trained on another task or with another architecture (e.g. initializing a BertForSequenceClassification model from a BertForPreTraining model).\n",
      "- This IS NOT expected if you are initializing BertModel from the checkpoint of a model that you expect to be exactly identical (initializing a BertForSequenceClassification model from a BertForSequenceClassification model).\n"
     ]
    },
    {
     "name": "stdout",
     "output_type": "stream",
     "text": [
      "{\"['cold.a.01', 'hot.a.01']\": {'cold': ['a cold climate ', 'a cold room ', 'dinner has gotten cold ', 'cold fingers ', 'if you are cold  turn up the heat ', 'a cold beer '], 'hot': ['hot stove ', 'hot water ', 'a hot August day ', 'a hot stuffy room ', 'she s hot and tired ', 'a hot forehead ']}, \"['bad.a.01', 'good.a.01']\": {'bad': ['a bad report card ', 'his sloppy appearance made a bad impression ', 'a bad little boy ', 'clothes in bad shape ', 'a bad cut ', 'bad luck ', 'the news was very bad ', 'the reviews were bad ', 'the pay is bad ', 'it was a bad light for reading ', 'the movie was a bad choice '], 'good': ['good news from the hospital ', 'a good report card ', 'when she was good she was very very good ', 'a good knife is one good for cutting ', 'this stump will make a good picnic table ', 'a good check ', 'a good joke ', 'a good exterior paint ', 'a good secretary ', 'a good dress for the office ']}, \"['intelligent.a.01', 'unintelligent.a.01']\": {'intelligent': ['is there intelligent life in the universe  ', 'an intelligent question '], 'unintelligent': ['a dull job with lazy and unintelligent co workers ']}, \"['capable.a.01', 'incapable.a.01']\": {'capable': ['capable of winning ', 'capable of hard work ', 'capable of walking on two feet '], 'incapable': ['incapable of carrying a tune ', 'he is incapable of understanding the matter ', 'incapable of doing the work ']}}\n",
      "Loading antonyms from ../SensePOLAR-TeamProject/antonyms/lookup_anto_example_dict.pkl\n",
      "Index: 0\n",
      "[[['cold', ['a cold climate ', 'a cold room ', 'dinner has gotten cold ', 'cold fingers ', 'if you are cold  turn up the heat ', 'a cold beer ']], ['hot', ['hot stove ', 'hot water ', 'a hot August day ', 'a hot stuffy room ', 'she s hot and tired ', 'a hot forehead ']]], [['bad', ['a bad report card ', 'his sloppy appearance made a bad impression ', 'a bad little boy ', 'clothes in bad shape ', 'a bad cut ', 'bad luck ', 'the news was very bad ', 'the reviews were bad ', 'the pay is bad ', 'it was a bad light for reading ', 'the movie was a bad choice ']], ['good', ['good news from the hospital ', 'a good report card ', 'when she was good she was very very good ', 'a good knife is one good for cutting ', 'this stump will make a good picnic table ', 'a good check ', 'a good joke ', 'a good exterior paint ', 'a good secretary ', 'a good dress for the office ']]], [['intelligent', ['is there intelligent life in the universe  ', 'an intelligent question ']], ['unintelligent', ['a dull job with lazy and unintelligent co workers ']]], [['capable', ['capable of winning ', 'capable of hard work ', 'capable of walking on two feet ']], ['incapable', ['incapable of carrying a tune ', 'he is incapable of understanding the matter ', 'incapable of doing the work ']]]]\n",
      "Top: 1\n",
      "Dimension: cold <------> hot\n",
      "having a low or inadequate temperature or feeling a sensation of coldness or having been made cold by e.g. ice or refrigeration used of physical heat; having a high or higher than desirable temperature or giving off heat or feeling or causing a sensation of heat or burning\n",
      "Value:0.3066956102848053\n",
      "\n",
      "\n",
      "Index: 2\n",
      "[[['cold', ['a cold climate ', 'a cold room ', 'dinner has gotten cold ', 'cold fingers ', 'if you are cold  turn up the heat ', 'a cold beer ']], ['hot', ['hot stove ', 'hot water ', 'a hot August day ', 'a hot stuffy room ', 'she s hot and tired ', 'a hot forehead ']]], [['bad', ['a bad report card ', 'his sloppy appearance made a bad impression ', 'a bad little boy ', 'clothes in bad shape ', 'a bad cut ', 'bad luck ', 'the news was very bad ', 'the reviews were bad ', 'the pay is bad ', 'it was a bad light for reading ', 'the movie was a bad choice ']], ['good', ['good news from the hospital ', 'a good report card ', 'when she was good she was very very good ', 'a good knife is one good for cutting ', 'this stump will make a good picnic table ', 'a good check ', 'a good joke ', 'a good exterior paint ', 'a good secretary ', 'a good dress for the office ']]], [['intelligent', ['is there intelligent life in the universe  ', 'an intelligent question ']], ['unintelligent', ['a dull job with lazy and unintelligent co workers ']]], [['capable', ['capable of winning ', 'capable of hard work ', 'capable of walking on two feet ']], ['incapable', ['incapable of carrying a tune ', 'he is incapable of understanding the matter ', 'incapable of doing the work ']]]]\n",
      "Top: 2\n",
      "Dimension: intelligent <------> unintelligent\n",
      "having the capacity for thought and reason especially to a high degree lacking intelligence\n",
      "Value: -0.08927028\n",
      "\n",
      "\n",
      "Index: 1\n",
      "[[['cold', ['a cold climate ', 'a cold room ', 'dinner has gotten cold ', 'cold fingers ', 'if you are cold  turn up the heat ', 'a cold beer ']], ['hot', ['hot stove ', 'hot water ', 'a hot August day ', 'a hot stuffy room ', 'she s hot and tired ', 'a hot forehead ']]], [['bad', ['a bad report card ', 'his sloppy appearance made a bad impression ', 'a bad little boy ', 'clothes in bad shape ', 'a bad cut ', 'bad luck ', 'the news was very bad ', 'the reviews were bad ', 'the pay is bad ', 'it was a bad light for reading ', 'the movie was a bad choice ']], ['good', ['good news from the hospital ', 'a good report card ', 'when she was good she was very very good ', 'a good knife is one good for cutting ', 'this stump will make a good picnic table ', 'a good check ', 'a good joke ', 'a good exterior paint ', 'a good secretary ', 'a good dress for the office ']]], [['intelligent', ['is there intelligent life in the universe  ', 'an intelligent question ']], ['unintelligent', ['a dull job with lazy and unintelligent co workers ']]], [['capable', ['capable of winning ', 'capable of hard work ', 'capable of walking on two feet ']], ['incapable', ['incapable of carrying a tune ', 'he is incapable of understanding the matter ', 'incapable of doing the work ']]]]\n",
      "Top: 3\n",
      "Dimension: bad <------> good\n",
      "having undesirable or negative qualities having desirable or positive qualities especially those suitable for a thing specified\n",
      "Value: -0.08153017\n",
      "\n",
      "\n",
      "Index: 3\n",
      "[[['cold', ['a cold climate ', 'a cold room ', 'dinner has gotten cold ', 'cold fingers ', 'if you are cold  turn up the heat ', 'a cold beer ']], ['hot', ['hot stove ', 'hot water ', 'a hot August day ', 'a hot stuffy room ', 'she s hot and tired ', 'a hot forehead ']]], [['bad', ['a bad report card ', 'his sloppy appearance made a bad impression ', 'a bad little boy ', 'clothes in bad shape ', 'a bad cut ', 'bad luck ', 'the news was very bad ', 'the reviews were bad ', 'the pay is bad ', 'it was a bad light for reading ', 'the movie was a bad choice ']], ['good', ['good news from the hospital ', 'a good report card ', 'when she was good she was very very good ', 'a good knife is one good for cutting ', 'this stump will make a good picnic table ', 'a good check ', 'a good joke ', 'a good exterior paint ', 'a good secretary ', 'a good dress for the office ']]], [['intelligent', ['is there intelligent life in the universe  ', 'an intelligent question ']], ['unintelligent', ['a dull job with lazy and unintelligent co workers ']]], [['capable', ['capable of winning ', 'capable of hard work ', 'capable of walking on two feet ']], ['incapable', ['incapable of carrying a tune ', 'he is incapable of understanding the matter ', 'incapable of doing the work ']]]]\n",
      "Top: 4\n",
      "Dimension: capable <------> incapable\n",
      "(usually followed by `of') having capacity or ability (followed by `of') lacking capacity or ability\n",
      "Value:0.03215548396110535\n",
      "\n",
      "\n",
      "Index: 0\n",
      "[[['cold', ['a cold climate ', 'a cold room ', 'dinner has gotten cold ', 'cold fingers ', 'if you are cold  turn up the heat ', 'a cold beer ']], ['hot', ['hot stove ', 'hot water ', 'a hot August day ', 'a hot stuffy room ', 'she s hot and tired ', 'a hot forehead ']]], [['bad', ['a bad report card ', 'his sloppy appearance made a bad impression ', 'a bad little boy ', 'clothes in bad shape ', 'a bad cut ', 'bad luck ', 'the news was very bad ', 'the reviews were bad ', 'the pay is bad ', 'it was a bad light for reading ', 'the movie was a bad choice ']], ['good', ['good news from the hospital ', 'a good report card ', 'when she was good she was very very good ', 'a good knife is one good for cutting ', 'this stump will make a good picnic table ', 'a good check ', 'a good joke ', 'a good exterior paint ', 'a good secretary ', 'a good dress for the office ']]], [['intelligent', ['is there intelligent life in the universe  ', 'an intelligent question ']], ['unintelligent', ['a dull job with lazy and unintelligent co workers ']]], [['capable', ['capable of winning ', 'capable of hard work ', 'capable of walking on two feet ']], ['incapable', ['incapable of carrying a tune ', 'he is incapable of understanding the matter ', 'incapable of doing the work ']]]]\n",
      "Top: 1\n",
      "Dimension: cold <------> hot\n",
      "having a low or inadequate temperature or feeling a sensation of coldness or having been made cold by e.g. ice or refrigeration used of physical heat; having a high or higher than desirable temperature or giving off heat or feeling or causing a sensation of heat or burning\n",
      "Value:0.2665688991546631\n",
      "\n",
      "\n",
      "Index: 3\n",
      "[[['cold', ['a cold climate ', 'a cold room ', 'dinner has gotten cold ', 'cold fingers ', 'if you are cold  turn up the heat ', 'a cold beer ']], ['hot', ['hot stove ', 'hot water ', 'a hot August day ', 'a hot stuffy room ', 'she s hot and tired ', 'a hot forehead ']]], [['bad', ['a bad report card ', 'his sloppy appearance made a bad impression ', 'a bad little boy ', 'clothes in bad shape ', 'a bad cut ', 'bad luck ', 'the news was very bad ', 'the reviews were bad ', 'the pay is bad ', 'it was a bad light for reading ', 'the movie was a bad choice ']], ['good', ['good news from the hospital ', 'a good report card ', 'when she was good she was very very good ', 'a good knife is one good for cutting ', 'this stump will make a good picnic table ', 'a good check ', 'a good joke ', 'a good exterior paint ', 'a good secretary ', 'a good dress for the office ']]], [['intelligent', ['is there intelligent life in the universe  ', 'an intelligent question ']], ['unintelligent', ['a dull job with lazy and unintelligent co workers ']]], [['capable', ['capable of winning ', 'capable of hard work ', 'capable of walking on two feet ']], ['incapable', ['incapable of carrying a tune ', 'he is incapable of understanding the matter ', 'incapable of doing the work ']]]]\n",
      "Top: 2\n",
      "Dimension: capable <------> incapable\n",
      "(usually followed by `of') having capacity or ability (followed by `of') lacking capacity or ability\n",
      "Value: -0.23882166\n",
      "\n",
      "\n",
      "Index: 1\n",
      "[[['cold', ['a cold climate ', 'a cold room ', 'dinner has gotten cold ', 'cold fingers ', 'if you are cold  turn up the heat ', 'a cold beer ']], ['hot', ['hot stove ', 'hot water ', 'a hot August day ', 'a hot stuffy room ', 'she s hot and tired ', 'a hot forehead ']]], [['bad', ['a bad report card ', 'his sloppy appearance made a bad impression ', 'a bad little boy ', 'clothes in bad shape ', 'a bad cut ', 'bad luck ', 'the news was very bad ', 'the reviews were bad ', 'the pay is bad ', 'it was a bad light for reading ', 'the movie was a bad choice ']], ['good', ['good news from the hospital ', 'a good report card ', 'when she was good she was very very good ', 'a good knife is one good for cutting ', 'this stump will make a good picnic table ', 'a good check ', 'a good joke ', 'a good exterior paint ', 'a good secretary ', 'a good dress for the office ']]], [['intelligent', ['is there intelligent life in the universe  ', 'an intelligent question ']], ['unintelligent', ['a dull job with lazy and unintelligent co workers ']]], [['capable', ['capable of winning ', 'capable of hard work ', 'capable of walking on two feet ']], ['incapable', ['incapable of carrying a tune ', 'he is incapable of understanding the matter ', 'incapable of doing the work ']]]]\n",
      "Top: 3\n",
      "Dimension: bad <------> good\n",
      "having undesirable or negative qualities having desirable or positive qualities especially those suitable for a thing specified\n",
      "Value: -0.13213047\n",
      "\n",
      "\n",
      "Index: 2\n",
      "[[['cold', ['a cold climate ', 'a cold room ', 'dinner has gotten cold ', 'cold fingers ', 'if you are cold  turn up the heat ', 'a cold beer ']], ['hot', ['hot stove ', 'hot water ', 'a hot August day ', 'a hot stuffy room ', 'she s hot and tired ', 'a hot forehead ']]], [['bad', ['a bad report card ', 'his sloppy appearance made a bad impression ', 'a bad little boy ', 'clothes in bad shape ', 'a bad cut ', 'bad luck ', 'the news was very bad ', 'the reviews were bad ', 'the pay is bad ', 'it was a bad light for reading ', 'the movie was a bad choice ']], ['good', ['good news from the hospital ', 'a good report card ', 'when she was good she was very very good ', 'a good knife is one good for cutting ', 'this stump will make a good picnic table ', 'a good check ', 'a good joke ', 'a good exterior paint ', 'a good secretary ', 'a good dress for the office ']]], [['intelligent', ['is there intelligent life in the universe  ', 'an intelligent question ']], ['unintelligent', ['a dull job with lazy and unintelligent co workers ']]], [['capable', ['capable of winning ', 'capable of hard work ', 'capable of walking on two feet ']], ['incapable', ['incapable of carrying a tune ', 'he is incapable of understanding the matter ', 'incapable of doing the work ']]]]\n",
      "Top: 4\n",
      "Dimension: intelligent <------> unintelligent\n",
      "having the capacity for thought and reason especially to a high degree lacking intelligence\n",
      "Value: -0.11342606\n",
      "\n",
      "\n"
     ]
    },
    {
     "name": "stderr",
     "output_type": "stream",
     "text": [
      "/usr/local/anaconda3/envs/SensePOLAR/lib/python3.10/site-packages/plotly/graph_objs/_deprecations.py:378: DeprecationWarning:\n",
      "\n",
      "plotly.graph_objs.Line is deprecated.\n",
      "Please replace it with one of the following more specific types\n",
      "  - plotly.graph_objs.scatter.Line\n",
      "  - plotly.graph_objs.layout.shape.Line\n",
      "  - etc.\n",
      "\n",
      "\n"
     ]
    },
    {
     "data": {
      "application/vnd.plotly.v1+json": {
       "config": {
        "plotlyServerURL": "https://plot.ly"
       },
       "data": [
        {
         "legendgroup": "fire",
         "marker": {
          "color": "rgb(68, 1, 84)",
          "size": 20,
          "symbol": "square"
         },
         "mode": "markers",
         "name": "fire",
         "showlegend": true,
         "type": "scatter",
         "x": [
          0.3066956102848053
         ],
         "y": [
          0.01
         ]
        },
        {
         "legendgroup": "fire",
         "line": {
          "color": "rgb(68, 1, 84)",
          "width": 2
         },
         "mode": "lines",
         "showlegend": false,
         "type": "scatter",
         "x": [
          0.3066956102848053,
          0
         ],
         "y": [
          0.01,
          0.01
         ]
        },
        {
         "legendgroup": "sun",
         "marker": {
          "color": "rgb(253, 231, 37)",
          "size": 20,
          "symbol": "square"
         },
         "mode": "markers",
         "name": "sun",
         "showlegend": true,
         "type": "scatter",
         "x": [
          0.2665688991546631
         ],
         "y": [
          0.01
         ]
        },
        {
         "legendgroup": "sun",
         "line": {
          "color": "rgb(253, 231, 37)",
          "width": 2
         },
         "mode": "lines",
         "showlegend": false,
         "type": "scatter",
         "x": [
          0.2665688991546631,
          0
         ],
         "y": [
          0.01,
          0.01
         ]
        },
        {
         "legendgroup": "fire",
         "marker": {
          "color": "rgb(68, 1, 84)",
          "size": 20,
          "symbol": "square"
         },
         "mode": "markers",
         "name": "fire",
         "showlegend": false,
         "type": "scatter",
         "x": [
          -0.08927027881145477
         ],
         "y": [
          0.115
         ]
        },
        {
         "legendgroup": "fire",
         "line": {
          "color": "rgb(68, 1, 84)",
          "width": 2
         },
         "mode": "lines",
         "showlegend": false,
         "type": "scatter",
         "x": [
          -0.08927027881145477,
          0
         ],
         "y": [
          0.115,
          0.115
         ]
        },
        {
         "legendgroup": "sun",
         "marker": {
          "color": "rgb(253, 231, 37)",
          "size": 20,
          "symbol": "square"
         },
         "mode": "markers",
         "name": "sun",
         "showlegend": false,
         "type": "scatter",
         "x": [
          -0.11342605948448181
         ],
         "y": [
          0.115
         ]
        },
        {
         "legendgroup": "sun",
         "line": {
          "color": "rgb(253, 231, 37)",
          "width": 2
         },
         "mode": "lines",
         "showlegend": false,
         "type": "scatter",
         "x": [
          -0.11342605948448181,
          0
         ],
         "y": [
          0.115,
          0.115
         ]
        },
        {
         "legendgroup": "fire",
         "marker": {
          "color": "rgb(68, 1, 84)",
          "size": 20,
          "symbol": "square"
         },
         "mode": "markers",
         "name": "fire",
         "showlegend": false,
         "type": "scatter",
         "x": [
          -0.08153016865253448
         ],
         "y": [
          0.22000000000000003
         ]
        },
        {
         "legendgroup": "fire",
         "line": {
          "color": "rgb(68, 1, 84)",
          "width": 2
         },
         "mode": "lines",
         "showlegend": false,
         "type": "scatter",
         "x": [
          -0.08153016865253448,
          0
         ],
         "y": [
          0.22000000000000003,
          0.22000000000000003
         ]
        },
        {
         "legendgroup": "sun",
         "marker": {
          "color": "rgb(253, 231, 37)",
          "size": 20,
          "symbol": "square"
         },
         "mode": "markers",
         "name": "sun",
         "showlegend": false,
         "type": "scatter",
         "x": [
          -0.1321304738521576
         ],
         "y": [
          0.22000000000000003
         ]
        },
        {
         "legendgroup": "sun",
         "line": {
          "color": "rgb(253, 231, 37)",
          "width": 2
         },
         "mode": "lines",
         "showlegend": false,
         "type": "scatter",
         "x": [
          -0.1321304738521576,
          0
         ],
         "y": [
          0.22000000000000003,
          0.22000000000000003
         ]
        },
        {
         "legendgroup": "fire",
         "marker": {
          "color": "rgb(68, 1, 84)",
          "size": 20,
          "symbol": "square"
         },
         "mode": "markers",
         "name": "fire",
         "showlegend": false,
         "type": "scatter",
         "x": [
          0.03215548396110535
         ],
         "y": [
          0.32500000000000007
         ]
        },
        {
         "legendgroup": "fire",
         "line": {
          "color": "rgb(68, 1, 84)",
          "width": 2
         },
         "mode": "lines",
         "showlegend": false,
         "type": "scatter",
         "x": [
          0.03215548396110535,
          0
         ],
         "y": [
          0.32500000000000007,
          0.32500000000000007
         ]
        },
        {
         "legendgroup": "sun",
         "marker": {
          "color": "rgb(253, 231, 37)",
          "size": 20,
          "symbol": "square"
         },
         "mode": "markers",
         "name": "sun",
         "showlegend": false,
         "type": "scatter",
         "x": [
          -0.23882165551185608
         ],
         "y": [
          0.32500000000000007
         ]
        },
        {
         "legendgroup": "sun",
         "line": {
          "color": "rgb(253, 231, 37)",
          "width": 2
         },
         "mode": "lines",
         "showlegend": false,
         "type": "scatter",
         "x": [
          -0.23882165551185608,
          0
         ],
         "y": [
          0.32500000000000007,
          0.32500000000000007
         ]
        }
       ],
       "layout": {
        "annotations": [
         {
          "font": {
           "size": 18
          },
          "showarrow": false,
          "text": "cold",
          "x": -0.5066956102848053,
          "xanchor": "right",
          "xref": "x",
          "y": 0.01,
          "yref": "y"
         },
         {
          "font": {
           "size": 18
          },
          "showarrow": false,
          "text": "hot",
          "x": 0.5066956102848053,
          "xanchor": "left",
          "xref": "x",
          "y": 0.01,
          "yref": "y"
         },
         {
          "font": {
           "size": 18
          },
          "showarrow": false,
          "text": "intelligent",
          "x": -0.5066956102848053,
          "xanchor": "right",
          "xref": "x",
          "y": 0.115,
          "yref": "y"
         },
         {
          "font": {
           "size": 18
          },
          "showarrow": false,
          "text": "unintelligent",
          "x": 0.5066956102848053,
          "xanchor": "left",
          "xref": "x",
          "y": 0.115,
          "yref": "y"
         },
         {
          "font": {
           "size": 18
          },
          "showarrow": false,
          "text": "bad",
          "x": -0.5066956102848053,
          "xanchor": "right",
          "xref": "x",
          "y": 0.22000000000000003,
          "yref": "y"
         },
         {
          "font": {
           "size": 18
          },
          "showarrow": false,
          "text": "good",
          "x": 0.5066956102848053,
          "xanchor": "left",
          "xref": "x",
          "y": 0.22000000000000003,
          "yref": "y"
         },
         {
          "font": {
           "size": 18
          },
          "showarrow": false,
          "text": "capable",
          "x": -0.5066956102848053,
          "xanchor": "right",
          "xref": "x",
          "y": 0.32500000000000007,
          "yref": "y"
         },
         {
          "font": {
           "size": 18
          },
          "showarrow": false,
          "text": "incapable",
          "x": 0.5066956102848053,
          "xanchor": "left",
          "xref": "x",
          "y": 0.32500000000000007,
          "yref": "y"
         }
        ],
        "shapes": [
         {
          "line": {
           "color": "black",
           "width": 1
          },
          "type": "line",
          "x0": -0.4066956102848053,
          "x1": 0.4066956102848053,
          "y0": 0,
          "y1": 0
         },
         {
          "line": {
           "color": "black",
           "width": 1
          },
          "type": "line",
          "x0": -0.4066956102848053,
          "x1": -0.4066956102848053,
          "y0": 0,
          "y1": 0.4
         },
         {
          "line": {
           "color": "black",
           "width": 1
          },
          "type": "line",
          "x0": 0.4066956102848053,
          "x1": 0.4066956102848053,
          "y0": 0,
          "y1": 0.4
         },
         {
          "line": {
           "color": "black",
           "dash": "dash",
           "width": 1
          },
          "type": "line",
          "x0": 0,
          "x1": 0,
          "y0": 0,
          "y1": 0.4
         }
        ],
        "template": {
         "data": {
          "bar": [
           {
            "error_x": {
             "color": "#2a3f5f"
            },
            "error_y": {
             "color": "#2a3f5f"
            },
            "marker": {
             "line": {
              "color": "#E5ECF6",
              "width": 0.5
             },
             "pattern": {
              "fillmode": "overlay",
              "size": 10,
              "solidity": 0.2
             }
            },
            "type": "bar"
           }
          ],
          "barpolar": [
           {
            "marker": {
             "line": {
              "color": "#E5ECF6",
              "width": 0.5
             },
             "pattern": {
              "fillmode": "overlay",
              "size": 10,
              "solidity": 0.2
             }
            },
            "type": "barpolar"
           }
          ],
          "carpet": [
           {
            "aaxis": {
             "endlinecolor": "#2a3f5f",
             "gridcolor": "white",
             "linecolor": "white",
             "minorgridcolor": "white",
             "startlinecolor": "#2a3f5f"
            },
            "baxis": {
             "endlinecolor": "#2a3f5f",
             "gridcolor": "white",
             "linecolor": "white",
             "minorgridcolor": "white",
             "startlinecolor": "#2a3f5f"
            },
            "type": "carpet"
           }
          ],
          "choropleth": [
           {
            "colorbar": {
             "outlinewidth": 0,
             "ticks": ""
            },
            "type": "choropleth"
           }
          ],
          "contour": [
           {
            "colorbar": {
             "outlinewidth": 0,
             "ticks": ""
            },
            "colorscale": [
             [
              0,
              "#0d0887"
             ],
             [
              0.1111111111111111,
              "#46039f"
             ],
             [
              0.2222222222222222,
              "#7201a8"
             ],
             [
              0.3333333333333333,
              "#9c179e"
             ],
             [
              0.4444444444444444,
              "#bd3786"
             ],
             [
              0.5555555555555556,
              "#d8576b"
             ],
             [
              0.6666666666666666,
              "#ed7953"
             ],
             [
              0.7777777777777778,
              "#fb9f3a"
             ],
             [
              0.8888888888888888,
              "#fdca26"
             ],
             [
              1,
              "#f0f921"
             ]
            ],
            "type": "contour"
           }
          ],
          "contourcarpet": [
           {
            "colorbar": {
             "outlinewidth": 0,
             "ticks": ""
            },
            "type": "contourcarpet"
           }
          ],
          "heatmap": [
           {
            "colorbar": {
             "outlinewidth": 0,
             "ticks": ""
            },
            "colorscale": [
             [
              0,
              "#0d0887"
             ],
             [
              0.1111111111111111,
              "#46039f"
             ],
             [
              0.2222222222222222,
              "#7201a8"
             ],
             [
              0.3333333333333333,
              "#9c179e"
             ],
             [
              0.4444444444444444,
              "#bd3786"
             ],
             [
              0.5555555555555556,
              "#d8576b"
             ],
             [
              0.6666666666666666,
              "#ed7953"
             ],
             [
              0.7777777777777778,
              "#fb9f3a"
             ],
             [
              0.8888888888888888,
              "#fdca26"
             ],
             [
              1,
              "#f0f921"
             ]
            ],
            "type": "heatmap"
           }
          ],
          "heatmapgl": [
           {
            "colorbar": {
             "outlinewidth": 0,
             "ticks": ""
            },
            "colorscale": [
             [
              0,
              "#0d0887"
             ],
             [
              0.1111111111111111,
              "#46039f"
             ],
             [
              0.2222222222222222,
              "#7201a8"
             ],
             [
              0.3333333333333333,
              "#9c179e"
             ],
             [
              0.4444444444444444,
              "#bd3786"
             ],
             [
              0.5555555555555556,
              "#d8576b"
             ],
             [
              0.6666666666666666,
              "#ed7953"
             ],
             [
              0.7777777777777778,
              "#fb9f3a"
             ],
             [
              0.8888888888888888,
              "#fdca26"
             ],
             [
              1,
              "#f0f921"
             ]
            ],
            "type": "heatmapgl"
           }
          ],
          "histogram": [
           {
            "marker": {
             "pattern": {
              "fillmode": "overlay",
              "size": 10,
              "solidity": 0.2
             }
            },
            "type": "histogram"
           }
          ],
          "histogram2d": [
           {
            "colorbar": {
             "outlinewidth": 0,
             "ticks": ""
            },
            "colorscale": [
             [
              0,
              "#0d0887"
             ],
             [
              0.1111111111111111,
              "#46039f"
             ],
             [
              0.2222222222222222,
              "#7201a8"
             ],
             [
              0.3333333333333333,
              "#9c179e"
             ],
             [
              0.4444444444444444,
              "#bd3786"
             ],
             [
              0.5555555555555556,
              "#d8576b"
             ],
             [
              0.6666666666666666,
              "#ed7953"
             ],
             [
              0.7777777777777778,
              "#fb9f3a"
             ],
             [
              0.8888888888888888,
              "#fdca26"
             ],
             [
              1,
              "#f0f921"
             ]
            ],
            "type": "histogram2d"
           }
          ],
          "histogram2dcontour": [
           {
            "colorbar": {
             "outlinewidth": 0,
             "ticks": ""
            },
            "colorscale": [
             [
              0,
              "#0d0887"
             ],
             [
              0.1111111111111111,
              "#46039f"
             ],
             [
              0.2222222222222222,
              "#7201a8"
             ],
             [
              0.3333333333333333,
              "#9c179e"
             ],
             [
              0.4444444444444444,
              "#bd3786"
             ],
             [
              0.5555555555555556,
              "#d8576b"
             ],
             [
              0.6666666666666666,
              "#ed7953"
             ],
             [
              0.7777777777777778,
              "#fb9f3a"
             ],
             [
              0.8888888888888888,
              "#fdca26"
             ],
             [
              1,
              "#f0f921"
             ]
            ],
            "type": "histogram2dcontour"
           }
          ],
          "mesh3d": [
           {
            "colorbar": {
             "outlinewidth": 0,
             "ticks": ""
            },
            "type": "mesh3d"
           }
          ],
          "parcoords": [
           {
            "line": {
             "colorbar": {
              "outlinewidth": 0,
              "ticks": ""
             }
            },
            "type": "parcoords"
           }
          ],
          "pie": [
           {
            "automargin": true,
            "type": "pie"
           }
          ],
          "scatter": [
           {
            "fillpattern": {
             "fillmode": "overlay",
             "size": 10,
             "solidity": 0.2
            },
            "type": "scatter"
           }
          ],
          "scatter3d": [
           {
            "line": {
             "colorbar": {
              "outlinewidth": 0,
              "ticks": ""
             }
            },
            "marker": {
             "colorbar": {
              "outlinewidth": 0,
              "ticks": ""
             }
            },
            "type": "scatter3d"
           }
          ],
          "scattercarpet": [
           {
            "marker": {
             "colorbar": {
              "outlinewidth": 0,
              "ticks": ""
             }
            },
            "type": "scattercarpet"
           }
          ],
          "scattergeo": [
           {
            "marker": {
             "colorbar": {
              "outlinewidth": 0,
              "ticks": ""
             }
            },
            "type": "scattergeo"
           }
          ],
          "scattergl": [
           {
            "marker": {
             "colorbar": {
              "outlinewidth": 0,
              "ticks": ""
             }
            },
            "type": "scattergl"
           }
          ],
          "scattermapbox": [
           {
            "marker": {
             "colorbar": {
              "outlinewidth": 0,
              "ticks": ""
             }
            },
            "type": "scattermapbox"
           }
          ],
          "scatterpolar": [
           {
            "marker": {
             "colorbar": {
              "outlinewidth": 0,
              "ticks": ""
             }
            },
            "type": "scatterpolar"
           }
          ],
          "scatterpolargl": [
           {
            "marker": {
             "colorbar": {
              "outlinewidth": 0,
              "ticks": ""
             }
            },
            "type": "scatterpolargl"
           }
          ],
          "scatterternary": [
           {
            "marker": {
             "colorbar": {
              "outlinewidth": 0,
              "ticks": ""
             }
            },
            "type": "scatterternary"
           }
          ],
          "surface": [
           {
            "colorbar": {
             "outlinewidth": 0,
             "ticks": ""
            },
            "colorscale": [
             [
              0,
              "#0d0887"
             ],
             [
              0.1111111111111111,
              "#46039f"
             ],
             [
              0.2222222222222222,
              "#7201a8"
             ],
             [
              0.3333333333333333,
              "#9c179e"
             ],
             [
              0.4444444444444444,
              "#bd3786"
             ],
             [
              0.5555555555555556,
              "#d8576b"
             ],
             [
              0.6666666666666666,
              "#ed7953"
             ],
             [
              0.7777777777777778,
              "#fb9f3a"
             ],
             [
              0.8888888888888888,
              "#fdca26"
             ],
             [
              1,
              "#f0f921"
             ]
            ],
            "type": "surface"
           }
          ],
          "table": [
           {
            "cells": {
             "fill": {
              "color": "#EBF0F8"
             },
             "line": {
              "color": "white"
             }
            },
            "header": {
             "fill": {
              "color": "#C8D4E3"
             },
             "line": {
              "color": "white"
             }
            },
            "type": "table"
           }
          ]
         },
         "layout": {
          "annotationdefaults": {
           "arrowcolor": "#2a3f5f",
           "arrowhead": 0,
           "arrowwidth": 1
          },
          "autotypenumbers": "strict",
          "coloraxis": {
           "colorbar": {
            "outlinewidth": 0,
            "ticks": ""
           }
          },
          "colorscale": {
           "diverging": [
            [
             0,
             "#8e0152"
            ],
            [
             0.1,
             "#c51b7d"
            ],
            [
             0.2,
             "#de77ae"
            ],
            [
             0.3,
             "#f1b6da"
            ],
            [
             0.4,
             "#fde0ef"
            ],
            [
             0.5,
             "#f7f7f7"
            ],
            [
             0.6,
             "#e6f5d0"
            ],
            [
             0.7,
             "#b8e186"
            ],
            [
             0.8,
             "#7fbc41"
            ],
            [
             0.9,
             "#4d9221"
            ],
            [
             1,
             "#276419"
            ]
           ],
           "sequential": [
            [
             0,
             "#0d0887"
            ],
            [
             0.1111111111111111,
             "#46039f"
            ],
            [
             0.2222222222222222,
             "#7201a8"
            ],
            [
             0.3333333333333333,
             "#9c179e"
            ],
            [
             0.4444444444444444,
             "#bd3786"
            ],
            [
             0.5555555555555556,
             "#d8576b"
            ],
            [
             0.6666666666666666,
             "#ed7953"
            ],
            [
             0.7777777777777778,
             "#fb9f3a"
            ],
            [
             0.8888888888888888,
             "#fdca26"
            ],
            [
             1,
             "#f0f921"
            ]
           ],
           "sequentialminus": [
            [
             0,
             "#0d0887"
            ],
            [
             0.1111111111111111,
             "#46039f"
            ],
            [
             0.2222222222222222,
             "#7201a8"
            ],
            [
             0.3333333333333333,
             "#9c179e"
            ],
            [
             0.4444444444444444,
             "#bd3786"
            ],
            [
             0.5555555555555556,
             "#d8576b"
            ],
            [
             0.6666666666666666,
             "#ed7953"
            ],
            [
             0.7777777777777778,
             "#fb9f3a"
            ],
            [
             0.8888888888888888,
             "#fdca26"
            ],
            [
             1,
             "#f0f921"
            ]
           ]
          },
          "colorway": [
           "#636efa",
           "#EF553B",
           "#00cc96",
           "#ab63fa",
           "#FFA15A",
           "#19d3f3",
           "#FF6692",
           "#B6E880",
           "#FF97FF",
           "#FECB52"
          ],
          "font": {
           "color": "#2a3f5f"
          },
          "geo": {
           "bgcolor": "white",
           "lakecolor": "white",
           "landcolor": "#E5ECF6",
           "showlakes": true,
           "showland": true,
           "subunitcolor": "white"
          },
          "hoverlabel": {
           "align": "left"
          },
          "hovermode": "closest",
          "mapbox": {
           "style": "light"
          },
          "paper_bgcolor": "white",
          "plot_bgcolor": "#E5ECF6",
          "polar": {
           "angularaxis": {
            "gridcolor": "white",
            "linecolor": "white",
            "ticks": ""
           },
           "bgcolor": "#E5ECF6",
           "radialaxis": {
            "gridcolor": "white",
            "linecolor": "white",
            "ticks": ""
           }
          },
          "scene": {
           "xaxis": {
            "backgroundcolor": "#E5ECF6",
            "gridcolor": "white",
            "gridwidth": 2,
            "linecolor": "white",
            "showbackground": true,
            "ticks": "",
            "zerolinecolor": "white"
           },
           "yaxis": {
            "backgroundcolor": "#E5ECF6",
            "gridcolor": "white",
            "gridwidth": 2,
            "linecolor": "white",
            "showbackground": true,
            "ticks": "",
            "zerolinecolor": "white"
           },
           "zaxis": {
            "backgroundcolor": "#E5ECF6",
            "gridcolor": "white",
            "gridwidth": 2,
            "linecolor": "white",
            "showbackground": true,
            "ticks": "",
            "zerolinecolor": "white"
           }
          },
          "shapedefaults": {
           "line": {
            "color": "#2a3f5f"
           }
          },
          "ternary": {
           "aaxis": {
            "gridcolor": "white",
            "linecolor": "white",
            "ticks": ""
           },
           "baxis": {
            "gridcolor": "white",
            "linecolor": "white",
            "ticks": ""
           },
           "bgcolor": "#E5ECF6",
           "caxis": {
            "gridcolor": "white",
            "linecolor": "white",
            "ticks": ""
           }
          },
          "title": {
           "x": 0.05
          },
          "xaxis": {
           "automargin": true,
           "gridcolor": "white",
           "linecolor": "white",
           "ticks": "",
           "title": {
            "standoff": 15
           },
           "zerolinecolor": "white",
           "zerolinewidth": 2
          },
          "yaxis": {
           "automargin": true,
           "gridcolor": "white",
           "linecolor": "white",
           "ticks": "",
           "title": {
            "standoff": 15
           },
           "zerolinecolor": "white",
           "zerolinewidth": 2
          }
         }
        },
        "xaxis": {
         "anchor": "y",
         "autorange": true,
         "domain": [
          0,
          1
         ],
         "range": [
          -0.33882165551185606,
          0.4066956102848053
         ],
         "title": {
          "text": "Polarity"
         }
        },
        "yaxis": {
         "anchor": "x",
         "autorange": true,
         "domain": [
          0,
          1
         ],
         "title": {
          "text": "Words"
         }
        }
       }
      }
     },
     "metadata": {},
     "output_type": "display_data"
    },
    {
     "data": {
      "application/vnd.plotly.v1+json": {
       "config": {
        "plotlyServerURL": "https://plot.ly"
       },
       "data": [
        {
         "marker": {
          "color": "rgb(68, 1, 84)",
          "size": 18
         },
         "mode": "markers",
         "name": "fire",
         "type": "scatter",
         "x": [
          0.3066956102848053
         ],
         "y": [
          -0.08927027881145477
         ]
        },
        {
         "marker": {
          "color": "rgb(253, 231, 37)",
          "size": 18
         },
         "mode": "markers",
         "name": "sun",
         "type": "scatter",
         "x": [
          0.2665688991546631
         ],
         "y": [
          -0.23882165551185608
         ]
        }
       ],
       "layout": {
        "annotations": [
         {
          "font": {
           "size": 18
          },
          "showarrow": false,
          "text": "cold",
          "x": -0.8066956102848053,
          "xshift": -15,
          "y": 0
         },
         {
          "font": {
           "size": 18
          },
          "showarrow": false,
          "text": "hot",
          "x": 0.8066956102848053,
          "xshift": 15,
          "y": 0
         },
         {
          "font": {
           "size": 18
          },
          "showarrow": false,
          "text": "intelligent",
          "x": 0,
          "y": -0.8066956102848053,
          "yshift": -15
         },
         {
          "font": {
           "size": 18
          },
          "showarrow": false,
          "text": "unintelligent",
          "x": 0,
          "y": 0.8066956102848053,
          "yshift": 15
         }
        ],
        "height": 800,
        "shapes": [
         {
          "line": {
           "color": "black",
           "width": 1
          },
          "type": "line",
          "x0": -0.8066956102848053,
          "x1": 0.8066956102848053,
          "y0": 0,
          "y1": 0
         },
         {
          "line": {
           "color": "black",
           "width": 1
          },
          "type": "line",
          "x0": 0,
          "x1": 0,
          "y0": -0.8066956102848053,
          "y1": 0.8066956102848053
         }
        ],
        "template": {
         "data": {
          "bar": [
           {
            "error_x": {
             "color": "#2a3f5f"
            },
            "error_y": {
             "color": "#2a3f5f"
            },
            "marker": {
             "line": {
              "color": "#E5ECF6",
              "width": 0.5
             },
             "pattern": {
              "fillmode": "overlay",
              "size": 10,
              "solidity": 0.2
             }
            },
            "type": "bar"
           }
          ],
          "barpolar": [
           {
            "marker": {
             "line": {
              "color": "#E5ECF6",
              "width": 0.5
             },
             "pattern": {
              "fillmode": "overlay",
              "size": 10,
              "solidity": 0.2
             }
            },
            "type": "barpolar"
           }
          ],
          "carpet": [
           {
            "aaxis": {
             "endlinecolor": "#2a3f5f",
             "gridcolor": "white",
             "linecolor": "white",
             "minorgridcolor": "white",
             "startlinecolor": "#2a3f5f"
            },
            "baxis": {
             "endlinecolor": "#2a3f5f",
             "gridcolor": "white",
             "linecolor": "white",
             "minorgridcolor": "white",
             "startlinecolor": "#2a3f5f"
            },
            "type": "carpet"
           }
          ],
          "choropleth": [
           {
            "colorbar": {
             "outlinewidth": 0,
             "ticks": ""
            },
            "type": "choropleth"
           }
          ],
          "contour": [
           {
            "colorbar": {
             "outlinewidth": 0,
             "ticks": ""
            },
            "colorscale": [
             [
              0,
              "#0d0887"
             ],
             [
              0.1111111111111111,
              "#46039f"
             ],
             [
              0.2222222222222222,
              "#7201a8"
             ],
             [
              0.3333333333333333,
              "#9c179e"
             ],
             [
              0.4444444444444444,
              "#bd3786"
             ],
             [
              0.5555555555555556,
              "#d8576b"
             ],
             [
              0.6666666666666666,
              "#ed7953"
             ],
             [
              0.7777777777777778,
              "#fb9f3a"
             ],
             [
              0.8888888888888888,
              "#fdca26"
             ],
             [
              1,
              "#f0f921"
             ]
            ],
            "type": "contour"
           }
          ],
          "contourcarpet": [
           {
            "colorbar": {
             "outlinewidth": 0,
             "ticks": ""
            },
            "type": "contourcarpet"
           }
          ],
          "heatmap": [
           {
            "colorbar": {
             "outlinewidth": 0,
             "ticks": ""
            },
            "colorscale": [
             [
              0,
              "#0d0887"
             ],
             [
              0.1111111111111111,
              "#46039f"
             ],
             [
              0.2222222222222222,
              "#7201a8"
             ],
             [
              0.3333333333333333,
              "#9c179e"
             ],
             [
              0.4444444444444444,
              "#bd3786"
             ],
             [
              0.5555555555555556,
              "#d8576b"
             ],
             [
              0.6666666666666666,
              "#ed7953"
             ],
             [
              0.7777777777777778,
              "#fb9f3a"
             ],
             [
              0.8888888888888888,
              "#fdca26"
             ],
             [
              1,
              "#f0f921"
             ]
            ],
            "type": "heatmap"
           }
          ],
          "heatmapgl": [
           {
            "colorbar": {
             "outlinewidth": 0,
             "ticks": ""
            },
            "colorscale": [
             [
              0,
              "#0d0887"
             ],
             [
              0.1111111111111111,
              "#46039f"
             ],
             [
              0.2222222222222222,
              "#7201a8"
             ],
             [
              0.3333333333333333,
              "#9c179e"
             ],
             [
              0.4444444444444444,
              "#bd3786"
             ],
             [
              0.5555555555555556,
              "#d8576b"
             ],
             [
              0.6666666666666666,
              "#ed7953"
             ],
             [
              0.7777777777777778,
              "#fb9f3a"
             ],
             [
              0.8888888888888888,
              "#fdca26"
             ],
             [
              1,
              "#f0f921"
             ]
            ],
            "type": "heatmapgl"
           }
          ],
          "histogram": [
           {
            "marker": {
             "pattern": {
              "fillmode": "overlay",
              "size": 10,
              "solidity": 0.2
             }
            },
            "type": "histogram"
           }
          ],
          "histogram2d": [
           {
            "colorbar": {
             "outlinewidth": 0,
             "ticks": ""
            },
            "colorscale": [
             [
              0,
              "#0d0887"
             ],
             [
              0.1111111111111111,
              "#46039f"
             ],
             [
              0.2222222222222222,
              "#7201a8"
             ],
             [
              0.3333333333333333,
              "#9c179e"
             ],
             [
              0.4444444444444444,
              "#bd3786"
             ],
             [
              0.5555555555555556,
              "#d8576b"
             ],
             [
              0.6666666666666666,
              "#ed7953"
             ],
             [
              0.7777777777777778,
              "#fb9f3a"
             ],
             [
              0.8888888888888888,
              "#fdca26"
             ],
             [
              1,
              "#f0f921"
             ]
            ],
            "type": "histogram2d"
           }
          ],
          "histogram2dcontour": [
           {
            "colorbar": {
             "outlinewidth": 0,
             "ticks": ""
            },
            "colorscale": [
             [
              0,
              "#0d0887"
             ],
             [
              0.1111111111111111,
              "#46039f"
             ],
             [
              0.2222222222222222,
              "#7201a8"
             ],
             [
              0.3333333333333333,
              "#9c179e"
             ],
             [
              0.4444444444444444,
              "#bd3786"
             ],
             [
              0.5555555555555556,
              "#d8576b"
             ],
             [
              0.6666666666666666,
              "#ed7953"
             ],
             [
              0.7777777777777778,
              "#fb9f3a"
             ],
             [
              0.8888888888888888,
              "#fdca26"
             ],
             [
              1,
              "#f0f921"
             ]
            ],
            "type": "histogram2dcontour"
           }
          ],
          "mesh3d": [
           {
            "colorbar": {
             "outlinewidth": 0,
             "ticks": ""
            },
            "type": "mesh3d"
           }
          ],
          "parcoords": [
           {
            "line": {
             "colorbar": {
              "outlinewidth": 0,
              "ticks": ""
             }
            },
            "type": "parcoords"
           }
          ],
          "pie": [
           {
            "automargin": true,
            "type": "pie"
           }
          ],
          "scatter": [
           {
            "fillpattern": {
             "fillmode": "overlay",
             "size": 10,
             "solidity": 0.2
            },
            "type": "scatter"
           }
          ],
          "scatter3d": [
           {
            "line": {
             "colorbar": {
              "outlinewidth": 0,
              "ticks": ""
             }
            },
            "marker": {
             "colorbar": {
              "outlinewidth": 0,
              "ticks": ""
             }
            },
            "type": "scatter3d"
           }
          ],
          "scattercarpet": [
           {
            "marker": {
             "colorbar": {
              "outlinewidth": 0,
              "ticks": ""
             }
            },
            "type": "scattercarpet"
           }
          ],
          "scattergeo": [
           {
            "marker": {
             "colorbar": {
              "outlinewidth": 0,
              "ticks": ""
             }
            },
            "type": "scattergeo"
           }
          ],
          "scattergl": [
           {
            "marker": {
             "colorbar": {
              "outlinewidth": 0,
              "ticks": ""
             }
            },
            "type": "scattergl"
           }
          ],
          "scattermapbox": [
           {
            "marker": {
             "colorbar": {
              "outlinewidth": 0,
              "ticks": ""
             }
            },
            "type": "scattermapbox"
           }
          ],
          "scatterpolar": [
           {
            "marker": {
             "colorbar": {
              "outlinewidth": 0,
              "ticks": ""
             }
            },
            "type": "scatterpolar"
           }
          ],
          "scatterpolargl": [
           {
            "marker": {
             "colorbar": {
              "outlinewidth": 0,
              "ticks": ""
             }
            },
            "type": "scatterpolargl"
           }
          ],
          "scatterternary": [
           {
            "marker": {
             "colorbar": {
              "outlinewidth": 0,
              "ticks": ""
             }
            },
            "type": "scatterternary"
           }
          ],
          "surface": [
           {
            "colorbar": {
             "outlinewidth": 0,
             "ticks": ""
            },
            "colorscale": [
             [
              0,
              "#0d0887"
             ],
             [
              0.1111111111111111,
              "#46039f"
             ],
             [
              0.2222222222222222,
              "#7201a8"
             ],
             [
              0.3333333333333333,
              "#9c179e"
             ],
             [
              0.4444444444444444,
              "#bd3786"
             ],
             [
              0.5555555555555556,
              "#d8576b"
             ],
             [
              0.6666666666666666,
              "#ed7953"
             ],
             [
              0.7777777777777778,
              "#fb9f3a"
             ],
             [
              0.8888888888888888,
              "#fdca26"
             ],
             [
              1,
              "#f0f921"
             ]
            ],
            "type": "surface"
           }
          ],
          "table": [
           {
            "cells": {
             "fill": {
              "color": "#EBF0F8"
             },
             "line": {
              "color": "white"
             }
            },
            "header": {
             "fill": {
              "color": "#C8D4E3"
             },
             "line": {
              "color": "white"
             }
            },
            "type": "table"
           }
          ]
         },
         "layout": {
          "annotationdefaults": {
           "arrowcolor": "#2a3f5f",
           "arrowhead": 0,
           "arrowwidth": 1
          },
          "autotypenumbers": "strict",
          "coloraxis": {
           "colorbar": {
            "outlinewidth": 0,
            "ticks": ""
           }
          },
          "colorscale": {
           "diverging": [
            [
             0,
             "#8e0152"
            ],
            [
             0.1,
             "#c51b7d"
            ],
            [
             0.2,
             "#de77ae"
            ],
            [
             0.3,
             "#f1b6da"
            ],
            [
             0.4,
             "#fde0ef"
            ],
            [
             0.5,
             "#f7f7f7"
            ],
            [
             0.6,
             "#e6f5d0"
            ],
            [
             0.7,
             "#b8e186"
            ],
            [
             0.8,
             "#7fbc41"
            ],
            [
             0.9,
             "#4d9221"
            ],
            [
             1,
             "#276419"
            ]
           ],
           "sequential": [
            [
             0,
             "#0d0887"
            ],
            [
             0.1111111111111111,
             "#46039f"
            ],
            [
             0.2222222222222222,
             "#7201a8"
            ],
            [
             0.3333333333333333,
             "#9c179e"
            ],
            [
             0.4444444444444444,
             "#bd3786"
            ],
            [
             0.5555555555555556,
             "#d8576b"
            ],
            [
             0.6666666666666666,
             "#ed7953"
            ],
            [
             0.7777777777777778,
             "#fb9f3a"
            ],
            [
             0.8888888888888888,
             "#fdca26"
            ],
            [
             1,
             "#f0f921"
            ]
           ],
           "sequentialminus": [
            [
             0,
             "#0d0887"
            ],
            [
             0.1111111111111111,
             "#46039f"
            ],
            [
             0.2222222222222222,
             "#7201a8"
            ],
            [
             0.3333333333333333,
             "#9c179e"
            ],
            [
             0.4444444444444444,
             "#bd3786"
            ],
            [
             0.5555555555555556,
             "#d8576b"
            ],
            [
             0.6666666666666666,
             "#ed7953"
            ],
            [
             0.7777777777777778,
             "#fb9f3a"
            ],
            [
             0.8888888888888888,
             "#fdca26"
            ],
            [
             1,
             "#f0f921"
            ]
           ]
          },
          "colorway": [
           "#636efa",
           "#EF553B",
           "#00cc96",
           "#ab63fa",
           "#FFA15A",
           "#19d3f3",
           "#FF6692",
           "#B6E880",
           "#FF97FF",
           "#FECB52"
          ],
          "font": {
           "color": "#2a3f5f"
          },
          "geo": {
           "bgcolor": "white",
           "lakecolor": "white",
           "landcolor": "#E5ECF6",
           "showlakes": true,
           "showland": true,
           "subunitcolor": "white"
          },
          "hoverlabel": {
           "align": "left"
          },
          "hovermode": "closest",
          "mapbox": {
           "style": "light"
          },
          "paper_bgcolor": "white",
          "plot_bgcolor": "#E5ECF6",
          "polar": {
           "angularaxis": {
            "gridcolor": "white",
            "linecolor": "white",
            "ticks": ""
           },
           "bgcolor": "#E5ECF6",
           "radialaxis": {
            "gridcolor": "white",
            "linecolor": "white",
            "ticks": ""
           }
          },
          "scene": {
           "xaxis": {
            "backgroundcolor": "#E5ECF6",
            "gridcolor": "white",
            "gridwidth": 2,
            "linecolor": "white",
            "showbackground": true,
            "ticks": "",
            "zerolinecolor": "white"
           },
           "yaxis": {
            "backgroundcolor": "#E5ECF6",
            "gridcolor": "white",
            "gridwidth": 2,
            "linecolor": "white",
            "showbackground": true,
            "ticks": "",
            "zerolinecolor": "white"
           },
           "zaxis": {
            "backgroundcolor": "#E5ECF6",
            "gridcolor": "white",
            "gridwidth": 2,
            "linecolor": "white",
            "showbackground": true,
            "ticks": "",
            "zerolinecolor": "white"
           }
          },
          "shapedefaults": {
           "line": {
            "color": "#2a3f5f"
           }
          },
          "ternary": {
           "aaxis": {
            "gridcolor": "white",
            "linecolor": "white",
            "ticks": ""
           },
           "baxis": {
            "gridcolor": "white",
            "linecolor": "white",
            "ticks": ""
           },
           "bgcolor": "#E5ECF6",
           "caxis": {
            "gridcolor": "white",
            "linecolor": "white",
            "ticks": ""
           }
          },
          "title": {
           "x": 0.05
          },
          "xaxis": {
           "automargin": true,
           "gridcolor": "white",
           "linecolor": "white",
           "ticks": "",
           "title": {
            "standoff": 15
           },
           "zerolinecolor": "white",
           "zerolinewidth": 2
          },
          "yaxis": {
           "automargin": true,
           "gridcolor": "white",
           "linecolor": "white",
           "ticks": "",
           "title": {
            "standoff": 15
           },
           "zerolinecolor": "white",
           "zerolinewidth": 2
          }
         }
        },
        "width": 800,
        "xaxis": {
         "range": [
          -0.8066956102848053,
          0.8066956102848053
         ]
        },
        "yaxis": {
         "range": [
          -0.8066956102848053,
          0.8066956102848053
         ]
        }
       }
      }
     },
     "metadata": {},
     "output_type": "display_data"
    }
   ],
   "source": [
    "out_path = '../SensePOLAR-TeamProject/antonyms/'\n",
    "# antonym_path = \"data_file.xlsx\"\n",
    "dims = [['hot', 'cold'], ['bad', 'good'], ['intelligent', 'unintelligent'], ['capable', 'incapable']]\n",
    "\n",
    "dictionary = Dictionary('wordnet', api_key='')    \n",
    "# dictionary = Dictionary('dictionaryapi', api_key='b4b51989-1b9d-4690-8975-4a83df13efc4 ')\n",
    "# dictionary = Dictionary('wordnik', api_key='6488daf20061aa3e6200c013b470fa8ef1f2678c19b36ef05')\n",
    "# lookupSpace = LookupCreator(dictionary, out_path, antonym_pairs=dims)\n",
    "# lookupSpace.create_lookup_files()\n",
    "\n",
    "antonym_path = out_path + \"polar_dimensions.pkl\"\n",
    "\n",
    "model = BERTWordEmbeddings()\n",
    "\n",
    "pdc = PolarDimensions(model, antonym_path=out_path + \"antonym_wordnet_example_sentences_readable_extended.txt\")\n",
    "pdc.create_polar_dimensions(out_path)\n",
    "\n",
    "words, context = ['fire', \"sun\"], [\"the fire is burning\", \"sun is shining\"]\n",
    "wp = WordPolarity(model, antonym_path=antonym_path,lookup_path=out_path, method='base-change', number_polar=4)\n",
    "\n",
    "polar_dimensions = []\n",
    "for word, context in zip(words, context):\n",
    "    dimension = wp.analyze_word(word, context)\n",
    "    polar_dimensions.append(dimension)\n",
    "\n",
    "plotter.plot_word_polarity(words, polar_dimensions)\n",
    "plotter.plot_word_polarity_2d(words, polar_dimensions)"
   ]
  }
 ],
 "metadata": {
  "kernelspec": {
   "display_name": "Python 3",
   "language": "python",
   "name": "python3"
  },
  "language_info": {
   "codemirror_mode": {
    "name": "ipython",
    "version": 3
   },
   "file_extension": ".py",
   "mimetype": "text/x-python",
   "name": "python",
   "nbconvert_exporter": "python",
   "pygments_lexer": "ipython3",
   "version": "3.10.9"
  },
  "orig_nbformat": 4
 },
 "nbformat": 4,
 "nbformat_minor": 2
}
