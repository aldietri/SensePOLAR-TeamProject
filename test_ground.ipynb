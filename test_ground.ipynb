{
 "cells": [
  {
   "cell_type": "code",
   "execution_count": 1,
   "id": "ca060a20",
   "metadata": {},
   "outputs": [],
   "source": [
    "from bert_functions_v2 import analyzeWord, getBert\n",
    "from createDims import createPolarDimension\n",
    "from get_data_from_file import create_lookup_from_data_file,create_lookupFiles_out_of_adjectives_list_using_file\n",
    "import nltk\n",
    "from nltk.corpus import wordnet as wn\n",
    "import numpy as np\n",
    "import pickle\n",
    "import json\n",
    "import string\n",
    "import ast\n",
    "import torch\n",
    "import pandas as pd\n",
    "import re"
   ]
  },
  {
   "cell_type": "markdown",
   "id": "a1896950",
   "metadata": {},
   "source": [
    "## use of input data provided via a file by user"
   ]
  },
  {
   "cell_type": "code",
   "execution_count": 3,
   "id": "dfca9176",
   "metadata": {},
   "outputs": [
    {
     "name": "stderr",
     "output_type": "stream",
     "text": [
      "Some weights of the model checkpoint at bert-base-uncased were not used when initializing BertModel: ['cls.predictions.decoder.weight', 'cls.seq_relationship.weight', 'cls.predictions.bias', 'cls.predictions.transform.dense.bias', 'cls.predictions.transform.LayerNorm.weight', 'cls.predictions.transform.dense.weight', 'cls.predictions.transform.LayerNorm.bias', 'cls.seq_relationship.bias']\n",
      "- This IS expected if you are initializing BertModel from the checkpoint of a model trained on another task or with another architecture (e.g. initializing a BertForSequenceClassification model from a BertForPreTraining model).\n",
      "- This IS NOT expected if you are initializing BertModel from the checkpoint of a model that you expect to be exactly identical (initializing a BertForSequenceClassification model from a BertForSequenceClassification model).\n"
     ]
    },
    {
     "name": "stdout",
     "output_type": "stream",
     "text": [
      "Model imported\n",
      "Start forwarding the Polar opposites ...\n",
      "dimensions created\n",
      "Analyzing the word:  school\n",
      "In the context of:  school teaches you a lot of good and smart things\n",
      "Top:  1\n",
      "Dimension:  test<------>test2\n",
      "Definitions:   <------> \n",
      "Value: -2.6646461\n",
      "\n",
      "\n",
      "Top:  2\n",
      "Dimension:  one<------>two\n",
      "Definitions:   <------> \n",
      "Value:                      1.0413853\n",
      "\n",
      "\n"
     ]
    },
    {
     "data": {
      "text/plain": [
       "(['test---test2', 'one---two'],\n",
       " array([-2.6646461,  1.0413853], dtype=float32),\n",
       " {('test', 'test2'): -2.6646461, ('one', 'two'): 1.0413853},\n",
       " 'school')"
      ]
     },
     "execution_count": 3,
     "metadata": {},
     "output_type": "execute_result"
    }
   ],
   "source": [
    "\n",
    "out='antonyms_file/' #folder where the lookup files will be saved\n",
    "file='data_file.xlsx' #name of the file\n",
    "create_lookup_from_data_file(file,out)\n",
    "\n",
    "# get the embedding model \n",
    "tokenizer, model = getBert()\n",
    "print(\"Model imported\")\n",
    "\n",
    "# create the base change matrix (this might take some time)\n",
    "createPolarDimension(model, tokenizer, out_path=out, antonym_path=out + \"antonym_wordnet_example_sentences_readable_extended.txt\")\n",
    "print(\"dimensions created\")\n",
    "\n",
    "\n",
    "# base change does not work well with only few dimensions -> compare with projection\n",
    "antonym_path = out + \"polar_dimensions.pkl\"\n",
    "word = \"school\"\n",
    "context = \"school teaches you a lot of good and smart things\"\n",
    "analyzeWord(word, context, model=model,tokenizer=tokenizer, antonym_path=antonym_path, lookup_path=out, numberPolar=2,method=\"projection\") #method=\"projection\""
   ]
  },
  {
   "cell_type": "markdown",
   "id": "cfe56a93",
   "metadata": {},
   "source": [
    "## coordinative system visualization function"
   ]
  },
  {
   "cell_type": "code",
   "execution_count": 86,
   "id": "b4fe3c15",
   "metadata": {},
   "outputs": [],
   "source": [
    "def two_dim_visualization(results_of_analyse_word): #the variable should be a list\n",
    "    #Retreive the antonyms list\n",
    "    keys=list(results_of_analyse_word[0][2].keys())\n",
    "    \n",
    "    #ask from user for the keys\n",
    "   \n",
    "\n",
    "\n",
    "    #this block of code should be changed in case of using it on front end!!!!!!!!!!!!\n",
    "    key_input_1=input('Enter the first antonym pair number')\n",
    "    key_input_2=input('Enter the second antonym pair number')\n",
    "    \n",
    "    \n",
    "    \n",
    "    \n",
    "    #select two antonym pairs\n",
    "    keyx=keys[int(key_input_1)]\n",
    "    keyy=keys[int(key_input_2)]\n",
    "    \n",
    "    #list to store values\n",
    "    valuesx=[]\n",
    "    valuesy=[]\n",
    "    \n",
    "    words=[]\n",
    "    for results in results_of_analyse_word:\n",
    "        words.append(results[3])\n",
    "        dim=results[2]\n",
    "        valuesx.append(dim[keyx])\n",
    "        valuesy.append(dim[keyy])\n",
    "\n",
    "        \n",
    "    import numpy as np\n",
    "    import matplotlib.pyplot as plt    \n",
    "\n",
    "    # Enter x and y coordinates of points and colors\n",
    "    xs = valuesx\n",
    "    ys = valuesy\n",
    "    \n",
    "    #list of colors  !!!!limits the length of input, should be equal or less than the list below\n",
    "    colors_full = ['black', 'forestgreen','aqua','yellow','red','brown','magneta','goldenrod']\n",
    "    \n",
    "    colors=[]\n",
    "    for i in range(len(valuesx)):\n",
    "        colors.append(colors_full[i])\n",
    "    # Select length of axes and the space between tick labels\n",
    "    xmin, xmax, ymin, ymax = -5, 5, -5, 5\n",
    "    ticks_frequency = 1\n",
    "\n",
    "    # Plot points\n",
    "    fig, ax = plt.subplots(figsize=(10, 10))\n",
    "   \n",
    "    ax.scatter(xs, ys, c=colors)\n",
    "\n",
    "    # Draw lines connecting points to axes\n",
    "    #for x, y, c in zip(xs, ys, colors):\n",
    "    #    ax.plot([x, x], [0, y], c=c, ls='--', lw=1.5, alpha=0.5)\n",
    "    #    ax.plot([0, x], [y, y], c=c, ls='--', lw=1.5, alpha=0.5)\n",
    "\n",
    "    # Set identical scales for both axes\n",
    "    ax.set(xlim=(xmin-1, xmax+1), ylim=(ymin-1, ymax+1), aspect='equal')\n",
    "    \n",
    "    # Set bottom and left spines as x and y axes of coordinate system\n",
    "    ax.spines['bottom'].set_position('zero')\n",
    "   \n",
    "    ax.spines['left'].set_position('zero')\n",
    "\n",
    "\n",
    "    # Remove top and right spines\n",
    "    ax.spines['top'].set_visible(False)\n",
    "    ax.spines['right'].set_visible(False)\n",
    "\n",
    "\n",
    "    # Create 'x' and 'y' labels placed at the end of the axes\n",
    "    ax.set_xlabel(keyx, size=14, labelpad=-35, x=0.1)\n",
    "    ax.set_ylabel(keyy, size=14, labelpad=-15, y=1.02, rotation=0)\n",
    "\n",
    "    \n",
    "    #ax2 = ax.twinx()\n",
    "\n",
    "    # Create custom major ticks to determine position of tick labels\n",
    "    x_ticks = np.arange(xmin, xmax+1, ticks_frequency)\n",
    "    y_ticks = np.arange(ymin, ymax+1, ticks_frequency)\n",
    "    ax.set_xticks(x_ticks[x_ticks != 0])\n",
    "    ax.set_yticks(y_ticks[y_ticks != 0])\n",
    "\n",
    "    # Create minor ticks placed at each integer to enable drawing of minor grid\n",
    "    # lines: note that this has no effect in this example with ticks_frequency=1\n",
    "    ax.set_xticks(np.arange(xmin, xmax+1), minor=True)\n",
    "    ax.set_yticks(np.arange(ymin, ymax+1), minor=True)\n",
    "\n",
    "    # Draw major and minor grid lines\n",
    "    ax.grid(which='both', color='grey', linewidth=1, linestyle='-', alpha=0.2)\n",
    "\n",
    "    # Draw arrows\n",
    "    arrow_fmt = dict(markersize=4, color='black', clip_on=False)\n",
    "    ax.plot((1), (0), marker='>', transform=ax.get_yaxis_transform(), **arrow_fmt)\n",
    "    ax.plot((0), (1), marker='^', transform=ax.get_xaxis_transform(), **arrow_fmt)\n",
    "    \n",
    "       \n",
    "        \n",
    "    \n",
    "    \n",
    "\n",
    "        \n",
    "    return plt.show()\n",
    "        \n",
    "        \n",
    "        \n",
    "        \n",
    "    "
   ]
  },
  {
   "cell_type": "code",
   "execution_count": 87,
   "id": "9b8a42c7",
   "metadata": {},
   "outputs": [
    {
     "name": "stdout",
     "output_type": "stream",
     "text": [
      "Enter the first antonym pair number0\n",
      "Enter the second antonym pair number1\n"
     ]
    },
    {
     "data": {
      "image/png": "[encoded data removed]",
      "text/plain": [
       "<Figure size 1000x1000 with 1 Axes>"
      ]
     },
     "metadata": {},
     "output_type": "display_data"
    }
   ],
   "source": [
    "two_dim_visualization([hospital,university,school])"
   ]
  },
  {
   "cell_type": "code",
   "execution_count": 6,
   "id": "7bde7493",
   "metadata": {},
   "outputs": [
    {
     "name": "stdout",
     "output_type": "stream",
     "text": [
      "Analyzing the word:  school\n",
      "In the context of:  school teaches you a lot of good and smart things\n",
      "Top:  1\n",
      "Dimension:  test<------>test2\n",
      "Definitions:   <------> \n",
      "Value: -2.6646461\n",
      "\n",
      "\n",
      "Top:  2\n",
      "Dimension:  one<------>two\n",
      "Definitions:   <------> \n",
      "Value:                      1.0413853\n",
      "\n",
      "\n"
     ]
    }
   ],
   "source": [
    "antonym_path = out + \"polar_dimensions.pkl\"\n",
    "word = \"school\"\n",
    "context = \"school teaches you a lot of good and smart things\"\n",
    "school=analyzeWord(word, context, model=model,tokenizer=tokenizer, antonym_path=antonym_path, lookup_path=out, numberPolar=2,method=\"projection\") #method=\"projection\""
   ]
  },
  {
   "cell_type": "code",
   "execution_count": 7,
   "id": "a33f1198",
   "metadata": {},
   "outputs": [
    {
     "name": "stdout",
     "output_type": "stream",
     "text": [
      "Analyzing the word:  university\n",
      "In the context of:  university is a huge institution\n",
      "Top:  1\n",
      "Dimension:  test<------>test2\n",
      "Definitions:   <------> \n",
      "Value: -3.4593697\n",
      "\n",
      "\n",
      "Top:  2\n",
      "Dimension:  one<------>two\n",
      "Definitions:   <------> \n",
      "Value:                      2.3705359\n",
      "\n",
      "\n"
     ]
    }
   ],
   "source": [
    "antonym_path = out + \"polar_dimensions.pkl\"\n",
    "word = \"university\"\n",
    "context = \"university is a huge institution\"\n",
    "university=analyzeWord(word, context, model=model,tokenizer=tokenizer, antonym_path=antonym_path, lookup_path=out, numberPolar=2,method=\"projection\")"
   ]
  },
  {
   "cell_type": "code",
   "execution_count": 8,
   "id": "e36b7ce3",
   "metadata": {},
   "outputs": [
    {
     "name": "stdout",
     "output_type": "stream",
     "text": [
      "Analyzing the word:  hospital\n",
      "In the context of:  hospital is a building with a lot of doctors\n",
      "Top:  1\n",
      "Dimension:  test<------>test2\n",
      "Definitions:   <------> \n",
      "Value: -4.3481913\n",
      "\n",
      "\n",
      "Top:  2\n",
      "Dimension:  one<------>two\n",
      "Definitions:   <------> \n",
      "Value:                      2.4414263\n",
      "\n",
      "\n"
     ]
    }
   ],
   "source": [
    "antonym_path = out + \"polar_dimensions.pkl\"\n",
    "word = \"hospital\"\n",
    "context = \"hospital is a building with a lot of doctors\"\n",
    "hospital=analyzeWord(word, context, model=model,tokenizer=tokenizer, antonym_path=antonym_path, lookup_path=out, numberPolar=2,method=\"projection\")"
   ]
  },
  {
   "cell_type": "code",
   "execution_count": null,
   "id": "2d365462",
   "metadata": {},
   "outputs": [],
   "source": []
  },
  {
   "cell_type": "code",
   "execution_count": 9,
   "id": "3386138a",
   "metadata": {},
   "outputs": [
    {
     "name": "stdout",
     "output_type": "stream",
     "text": [
      "Enter the first antonym pair number0\n",
      "Enter the second antonym pair number1\n"
     ]
    },
    {
     "data": {
      "image/png": "[encoded data removed]",
      "text/plain": [
       "<Figure size 1000x1000 with 1 Axes>"
      ]
     },
     "metadata": {},
     "output_type": "display_data"
    }
   ],
   "source": [
    "\n",
    "two_dim_visualization([hospital,university,school])"
   ]
  },
  {
   "cell_type": "code",
   "execution_count": null,
   "id": "be080a4b",
   "metadata": {},
   "outputs": [],
   "source": []
  },
  {
   "cell_type": "code",
   "execution_count": null,
   "id": "cd5c4713",
   "metadata": {},
   "outputs": [],
   "source": []
  },
  {
   "cell_type": "code",
   "execution_count": null,
   "id": "b54f5428",
   "metadata": {},
   "outputs": [],
   "source": []
  },
  {
   "cell_type": "markdown",
   "id": "b2355633",
   "metadata": {},
   "source": [
    "## visualizationn of antonyms with the highest difference"
   ]
  },
  {
   "cell_type": "code",
   "execution_count": 8,
   "id": "dab821bc",
   "metadata": {},
   "outputs": [],
   "source": [
    "#\n",
    "\n",
    "def most_descriptive_antonyms(word1,word2,k):\n",
    "\n",
    "\n",
    "    from collections import defaultdict\n",
    "    import matplotlib.pyplot as plt\n",
    "    import numpy as np\n",
    "    diff_dict=defaultdict()\n",
    "\n",
    "    word1_dict=word1[2]\n",
    "    word2_dict=word2[2]\n",
    "\n",
    "\n",
    "\n",
    "    def intersection(lst1, lst2):\n",
    "        lst3 = [value for value in lst1 if value in lst2]\n",
    "        return lst3\n",
    "\n",
    "    keys_word_1=list(word1_dict.keys())\n",
    "    keys_word_2=list(word2_dict.keys())\n",
    "\n",
    "    common_keys=intersection(keys_word_1,keys_word_2)\n",
    "\n",
    "\n",
    "    difference_dict=defaultdict()\n",
    "\n",
    "    for key in common_keys:\n",
    "        difference_dict[key]=word1_dict[key]-word2_dict[key]\n",
    "\n",
    "    sorted_difference_dict=dict(sorted(difference_dict.items(), key=lambda x:abs(x[1]) ,reverse=True))\n",
    "\n",
    "    sorted_keys=list(sorted_difference_dict.keys())\n",
    "\n",
    "    left_axis=[]\n",
    "    right_axis=[]\n",
    "    values_word1=[]\n",
    "    values_word2=[]\n",
    "\n",
    "    for i in range(k):\n",
    "        left_axis.append(sorted_keys[i][0])\n",
    "        right_axis.append(sorted_keys[i][1])\n",
    "        values_word1.append(word1_dict[sorted_keys[i]])\n",
    "        values_word2.append(word2_dict[sorted_keys[i]])\n",
    "\n",
    "\n",
    "\n",
    "    plt.rcdefaults()\n",
    "    fig, ax = plt.subplots()\n",
    "\n",
    "    ax.set(xlim=(-5, 5))\n",
    "    y_pos = np.arange(len(right_axis))\n",
    "    width = 0.4\n",
    "\n",
    "    ax.barh(y_pos, values_word1, width,align='center',label=word1[3])\n",
    "    ax.barh(y_pos+width, values_word2, width,align='center',label=word2[3])\n",
    "    ax.set_yticks(y_pos, labels=left_axis)\n",
    "    ax.invert_yaxis()  # labels read top-to-bottom\n",
    "\n",
    "\n",
    "    ax2 = ax.twinx()\n",
    "    ax2.set_ylim(ax.get_ylim())\n",
    "    ax2.set_yticks(y_pos,right_axis)\n",
    "    ax.legend()\n",
    "    \n",
    "    plt.show()\n",
    "\n",
    "    return\n",
    "\n"
   ]
  },
  {
   "cell_type": "code",
   "execution_count": 9,
   "id": "043dae4f",
   "metadata": {},
   "outputs": [
    {
     "data": {
      "image/png": "[encoded data removed]",
      "text/plain": [
       "<Figure size 640x480 with 2 Axes>"
      ]
     },
     "metadata": {},
     "output_type": "display_data"
    }
   ],
   "source": [
    "most_descriptive_antonyms(university,school,2)"
   ]
  },
  {
   "cell_type": "code",
   "execution_count": null,
   "id": "6b5e2003",
   "metadata": {},
   "outputs": [],
   "source": []
  },
  {
   "cell_type": "code",
   "execution_count": null,
   "id": "67c2a46b",
   "metadata": {},
   "outputs": [],
   "source": []
  },
  {
   "cell_type": "markdown",
   "id": "8df4dfd6",
   "metadata": {},
   "source": [
    "## manual imput of dimension"
   ]
  },
  {
   "cell_type": "code",
   "execution_count": 10,
   "id": "d1990b38",
   "metadata": {},
   "outputs": [],
   "source": [
    "def create_dimensions_list():\n",
    "    from collections import defaultdict\n",
    "    word=\"1\"\n",
    "    #d for dimensions\n",
    "    d=[]\n",
    "    while word != '' :\n",
    "        antonyms=defaultdict()\n",
    "        index=0\n",
    "        word=input('Enter word: ')\n",
    "        if word !='':\n",
    "            #get all synstets\n",
    "            synsets=wn.synsets(word)\n",
    "\n",
    "            #create dictionary only with synsets that have an antonym\n",
    "            for i in synsets:\n",
    "                if(len(i.lemmas()[0].antonyms()) !=0):\n",
    "                    ant=i.lemmas()[0].antonyms()[0]\n",
    "                    antonyms[i]=ant.synset()\n",
    "                    \n",
    "            #keep only antonym pairs that have examples\n",
    "            for key in list(antonyms.keys()):\n",
    "                if (len(key.examples())==0 or len(antonyms[key].examples())==0):\n",
    "                    del antonyms[key]\n",
    "\n",
    "\n",
    "            #visualize definitions\n",
    "\n",
    "            for key in list(antonyms.keys()):\n",
    "                print(\"Antonym pair index {}\".format(index))\n",
    "                print(\"   Antonym pair {}-----{} \".format(key,antonyms[key]))\n",
    "                print(\"        Definition {} => {} \".format(key,key.definition()))\n",
    "                print(\"        Definition {} => {} \".format(antonyms[key],antonyms[key].definition()))\n",
    "                print(\" \")\n",
    "                print(\" \")\n",
    "                print(\" \")\n",
    "                index+=1\n",
    "            \n",
    "            #create list of desired dimensions \n",
    "            selected_antonym_pair_index=int(input('Enter the index of desired antonym pair: '))\n",
    "\n",
    "            key=list(antonyms.keys())[selected_antonym_pair_index]\n",
    "\n",
    "            d.append(list([key.name(),antonyms[key].name()]))\n",
    "            print(\" \")\n",
    "            print(\" \")\n",
    "            print(\" \")\n",
    "\n",
    "    return d\n",
    "\n"
   ]
  },
  {
   "cell_type": "code",
   "execution_count": 11,
   "id": "1efddc1f",
   "metadata": {},
   "outputs": [
    {
     "name": "stdout",
     "output_type": "stream",
     "text": [
      "Enter word: good\n",
      "Antonym pair index 0\n",
      "   Antonym pair Synset('good.n.02')-----Synset('evil.n.03') \n",
      "        Definition Synset('good.n.02') => moral excellence or admirableness \n",
      "        Definition Synset('evil.n.03') => the quality of being morally wrong in principle or practice \n",
      " \n",
      " \n",
      " \n",
      "Antonym pair index 1\n",
      "   Antonym pair Synset('good.n.03')-----Synset('bad.n.01') \n",
      "        Definition Synset('good.n.03') => that which is pleasing or valuable or useful \n",
      "        Definition Synset('bad.n.01') => that which is below standard or expectations as of ethics or decency \n",
      " \n",
      " \n",
      " \n",
      "Antonym pair index 2\n",
      "   Antonym pair Synset('good.a.01')-----Synset('bad.a.01') \n",
      "        Definition Synset('good.a.01') => having desirable or positive qualities especially those suitable for a thing specified \n",
      "        Definition Synset('bad.a.01') => having undesirable or negative qualities \n",
      " \n",
      " \n",
      " \n",
      "Antonym pair index 3\n",
      "   Antonym pair Synset('well.r.01')-----Synset('ill.r.01') \n",
      "        Definition Synset('well.r.01') => (often used as a combining form) in a good or proper or satisfactory manner or to a high standard (`good' is a nonstandard dialectal variant for `well') \n",
      "        Definition Synset('ill.r.01') => (`ill' is often used as a combining form) in a poor or improper or unsatisfactory manner; not well \n",
      " \n",
      " \n",
      " \n",
      "Enter the index of desired antonym pair: 0\n",
      " \n",
      " \n",
      " \n",
      "Enter word: \n"
     ]
    }
   ],
   "source": [
    "dims=create_dimensions_list()"
   ]
  },
  {
   "cell_type": "code",
   "execution_count": 12,
   "id": "05385270",
   "metadata": {},
   "outputs": [
    {
     "data": {
      "text/plain": [
       "[['good.n.02', 'evil.n.03']]"
      ]
     },
     "execution_count": 12,
     "metadata": {},
     "output_type": "execute_result"
    }
   ],
   "source": [
    "dims\n"
   ]
  },
  {
   "cell_type": "markdown",
   "id": "c3b89851",
   "metadata": {},
   "source": [
    "# create lookup files out of a adjectives list (file)\n"
   ]
  },
  {
   "cell_type": "code",
   "execution_count": null,
   "id": "b4d1a211",
   "metadata": {},
   "outputs": [],
   "source": []
  },
  {
   "cell_type": "code",
   "execution_count": 4,
   "id": "69e12474",
   "metadata": {},
   "outputs": [],
   "source": [
    "out='antonyms_adj_files/'\n",
    "file_name='adjectives_list.xlsx'\n",
    "create_lookupFiles_out_of_adjectives_list_using_file(file_name,out)"
   ]
  },
  {
   "cell_type": "code",
   "execution_count": null,
   "id": "17380cd7",
   "metadata": {},
   "outputs": [],
   "source": []
  },
  {
   "cell_type": "code",
   "execution_count": null,
   "id": "8ec9f1e0",
   "metadata": {},
   "outputs": [],
   "source": []
  }
 ],
 "metadata": {
  "kernelspec": {
   "display_name": "Python 3 (ipykernel)",
   "language": "python",
   "name": "python3"
  },
  "language_info": {
   "codemirror_mode": {
    "name": "ipython",
    "version": 3
   },
   "file_extension": ".py",
   "mimetype": "text/x-python",
   "name": "python",
   "nbconvert_exporter": "python",
   "pygments_lexer": "ipython3",
   "version": "3.8.16"
  }
 },
 "nbformat": 4,
 "nbformat_minor": 5
}
