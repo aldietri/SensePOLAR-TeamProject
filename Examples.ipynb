{
 "cells": [
  {
   "cell_type": "markdown",
   "id": "ba7ed4b4",
   "metadata": {},
   "source": [
    "## Files used in bertFuncs.py"
   ]
  },
  {
   "cell_type": "code",
   "execution_count": 1,
   "id": "48e420e7",
   "metadata": {},
   "outputs": [
    {
     "ename": "ModuleNotFoundError",
     "evalue": "No module named 'bertFuncs'",
     "output_type": "error",
     "traceback": [
      "\u001b[0;31m---------------------------------------------------------------------------\u001b[0m",
      "\u001b[0;31mModuleNotFoundError\u001b[0m                       Traceback (most recent call last)",
      "\u001b[0;32m<ipython-input-1-5483312b5e03>\u001b[0m in \u001b[0;36m<module>\u001b[0;34m\u001b[0m\n\u001b[1;32m      1\u001b[0m \u001b[0;32mfrom\u001b[0m \u001b[0mbert_functions_v2\u001b[0m \u001b[0;32mimport\u001b[0m \u001b[0manalyzeWord\u001b[0m\u001b[0;34m,\u001b[0m \u001b[0mgetBert\u001b[0m\u001b[0;34m\u001b[0m\u001b[0;34m\u001b[0m\u001b[0m\n\u001b[1;32m      2\u001b[0m \u001b[0;32mfrom\u001b[0m \u001b[0mcreateDims\u001b[0m \u001b[0;32mimport\u001b[0m \u001b[0mcreatePolarDimension\u001b[0m\u001b[0;34m\u001b[0m\u001b[0;34m\u001b[0m\u001b[0m\n\u001b[0;32m----> 3\u001b[0;31m \u001b[0;32mfrom\u001b[0m \u001b[0mget_data_from_file\u001b[0m \u001b[0;32mimport\u001b[0m \u001b[0mcreate_lookup_from_data_file\u001b[0m\u001b[0;34m\u001b[0m\u001b[0;34m\u001b[0m\u001b[0m\n\u001b[0m\u001b[1;32m      4\u001b[0m \u001b[0;32mimport\u001b[0m \u001b[0mnltk\u001b[0m\u001b[0;34m\u001b[0m\u001b[0;34m\u001b[0m\u001b[0m\n\u001b[1;32m      5\u001b[0m \u001b[0;32mfrom\u001b[0m \u001b[0mnltk\u001b[0m\u001b[0;34m.\u001b[0m\u001b[0mcorpus\u001b[0m \u001b[0;32mimport\u001b[0m \u001b[0mwordnet\u001b[0m \u001b[0;32mas\u001b[0m \u001b[0mwn\u001b[0m\u001b[0;34m\u001b[0m\u001b[0;34m\u001b[0m\u001b[0m\n",
      "\u001b[0;32m/pfs/data5/home/ma/ma_ma/ma_prajula/SensePOLAR-TeamProject/get_data_from_file.py\u001b[0m in \u001b[0;36m<module>\u001b[0;34m\u001b[0m\n\u001b[1;32m      9\u001b[0m \u001b[0;32mimport\u001b[0m \u001b[0mre\u001b[0m\u001b[0;34m\u001b[0m\u001b[0;34m\u001b[0m\u001b[0m\n\u001b[1;32m     10\u001b[0m \u001b[0;32mfrom\u001b[0m \u001b[0mcollections\u001b[0m \u001b[0;32mimport\u001b[0m \u001b[0mdefaultdict\u001b[0m\u001b[0;34m\u001b[0m\u001b[0;34m\u001b[0m\u001b[0m\n\u001b[0;32m---> 11\u001b[0;31m \u001b[0;32mfrom\u001b[0m \u001b[0mbertFuncs\u001b[0m \u001b[0;32mimport\u001b[0m \u001b[0manalyzeWord\u001b[0m\u001b[0;34m,\u001b[0m \u001b[0mgetBert\u001b[0m\u001b[0;34m\u001b[0m\u001b[0;34m\u001b[0m\u001b[0m\n\u001b[0m\u001b[1;32m     12\u001b[0m \u001b[0;32mfrom\u001b[0m \u001b[0mcreateDims\u001b[0m \u001b[0;32mimport\u001b[0m \u001b[0mcreatePolarDimension\u001b[0m\u001b[0;34m\u001b[0m\u001b[0;34m\u001b[0m\u001b[0m\n\u001b[1;32m     13\u001b[0m \u001b[0;32mimport\u001b[0m \u001b[0mnltk\u001b[0m\u001b[0;34m\u001b[0m\u001b[0;34m\u001b[0m\u001b[0m\n",
      "\u001b[0;31mModuleNotFoundError\u001b[0m: No module named 'bertFuncs'"
     ]
    }
   ],
   "source": [
    "from bert_functions_v2 import analyzeWord, getBert\n",
    "from createDims import createPolarDimension\n",
    "from get_data_from_file import create_lookup_from_data_file\n",
    "import nltk\n",
    "from nltk.corpus import wordnet as wn\n",
    "import numpy as np\n",
    "import pickle\n",
    "import json\n",
    "import string\n",
    "import ast\n",
    "import torch\n",
    "import pandas as pd\n",
    "import re"
   ]
  },
  {
   "cell_type": "markdown",
   "id": "cb8a9ed2",
   "metadata": {},
   "source": [
    "## Creating the required lookup files\n",
    "\n",
    "The lookup files are needed to set up the POLAR dimensions and to match these dimensions to word sense definitions and example sentences, when analyzing the result.\n",
    "\n",
    "The function ``create_lookup_files`` takes a list of lists as input. Each inner list contains a polar sense pair, where each word sense must be in WordNet readable format e.g. ``cold.a.01``), in orderder to automatically retrieve definitions and example sentences. All lookup files will be stored in the folder ``lookup_path``. "
   ]
  },
  {
   "cell_type": "code",
   "execution_count": 10,
   "id": "5e1f5355",
   "metadata": {},
   "outputs": [],
   "source": [
    "out='antonyms_file/'\n",
    "file='data_file.xlsx'"
   ]
  },
  {
   "cell_type": "code",
   "execution_count": 11,
   "id": "2dbe28b6",
   "metadata": {},
   "outputs": [],
   "source": [
    "create_lookup_from_data_file(file,out)"
   ]
  },
  {
   "cell_type": "code",
   "execution_count": 2,
   "id": "01d8e183",
   "metadata": {},
   "outputs": [],
   "source": [
    "# helper functions\n",
    "\n",
    "def get_name(antonym):\n",
    "    return wn.synset(antonym).lemma_names()[0]\n",
    "\n",
    "#def get_examples(antonym):\n",
    "#    examples = wn.synset(antonym).examples()\n",
    "    # replace punctuation symbols with spaces\n",
    "#    examples = [sent.translate(str.maketrans({k: \" \" for k in string.punctuation})) for sent in examples]\n",
    "    # add a space after each sentence\n",
    "#    return ['{} '.format(sent) for sent in examples]"
   ]
  },
  {
   "cell_type": "code",
   "execution_count": 3,
   "id": "fcb58c7f",
   "metadata": {},
   "outputs": [],
   "source": [
    "def get_examples(antonym):\n",
    "    antonym= wn.synset(antonym)\n",
    "    examples=antonym.examples()\n",
    "    #save only examples that containt the required word\n",
    "    correct_examples=[]\n",
    "    for example in examples:\n",
    "        if re.search(r'\\b'+str(antonym.lemma_names()[0])+'\\\\b', example, re.I) is not None:\n",
    "            correct_examples.append(example)\n",
    "    \n",
    "\n",
    "    \n",
    "    examples = [sent.translate(str.maketrans({k: \" \" for k in string.punctuation})) for sent in correct_examples]\n",
    "    # add a space after each sentence\n",
    "    return ['{} '.format(sent) for sent in examples]"
   ]
  },
  {
   "cell_type": "code",
   "execution_count": 14,
   "id": "0e986a67",
   "metadata": {},
   "outputs": [
    {
     "data": {
      "text/plain": [
       "['The patient must be sedated before the operation']"
      ]
     },
     "execution_count": 14,
     "metadata": {},
     "output_type": "execute_result"
    }
   ],
   "source": [
    "wn.synset('sedate.v.01').examples()"
   ]
  },
  {
   "cell_type": "code",
   "execution_count": 4,
   "id": "f27f97d3",
   "metadata": {},
   "outputs": [
    {
     "data": {
      "text/plain": [
       "['a clean fuel ', 'the tactical bomb is reasonably clean ']"
      ]
     },
     "execution_count": 4,
     "metadata": {},
     "output_type": "execute_result"
    }
   ],
   "source": [
    "get_examples('clean.a.07')"
   ]
  },
  {
   "cell_type": "code",
   "execution_count": 5,
   "id": "958ab34b",
   "metadata": {},
   "outputs": [],
   "source": [
    "def create_lookup_files(antonyms, lookup_path):\n",
    "    if len(np.unique(antonyms, axis=0)) != len(antonyms):\n",
    "        print(\"Your antonym list contains duplicates. Please try again!\")\n",
    "        return\n",
    "    \n",
    "    # get all word sense definitions\n",
    "    synset_defs = [[wn.synset(anto).definition() for anto in pair] for pair in antonyms]\n",
    "    # get example sentences from wordnet\n",
    "    examples_readable = {str(pair):{get_name(anto): get_examples(anto) for anto in pair} for pair in antonyms}\n",
    "    examples_lookup = [[[get_name(anto), get_examples(anto)] for anto in pair] for pair in antonyms]\n",
    "    \n",
    "    # save \n",
    "    with open(out_path + 'lookup_synset_dict.txt', 'w') as t:\n",
    "        t.write(json.dumps(antonyms, indent=4))\n",
    "    with open(out_path + 'lookup_synset_dict.pkl', 'wb') as p:\n",
    "        pickle.dump(antonyms, p)\n",
    "    with open(lookup_path + 'lookup_synset_definition.txt', 'w') as t:\n",
    "        t.write(json.dumps(synset_defs, indent=4))  \n",
    "    with open(lookup_path + 'lookup_synset_definition.pkl', 'wb') as p:\n",
    "        pickle.dump(synset_defs, p)        \n",
    "    with open(lookup_path + 'antonym_wordnet_example_sentences_readable_extended.txt', 'w') as t:\n",
    "        t.write(json.dumps(examples_readable, indent=4))  \n",
    "    with open(lookup_path + 'lookup_anto_example_dict.txt', 'w') as t:\n",
    "        t.write(json.dumps(examples_lookup, indent=4))      \n",
    "    with open(lookup_path + 'lookup_anto_example_dict.pkl', 'wb') as p:\n",
    "        pickle.dump(examples_lookup, p)\n",
    "    return\n"
   ]
  },
  {
   "cell_type": "code",
   "execution_count": 9,
   "id": "eb378d8d",
   "metadata": {},
   "outputs": [],
   "source": [
    "def create_dimensions_list():\n",
    "    from collections import defaultdict\n",
    "    word=\"1\"\n",
    "    #d for dimensions\n",
    "    d=[]\n",
    "    while word != '' :\n",
    "        antonyms=defaultdict()\n",
    "        index=0\n",
    "        word=input('Enter word: ')\n",
    "        if word !='':\n",
    "            #get all synstets\n",
    "            synsets=wn.synsets(word)\n",
    "\n",
    "            #create dictionary only with synsets that have an antonym\n",
    "            for i in synsets:\n",
    "                if(len(i.lemmas()[0].antonyms()) !=0):\n",
    "                    ant=i.lemmas()[0].antonyms()[0]\n",
    "                    antonyms[i]=ant.synset()\n",
    "                    \n",
    "            #keep only antonym pairs that have examples\n",
    "            for key in list(antonyms.keys()):\n",
    "                if (len(key.examples())==0 or len(antonyms[key].examples())==0):\n",
    "                    del antonyms[key]\n",
    "\n",
    "\n",
    "            #visualize definitions\n",
    "\n",
    "            for key in list(antonyms.keys()):\n",
    "                print(\"Antonym pair index {}\".format(index))\n",
    "                print(\"   Antonym pair {}-----{} \".format(key,antonyms[key]))\n",
    "                print(\"        Definition {} => {} \".format(key,key.definition()))\n",
    "                print(\"        Definition {} => {} \".format(antonyms[key],antonyms[key].definition()))\n",
    "                print(\" \")\n",
    "                print(\" \")\n",
    "                print(\" \")\n",
    "                index+=1\n",
    "            \n",
    "            #create list of desired dimensions \n",
    "            selected_antonym_pair_index=int(input('Enter the index of desired antonym pair: '))\n",
    "\n",
    "            key=list(antonyms.keys())[selected_antonym_pair_index]\n",
    "\n",
    "            d.append(list([key.name(),antonyms[key].name()]))\n",
    "            print(\" \")\n",
    "            print(\" \")\n",
    "            print(\" \")\n",
    "\n",
    "    return d\n",
    "\n"
   ]
  },
  {
   "cell_type": "code",
   "execution_count": 10,
   "id": "e88637ff",
   "metadata": {},
   "outputs": [],
   "source": [
    "def create_dims_with_adj_list():\n",
    "\n",
    "    adjectives=pd.read_csv(r\"C:\\Users\\VogliA\\Desktop\\adjective_list_eng.csv\",header=None)\n",
    "    adjectives=list(adjectives[0])\n",
    "    adjectives\n",
    "    from collections import defaultdict\n",
    "    adj_ant_pairs=[]\n",
    "    d=[]\n",
    "    sorted_d=[]\n",
    "    for word in adjectives:\n",
    "        antonyms=defaultdict()\n",
    "\n",
    "        synsets=wn.synsets(word)\n",
    "         #create dictionary only with synsets that have an antonym\n",
    "        for i in synsets:\n",
    "            if(len(i.lemmas()[0].antonyms()) !=0):\n",
    "                ant=i.lemmas()[0].antonyms()[0]\n",
    "                antonyms[i]=ant.synset()\n",
    "        #keep only antonym pairs that have examples\n",
    "        for key in list(antonyms.keys()):\n",
    "            if (len(key.examples())==0 or len(antonyms[key].examples())==0):\n",
    "                del antonyms[key]\n",
    "        if len(list(antonyms.keys())) !=0:\n",
    "         #append the list of dimmensions\n",
    "            for key in list(antonyms.keys()):\n",
    "                d.append(sorted(list([key.name(),antonyms[key].name()])))\n",
    "\n",
    "    #remove duplicates\n",
    "    df=pd.DataFrame(d)\n",
    "    df.drop_duplicates(inplace=True)\n",
    "    df.reset_index(inplace=True)        \n",
    "    dims=[]\n",
    "    for index, value in enumerate(df[0]):\n",
    "        dims.append(list([value,df[1][index]]))\n",
    "\n",
    "    return dims\n"
   ]
  },
  {
   "cell_type": "markdown",
   "id": "abd2f37b",
   "metadata": {},
   "source": [
    "## Example usage"
   ]
  },
  {
   "cell_type": "markdown",
   "id": "44e77ad0",
   "metadata": {},
   "source": [
    "Polar dimensions should be __given__ as nested list of antonym pairs in wordnet representation (sense-annotated).\n",
    "\n",
    "_Example:_   \n",
    "`\n",
    "[\n",
    "    ['a_posteriori.a.01', 'a_priori.a.01'],\n",
    "    ['abaxial.a.01', 'adaxial.a.01'],\n",
    "    ['abridge.v.01', 'elaborate.v.01'],\n",
    "    ...\n",
    "]`"
   ]
  },
  {
   "cell_type": "code",
   "execution_count": 6,
   "id": "59f200e1",
   "metadata": {},
   "outputs": [],
   "source": [
    "# folder in which all lookup files will be stored\n",
    "out_path = 'antonyms/'"
   ]
  },
  {
   "cell_type": "code",
   "execution_count": 22,
   "id": "7a469df2",
   "metadata": {
    "scrolled": true
   },
   "outputs": [
    {
     "data": {
      "text/plain": [
       "[['nasty.a.01', 'nice.a.01'],\n",
       " ['better.v.02', 'worsen.v.02'],\n",
       " ['better.v.03', 'worsen.v.01'],\n",
       " ['better.a.01', 'worse.a.01'],\n",
       " ['better.a.02', 'worse.a.02'],\n",
       " ['bad.a.01', 'good.a.01'],\n",
       " ['ill.a.01', 'well.a.01'],\n",
       " ['ill.r.01', 'well.r.01'],\n",
       " ['ill.r.02', 'well.r.06'],\n",
       " ['badly.r.07', 'well.r.10'],\n",
       " ['badly.r.08', 'well.r.11'],\n",
       " ['badly.r.10', 'well.r.13'],\n",
       " ['bloodless.a.02', 'bloody.a.01'],\n",
       " ['brave.n.02', 'timid.n.01'],\n",
       " ['brave.a.01', 'cowardly.a.01'],\n",
       " ['busy.a.01', 'idle.a.01'],\n",
       " ['cautious.a.01', 'incautious.a.01'],\n",
       " ['clean.v.01', 'dirty.v.01'],\n",
       " ['clean.a.01', 'dirty.a.01'],\n",
       " ['clean.a.07', 'dirty.a.04'],\n",
       " ['clean.a.08', 'dirty.a.02'],\n",
       " ['fairly.r.03', 'unfairly.r.01'],\n",
       " ['clear.a.11', 'cloudy.a.02'],\n",
       " ['crowded.a.01', 'uncrowded.a.01'],\n",
       " ['dead.n.01', 'living.n.02'],\n",
       " ['alive.a.01', 'dead.a.01'],\n",
       " ['dead.a.02', 'live.a.02'],\n",
       " ['different.a.01', 'same.a.02'],\n",
       " ['like.a.01', 'unlike.a.01'],\n",
       " ['distinct.a.02', 'indistinct.a.01'],\n",
       " ['eager.a.01', 'uneager.a.01'],\n",
       " ['discouraging.a.01', 'encouraging.a.01'],\n",
       " ['cheap.a.01', 'expensive.a.01'],\n",
       " ['faithful.a.01', 'unfaithful.a.01'],\n",
       " ['faithful.a.03', 'unfaithful.a.02'],\n",
       " ['coarse.a.01', 'fine.a.05'],\n",
       " ['frail.a.01', 'robust.a.01'],\n",
       " ['glorious.a.01', 'inglorious.a.02'],\n",
       " ['healthy.a.01', 'unhealthy.a.01'],\n",
       " ['reasonably.r.01', 'unreasonably.r.02'],\n",
       " ['lucky.a.02', 'unlucky.a.01'],\n",
       " ['imperfect.a.01', 'perfect.a.01'],\n",
       " ['real.a.01', 'unreal.a.01'],\n",
       " ['real.a.02', 'unreal.a.02'],\n",
       " ['nominal.a.04', 'real.a.06'],\n",
       " ['insubstantial.a.01', 'substantial.a.03'],\n",
       " ['poor_people.n.01', 'rich_people.n.01'],\n",
       " ['poor.a.02', 'rich.a.01'],\n",
       " ['poor.a.04', 'rich.a.02'],\n",
       " ['lean.a.02', 'rich.a.07'],\n",
       " ['poor.a.03', 'rich.a.08'],\n",
       " ['glazed.a.03', 'unglazed.a.02'],\n",
       " ['intelligent.a.01', 'unintelligent.a.01'],\n",
       " ['tender.a.01', 'tough.a.01'],\n",
       " ['tender.a.06', 'tough.a.03'],\n",
       " ['grateful.a.01', 'ungrateful.a.01'],\n",
       " ['rested.a.01', 'tired.a.01'],\n",
       " ['beautiful.a.01', 'ugly.a.01'],\n",
       " ['right.n.07', 'wrong.n.01'],\n",
       " ['correct.a.01', 'incorrect.a.01'],\n",
       " ['right.a.04', 'wrong.a.02'],\n",
       " ['right.a.05', 'wrong.a.05'],\n",
       " ['correctly.r.01', 'incorrectly.r.02'],\n",
       " ['attractive.a.01', 'unattractive.a.01'],\n",
       " ['attractive.a.03', 'repulsive.a.02'],\n",
       " ['bad.n.01', 'good.n.03'],\n",
       " ['regretful.a.01', 'unregretful.a.01'],\n",
       " ['breakable.a.01', 'unbreakable.a.01'],\n",
       " ['agitate.v.02', 'calm.v.01'],\n",
       " ['sedate.v.01', 'stimulate.v.04'],\n",
       " ['calm.a.02', 'stormy.a.01'],\n",
       " ['clear_up.v.04', 'overcast.v.01'],\n",
       " ['bounce.v.04', 'clear.v.07'],\n",
       " ['acquit.v.01', 'convict.v.01'],\n",
       " ['clear.a.01', 'unclear.a.02'],\n",
       " ['clear.a.04', 'opaque.a.01'],\n",
       " ['ill-defined.a.01', 'well-defined.a.02'],\n",
       " ['comfortable.a.01', 'uncomfortable.a.02'],\n",
       " ['comfortable.a.02', 'uncomfortable.a.01'],\n",
       " ['dangerous.a.01', 'safe.a.01'],\n",
       " ['defeated.a.01', 'undefeated.a.01'],\n",
       " ['depress.v.01', 'elate.v.01'],\n",
       " ['difficult.a.01', 'easy.a.01'],\n",
       " ['easy.a.03', 'uneasy.a.01'],\n",
       " ['quickly.r.01', 'slowly.r.01'],\n",
       " ['energetic.a.01', 'lethargic.a.01'],\n",
       " ['evil.n.03', 'good.n.02'],\n",
       " ['foolish.a.01', 'wise.a.01'],\n",
       " ['hungry.a.01', 'thirsty.a.02'],\n",
       " ['important.a.01', 'unimportant.a.01'],\n",
       " ['guilty.a.01', 'innocent.a.01'],\n",
       " ['joyless.a.01', 'joyous.a.01'],\n",
       " ['ignite.v.01', 'snuff_out.v.02'],\n",
       " ['heavy.a.01', 'light.a.01'],\n",
       " ['dark.a.02', 'light.a.02'],\n",
       " ['heavy.a.03', 'light.a.03'],\n",
       " ['heavy.a.02', 'light.a.04'],\n",
       " ['heavy.a.04', 'light.a.05'],\n",
       " ['dark.a.01', 'light.a.06'],\n",
       " ['heavy.a.08', 'light.a.13'],\n",
       " ['heavy.a.09', 'light.a.14'],\n",
       " ['long.a.01', 'short.a.01'],\n",
       " ['long.a.02', 'short.a.02'],\n",
       " ['retentive.a.01', 'unretentive.a.01'],\n",
       " ['long.a.05', 'short.a.06'],\n",
       " ['long.a.06', 'short.a.07'],\n",
       " ['disobedient.a.01', 'obedient.a.01'],\n",
       " ['fancy.a.01', 'plain.a.02'],\n",
       " ['enforce.v.01', 'exempt.v.01'],\n",
       " ['confident.a.01', 'diffident.a.02'],\n",
       " ['sparkling.a.02', 'still.a.05'],\n",
       " ['tame.a.02', 'wild.a.01'],\n",
       " ['tame.a.03', 'wild.a.02'],\n",
       " ['relax.v.01', 'tense.v.03'],\n",
       " ['relax.v.04', 'tense.v.04'],\n",
       " ['lax.a.03', 'tense.a.03'],\n",
       " ['thoughtful.a.02', 'thoughtless.a.01'],\n",
       " ['heedful.a.01', 'heedless.a.01'],\n",
       " ['unusual.a.01', 'usual.a.01'],\n",
       " ['familiar.a.02', 'strange.a.01'],\n",
       " ['reassure.v.01', 'worry.v.03'],\n",
       " ['blacken.v.01', 'whiten.v.01'],\n",
       " ['black.a.01', 'white.a.01'],\n",
       " ['black.a.02', 'white.a.02'],\n",
       " ['bright.a.01', 'dull.a.02'],\n",
       " ['dimmed.a.01', 'undimmed.a.01'],\n",
       " ['careful.a.01', 'careless.a.01'],\n",
       " ['cheerful.a.01', 'depressing.a.01'],\n",
       " ['colorful.a.02', 'colorless.a.01'],\n",
       " ['colored.a.01', 'uncolored.a.01'],\n",
       " ['concerned.a.01', 'unconcerned.a.01'],\n",
       " ['cooperative.a.02', 'uncooperative.a.01'],\n",
       " ['curious.a.02', 'incurious.a.01'],\n",
       " ['compliant.a.01', 'defiant.a.01'],\n",
       " ['dull.v.05', 'sharpen.v.01'],\n",
       " ['dull.a.01', 'lively.a.01'],\n",
       " ['dull.a.06', 'sharp.a.08'],\n",
       " ['dull.a.09', 'sharp.a.09'],\n",
       " ['dejected.a.01', 'elated.a.01'],\n",
       " ['enthusiastic.a.01', 'unenthusiastic.a.01'],\n",
       " ['stifle.v.02', 'stimulate.v.01'],\n",
       " ['fair.a.01', 'unfair.a.01'],\n",
       " ['friendly.n.01', 'hostile.n.01'],\n",
       " ['friendly.a.01', 'unfriendly.a.02'],\n",
       " ['friendly.a.03', 'unfriendly.a.01'],\n",
       " ['friendly.a.04', 'hostile.a.02'],\n",
       " ['happy.a.01', 'unhappy.a.01'],\n",
       " ['impossible.a.01', 'possible.a.01'],\n",
       " ['kind.a.01', 'unkind.a.01'],\n",
       " ['close.v.01', 'open.v.01'],\n",
       " ['close_up.v.01', 'open.v.02'],\n",
       " ['close.v.02', 'open.v.03'],\n",
       " ['close.v.04', 'open.v.04'],\n",
       " ['fold.v.01', 'unfold.v.04'],\n",
       " ['open.a.01', 'shut.a.01'],\n",
       " ['closed.a.01', 'open.a.02'],\n",
       " ['closed.a.04', 'open.a.05'],\n",
       " ['covert.a.01', 'overt.a.01'],\n",
       " ['pleasant.a.01', 'unpleasant.a.01'],\n",
       " ['humble.a.02', 'proud.a.01'],\n",
       " ['foreign.a.02', 'native.a.01'],\n",
       " ['troubled.a.01', 'untroubled.a.01'],\n",
       " ['interested.a.01', 'uninterested.a.01']]"
      ]
     },
     "execution_count": 22,
     "metadata": {},
     "output_type": "execute_result"
    }
   ],
   "source": [
    "#dims=create_dimensions_list()\n",
    "dims=create_dims_with_adj_list()\n",
    "\n",
    "dims"
   ]
  },
  {
   "cell_type": "code",
   "execution_count": 23,
   "id": "58819518",
   "metadata": {},
   "outputs": [
    {
     "data": {
      "text/plain": [
       "163"
      ]
     },
     "execution_count": 23,
     "metadata": {},
     "output_type": "execute_result"
    }
   ],
   "source": [
    "len(dims)"
   ]
  },
  {
   "cell_type": "code",
   "execution_count": 15,
   "id": "970658bd",
   "metadata": {},
   "outputs": [
    {
     "name": "stdout",
     "output_type": "stream",
     "text": [
      "Enter word: interested\n",
      "Antonym pair index 0\n",
      "   Antonym pair Synset('interested.a.01')-----Synset('uninterested.a.01') \n",
      "        Definition Synset('interested.a.01') => having or showing interest; especially curiosity or fascination or concern \n",
      "        Definition Synset('uninterested.a.01') => not having or showing interest \n",
      " \n",
      " \n",
      " \n",
      "Enter the index of desired antonym pair: 0\n",
      " \n",
      " \n",
      " \n",
      "Enter word: \n"
     ]
    }
   ],
   "source": [
    "dims=create_dimensions_list()"
   ]
  },
  {
   "cell_type": "code",
   "execution_count": 16,
   "id": "d9740ed2",
   "metadata": {},
   "outputs": [
    {
     "data": {
      "text/plain": [
       "[['interested.a.01', 'uninterested.a.01']]"
      ]
     },
     "execution_count": 16,
     "metadata": {},
     "output_type": "execute_result"
    }
   ],
   "source": [
    "dims"
   ]
  },
  {
   "cell_type": "code",
   "execution_count": 17,
   "id": "69be182f",
   "metadata": {},
   "outputs": [],
   "source": [
    "create_lookup_files(dims, out_path)"
   ]
  },
  {
   "cell_type": "code",
   "execution_count": 33,
   "id": "89588ca4",
   "metadata": {},
   "outputs": [
    {
     "name": "stderr",
     "output_type": "stream",
     "text": [
      "Some weights of the model checkpoint at bert-base-uncased were not used when initializing BertModel: ['cls.seq_relationship.weight', 'cls.predictions.transform.dense.weight', 'cls.predictions.bias', 'cls.predictions.transform.dense.bias', 'cls.predictions.decoder.weight', 'cls.predictions.transform.LayerNorm.weight', 'cls.predictions.transform.LayerNorm.bias', 'cls.seq_relationship.bias']\n",
      "- This IS expected if you are initializing BertModel from the checkpoint of a model trained on another task or with another architecture (e.g. initializing a BertForSequenceClassification model from a BertForPreTraining model).\n",
      "- This IS NOT expected if you are initializing BertModel from the checkpoint of a model that you expect to be exactly identical (initializing a BertForSequenceClassification model from a BertForSequenceClassification model).\n"
     ]
    }
   ],
   "source": [
    "# define 3 exemplary POLAR dimensions\n",
    "#dims = [['cold.a.01', 'hot.a.01'], ['bad.a.01', 'good.a.01'], ['intelligent.a.01', 'unintelligent.a.01'], ['capable.a.01', 'incapable.a.01'],['better.a.02', 'worse.a.02'],['open.a.01', 'shut.a.01'],  ['interested.a.01', 'uninterested.a.01'],['foreign.a.02', 'native.a.01']]\n",
    "#dims=[['nasty.a.01', 'nice.a.01'], ['bad.a.01', 'good.a.01'], ['ill.a.01', 'well.a.01'], ['ill.r.01', 'well.r.01'],['ill.r.02', 'well.r.06'],['badly.r.07', 'well.r.10']]   \n",
    "# create all lookup files\n",
    "#create_lookup_files(dims, out_path)"
   ]
  },
  {
   "cell_type": "code",
   "execution_count": 55,
   "id": "b589bbfb",
   "metadata": {},
   "outputs": [],
   "source": [
    "dims=[['nasty.a.01', 'nice.a.01'],\n",
    " ['better.a.01', 'worse.a.01'],\n",
    " ['better.a.02', 'worse.a.02'],\n",
    " ['bad.a.01', 'good.a.01'],\n",
    " ['ill.a.01', 'well.a.01'],\n",
    " ['ill.r.01', 'well.r.01'],\n",
    " ['ill.r.02', 'well.r.06'],\n",
    " ['badly.r.07', 'well.r.10'],\n",
    " ['badly.r.08', 'well.r.11'],\n",
    " ['badly.r.10', 'well.r.13'],\n",
    " ['bloodless.a.02', 'bloody.a.01'],\n",
    " ['brave.n.02', 'timid.n.01'],\n",
    " ['brave.a.01', 'cowardly.a.01'],\n",
    " ['busy.a.01', 'idle.a.01'],\n",
    " ['cautious.a.01', 'incautious.a.01'],\n",
    " ['clean.a.01', 'dirty.a.01'],\n",
    " ['clean.a.07', 'dirty.a.04'],\n",
    " ['clean.a.08', 'dirty.a.02'],\n",
    " ['fairly.r.03', 'unfairly.r.01'],\n",
    " ['clear.a.11', 'cloudy.a.02'],\n",
    " ['crowded.a.01', 'uncrowded.a.01'],\n",
    " ['dead.n.01', 'living.n.02'],\n",
    " ['alive.a.01', 'dead.a.01'],\n",
    " ['dead.a.02', 'live.a.02'],\n",
    " ['different.a.01', 'same.a.02'],\n",
    " ['like.a.01', 'unlike.a.01'],\n",
    " ['distinct.a.02', 'indistinct.a.01'],\n",
    " ['eager.a.01', 'uneager.a.01'],\n",
    " ['discouraging.a.01', 'encouraging.a.01'],\n",
    " ['cheap.a.01', 'expensive.a.01'],\n",
    " ['faithful.a.01', 'unfaithful.a.01'],\n",
    " ['faithful.a.03', 'unfaithful.a.02'],\n",
    " ['coarse.a.01', 'fine.a.05'],\n",
    " ['frail.a.01', 'robust.a.01'],\n",
    " ['glorious.a.01', 'inglorious.a.02'],\n",
    " ['healthy.a.01', 'unhealthy.a.01'],\n",
    " ['reasonably.r.01', 'unreasonably.r.02'],\n",
    " ['lucky.a.02', 'unlucky.a.01'],\n",
    " ['imperfect.a.01', 'perfect.a.01'],\n",
    " ['real.a.01', 'unreal.a.01'],\n",
    " ['real.a.02', 'unreal.a.02'],\n",
    " ['nominal.a.04', 'real.a.06'],\n",
    " ['insubstantial.a.01', 'substantial.a.03'],\n",
    " ['poor.a.02', 'rich.a.01'],\n",
    " ['poor.a.04', 'rich.a.02'],\n",
    " ['lean.a.02', 'rich.a.07'],\n",
    " ['poor.a.03', 'rich.a.08'],\n",
    " ['glazed.a.03', 'unglazed.a.02'],\n",
    " ['intelligent.a.01', 'unintelligent.a.01'],\n",
    " ['tender.a.01', 'tough.a.01'],\n",
    " ['tender.a.06', 'tough.a.03'],\n",
    " ['grateful.a.01', 'ungrateful.a.01'],\n",
    " ['rested.a.01', 'tired.a.01'],\n",
    " ['beautiful.a.01', 'ugly.a.01'],\n",
    " ['right.n.07', 'wrong.n.01'],\n",
    " ['correct.a.01', 'incorrect.a.01'],\n",
    " ['right.a.04', 'wrong.a.02'],\n",
    " ['right.a.05', 'wrong.a.05'],\n",
    " ['correctly.r.01', 'incorrectly.r.02'],\n",
    " ['attractive.a.01', 'unattractive.a.01'],\n",
    " ['attractive.a.03', 'repulsive.a.02'],\n",
    " ['bad.n.01', 'good.n.03'],\n",
    " ['regretful.a.01', 'unregretful.a.01'],\n",
    " ['breakable.a.01', 'unbreakable.a.01'],\n",
    " ['calm.a.02', 'stormy.a.01'],\n",
    " ['clear.a.01', 'unclear.a.02'],\n",
    " ['clear.a.04', 'opaque.a.01'],\n",
    "\n",
    " ['comfortable.a.01', 'uncomfortable.a.02'],\n",
    " ['comfortable.a.02', 'uncomfortable.a.01'],\n",
    " ['dangerous.a.01', 'safe.a.01'],\n",
    " ['defeated.a.01', 'undefeated.a.01'],\n",
    " ['difficult.a.01', 'easy.a.01'],\n",
    "\n",
    " ['quickly.r.01', 'slowly.r.01'],\n",
    " ['energetic.a.01', 'lethargic.a.01'],\n",
    " ['evil.n.03', 'good.n.02'],\n",
    " ['foolish.a.01', 'wise.a.01'],\n",
    " ['hungry.a.01', 'thirsty.a.02'],\n",
    " ['important.a.01', 'unimportant.a.01'],\n",
    " ['guilty.a.01', 'innocent.a.01'],\n",
    " ['joyless.a.01', 'joyous.a.01'],\n",
    " ['heavy.a.01', 'light.a.01'],\n",
    " ['dark.a.02', 'light.a.02'],\n",
    " ['heavy.a.03', 'light.a.03'],\n",
    " ['heavy.a.02', 'light.a.04'],\n",
    " ['heavy.a.04', 'light.a.05'],\n",
    " ['dark.a.01', 'light.a.06'],\n",
    " ['heavy.a.08', 'light.a.13'],\n",
    " ['heavy.a.09', 'light.a.14'],\n",
    " ['long.a.01', 'short.a.01'],\n",
    " ['long.a.02', 'short.a.02'],\n",
    " ['long.a.05', 'short.a.06'],\n",
    "\n",
    " ['disobedient.a.01', 'obedient.a.01'],\n",
    " ['fancy.a.01', 'plain.a.02'],\n",
    " ['confident.a.01', 'diffident.a.02'],\n",
    " ['sparkling.a.02', 'still.a.05'],\n",
    " ['tame.a.02', 'wild.a.01'],\n",
    " ['tame.a.03', 'wild.a.02'],\n",
    " ['lax.a.03', 'tense.a.03'],\n",
    " ['thoughtful.a.02', 'thoughtless.a.01'],\n",
    " ['heedful.a.01', 'heedless.a.01'],\n",
    " ['unusual.a.01', 'usual.a.01'],\n",
    " ['familiar.a.02', 'strange.a.01'],\n",
    " ['black.a.01', 'white.a.01'],\n",
    " ['black.a.02', 'white.a.02'],\n",
    " ['bright.a.01', 'dull.a.02'],\n",
    " ['dimmed.a.01', 'undimmed.a.01'],\n",
    " ['careful.a.01', 'careless.a.01'],\n",
    " ['cheerful.a.01', 'depressing.a.01'],\n",
    " ['colorful.a.02', 'colorless.a.01'],\n",
    " ['colored.a.01', 'uncolored.a.01'],\n",
    " ['concerned.a.01', 'unconcerned.a.01'],\n",
    " ['cooperative.a.02', 'uncooperative.a.01'],\n",
    " ['curious.a.02', 'incurious.a.01'],\n",
    " ['compliant.a.01', 'defiant.a.01'],\n",
    " ['dull.a.01', 'lively.a.01'],\n",
    " ['dull.a.06', 'sharp.a.08'],\n",
    " ['dull.a.09', 'sharp.a.09'],\n",
    " ['dejected.a.01', 'elated.a.01'],\n",
    " ['enthusiastic.a.01', 'unenthusiastic.a.01'],\n",
    " ['fair.a.01', 'unfair.a.01'],\n",
    " ['friendly.a.01', 'unfriendly.a.02'],\n",
    " ['friendly.a.03', 'unfriendly.a.01'],\n",
    " ['friendly.a.04', 'hostile.a.02'],\n",
    " ['happy.a.01', 'unhappy.a.01'],\n",
    " ['impossible.a.01', 'possible.a.01'],\n",
    " ['kind.a.01', 'unkind.a.01'],\n",
    " ['open.a.01', 'shut.a.01'],\n",
    " ['closed.a.01', 'open.a.02'],\n",
    " ['closed.a.04', 'open.a.05'],\n",
    " ['covert.a.01', 'overt.a.01'],\n",
    " ['pleasant.a.01', 'unpleasant.a.01'],\n",
    " ['humble.a.02', 'proud.a.01'],\n",
    " ['foreign.a.02', 'native.a.01'],\n",
    " ['troubled.a.01', 'untroubled.a.01'],\n",
    " ['interested.a.01', 'uninterested.a.01']]"
   ]
  },
  {
   "cell_type": "code",
   "execution_count": 56,
   "id": "67fdc549",
   "metadata": {},
   "outputs": [],
   "source": [
    "create_lookup_files(dims, out_path)"
   ]
  },
  {
   "cell_type": "code",
   "execution_count": 57,
   "id": "1304d244",
   "metadata": {},
   "outputs": [
    {
     "data": {
      "text/plain": [
       "135"
      ]
     },
     "execution_count": 57,
     "metadata": {},
     "output_type": "execute_result"
    }
   ],
   "source": [
    "len(dims)"
   ]
  },
  {
   "cell_type": "code",
   "execution_count": 54,
   "id": "8c5c0ca5",
   "metadata": {},
   "outputs": [
    {
     "data": {
      "text/plain": [
       "['keep your eyes open', 'his mouth slightly opened']"
      ]
     },
     "execution_count": 54,
     "metadata": {},
     "output_type": "execute_result"
    }
   ],
   "source": [
    "wn.synset('open.a.05').examples()"
   ]
  },
  {
   "cell_type": "code",
   "execution_count": 28,
   "id": "8731deb9",
   "metadata": {},
   "outputs": [
    {
     "data": {
      "text/plain": [
       "[['nasty.a.01', 'nice.a.01'],\n",
       " ['better.a.01', 'worse.a.01'],\n",
       " ['better.a.02', 'worse.a.02'],\n",
       " ['bad.a.01', 'good.a.01'],\n",
       " ['ill.a.01', 'well.a.01'],\n",
       " ['ill.r.01', 'well.r.01'],\n",
       " ['ill.r.02', 'well.r.06'],\n",
       " ['badly.r.07', 'well.r.10'],\n",
       " ['badly.r.08', 'well.r.11'],\n",
       " ['badly.r.10', 'well.r.13'],\n",
       " ['bloodless.a.02', 'bloody.a.01'],\n",
       " ['brave.n.02', 'timid.n.01'],\n",
       " ['brave.a.01', 'cowardly.a.01'],\n",
       " ['busy.a.01', 'idle.a.01'],\n",
       " ['cautious.a.01', 'incautious.a.01'],\n",
       " ['clean.a.01', 'dirty.a.01'],\n",
       " ['clean.a.07', 'dirty.a.04'],\n",
       " ['clean.a.08', 'dirty.a.02'],\n",
       " ['fairly.r.03', 'unfairly.r.01'],\n",
       " ['clear.a.11', 'cloudy.a.02'],\n",
       " ['crowded.a.01', 'uncrowded.a.01'],\n",
       " ['dead.n.01', 'living.n.02'],\n",
       " ['alive.a.01', 'dead.a.01'],\n",
       " ['dead.a.02', 'live.a.02'],\n",
       " ['different.a.01', 'same.a.02'],\n",
       " ['like.a.01', 'unlike.a.01'],\n",
       " ['distinct.a.02', 'indistinct.a.01'],\n",
       " ['eager.a.01', 'uneager.a.01'],\n",
       " ['discouraging.a.01', 'encouraging.a.01'],\n",
       " ['cheap.a.01', 'expensive.a.01'],\n",
       " ['faithful.a.01', 'unfaithful.a.01'],\n",
       " ['faithful.a.03', 'unfaithful.a.02'],\n",
       " ['coarse.a.01', 'fine.a.05'],\n",
       " ['frail.a.01', 'robust.a.01'],\n",
       " ['glorious.a.01', 'inglorious.a.02'],\n",
       " ['healthy.a.01', 'unhealthy.a.01'],\n",
       " ['reasonably.r.01', 'unreasonably.r.02'],\n",
       " ['lucky.a.02', 'unlucky.a.01'],\n",
       " ['imperfect.a.01', 'perfect.a.01'],\n",
       " ['real.a.01', 'unreal.a.01'],\n",
       " ['real.a.02', 'unreal.a.02'],\n",
       " ['nominal.a.04', 'real.a.06'],\n",
       " ['insubstantial.a.01', 'substantial.a.03'],\n",
       " ['poor.a.02', 'rich.a.01'],\n",
       " ['poor.a.04', 'rich.a.02'],\n",
       " ['lean.a.02', 'rich.a.07'],\n",
       " ['poor.a.03', 'rich.a.08'],\n",
       " ['glazed.a.03', 'unglazed.a.02'],\n",
       " ['intelligent.a.01', 'unintelligent.a.01'],\n",
       " ['tender.a.01', 'tough.a.01'],\n",
       " ['tender.a.06', 'tough.a.03'],\n",
       " ['grateful.a.01', 'ungrateful.a.01'],\n",
       " ['rested.a.01', 'tired.a.01'],\n",
       " ['beautiful.a.01', 'ugly.a.01'],\n",
       " ['right.n.07', 'wrong.n.01'],\n",
       " ['correct.a.01', 'incorrect.a.01'],\n",
       " ['right.a.04', 'wrong.a.02'],\n",
       " ['right.a.05', 'wrong.a.05'],\n",
       " ['correctly.r.01', 'incorrectly.r.02'],\n",
       " ['attractive.a.01', 'unattractive.a.01'],\n",
       " ['attractive.a.03', 'repulsive.a.02'],\n",
       " ['bad.n.01', 'good.n.03'],\n",
       " ['regretful.a.01', 'unregretful.a.01'],\n",
       " ['breakable.a.01', 'unbreakable.a.01'],\n",
       " ['calm.a.02', 'stormy.a.01'],\n",
       " ['clear.a.01', 'unclear.a.02'],\n",
       " ['clear.a.04', 'opaque.a.01'],\n",
       " ['ill-defined.a.01', 'well-defined.a.02'],\n",
       " ['comfortable.a.01', 'uncomfortable.a.02'],\n",
       " ['comfortable.a.02', 'uncomfortable.a.01'],\n",
       " ['dangerous.a.01', 'safe.a.01'],\n",
       " ['defeated.a.01', 'undefeated.a.01'],\n",
       " ['difficult.a.01', 'easy.a.01'],\n",
       " ['easy.a.03', 'uneasy.a.01'],\n",
       " ['quickly.r.01', 'slowly.r.01'],\n",
       " ['energetic.a.01', 'lethargic.a.01'],\n",
       " ['evil.n.03', 'good.n.02'],\n",
       " ['foolish.a.01', 'wise.a.01'],\n",
       " ['hungry.a.01', 'thirsty.a.02'],\n",
       " ['important.a.01', 'unimportant.a.01'],\n",
       " ['guilty.a.01', 'innocent.a.01'],\n",
       " ['joyless.a.01', 'joyous.a.01'],\n",
       " ['heavy.a.01', 'light.a.01'],\n",
       " ['dark.a.02', 'light.a.02'],\n",
       " ['heavy.a.03', 'light.a.03'],\n",
       " ['heavy.a.02', 'light.a.04'],\n",
       " ['heavy.a.04', 'light.a.05'],\n",
       " ['dark.a.01', 'light.a.06'],\n",
       " ['heavy.a.08', 'light.a.13'],\n",
       " ['heavy.a.09', 'light.a.14'],\n",
       " ['long.a.01', 'short.a.01'],\n",
       " ['long.a.02', 'short.a.02'],\n",
       " ['long.a.05', 'short.a.06'],\n",
       " ['long.a.06', 'short.a.07'],\n",
       " ['disobedient.a.01', 'obedient.a.01'],\n",
       " ['fancy.a.01', 'plain.a.02'],\n",
       " ['confident.a.01', 'diffident.a.02'],\n",
       " ['sparkling.a.02', 'still.a.05'],\n",
       " ['tame.a.02', 'wild.a.01'],\n",
       " ['tame.a.03', 'wild.a.02'],\n",
       " ['lax.a.03', 'tense.a.03'],\n",
       " ['thoughtful.a.02', 'thoughtless.a.01'],\n",
       " ['heedful.a.01', 'heedless.a.01'],\n",
       " ['unusual.a.01', 'usual.a.01'],\n",
       " ['familiar.a.02', 'strange.a.01'],\n",
       " ['black.a.01', 'white.a.01'],\n",
       " ['black.a.02', 'white.a.02'],\n",
       " ['bright.a.01', 'dull.a.02'],\n",
       " ['dimmed.a.01', 'undimmed.a.01'],\n",
       " ['careful.a.01', 'careless.a.01'],\n",
       " ['cheerful.a.01', 'depressing.a.01'],\n",
       " ['colorful.a.02', 'colorless.a.01'],\n",
       " ['colored.a.01', 'uncolored.a.01'],\n",
       " ['concerned.a.01', 'unconcerned.a.01'],\n",
       " ['cooperative.a.02', 'uncooperative.a.01'],\n",
       " ['curious.a.02', 'incurious.a.01'],\n",
       " ['compliant.a.01', 'defiant.a.01'],\n",
       " ['dull.a.01', 'lively.a.01'],\n",
       " ['dull.a.06', 'sharp.a.08'],\n",
       " ['dull.a.09', 'sharp.a.09'],\n",
       " ['dejected.a.01', 'elated.a.01'],\n",
       " ['enthusiastic.a.01', 'unenthusiastic.a.01'],\n",
       " ['fair.a.01', 'unfair.a.01'],\n",
       " ['friendly.a.01', 'unfriendly.a.02'],\n",
       " ['friendly.a.03', 'unfriendly.a.01'],\n",
       " ['friendly.a.04', 'hostile.a.02'],\n",
       " ['happy.a.01', 'unhappy.a.01'],\n",
       " ['impossible.a.01', 'possible.a.01'],\n",
       " ['kind.a.01', 'unkind.a.01'],\n",
       " ['open.a.01', 'shut.a.01'],\n",
       " ['closed.a.01', 'open.a.02'],\n",
       " ['closed.a.04', 'open.a.05'],\n",
       " ['covert.a.01', 'overt.a.01'],\n",
       " ['pleasant.a.01', 'unpleasant.a.01'],\n",
       " ['humble.a.02', 'proud.a.01'],\n",
       " ['foreign.a.02', 'native.a.01'],\n",
       " ['troubled.a.01', 'untroubled.a.01'],\n",
       " ['interested.a.01', 'uninterested.a.01']]"
      ]
     },
     "execution_count": 28,
     "metadata": {},
     "output_type": "execute_result"
    }
   ],
   "source": [
    "dims"
   ]
  },
  {
   "cell_type": "code",
   "execution_count": 10,
   "id": "bce3b6e9",
   "metadata": {},
   "outputs": [
    {
     "data": {
      "text/plain": [
       "['he was ill prepared',\n",
       " 'it ill befits a man to betray old friends',\n",
       " 'the car runs badly',\n",
       " 'he performed badly on the exam',\n",
       " 'the team played poorly',\n",
       " 'ill-fitting clothes',\n",
       " 'an ill-conceived plan']"
      ]
     },
     "execution_count": 10,
     "metadata": {},
     "output_type": "execute_result"
    }
   ],
   "source": [
    "\n",
    "wn.synset('ill.r.01').examples()"
   ]
  },
  {
   "cell_type": "code",
   "execution_count": null,
   "id": "d9b1265e",
   "metadata": {},
   "outputs": [],
   "source": []
  },
  {
   "cell_type": "code",
   "execution_count": null,
   "id": "c2cab099",
   "metadata": {},
   "outputs": [],
   "source": []
  },
  {
   "cell_type": "code",
   "execution_count": null,
   "id": "37c7110e",
   "metadata": {},
   "outputs": [],
   "source": []
  },
  {
   "cell_type": "code",
   "execution_count": 12,
   "id": "f240e5be",
   "metadata": {},
   "outputs": [
    {
     "name": "stderr",
     "output_type": "stream",
     "text": [
      "Some weights of the model checkpoint at bert-base-uncased were not used when initializing BertModel: ['cls.predictions.transform.dense.bias', 'cls.seq_relationship.bias', 'cls.predictions.transform.dense.weight', 'cls.predictions.bias', 'cls.predictions.decoder.weight', 'cls.predictions.transform.LayerNorm.weight', 'cls.seq_relationship.weight', 'cls.predictions.transform.LayerNorm.bias']\n",
      "- This IS expected if you are initializing BertModel from the checkpoint of a model trained on another task or with another architecture (e.g. initializing a BertForSequenceClassification model from a BertForPreTraining model).\n",
      "- This IS NOT expected if you are initializing BertModel from the checkpoint of a model that you expect to be exactly identical (initializing a BertForSequenceClassification model from a BertForSequenceClassification model).\n"
     ]
    }
   ],
   "source": [
    "# get the embedding model \n",
    "tokenizer, model = getBert()"
   ]
  },
  {
   "cell_type": "markdown",
   "id": "b25e2f2c",
   "metadata": {},
   "source": [
    "Create the POLAR matrix (for base change or projection) from a given set of antonyms. The antonyms and their example sentences are forwarded to an embedding model (here: BERT) from which the required embeddings and difference vectors are created. ``antonym_path`` specifies where the readable example sentence lookup file is currently stored. ``out_path`` specifies where the POLAR matrix should be stored.\n",
    "\n",
    "The corresponding function can be found in ``createDims.py`` which is not part of the official SensePOLAR repo."
   ]
  },
  {
   "cell_type": "code",
   "execution_count": 13,
   "id": "24a2a4ed",
   "metadata": {
    "scrolled": true
   },
   "outputs": [
    {
     "name": "stdout",
     "output_type": "stream",
     "text": [
      "Start forwarding the Polar opposites ...\n"
     ]
    }
   ],
   "source": [
    "# create the base change matrix (this might take some time)\n",
    "createPolarDimension(model, tokenizer, out_path=out, antonym_path=out + \"antonym_wordnet_example_sentences_readable_extended.txt\")"
   ]
  },
  {
   "cell_type": "code",
   "execution_count": 6,
   "id": "d94ac763",
   "metadata": {},
   "outputs": [
    {
     "ename": "NameError",
     "evalue": "name 'dims' is not defined",
     "output_type": "error",
     "traceback": [
      "\u001b[1;31m---------------------------------------------------------------------------\u001b[0m",
      "\u001b[1;31mNameError\u001b[0m                                 Traceback (most recent call last)",
      "Cell \u001b[1;32mIn[6], line 1\u001b[0m\n\u001b[1;32m----> 1\u001b[0m \u001b[38;5;28mlen\u001b[39m(\u001b[43mdims\u001b[49m)\n",
      "\u001b[1;31mNameError\u001b[0m: name 'dims' is not defined"
     ]
    }
   ],
   "source": [
    "len(dims)"
   ]
  },
  {
   "cell_type": "code",
   "execution_count": 16,
   "id": "0b8b9e2d",
   "metadata": {},
   "outputs": [
    {
     "name": "stdout",
     "output_type": "stream",
     "text": [
      "Analyzing the word:  school\n",
      "In the context of:  school teaches you a lot of good and smart things\n",
      "Top:  1\n",
      "Dimension:  test<------>test2\n",
      "Definitions:  definition test1<------>definition test2\n",
      "Value: -2.6646461\n",
      "\n",
      "\n",
      "Top:  2\n",
      "Dimension:  one<------>two\n",
      "Definitions:  definition one<------>definition two\n",
      "Value:                      1.0413853\n",
      "\n",
      "\n"
     ]
    },
    {
     "data": {
      "text/plain": [
       "(['test---test2', 'one---two'],\n",
       " array([-2.6646461,  1.0413853], dtype=float32),\n",
       " {('test', 'test2'): -2.6646461, ('one', 'two'): 1.0413853},\n",
       " 'school')"
      ]
     },
     "execution_count": 16,
     "metadata": {},
     "output_type": "execute_result"
    }
   ],
   "source": [
    "# base change does not work well with only few dimensions -> compare with projection\n",
    "antonym_path = out + \"polar_dimensions.pkl\"\n",
    "word = \"school\"\n",
    "context = \"school teaches you a lot of good and smart things\"\n",
    "analyzeWord(word, context, model=model,tokenizer=tokenizer, antonym_path=antonym_path, lookup_path=out, numberPolar=2,method=\"projection\") #method=\"projection\""
   ]
  },
  {
   "cell_type": "code",
   "execution_count": 44,
   "id": "7d81d9e9",
   "metadata": {},
   "outputs": [
    {
     "name": "stdout",
     "output_type": "stream",
     "text": [
      "Analyzing the word:  fire\n",
      "In the context of:  the fire has generated extreme temperature\n",
      "Top:  1\n",
      "Dimension:  foreign<------>native\n",
      "Definitions:  relating to or originating in or characteristic of another place or part of the world<------>characteristic of or existing by virtue of geographic origin\n",
      "Value:                      2.3423314\n",
      "\n",
      "\n",
      "Top:  2\n",
      "Dimension:  cold<------>hot\n",
      "Definitions:  having a low or inadequate temperature or feeling a sensation of coldness or having been made cold by e.g. ice or refrigeration<------>used of physical heat; having a high or higher than desirable temperature or giving off heat or feeling or causing a sensation of heat or burning\n",
      "Value:                      1.9840217\n",
      "\n",
      "\n",
      "Top:  3\n",
      "Dimension:  interested<------>uninterested\n",
      "Definitions:  having or showing interest; especially curiosity or fascination or concern<------>not having or showing interest\n",
      "Value: -1.0291702\n",
      "\n",
      "\n",
      "Top:  4\n",
      "Dimension:  bad<------>good\n",
      "Definitions:  having undesirable or negative qualities<------>having desirable or positive qualities especially those suitable for a thing specified\n",
      "Value: -0.9941054\n",
      "\n",
      "\n",
      "Top:  5\n",
      "Dimension:  intelligent<------>unintelligent\n",
      "Definitions:  having the capacity for thought and reason especially to a high degree<------>lacking intelligence\n",
      "Value: -0.60276836\n",
      "\n",
      "\n",
      "Top:  6\n",
      "Dimension:  better<------>worse\n",
      "Definitions:  (comparative of `good') changed for the better in health or fitness<------>changed for the worse in health or fitness\n",
      "Value:                      0.34254825\n",
      "\n",
      "\n",
      "Top:  7\n",
      "Dimension:  capable<------>incapable\n",
      "Definitions:  (usually followed by `of') having capacity or ability<------>(followed by `of') lacking capacity or ability\n",
      "Value:                      0.31034747\n",
      "\n",
      "\n",
      "Top:  8\n",
      "Dimension:  open<------>shut\n",
      "Definitions:  affording unobstructed entrance and exit; not shut or closed<------>not open\n",
      "Value: -0.2289842\n",
      "\n",
      "\n"
     ]
    },
    {
     "data": {
      "text/plain": [
       "(['foreign---native',\n",
       "  'cold---hot',\n",
       "  'interested---uninterested',\n",
       "  'bad---good',\n",
       "  'intelligent---unintelligent',\n",
       "  'better---worse',\n",
       "  'capable---incapable',\n",
       "  'open---shut'],\n",
       " array([ 1.9840217 , -0.9941054 , -0.60276836,  0.31034747,  0.34254825,\n",
       "        -0.2289842 , -1.0291702 ,  2.3423314 ], dtype=float32),\n",
       " {('foreign', 'native'): 2.3423314,\n",
       "  ('cold', 'hot'): 1.9840217,\n",
       "  ('interested', 'uninterested'): -1.0291702,\n",
       "  ('bad', 'good'): -0.9941054,\n",
       "  ('intelligent', 'unintelligent'): -0.60276836,\n",
       "  ('better', 'worse'): 0.34254825,\n",
       "  ('capable', 'incapable'): 0.31034747,\n",
       "  ('open', 'shut'): -0.2289842},\n",
       " 'fire')"
      ]
     },
     "execution_count": 44,
     "metadata": {},
     "output_type": "execute_result"
    }
   ],
   "source": [
    "antonym_path = out_path + \"polar_dimensions.pkl\"\n",
    "word = \"fire\"\n",
    "context = \"the fire has generated extreme temperature\"\n",
    "\n",
    "analyzeWord(word, context, model=model, tokenizer=tokenizer, antonym_path=antonym_path, lookup_path=out_path, numberPolar=len(dims), method=\"projection\")"
   ]
  },
  {
   "cell_type": "code",
   "execution_count": 45,
   "id": "eb857ce8",
   "metadata": {},
   "outputs": [
    {
     "name": "stdout",
     "output_type": "stream",
     "text": [
      "Analyzing the word:  fire\n",
      "In the context of:  the fire has generated extreme temperature\n",
      "Top:  1\n",
      "Dimension:  foreign<------>native\n",
      "Definitions:  relating to or originating in or characteristic of another place or part of the world<------>characteristic of or existing by virtue of geographic origin\n",
      "Value:                      2.3423314\n",
      "\n",
      "\n",
      "Top:  2\n",
      "Dimension:  cold<------>hot\n",
      "Definitions:  having a low or inadequate temperature or feeling a sensation of coldness or having been made cold by e.g. ice or refrigeration<------>used of physical heat; having a high or higher than desirable temperature or giving off heat or feeling or causing a sensation of heat or burning\n",
      "Value:                      1.9840217\n",
      "\n",
      "\n",
      "Top:  3\n",
      "Dimension:  interested<------>uninterested\n",
      "Definitions:  having or showing interest; especially curiosity or fascination or concern<------>not having or showing interest\n",
      "Value: -1.0291702\n",
      "\n",
      "\n",
      "Top:  4\n",
      "Dimension:  bad<------>good\n",
      "Definitions:  having undesirable or negative qualities<------>having desirable or positive qualities especially those suitable for a thing specified\n",
      "Value: -0.9941054\n",
      "\n",
      "\n",
      "Top:  5\n",
      "Dimension:  intelligent<------>unintelligent\n",
      "Definitions:  having the capacity for thought and reason especially to a high degree<------>lacking intelligence\n",
      "Value: -0.60276836\n",
      "\n",
      "\n",
      "Top:  6\n",
      "Dimension:  better<------>worse\n",
      "Definitions:  (comparative of `good') changed for the better in health or fitness<------>changed for the worse in health or fitness\n",
      "Value:                      0.34254825\n",
      "\n",
      "\n",
      "Top:  7\n",
      "Dimension:  capable<------>incapable\n",
      "Definitions:  (usually followed by `of') having capacity or ability<------>(followed by `of') lacking capacity or ability\n",
      "Value:                      0.31034747\n",
      "\n",
      "\n",
      "Top:  8\n",
      "Dimension:  open<------>shut\n",
      "Definitions:  affording unobstructed entrance and exit; not shut or closed<------>not open\n",
      "Value: -0.2289842\n",
      "\n",
      "\n"
     ]
    }
   ],
   "source": [
    "Y=analyzeWord(word, context, model=model, tokenizer=tokenizer, antonym_path=antonym_path, lookup_path=out_path, numberPolar=len(dims), method=\"projection\")"
   ]
  },
  {
   "cell_type": "code",
   "execution_count": 11,
   "id": "f624d494",
   "metadata": {},
   "outputs": [
    {
     "data": {
      "text/plain": [
       "(['cold---hot',\n",
       "  'intelligent---unintelligent',\n",
       "  'capable---incapable',\n",
       "  'bad---good'],\n",
       " array([ 3.166437  , -0.16076842, -1.3334521 ,  0.23145995], dtype=float32),\n",
       " {('cold', 'hot'): 3.166437,\n",
       "  ('intelligent', 'unintelligent'): -1.3334521,\n",
       "  ('capable', 'incapable'): 0.23145995,\n",
       "  ('bad', 'good'): -0.16076842},\n",
       " 'fire')"
      ]
     },
     "execution_count": 11,
     "metadata": {},
     "output_type": "execute_result"
    }
   ],
   "source": [
    "Y"
   ]
  },
  {
   "cell_type": "code",
   "execution_count": 46,
   "id": "d7d4aa54",
   "metadata": {},
   "outputs": [],
   "source": [
    "dimensions=Y[0]\n",
    "values=Y[1]\n",
    "dim_values=Y[2]\n"
   ]
  },
  {
   "cell_type": "code",
   "execution_count": 47,
   "id": "6c10946c",
   "metadata": {},
   "outputs": [
    {
     "data": {
      "text/plain": [
       "['foreign---native',\n",
       " 'cold---hot',\n",
       " 'interested---uninterested',\n",
       " 'bad---good',\n",
       " 'intelligent---unintelligent',\n",
       " 'better---worse',\n",
       " 'capable---incapable',\n",
       " 'open---shut']"
      ]
     },
     "execution_count": 47,
     "metadata": {},
     "output_type": "execute_result"
    }
   ],
   "source": [
    "dimensions\n"
   ]
  },
  {
   "cell_type": "code",
   "execution_count": 48,
   "id": "c75a64a0",
   "metadata": {},
   "outputs": [
    {
     "data": {
      "text/plain": [
       "array([ 1.9840217 , -0.9941054 , -0.60276836,  0.31034747,  0.34254825,\n",
       "       -0.2289842 , -1.0291702 ,  2.3423314 ], dtype=float32)"
      ]
     },
     "execution_count": 48,
     "metadata": {},
     "output_type": "execute_result"
    }
   ],
   "source": [
    "values"
   ]
  },
  {
   "cell_type": "code",
   "execution_count": null,
   "id": "24ca7d05",
   "metadata": {},
   "outputs": [],
   "source": []
  },
  {
   "cell_type": "code",
   "execution_count": 49,
   "id": "5fdef223",
   "metadata": {},
   "outputs": [
    {
     "data": {
      "text/plain": [
       "{('foreign', 'native'): 2.3423314,\n",
       " ('cold', 'hot'): 1.9840217,\n",
       " ('interested', 'uninterested'): -1.0291702,\n",
       " ('bad', 'good'): -0.9941054,\n",
       " ('intelligent', 'unintelligent'): -0.60276836,\n",
       " ('better', 'worse'): 0.34254825,\n",
       " ('capable', 'incapable'): 0.31034747,\n",
       " ('open', 'shut'): -0.2289842}"
      ]
     },
     "execution_count": 49,
     "metadata": {},
     "output_type": "execute_result"
    }
   ],
   "source": [
    "dim_values"
   ]
  },
  {
   "cell_type": "code",
   "execution_count": null,
   "id": "a6584880",
   "metadata": {},
   "outputs": [],
   "source": []
  },
  {
   "cell_type": "code",
   "execution_count": 50,
   "id": "325013fd",
   "metadata": {},
   "outputs": [],
   "source": [
    "def visual_representation_one_word(dim_values):\n",
    "\n",
    "    import matplotlib.pyplot as plt\n",
    "    import numpy as np\n",
    "\n",
    "    left_axis=[]\n",
    "    for i in dim_values.keys():\n",
    "        left_axis.append(i[0])\n",
    "\n",
    "    right_axis=[]\n",
    "    for i in dim_values.keys():\n",
    "        right_axis.append(i[1])\n",
    "\n",
    "    val=list(dim_values.values())\n",
    "\n",
    "    np.random.seed(19680801)\n",
    "\n",
    "    \n",
    "    plt.rcdefaults()\n",
    "    fig, ax = plt.subplots()\n",
    "\n",
    "    ticks_frequency = 1\n",
    "    y_pos = np.arange(len(right_axis))\n",
    "    ax.set(xlim=(-6, 6))\n",
    "    ax.grid(which='both', color='grey', linewidth=1, linestyle='-', alpha=0.2)\n",
    "  \n",
    "    ax.barh(y_pos, val, align='center')\n",
    "    ax.set_yticks(y_pos, labels=left_axis)\n",
    "    ax.invert_yaxis()  # labels read top-to-bottom\n",
    "\n",
    "\n",
    "    ax2 = ax.twinx()\n",
    "    ax2.set_ylim(ax.get_ylim())\n",
    "    ax2.set_yticks(y_pos,right_axis)\n",
    "\n",
    "\n",
    "    \n",
    "    return plt.show()"
   ]
  },
  {
   "cell_type": "code",
   "execution_count": 51,
   "id": "e712f95d",
   "metadata": {},
   "outputs": [
    {
     "data": {
      "image/png": "[encoded data removed]",
      "text/plain": [
       "<Figure size 640x480 with 2 Axes>"
      ]
     },
     "metadata": {},
     "output_type": "display_data"
    }
   ],
   "source": [
    "visual_representation_one_word(dim_values)"
   ]
  },
  {
   "cell_type": "code",
   "execution_count": 18,
   "id": "bad53efa",
   "metadata": {},
   "outputs": [
    {
     "name": "stdout",
     "output_type": "stream",
     "text": [
      "Analyzing the word:  bank\n",
      "In the context of:  he received a loan from the bank\n",
      "Top:  1\n",
      "Dimension:  cold<------>hot\n",
      "Definitions:  having a low or inadequate temperature or feeling a sensation of coldness or having been made cold by e.g. ice or refrigeration<------>used of physical heat; having a high or higher than desirable temperature or giving off heat or feeling or causing a sensation of heat or burning\n",
      "Value: -2.7727177\n",
      "\n",
      "\n",
      "Top:  2\n",
      "Dimension:  bad<------>good\n",
      "Definitions:  having undesirable or negative qualities<------>having desirable or positive qualities especially those suitable for a thing specified\n",
      "Value: -2.1117988\n",
      "\n",
      "\n",
      "Top:  3\n",
      "Dimension:  intelligent<------>unintelligent\n",
      "Definitions:  having the capacity for thought and reason especially to a high degree<------>lacking intelligence\n",
      "Value: -0.79782534\n",
      "\n",
      "\n",
      "Top:  4\n",
      "Dimension:  capable<------>incapable\n",
      "Definitions:  (usually followed by `of') having capacity or ability<------>(followed by `of') lacking capacity or ability\n",
      "Value: -0.59912497\n",
      "\n",
      "\n"
     ]
    },
    {
     "data": {
      "text/plain": [
       "(['cold---hot',\n",
       "  'bad---good',\n",
       "  'intelligent---unintelligent',\n",
       "  'capable---incapable'],\n",
       " array([-2.7727177 , -2.1117988 , -0.79782534, -0.59912497], dtype=float32),\n",
       " {('cold', 'hot'): -2.7727177,\n",
       "  ('bad', 'good'): -2.1117988,\n",
       "  ('intelligent', 'unintelligent'): -0.79782534,\n",
       "  ('capable', 'incapable'): -0.59912497},\n",
       " 'bank')"
      ]
     },
     "execution_count": 18,
     "metadata": {},
     "output_type": "execute_result"
    }
   ],
   "source": [
    "antonym_path = out_path + \"polar_dimensions.pkl\"\n",
    "word = \"bank\"\n",
    "context = \"he received a loan from the bank\"\n",
    "\n",
    "analyzeWord(word, context, model=model, tokenizer=tokenizer, antonym_path=antonym_path, lookup_path=out_path, numberPolar=4, method=\"projection\")"
   ]
  },
  {
   "cell_type": "code",
   "execution_count": 19,
   "id": "da750511",
   "metadata": {},
   "outputs": [
    {
     "name": "stdout",
     "output_type": "stream",
     "text": [
      "Analyzing the word:  bank\n",
      "In the context of:  he received a loan from the bank\n",
      "Top:  1\n",
      "Dimension:  cold<------>hot\n",
      "Definitions:  having a low or inadequate temperature or feeling a sensation of coldness or having been made cold by e.g. ice or refrigeration<------>used of physical heat; having a high or higher than desirable temperature or giving off heat or feeling or causing a sensation of heat or burning\n",
      "Value: -2.7727177\n",
      "\n",
      "\n",
      "Top:  2\n",
      "Dimension:  bad<------>good\n",
      "Definitions:  having undesirable or negative qualities<------>having desirable or positive qualities especially those suitable for a thing specified\n",
      "Value: -2.1117988\n",
      "\n",
      "\n",
      "Top:  3\n",
      "Dimension:  intelligent<------>unintelligent\n",
      "Definitions:  having the capacity for thought and reason especially to a high degree<------>lacking intelligence\n",
      "Value: -0.79782534\n",
      "\n",
      "\n",
      "Top:  4\n",
      "Dimension:  capable<------>incapable\n",
      "Definitions:  (usually followed by `of') having capacity or ability<------>(followed by `of') lacking capacity or ability\n",
      "Value: -0.59912497\n",
      "\n",
      "\n"
     ]
    }
   ],
   "source": [
    "Y=analyzeWord(word, context, model=model, tokenizer=tokenizer, antonym_path=antonym_path, lookup_path=out_path, numberPolar=4, method=\"projection\")"
   ]
  },
  {
   "cell_type": "code",
   "execution_count": 20,
   "id": "8a994467",
   "metadata": {},
   "outputs": [],
   "source": [
    "dim_values=Y[2]"
   ]
  },
  {
   "cell_type": "code",
   "execution_count": 21,
   "id": "566324f1",
   "metadata": {},
   "outputs": [
    {
     "data": {
      "text/plain": [
       "{('cold', 'hot'): -2.7727177,\n",
       " ('bad', 'good'): -2.1117988,\n",
       " ('intelligent', 'unintelligent'): -0.79782534,\n",
       " ('capable', 'incapable'): -0.59912497}"
      ]
     },
     "execution_count": 21,
     "metadata": {},
     "output_type": "execute_result"
    }
   ],
   "source": [
    "dim_values"
   ]
  },
  {
   "cell_type": "code",
   "execution_count": 22,
   "id": "adbaa2e0",
   "metadata": {},
   "outputs": [
    {
     "data": {
      "image/png": "[encoded data removed]",
      "text/plain": [
       "<Figure size 640x480 with 2 Axes>"
      ]
     },
     "metadata": {},
     "output_type": "display_data"
    }
   ],
   "source": [
    "visual_representation_one_word(dim_values)"
   ]
  },
  {
   "cell_type": "code",
   "execution_count": 23,
   "id": "25c5a36c",
   "metadata": {},
   "outputs": [],
   "source": [
    "coordinates=list(dim_values.values())\n",
    "coordinatesX=coordinates[0]\n",
    "coordinatesY=coordinates[1]"
   ]
  },
  {
   "cell_type": "code",
   "execution_count": 24,
   "id": "d23b1768",
   "metadata": {},
   "outputs": [
    {
     "data": {
      "text/plain": [
       "-2.7727177"
      ]
     },
     "execution_count": 24,
     "metadata": {},
     "output_type": "execute_result"
    }
   ],
   "source": [
    "coordinatesX"
   ]
  },
  {
   "cell_type": "code",
   "execution_count": 25,
   "id": "b9239aef",
   "metadata": {},
   "outputs": [
    {
     "data": {
      "text/plain": [
       "-2.1117988"
      ]
     },
     "execution_count": 25,
     "metadata": {},
     "output_type": "execute_result"
    }
   ],
   "source": [
    "coordinatesY"
   ]
  },
  {
   "cell_type": "code",
   "execution_count": 26,
   "id": "d4f8f74b",
   "metadata": {},
   "outputs": [
    {
     "name": "stdout",
     "output_type": "stream",
     "text": [
      "Analyzing the word:  world\n",
      "In the context of:  world is a planet in solar system\n",
      "Top:  1\n",
      "Dimension:  intelligent<------>unintelligent\n",
      "Definitions:  having the capacity for thought and reason especially to a high degree<------>lacking intelligence\n",
      "Value: -2.279831\n",
      "\n",
      "\n",
      "Top:  2\n",
      "Dimension:  cold<------>hot\n",
      "Definitions:  having a low or inadequate temperature or feeling a sensation of coldness or having been made cold by e.g. ice or refrigeration<------>used of physical heat; having a high or higher than desirable temperature or giving off heat or feeling or causing a sensation of heat or burning\n",
      "Value: -1.4764019\n",
      "\n",
      "\n",
      "Top:  3\n",
      "Dimension:  bad<------>good\n",
      "Definitions:  having undesirable or negative qualities<------>having desirable or positive qualities especially those suitable for a thing specified\n",
      "Value: -1.2049234\n",
      "\n",
      "\n",
      "Top:  4\n",
      "Dimension:  capable<------>incapable\n",
      "Definitions:  (usually followed by `of') having capacity or ability<------>(followed by `of') lacking capacity or ability\n",
      "Value:                      0.14531022\n",
      "\n",
      "\n"
     ]
    }
   ],
   "source": [
    "antonym_path = out_path + \"polar_dimensions.pkl\"\n",
    "word = \"world\"\n",
    "context = \"world is a planet in solar system\"\n",
    "\n",
    "Z=analyzeWord(word, context, model=model, tokenizer=tokenizer, antonym_path=antonym_path, lookup_path=out_path, numberPolar=4, method=\"projection\")"
   ]
  },
  {
   "cell_type": "code",
   "execution_count": null,
   "id": "2603cc2e",
   "metadata": {},
   "outputs": [],
   "source": []
  },
  {
   "cell_type": "code",
   "execution_count": null,
   "id": "7713f862",
   "metadata": {},
   "outputs": [],
   "source": []
  },
  {
   "cell_type": "code",
   "execution_count": 27,
   "id": "b402cb2f",
   "metadata": {},
   "outputs": [
    {
     "name": "stdout",
     "output_type": "stream",
     "text": [
      "Analyzing the word:  bank\n",
      "In the context of:  he received a loan from the bank\n",
      "Top:  1\n",
      "Dimension:  cold<------>hot\n",
      "Definitions:  having a low or inadequate temperature or feeling a sensation of coldness or having been made cold by e.g. ice or refrigeration<------>used of physical heat; having a high or higher than desirable temperature or giving off heat or feeling or causing a sensation of heat or burning\n",
      "Value: -2.7727177\n",
      "\n",
      "\n",
      "Top:  2\n",
      "Dimension:  bad<------>good\n",
      "Definitions:  having undesirable or negative qualities<------>having desirable or positive qualities especially those suitable for a thing specified\n",
      "Value: -2.1117988\n",
      "\n",
      "\n",
      "Top:  3\n",
      "Dimension:  intelligent<------>unintelligent\n",
      "Definitions:  having the capacity for thought and reason especially to a high degree<------>lacking intelligence\n",
      "Value: -0.79782534\n",
      "\n",
      "\n",
      "Top:  4\n",
      "Dimension:  capable<------>incapable\n",
      "Definitions:  (usually followed by `of') having capacity or ability<------>(followed by `of') lacking capacity or ability\n",
      "Value: -0.59912497\n",
      "\n",
      "\n"
     ]
    }
   ],
   "source": [
    "antonym_path = out_path + \"polar_dimensions.pkl\"\n",
    "word = \"bank\"\n",
    "context = \"he received a loan from the bank\"\n",
    "\n",
    "X=analyzeWord(word, context, model=model, tokenizer=tokenizer, antonym_path=antonym_path, lookup_path=out_path, numberPolar=4, method=\"projection\")"
   ]
  },
  {
   "cell_type": "code",
   "execution_count": 28,
   "id": "bfd55e8c",
   "metadata": {},
   "outputs": [
    {
     "name": "stdout",
     "output_type": "stream",
     "text": [
      "Analyzing the word:  hospital\n",
      "In the context of:  he was visiting his aunt in hospital\n",
      "Top:  1\n",
      "Dimension:  bad<------>good\n",
      "Definitions:  having undesirable or negative qualities<------>having desirable or positive qualities especially those suitable for a thing specified\n",
      "Value: -3.547968\n",
      "\n",
      "\n",
      "Top:  2\n",
      "Dimension:  cold<------>hot\n",
      "Definitions:  having a low or inadequate temperature or feeling a sensation of coldness or having been made cold by e.g. ice or refrigeration<------>used of physical heat; having a high or higher than desirable temperature or giving off heat or feeling or causing a sensation of heat or burning\n",
      "Value: -1.1850531\n",
      "\n",
      "\n",
      "Top:  3\n",
      "Dimension:  capable<------>incapable\n",
      "Definitions:  (usually followed by `of') having capacity or ability<------>(followed by `of') lacking capacity or ability\n",
      "Value:                      0.9438236\n",
      "\n",
      "\n",
      "Top:  4\n",
      "Dimension:  intelligent<------>unintelligent\n",
      "Definitions:  having the capacity for thought and reason especially to a high degree<------>lacking intelligence\n",
      "Value: -0.2274907\n",
      "\n",
      "\n"
     ]
    }
   ],
   "source": [
    "antonym_path = out_path + \"polar_dimensions.pkl\"\n",
    "word = \"hospital\"\n",
    "context = \"he was visiting his aunt in hospital\"\n",
    "\n",
    "Y=analyzeWord(word, context, model=model, tokenizer=tokenizer, antonym_path=antonym_path, lookup_path=out_path, numberPolar=4, method=\"projection\")"
   ]
  },
  {
   "cell_type": "code",
   "execution_count": 35,
   "id": "6daeed49",
   "metadata": {},
   "outputs": [],
   "source": [
    "def two_dim_visualization(results_of_analyse_word): #the variable should be a list\n",
    "    #Retreive the antonyms list\n",
    "    keys=list(results_of_analyse_word[0][2].keys())\n",
    "    \n",
    "    #ask from user for the keys\n",
    "    key_input_1=input('Enter the first antonym pair number')\n",
    "    key_input_2=input('Enter the second antonym pair number')\n",
    "    #select two antonym pairs\n",
    "    keyx=keys[int(key_input_1)]\n",
    "    keyy=keys[int(key_input_2)]\n",
    "    \n",
    "    #list to store values\n",
    "    valuesx=[]\n",
    "    valuesy=[]\n",
    "    \n",
    "    words=[]\n",
    "    for results in results_of_analyse_word:\n",
    "        words.append(results[3])\n",
    "        dim=results[2]\n",
    "        valuesx.append(dim[keyx])\n",
    "        valuesy.append(dim[keyy])\n",
    "\n",
    "        \n",
    "    import numpy as np\n",
    "    import matplotlib.pyplot as plt    \n",
    "\n",
    "    # Enter x and y coordinates of points and colors\n",
    "    xs = valuesx\n",
    "    ys = valuesy\n",
    "    \n",
    "    #list of colors  !!!!limits the length of input, should be equal or less than the list below\n",
    "    colors_full = ['black', 'forestgreen','aqua','yellow','red','brown','magneta','goldenrod']\n",
    "    \n",
    "    colors=[]\n",
    "    for i in range(len(valuesx)):\n",
    "        colors.append(colors_full[i])\n",
    "    # Select length of axes and the space between tick labels\n",
    "    xmin, xmax, ymin, ymax = -5, 5, -5, 5\n",
    "    ticks_frequency = 1\n",
    "\n",
    "    # Plot points\n",
    "    fig, ax = plt.subplots(figsize=(10, 10))\n",
    "    ax.scatter(xs, ys, c=colors)\n",
    "\n",
    "    # Draw lines connecting points to axes\n",
    "    #for x, y, c in zip(xs, ys, colors):\n",
    "    #    ax.plot([x, x], [0, y], c=c, ls='--', lw=1.5, alpha=0.5)\n",
    "    #    ax.plot([0, x], [y, y], c=c, ls='--', lw=1.5, alpha=0.5)\n",
    "\n",
    "    # Set identical scales for both axes\n",
    "    ax.set(xlim=(xmin-1, xmax+1), ylim=(ymin-1, ymax+1), aspect='equal')\n",
    "\n",
    "    # Set bottom and left spines as x and y axes of coordinate system\n",
    "    ax.spines['bottom'].set_position('zero')\n",
    "    ax.spines['left'].set_position('zero')\n",
    "\n",
    "    # Remove top and right spines\n",
    "    ax.spines['top'].set_visible(False)\n",
    "    ax.spines['right'].set_visible(False)\n",
    "\n",
    "    # Create 'x' and 'y' labels placed at the end of the axes\n",
    "    ax.set_xlabel(keyx, size=14, labelpad=-21, x=1.03)\n",
    "    ax.set_ylabel(keyy, size=14, labelpad=-15, y=1.02, rotation=0)\n",
    "\n",
    "\n",
    "\n",
    "    # Create custom major ticks to determine position of tick labels\n",
    "    x_ticks = np.arange(xmin, xmax+1, ticks_frequency)\n",
    "    y_ticks = np.arange(ymin, ymax+1, ticks_frequency)\n",
    "    ax.set_xticks(x_ticks[x_ticks != 0])\n",
    "    ax.set_yticks(y_ticks[y_ticks != 0])\n",
    "\n",
    "    # Create minor ticks placed at each integer to enable drawing of minor grid\n",
    "    # lines: note that this has no effect in this example with ticks_frequency=1\n",
    "    ax.set_xticks(np.arange(xmin, xmax+1), minor=True)\n",
    "    ax.set_yticks(np.arange(ymin, ymax+1), minor=True)\n",
    "\n",
    "    # Draw major and minor grid lines\n",
    "    ax.grid(which='both', color='grey', linewidth=1, linestyle='-', alpha=0.2)\n",
    "\n",
    "    # Draw arrows\n",
    "    arrow_fmt = dict(markersize=4, color='black', clip_on=False)\n",
    "    ax.plot((1), (0), marker='>', transform=ax.get_yaxis_transform(), **arrow_fmt)\n",
    "    ax.plot((0), (1), marker='^', transform=ax.get_xaxis_transform(), **arrow_fmt)\n",
    "    \n",
    "       \n",
    "        \n",
    "    return plt.show()\n",
    "        \n",
    "        \n",
    "        \n",
    "        \n",
    "    "
   ]
  },
  {
   "cell_type": "code",
   "execution_count": 36,
   "id": "70153cbb",
   "metadata": {},
   "outputs": [
    {
     "name": "stdout",
     "output_type": "stream",
     "text": [
      "Enter the first antonym pair number2\n",
      "Enter the second antonym pair number0\n"
     ]
    },
    {
     "data": {
      "image/png": "[encoded data removed]",
      "text/plain": [
       "<Figure size 1000x1000 with 1 Axes>"
      ]
     },
     "metadata": {},
     "output_type": "display_data"
    }
   ],
   "source": [
    "two_dim_visualization([Z,X,Y])"
   ]
  },
  {
   "cell_type": "code",
   "execution_count": 31,
   "id": "340118f7",
   "metadata": {},
   "outputs": [
    {
     "data": {
      "text/plain": [
       "'hospital'"
      ]
     },
     "execution_count": 31,
     "metadata": {},
     "output_type": "execute_result"
    }
   ],
   "source": [
    "Y[3]"
   ]
  },
  {
   "cell_type": "code",
   "execution_count": 32,
   "id": "777e70d7",
   "metadata": {},
   "outputs": [],
   "source": [
    "#visualizationn of antonyms with the highest difference\n",
    "\n",
    "def most_descriptive_antonyms(word1,word2,k):\n",
    "\n",
    "\n",
    "    from collections import defaultdict\n",
    "    import matplotlib.pyplot as plt\n",
    "    import numpy as np\n",
    "    diff_dict=defaultdict()\n",
    "\n",
    "    word1_dict=word1[2]\n",
    "    word2_dict=word2[2]\n",
    "\n",
    "\n",
    "\n",
    "    def intersection(lst1, lst2):\n",
    "        lst3 = [value for value in lst1 if value in lst2]\n",
    "        return lst3\n",
    "\n",
    "    keys_word_1=list(word1_dict.keys())\n",
    "    keys_word_2=list(word2_dict.keys())\n",
    "\n",
    "    common_keys=intersection(keys_word_1,keys_word_2)\n",
    "\n",
    "\n",
    "    difference_dict=defaultdict()\n",
    "\n",
    "    for key in common_keys:\n",
    "        difference_dict[key]=word1_dict[key]-word2_dict[key]\n",
    "\n",
    "    sorted_difference_dict=dict(sorted(difference_dict.items(), key=lambda x:abs(x[1]) ,reverse=True))\n",
    "\n",
    "    sorted_keys=list(sorted_difference_dict.keys())\n",
    "\n",
    "    left_axis=[]\n",
    "    right_axis=[]\n",
    "    values_word1=[]\n",
    "    values_word2=[]\n",
    "\n",
    "    for i in range(k):\n",
    "        left_axis.append(sorted_keys[i][0])\n",
    "        right_axis.append(sorted_keys[i][1])\n",
    "        values_word1.append(word1_dict[sorted_keys[i]])\n",
    "        values_word2.append(word2_dict[sorted_keys[i]])\n",
    "\n",
    "\n",
    "\n",
    "    plt.rcdefaults()\n",
    "    fig, ax = plt.subplots()\n",
    "\n",
    "    ax.set(xlim=(-5, 5))\n",
    "    y_pos = np.arange(len(right_axis))\n",
    "    width = 0.4\n",
    "\n",
    "    ax.barh(y_pos, values_word1, width,align='center',label=word1[3])\n",
    "    ax.barh(y_pos+width, values_word2, width,align='center',label=word2[3])\n",
    "    ax.set_yticks(y_pos, labels=left_axis)\n",
    "    ax.invert_yaxis()  # labels read top-to-bottom\n",
    "\n",
    "\n",
    "    ax2 = ax.twinx()\n",
    "    ax2.set_ylim(ax.get_ylim())\n",
    "    ax2.set_yticks(y_pos,right_axis)\n",
    "    ax.legend()\n",
    "    \n",
    "    plt.show()\n",
    "\n",
    "    return\n",
    "\n"
   ]
  },
  {
   "cell_type": "code",
   "execution_count": 37,
   "id": "90941dab",
   "metadata": {},
   "outputs": [
    {
     "data": {
      "image/png": "[encoded data removed]",
      "text/plain": [
       "<Figure size 640x480 with 2 Axes>"
      ]
     },
     "metadata": {},
     "output_type": "display_data"
    }
   ],
   "source": [
    "most_descriptive_antonyms(X,Y,2)"
   ]
  },
  {
   "cell_type": "code",
   "execution_count": 34,
   "id": "2c6f3a54",
   "metadata": {},
   "outputs": [],
   "source": [
    "#def one_word_one_dimension(X):\n"
   ]
  }
 ],
 "metadata": {
  "kernelspec": {
   "display_name": "sense_polar",
   "language": "python",
   "name": "sense_polar"
  },
  "language_info": {
   "codemirror_mode": {
    "name": "ipython",
    "version": 3
   },
   "file_extension": ".py",
   "mimetype": "text/x-python",
   "name": "python",
   "nbconvert_exporter": "python",
   "pygments_lexer": "ipython3",
   "version": "3.6.8"
  }
 },
 "nbformat": 4,
 "nbformat_minor": 5
}
