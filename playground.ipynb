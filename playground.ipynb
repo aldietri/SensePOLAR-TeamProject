{
 "cells": [
  {
   "cell_type": "code",
   "execution_count": 1,
   "metadata": {},
   "outputs": [],
   "source": [
    "from lookup import LookupCreator\n",
    "from polarity import WordPolarity\n",
    "from bertEmbed import BERTWordEmbeddings\n",
    "from polarDim import PolarDimensions\n",
    "from dictionaryapi import Dictionary"
   ]
  },
  {
   "cell_type": "code",
   "execution_count": 2,
   "metadata": {},
   "outputs": [],
   "source": [
    "# !pip install -U -q ipywidgets\n",
    "# !jupyter nbextension enable --py widgetsnbextension\n",
    "# !pip install plotly\n",
    "# !pip install chart-studio\n",
    "# !pip install cufflinks"
   ]
  },
  {
   "cell_type": "code",
   "execution_count": 2,
   "metadata": {},
   "outputs": [
    {
     "name": "stderr",
     "output_type": "stream",
     "text": [
      "Some weights of the model checkpoint at bert-base-uncased were not used when initializing BertModel: ['cls.predictions.transform.LayerNorm.weight', 'cls.predictions.bias', 'cls.predictions.transform.dense.weight', 'cls.predictions.decoder.weight', 'cls.seq_relationship.weight', 'cls.seq_relationship.bias', 'cls.predictions.transform.dense.bias', 'cls.predictions.transform.LayerNorm.bias']\n",
      "- This IS expected if you are initializing BertModel from the checkpoint of a model trained on another task or with another architecture (e.g. initializing a BertForSequenceClassification model from a BertForPreTraining model).\n",
      "- This IS NOT expected if you are initializing BertModel from the checkpoint of a model that you expect to be exactly identical (initializing a BertForSequenceClassification model from a BertForSequenceClassification model).\n"
     ]
    },
    {
     "name": "stdout",
     "output_type": "stream",
     "text": [
      "Please enter at least one example sentence for the word: good\n",
      "Unable to create POLAR dimensions.\n",
      "Loading antonyms from ./antonyms/lookup_anto_example_dict.pkl\n"
     ]
    }
   ],
   "source": [
    "out_path = './antonyms/'\n",
    "\n",
    "dimensions = [['cold', 'hot'], ['bad', 'good'], ['intelligent', 'unintelligent'], ['capable', 'incapable'], ['red', 'green']]\n",
    "\n",
    "# dictionary = Dictionary('wordnet', api_key='')    \n",
    "# dictionary = Dictionary('dictionaryapi', api_key='YourAPI_KEY')\n",
    "dictionary = Dictionary('wordnik', api_key='YourAPI_KEY')\n",
    "lookupSpace = LookupCreator(dictionary, dimensions, out_path)\n",
    "lookupSpace.create_lookup_files()\n",
    "\n",
    "antonym_path = out_path + \"polar_dimensions.pkl\"\n",
    "\n",
    "model = BERTWordEmbeddings()\n",
    "\n",
    "pdc = PolarDimensions(model, antonym_path=out_path + \"antonym_wordnet_example_sentences_readable_extended.txt\")\n",
    "pdc.create_polar_dimensions(out_path)\n",
    "\n",
    "\n",
    "wp = WordPolarity(model, antonym_path=antonym_path, method='base-change', number_polar=4)"
   ]
  },
  {
   "cell_type": "code",
   "execution_count": 3,
   "metadata": {},
   "outputs": [
    {
     "name": "stdout",
     "output_type": "stream",
     "text": [
      "Top: 1\n",
      "Dimension: bad <------> good\n",
      "['Not achieving an adequate standard; poor.', 'Immoral or evil.', 'Vulgar or obscene.', 'Disobedient or naughty.', 'Disagreeable, unpleasant, or disturbing.'] ['Being positive or desirable in nature; not bad or poor.', 'Having the qualities that are desirable or distinguishing in a particular thing.', 'Serving the desired purpose or end; suitable.']\n",
      "Value:0.337848961353302\n",
      "\n",
      "\n",
      "Top: 2\n",
      "Dimension: cold <------> hot\n",
      "['Having a low temperature.', 'Being at a temperature that is less than what is required or what is normal.', 'Chilled by refrigeration or ice.'] ['Having or giving off heat; capable of burning.', 'Being at a high temperature.', 'Being at or exhibiting a temperature that is higher than normal or desirable.', 'Causing a burning sensation, as in the mouth; spicy.']\n",
      "Value: -0.12483193\n",
      "\n",
      "\n",
      "Top: 3\n",
      "Dimension: intelligent <------> unintelligent\n",
      "['Having intelligence.', 'Having a high degree of intelligence; mentally acute.', 'Showing sound judgment and rationality.', 'Appealing to the intellect; intellectual.', 'Having the faculty of understanding; capable of comprehending facts or ideas: as, man is an <em>intelligent</em> being.'] []\n",
      "Value: -0.10426771\n",
      "\n",
      "\n",
      "Top: 4\n",
      "Dimension: capable <------> incapable\n",
      "['Having capacity or ability; efficient and able.', 'Having the ability required for a specific task or accomplishment; qualified.', 'Having the inclination or disposition.', 'Permitting an action to be performed.', 'Able to hold or contain; sufficiently capacious (for): followed by <em>of.</em>'] ['Lacking the necessary ability, capacity, or power.', 'Unable to perform adequately; incompetent.', 'Not susceptible to action or treatment.']\n",
      "Value: -0.09925822\n",
      "\n",
      "\n",
      "Word polarity using base change method:  [('bad', 'good', 0.33784896), ('cold', 'hot', -0.12483193), ('intelligent', 'unintelligent', -0.10426771), ('capable', 'incapable', -0.09925822)]\n"
     ]
    }
   ],
   "source": [
    "word = \"sun\"\n",
    "context = \"The sun is shining today.\"\n",
    "polarity_base_change = wp.analyze_word(word, context)\n",
    "print(\"Word polarity using base change method: \", polarity_base_change)"
   ]
  },
  {
   "cell_type": "code",
   "execution_count": 5,
   "metadata": {},
   "outputs": [
    {
     "name": "stdout",
     "output_type": "stream",
     "text": [
      "Top: 1\n",
      "Dimension: bad <------> good\n",
      "['Error, mistake.', 'An item (or kind of item) of merchandise with negative value; an unwanted good.', 'Unfavorable; negative; not good.', 'Not suitable or fitting.', 'Not appropriate, of manners etc.', 'Unhealthy; liable to cause health problems.', 'Sickly, unhealthy, unwell.', 'Not behaving; behaving badly; misbehaving; mischievous or disobedient.', 'Tricky; stressful; unpleasant.', 'Evil; wicked.', 'Faulty; not functional.', '(of food) Spoiled, rotten, overripe.', '(of breath) Malodorous; foul.', 'False; counterfeit; illegitimate.', 'Unskilled; of limited ability; not good.', 'Of poor physical appearance.', 'Bold and daring.', 'Good, superlative, excellent, cool.', '(of a need, want, or pain) Severe, urgent.', 'Overly promiscuous, licentious.', '(of a draft/check) Not covered by funds on account.', 'Badly.'] ['(of people)', '(of capabilities)', '(properties and qualities)', '(when with and) Very, extremely. See good and.', 'Holy (especially when capitalized) .', '(of quantities)', 'That is good; an elliptical exclamation of satisfaction or commendation.']\n",
      "Value:0.337848961353302\n",
      "\n",
      "\n",
      "Top: 2\n",
      "Dimension: cold <------> hot\n",
      "['(of a thing) Having a low temperature.', '(of the weather) Causing the air to be cold.', '(of a person or animal) Feeling the sensation of coldness, especially to the point of discomfort.', 'Unfriendly, emotionally distant or unfeeling.', 'Dispassionate, not prejudiced or partisan, impartial.', 'Completely unprepared; without introduction.', 'Unconscious or deeply asleep; deprived of the metaphorical heat associated with life or consciousness.', '(usually with \"have\" or \"know\" transitively) Perfectly, exactly, completely; by heart.', '(usually with \"have\" transitively) Cornered, done for.', 'Not pungent or acrid.', 'Unexciting; dull; uninteresting.', 'Affecting the sense of smell (as of hunting dogs) only feebly; having lost its odour.', 'Not sensitive; not acute.', 'Distant; said, in the game of hunting for some object, of a seeker remote from the thing concealed. Compare warm and hot.', 'Having a bluish effect; not warm in colour.', 'Rarely used or accessed, and thus able to be relegated to slower storage.', 'Without compassion; heartless; ruthless'] ['(with up) To heat; to make or become hot.', '(with up) To become lively or exciting.', '(of an object) Having a high temperature.', '(of the weather) Causing the air to be hot.', '(of a person or animal) Feeling the sensation of heat, especially to the point of discomfort.', '(of a temper) Easily provoked to anger.', 'Feverish.', '(of food) Spicy.', 'Very good, remarkable, exciting.', 'Stolen.', 'Electrically charged.', 'Radioactive.', '(of a person) Very physically and/or sexually attractive.', 'Sexual or sexy; involving sexual intercourse or sexual excitement.', 'Sexually aroused; randy.', '(with for) Attracted to.', 'Popular; in demand.', 'Of great current interest; provoking current debate or controversy.', 'Very close to finding or guessing something to be found or guessed.', 'Performing strongly; having repeated successes.', 'Fresh; just released.', 'Uncomfortable, difficult to deal with; awkward, dangerous, unpleasant.', 'Used to emphasize the short duration or small quantity of something', 'Characterized by police presence or activity.', '(of a draft/check) Not covered by funds on account.']\n",
      "Value: -0.12483193\n",
      "\n",
      "\n",
      "Top: 3\n",
      "Dimension: intelligent <------> unintelligent\n",
      "['Of high or especially quick cognitive capacity, bright.', 'Well thought-out, well considered.', 'Characterized by thoughtful interaction.', 'Having the same level of brain power as mankind.', 'Having an environment-sensing automatically-invoked built-in computer capability.'] ['Not intelligent.']\n",
      "Value: -0.10426771\n",
      "\n",
      "\n",
      "Top: 4\n",
      "Dimension: capable <------> incapable\n",
      "['Able and efficient; having the ability needed for a specific task; having the disposition to do something; permitting or being susceptible to something.', 'Of sufficient capacity or size for holding, containing, receiving or taking in; accessible to. Construed with of, for or an infinitive.'] ['One who is morally or mentally weak or inefficient; an imbecile; a simpleton.', 'Not capable (of doing something); unable.', 'Not in a state to receive; not receptive; not susceptible; not able to admit.']\n",
      "Value: -0.09925822\n",
      "\n",
      "\n",
      "Word polarity using base change method:  [('bad', 'good', 0.33784896), ('cold', 'hot', -0.12483193), ('intelligent', 'unintelligent', -0.10426771), ('capable', 'incapable', -0.09925822)]\n"
     ]
    }
   ],
   "source": [
    "word = \"sun\"\n",
    "context = \"The sun is shining today.\"\n",
    "polarity_base_change = wp.analyze_word(word, context)\n",
    "print(\"Word polarity using base change method: \", polarity_base_change)"
   ]
  },
  {
   "cell_type": "code",
   "execution_count": 3,
   "metadata": {},
   "outputs": [
    {
     "name": "stdout",
     "output_type": "stream",
     "text": [
      "Top: 1\n",
      "Dimension: cold <------> hot\n",
      "Definitions:  having a low or inadequate temperature or feeling a sensation of coldness or having been made cold by e.g. ice or refrigeration<------>used of physical heat; having a high or higher than desirable temperature or giving off heat or feeling or causing a sensation of heat or burning\n",
      "Value:0.33784884214401245\n",
      "\n",
      "\n",
      "Top: 2\n",
      "Dimension: intelligent <------> unintelligent\n",
      "Definitions:  having the capacity for thought and reason especially to a high degree<------>lacking intelligence\n",
      "Value: -0.12483196\n",
      "\n",
      "\n",
      "Top: 3\n",
      "Dimension: capable <------> incapable\n",
      "Definitions:  (usually followed by `of') having capacity or ability<------>(followed by `of') lacking capacity or ability\n",
      "Value: -0.10426776\n",
      "\n",
      "\n",
      "Top: 4\n",
      "Dimension: bad <------> good\n",
      "Definitions:  having undesirable or negative qualities<------>having desirable or positive qualities especially those suitable for a thing specified\n",
      "Value: -0.09925808\n",
      "\n",
      "\n",
      "Word polarity using base change method:  [('cold', 'hot', 0.33784884), ('intelligent', 'unintelligent', -0.12483196), ('capable', 'incapable', -0.10426776), ('bad', 'good', -0.09925808)]\n"
     ]
    }
   ],
   "source": [
    "word = \"sun\"\n",
    "context = \"The sun is shining today.\"\n",
    "polarity_base_change = wp.analyze_word(word, context)\n",
    "print(\"Word polarity using base change method: \", polarity_base_change)"
   ]
  },
  {
   "cell_type": "code",
   "execution_count": 4,
   "metadata": {},
   "outputs": [
    {
     "name": "stdout",
     "output_type": "stream",
     "text": [
      "Loading antonyms from ./antonyms/lookup_anto_example_dict.pkl\n",
      "Top: 1\n",
      "Dimension: cold <------> hot\n",
      "Definitions:  having a low or inadequate temperature or feeling a sensation of coldness or having been made cold by e.g. ice or refrigeration<------>used of physical heat; having a high or higher than desirable temperature or giving off heat or feeling or causing a sensation of heat or burning\n",
      "Value:3.565028190612793\n",
      "\n",
      "\n",
      "Top: 2\n",
      "Dimension: intelligent <------> unintelligent\n",
      "Definitions:  having the capacity for thought and reason especially to a high degree<------>lacking intelligence\n",
      "Value: -2.10626\n",
      "\n",
      "\n",
      "Top: 3\n",
      "Dimension: capable <------> incapable\n",
      "Definitions:  (usually followed by `of') having capacity or ability<------>(followed by `of') lacking capacity or ability\n",
      "Value: -1.33388\n",
      "\n",
      "\n",
      "Top: 4\n",
      "Dimension: bad <------> good\n",
      "Definitions:  having undesirable or negative qualities<------>having desirable or positive qualities especially those suitable for a thing specified\n",
      "Value:0.29108336567878723\n",
      "\n",
      "\n",
      "Word polarity using projection method:  [('cold', 'hot', 3.5650282), ('intelligent', 'unintelligent', -2.10626), ('capable', 'incapable', -1.33388), ('bad', 'good', 0.29108337)]\n"
     ]
    }
   ],
   "source": [
    "wp = WordPolarity(model, antonym_path=antonym_path, method='projection', number_polar=4)\n",
    "polarity_projection = wp.analyze_word(word, context)\n",
    "print(\"Word polarity using projection method: \", polarity_projection)"
   ]
  },
  {
   "cell_type": "code",
   "execution_count": 5,
   "metadata": {},
   "outputs": [
    {
     "data": {
      "text/html": [
       "        <script type=\"text/javascript\">\n",
       "        window.PlotlyConfig = {MathJaxConfig: 'local'};\n",
       "        if (window.MathJax && window.MathJax.Hub && window.MathJax.Hub.Config) {window.MathJax.Hub.Config({SVG: {font: \"STIX-Web\"}});}\n",
       "        if (typeof require !== 'undefined') {\n",
       "        require.undef(\"plotly\");\n",
       "        requirejs.config({\n",
       "            paths: {\n",
       "                'plotly': ['https://cdn.plot.ly/plotly-2.20.0.min']\n",
       "            }\n",
       "        });\n",
       "        require(['plotly'], function(Plotly) {\n",
       "            window._Plotly = Plotly;\n",
       "        });\n",
       "        }\n",
       "        </script>\n",
       "        "
      ]
     },
     "metadata": {},
     "output_type": "display_data"
    },
    {
     "data": {
      "text/html": [
       "        <script type=\"text/javascript\">\n",
       "        window.PlotlyConfig = {MathJaxConfig: 'local'};\n",
       "        if (window.MathJax && window.MathJax.Hub && window.MathJax.Hub.Config) {window.MathJax.Hub.Config({SVG: {font: \"STIX-Web\"}});}\n",
       "        if (typeof require !== 'undefined') {\n",
       "        require.undef(\"plotly\");\n",
       "        requirejs.config({\n",
       "            paths: {\n",
       "                'plotly': ['https://cdn.plot.ly/plotly-2.20.0.min']\n",
       "            }\n",
       "        });\n",
       "        require(['plotly'], function(Plotly) {\n",
       "            window._Plotly = Plotly;\n",
       "        });\n",
       "        }\n",
       "        </script>\n",
       "        "
      ]
     },
     "metadata": {},
     "output_type": "display_data"
    }
   ],
   "source": [
    "import chart_studio as plotly\n",
    "import plotly.graph_objs as go\n",
    "from plotly.offline import iplot, init_notebook_mode\n",
    "import pandas as pd\n",
    "\n",
    "init_notebook_mode(connected=True)\n",
    "\n",
    "import cufflinks as cf\n",
    "cf.go_offline(connected=True)\n",
    "cf.set_config_file(colorscale='plotly', world_readable=True)\n",
    "\n",
    "# Extra options\n",
    "pd.options.display.max_rows = 30\n",
    "pd.options.display.max_columns = 25\n",
    "\n",
    "# Show all code cells outputs\n",
    "from IPython.core.interactiveshell import InteractiveShell\n",
    "InteractiveShell.ast_node_interactivity = 'all'\n",
    "\n",
    "\n",
    "import os\n",
    "from IPython.display import Image, display, HTML\n",
    "\n"
   ]
  },
  {
   "cell_type": "code",
   "execution_count": 4,
   "metadata": {},
   "outputs": [],
   "source": [
    "import plotly.graph_objects as go\n",
    "import numpy as np\n",
    "from collections import defaultdict\n",
    "\n",
    "\n",
    "def plot_word_polarity(words, polar_dimension):\n",
    "    # create dictionary with antonyms as key and (word,polar) as value\n",
    "    antonym_dict = defaultdict(list)\n",
    "    for w_i in range(len(words)):\n",
    "        for antonym1, antonym2, value in polar_dimension[w_i]:\n",
    "            antonym_dict[(antonym1, antonym2)].append((words[w_i], value))\n",
    "    fig = go.Figure()\n",
    "\n",
    "    # Add axes\n",
    "    fig.add_shape(type=\"line\", x0=-1, y0=0, x1=1, y1=0, line=dict(color='black', width=1))\n",
    "    fig.add_shape(type=\"line\", x0=-1, y0=0, x1=-1, y1=len(antonym_dict)/10, line=dict(color='black', width=1))\n",
    "    fig.add_shape(type=\"line\", x0=1, y0=0, x1=1, y1=len(antonym_dict)/10, line=dict(color='black', width=1))\n",
    "    fig.add_shape(type=\"line\", x0=0, y0=0, x1=0, y1=len(antonym_dict)/10, line=dict(color='black', width=1, dash='dash'))\n",
    "\n",
    "    # Define color scale for the words\n",
    "    colors = np.linspace(0, 1, len(words))\n",
    "\n",
    "    # Add lines and markers for each word's polarity score\n",
    "    counter = 0.01\n",
    "    offset = 0.005\n",
    "    for i, (antonyms, polars) in enumerate(antonym_dict.items()):\n",
    "        show_legend = True if i == 0 else False\n",
    "        for polar in polars:\n",
    "            # Define color of the line and marker based on word's position in the list\n",
    "            color = f'rgb({int(colors[words.index(polar[0])] * 255)}, {int((1-colors[words.index(polar[0])]) * 255)}, 0)'\n",
    "            fig.add_shape(type=\"line\", x0=polar[1], y0=counter, x1=0, y1=counter, \n",
    "                          line=dict(color=color, width=1))\n",
    "            fig.add_trace(go.Scatter(x=[polar[1]], y=[counter], mode='markers', \n",
    "                                     marker=dict(color=color, symbol='square', size=10),\n",
    "                          name=polar[0], showlegend=show_legend))\n",
    "            # fig.add_annotation(x=polar[1], y=counter, text=polar[0], font=dict(size=20), showarrow=True, xanchor='auto')\n",
    "        fig.add_annotation(x=-1.1, y=counter, text=antonyms[0], font=dict(size=18), showarrow=False, xanchor='right')\n",
    "        fig.add_annotation(x=1.1, y=counter, text=antonyms[1], font=dict(size=18), showarrow=False, xanchor='left')\n",
    "        counter += offset + 0.1\n",
    "    # Set x and y axis titles\n",
    "    fig.update_layout(\n",
    "        xaxis_title=f\"Polarity\",\n",
    "        yaxis_title=\"Words\",\n",
    "        xaxis_range=[-1, 1],\n",
    "        xaxis_autorange=True, yaxis_autorange=True\n",
    "    )\n",
    "\n",
    "    fig.show()\n"
   ]
  },
  {
   "cell_type": "code",
   "execution_count": 5,
   "metadata": {},
   "outputs": [
    {
     "data": {
      "application/vnd.plotly.v1+json": {
       "config": {
        "plotlyServerURL": "https://plot.ly"
       },
       "data": [
        {
         "marker": {
          "color": "rgb(0, 255, 0)",
          "size": 10,
          "symbol": "square"
         },
         "mode": "markers",
         "name": "sun",
         "showlegend": true,
         "type": "scatter",
         "x": [
          0.337848961353302
         ],
         "y": [
          0.01
         ]
        },
        {
         "marker": {
          "color": "rgb(0, 255, 0)",
          "size": 10,
          "symbol": "square"
         },
         "mode": "markers",
         "name": "sun",
         "showlegend": false,
         "type": "scatter",
         "x": [
          -0.12483192980289459
         ],
         "y": [
          0.115
         ]
        },
        {
         "marker": {
          "color": "rgb(0, 255, 0)",
          "size": 10,
          "symbol": "square"
         },
         "mode": "markers",
         "name": "sun",
         "showlegend": false,
         "type": "scatter",
         "x": [
          -0.10426770895719528
         ],
         "y": [
          0.22000000000000003
         ]
        },
        {
         "marker": {
          "color": "rgb(0, 255, 0)",
          "size": 10,
          "symbol": "square"
         },
         "mode": "markers",
         "name": "sun",
         "showlegend": false,
         "type": "scatter",
         "x": [
          -0.09925822168588638
         ],
         "y": [
          0.32500000000000007
         ]
        }
       ],
       "layout": {
        "annotations": [
         {
          "font": {
           "size": 18
          },
          "showarrow": false,
          "text": "bad",
          "x": -1.1,
          "xanchor": "right",
          "y": 0.01
         },
         {
          "font": {
           "size": 18
          },
          "showarrow": false,
          "text": "good",
          "x": 1.1,
          "xanchor": "left",
          "y": 0.01
         },
         {
          "font": {
           "size": 18
          },
          "showarrow": false,
          "text": "cold",
          "x": -1.1,
          "xanchor": "right",
          "y": 0.115
         },
         {
          "font": {
           "size": 18
          },
          "showarrow": false,
          "text": "hot",
          "x": 1.1,
          "xanchor": "left",
          "y": 0.115
         },
         {
          "font": {
           "size": 18
          },
          "showarrow": false,
          "text": "intelligent",
          "x": -1.1,
          "xanchor": "right",
          "y": 0.22000000000000003
         },
         {
          "font": {
           "size": 18
          },
          "showarrow": false,
          "text": "unintelligent",
          "x": 1.1,
          "xanchor": "left",
          "y": 0.22000000000000003
         },
         {
          "font": {
           "size": 18
          },
          "showarrow": false,
          "text": "capable",
          "x": -1.1,
          "xanchor": "right",
          "y": 0.32500000000000007
         },
         {
          "font": {
           "size": 18
          },
          "showarrow": false,
          "text": "incapable",
          "x": 1.1,
          "xanchor": "left",
          "y": 0.32500000000000007
         }
        ],
        "shapes": [
         {
          "line": {
           "color": "black",
           "width": 1
          },
          "type": "line",
          "x0": -1,
          "x1": 1,
          "y0": 0,
          "y1": 0
         },
         {
          "line": {
           "color": "black",
           "width": 1
          },
          "type": "line",
          "x0": -1,
          "x1": -1,
          "y0": 0,
          "y1": 0.4
         },
         {
          "line": {
           "color": "black",
           "width": 1
          },
          "type": "line",
          "x0": 1,
          "x1": 1,
          "y0": 0,
          "y1": 0.4
         },
         {
          "line": {
           "color": "black",
           "dash": "dash",
           "width": 1
          },
          "type": "line",
          "x0": 0,
          "x1": 0,
          "y0": 0,
          "y1": 0.4
         },
         {
          "line": {
           "color": "rgb(0, 255, 0)",
           "width": 1
          },
          "type": "line",
          "x0": 0.337848961353302,
          "x1": 0,
          "y0": 0.01,
          "y1": 0.01
         },
         {
          "line": {
           "color": "rgb(0, 255, 0)",
           "width": 1
          },
          "type": "line",
          "x0": -0.12483192980289459,
          "x1": 0,
          "y0": 0.115,
          "y1": 0.115
         },
         {
          "line": {
           "color": "rgb(0, 255, 0)",
           "width": 1
          },
          "type": "line",
          "x0": -0.10426770895719528,
          "x1": 0,
          "y0": 0.22000000000000003,
          "y1": 0.22000000000000003
         },
         {
          "line": {
           "color": "rgb(0, 255, 0)",
           "width": 1
          },
          "type": "line",
          "x0": -0.09925822168588638,
          "x1": 0,
          "y0": 0.32500000000000007,
          "y1": 0.32500000000000007
         }
        ],
        "template": {
         "data": {
          "bar": [
           {
            "error_x": {
             "color": "#2a3f5f"
            },
            "error_y": {
             "color": "#2a3f5f"
            },
            "marker": {
             "line": {
              "color": "#E5ECF6",
              "width": 0.5
             },
             "pattern": {
              "fillmode": "overlay",
              "size": 10,
              "solidity": 0.2
             }
            },
            "type": "bar"
           }
          ],
          "barpolar": [
           {
            "marker": {
             "line": {
              "color": "#E5ECF6",
              "width": 0.5
             },
             "pattern": {
              "fillmode": "overlay",
              "size": 10,
              "solidity": 0.2
             }
            },
            "type": "barpolar"
           }
          ],
          "carpet": [
           {
            "aaxis": {
             "endlinecolor": "#2a3f5f",
             "gridcolor": "white",
             "linecolor": "white",
             "minorgridcolor": "white",
             "startlinecolor": "#2a3f5f"
            },
            "baxis": {
             "endlinecolor": "#2a3f5f",
             "gridcolor": "white",
             "linecolor": "white",
             "minorgridcolor": "white",
             "startlinecolor": "#2a3f5f"
            },
            "type": "carpet"
           }
          ],
          "choropleth": [
           {
            "colorbar": {
             "outlinewidth": 0,
             "ticks": ""
            },
            "type": "choropleth"
           }
          ],
          "contour": [
           {
            "colorbar": {
             "outlinewidth": 0,
             "ticks": ""
            },
            "colorscale": [
             [
              0,
              "#0d0887"
             ],
             [
              0.1111111111111111,
              "#46039f"
             ],
             [
              0.2222222222222222,
              "#7201a8"
             ],
             [
              0.3333333333333333,
              "#9c179e"
             ],
             [
              0.4444444444444444,
              "#bd3786"
             ],
             [
              0.5555555555555556,
              "#d8576b"
             ],
             [
              0.6666666666666666,
              "#ed7953"
             ],
             [
              0.7777777777777778,
              "#fb9f3a"
             ],
             [
              0.8888888888888888,
              "#fdca26"
             ],
             [
              1,
              "#f0f921"
             ]
            ],
            "type": "contour"
           }
          ],
          "contourcarpet": [
           {
            "colorbar": {
             "outlinewidth": 0,
             "ticks": ""
            },
            "type": "contourcarpet"
           }
          ],
          "heatmap": [
           {
            "colorbar": {
             "outlinewidth": 0,
             "ticks": ""
            },
            "colorscale": [
             [
              0,
              "#0d0887"
             ],
             [
              0.1111111111111111,
              "#46039f"
             ],
             [
              0.2222222222222222,
              "#7201a8"
             ],
             [
              0.3333333333333333,
              "#9c179e"
             ],
             [
              0.4444444444444444,
              "#bd3786"
             ],
             [
              0.5555555555555556,
              "#d8576b"
             ],
             [
              0.6666666666666666,
              "#ed7953"
             ],
             [
              0.7777777777777778,
              "#fb9f3a"
             ],
             [
              0.8888888888888888,
              "#fdca26"
             ],
             [
              1,
              "#f0f921"
             ]
            ],
            "type": "heatmap"
           }
          ],
          "heatmapgl": [
           {
            "colorbar": {
             "outlinewidth": 0,
             "ticks": ""
            },
            "colorscale": [
             [
              0,
              "#0d0887"
             ],
             [
              0.1111111111111111,
              "#46039f"
             ],
             [
              0.2222222222222222,
              "#7201a8"
             ],
             [
              0.3333333333333333,
              "#9c179e"
             ],
             [
              0.4444444444444444,
              "#bd3786"
             ],
             [
              0.5555555555555556,
              "#d8576b"
             ],
             [
              0.6666666666666666,
              "#ed7953"
             ],
             [
              0.7777777777777778,
              "#fb9f3a"
             ],
             [
              0.8888888888888888,
              "#fdca26"
             ],
             [
              1,
              "#f0f921"
             ]
            ],
            "type": "heatmapgl"
           }
          ],
          "histogram": [
           {
            "marker": {
             "pattern": {
              "fillmode": "overlay",
              "size": 10,
              "solidity": 0.2
             }
            },
            "type": "histogram"
           }
          ],
          "histogram2d": [
           {
            "colorbar": {
             "outlinewidth": 0,
             "ticks": ""
            },
            "colorscale": [
             [
              0,
              "#0d0887"
             ],
             [
              0.1111111111111111,
              "#46039f"
             ],
             [
              0.2222222222222222,
              "#7201a8"
             ],
             [
              0.3333333333333333,
              "#9c179e"
             ],
             [
              0.4444444444444444,
              "#bd3786"
             ],
             [
              0.5555555555555556,
              "#d8576b"
             ],
             [
              0.6666666666666666,
              "#ed7953"
             ],
             [
              0.7777777777777778,
              "#fb9f3a"
             ],
             [
              0.8888888888888888,
              "#fdca26"
             ],
             [
              1,
              "#f0f921"
             ]
            ],
            "type": "histogram2d"
           }
          ],
          "histogram2dcontour": [
           {
            "colorbar": {
             "outlinewidth": 0,
             "ticks": ""
            },
            "colorscale": [
             [
              0,
              "#0d0887"
             ],
             [
              0.1111111111111111,
              "#46039f"
             ],
             [
              0.2222222222222222,
              "#7201a8"
             ],
             [
              0.3333333333333333,
              "#9c179e"
             ],
             [
              0.4444444444444444,
              "#bd3786"
             ],
             [
              0.5555555555555556,
              "#d8576b"
             ],
             [
              0.6666666666666666,
              "#ed7953"
             ],
             [
              0.7777777777777778,
              "#fb9f3a"
             ],
             [
              0.8888888888888888,
              "#fdca26"
             ],
             [
              1,
              "#f0f921"
             ]
            ],
            "type": "histogram2dcontour"
           }
          ],
          "mesh3d": [
           {
            "colorbar": {
             "outlinewidth": 0,
             "ticks": ""
            },
            "type": "mesh3d"
           }
          ],
          "parcoords": [
           {
            "line": {
             "colorbar": {
              "outlinewidth": 0,
              "ticks": ""
             }
            },
            "type": "parcoords"
           }
          ],
          "pie": [
           {
            "automargin": true,
            "type": "pie"
           }
          ],
          "scatter": [
           {
            "fillpattern": {
             "fillmode": "overlay",
             "size": 10,
             "solidity": 0.2
            },
            "type": "scatter"
           }
          ],
          "scatter3d": [
           {
            "line": {
             "colorbar": {
              "outlinewidth": 0,
              "ticks": ""
             }
            },
            "marker": {
             "colorbar": {
              "outlinewidth": 0,
              "ticks": ""
             }
            },
            "type": "scatter3d"
           }
          ],
          "scattercarpet": [
           {
            "marker": {
             "colorbar": {
              "outlinewidth": 0,
              "ticks": ""
             }
            },
            "type": "scattercarpet"
           }
          ],
          "scattergeo": [
           {
            "marker": {
             "colorbar": {
              "outlinewidth": 0,
              "ticks": ""
             }
            },
            "type": "scattergeo"
           }
          ],
          "scattergl": [
           {
            "marker": {
             "colorbar": {
              "outlinewidth": 0,
              "ticks": ""
             }
            },
            "type": "scattergl"
           }
          ],
          "scattermapbox": [
           {
            "marker": {
             "colorbar": {
              "outlinewidth": 0,
              "ticks": ""
             }
            },
            "type": "scattermapbox"
           }
          ],
          "scatterpolar": [
           {
            "marker": {
             "colorbar": {
              "outlinewidth": 0,
              "ticks": ""
             }
            },
            "type": "scatterpolar"
           }
          ],
          "scatterpolargl": [
           {
            "marker": {
             "colorbar": {
              "outlinewidth": 0,
              "ticks": ""
             }
            },
            "type": "scatterpolargl"
           }
          ],
          "scatterternary": [
           {
            "marker": {
             "colorbar": {
              "outlinewidth": 0,
              "ticks": ""
             }
            },
            "type": "scatterternary"
           }
          ],
          "surface": [
           {
            "colorbar": {
             "outlinewidth": 0,
             "ticks": ""
            },
            "colorscale": [
             [
              0,
              "#0d0887"
             ],
             [
              0.1111111111111111,
              "#46039f"
             ],
             [
              0.2222222222222222,
              "#7201a8"
             ],
             [
              0.3333333333333333,
              "#9c179e"
             ],
             [
              0.4444444444444444,
              "#bd3786"
             ],
             [
              0.5555555555555556,
              "#d8576b"
             ],
             [
              0.6666666666666666,
              "#ed7953"
             ],
             [
              0.7777777777777778,
              "#fb9f3a"
             ],
             [
              0.8888888888888888,
              "#fdca26"
             ],
             [
              1,
              "#f0f921"
             ]
            ],
            "type": "surface"
           }
          ],
          "table": [
           {
            "cells": {
             "fill": {
              "color": "#EBF0F8"
             },
             "line": {
              "color": "white"
             }
            },
            "header": {
             "fill": {
              "color": "#C8D4E3"
             },
             "line": {
              "color": "white"
             }
            },
            "type": "table"
           }
          ]
         },
         "layout": {
          "annotationdefaults": {
           "arrowcolor": "#2a3f5f",
           "arrowhead": 0,
           "arrowwidth": 1
          },
          "autotypenumbers": "strict",
          "coloraxis": {
           "colorbar": {
            "outlinewidth": 0,
            "ticks": ""
           }
          },
          "colorscale": {
           "diverging": [
            [
             0,
             "#8e0152"
            ],
            [
             0.1,
             "#c51b7d"
            ],
            [
             0.2,
             "#de77ae"
            ],
            [
             0.3,
             "#f1b6da"
            ],
            [
             0.4,
             "#fde0ef"
            ],
            [
             0.5,
             "#f7f7f7"
            ],
            [
             0.6,
             "#e6f5d0"
            ],
            [
             0.7,
             "#b8e186"
            ],
            [
             0.8,
             "#7fbc41"
            ],
            [
             0.9,
             "#4d9221"
            ],
            [
             1,
             "#276419"
            ]
           ],
           "sequential": [
            [
             0,
             "#0d0887"
            ],
            [
             0.1111111111111111,
             "#46039f"
            ],
            [
             0.2222222222222222,
             "#7201a8"
            ],
            [
             0.3333333333333333,
             "#9c179e"
            ],
            [
             0.4444444444444444,
             "#bd3786"
            ],
            [
             0.5555555555555556,
             "#d8576b"
            ],
            [
             0.6666666666666666,
             "#ed7953"
            ],
            [
             0.7777777777777778,
             "#fb9f3a"
            ],
            [
             0.8888888888888888,
             "#fdca26"
            ],
            [
             1,
             "#f0f921"
            ]
           ],
           "sequentialminus": [
            [
             0,
             "#0d0887"
            ],
            [
             0.1111111111111111,
             "#46039f"
            ],
            [
             0.2222222222222222,
             "#7201a8"
            ],
            [
             0.3333333333333333,
             "#9c179e"
            ],
            [
             0.4444444444444444,
             "#bd3786"
            ],
            [
             0.5555555555555556,
             "#d8576b"
            ],
            [
             0.6666666666666666,
             "#ed7953"
            ],
            [
             0.7777777777777778,
             "#fb9f3a"
            ],
            [
             0.8888888888888888,
             "#fdca26"
            ],
            [
             1,
             "#f0f921"
            ]
           ]
          },
          "colorway": [
           "#636efa",
           "#EF553B",
           "#00cc96",
           "#ab63fa",
           "#FFA15A",
           "#19d3f3",
           "#FF6692",
           "#B6E880",
           "#FF97FF",
           "#FECB52"
          ],
          "font": {
           "color": "#2a3f5f"
          },
          "geo": {
           "bgcolor": "white",
           "lakecolor": "white",
           "landcolor": "#E5ECF6",
           "showlakes": true,
           "showland": true,
           "subunitcolor": "white"
          },
          "hoverlabel": {
           "align": "left"
          },
          "hovermode": "closest",
          "mapbox": {
           "style": "light"
          },
          "paper_bgcolor": "white",
          "plot_bgcolor": "#E5ECF6",
          "polar": {
           "angularaxis": {
            "gridcolor": "white",
            "linecolor": "white",
            "ticks": ""
           },
           "bgcolor": "#E5ECF6",
           "radialaxis": {
            "gridcolor": "white",
            "linecolor": "white",
            "ticks": ""
           }
          },
          "scene": {
           "xaxis": {
            "backgroundcolor": "#E5ECF6",
            "gridcolor": "white",
            "gridwidth": 2,
            "linecolor": "white",
            "showbackground": true,
            "ticks": "",
            "zerolinecolor": "white"
           },
           "yaxis": {
            "backgroundcolor": "#E5ECF6",
            "gridcolor": "white",
            "gridwidth": 2,
            "linecolor": "white",
            "showbackground": true,
            "ticks": "",
            "zerolinecolor": "white"
           },
           "zaxis": {
            "backgroundcolor": "#E5ECF6",
            "gridcolor": "white",
            "gridwidth": 2,
            "linecolor": "white",
            "showbackground": true,
            "ticks": "",
            "zerolinecolor": "white"
           }
          },
          "shapedefaults": {
           "line": {
            "color": "#2a3f5f"
           }
          },
          "ternary": {
           "aaxis": {
            "gridcolor": "white",
            "linecolor": "white",
            "ticks": ""
           },
           "baxis": {
            "gridcolor": "white",
            "linecolor": "white",
            "ticks": ""
           },
           "bgcolor": "#E5ECF6",
           "caxis": {
            "gridcolor": "white",
            "linecolor": "white",
            "ticks": ""
           }
          },
          "title": {
           "x": 0.05
          },
          "xaxis": {
           "automargin": true,
           "gridcolor": "white",
           "linecolor": "white",
           "ticks": "",
           "title": {
            "standoff": 15
           },
           "zerolinecolor": "white",
           "zerolinewidth": 2
          },
          "yaxis": {
           "automargin": true,
           "gridcolor": "white",
           "linecolor": "white",
           "ticks": "",
           "title": {
            "standoff": 15
           },
           "zerolinecolor": "white",
           "zerolinewidth": 2
          }
         }
        },
        "xaxis": {
         "autorange": true,
         "range": [
          -1,
          1
         ],
         "title": {
          "text": "Polarity"
         }
        },
        "yaxis": {
         "autorange": true,
         "title": {
          "text": "Words"
         }
        }
       }
      }
     },
     "metadata": {},
     "output_type": "display_data"
    }
   ],
   "source": [
    "plot_word_polarity([word],[polarity_base_change])"
   ]
  },
  {
   "cell_type": "code",
   "execution_count": 15,
   "metadata": {},
   "outputs": [
    {
     "name": "stdout",
     "output_type": "stream",
     "text": [
      "Loading antonyms from ./antonyms/lookup_anto_example_dict.pkl\n",
      "Top: 1\n",
      "Dimension: cold <------> hot\n",
      "Definitions:  having a low or inadequate temperature or feeling a sensation of coldness or having been made cold by e.g. ice or refrigeration<------>used of physical heat; having a high or higher than desirable temperature or giving off heat or feeling or causing a sensation of heat or burning\n",
      "Value:0.3066955804824829\n",
      "\n",
      "\n",
      "Top: 2\n",
      "Dimension: intelligent <------> unintelligent\n",
      "Definitions:  having the capacity for thought and reason especially to a high degree<------>lacking intelligence\n",
      "Value: -0.08927027\n",
      "\n",
      "\n",
      "Top: 3\n",
      "Dimension: bad <------> good\n",
      "Definitions:  having undesirable or negative qualities<------>having desirable or positive qualities especially those suitable for a thing specified\n",
      "Value: -0.081530094\n",
      "\n",
      "\n",
      "Top: 4\n",
      "Dimension: capable <------> incapable\n",
      "Definitions:  (usually followed by `of') having capacity or ability<------>(followed by `of') lacking capacity or ability\n",
      "Value:0.0321553498506546\n",
      "\n",
      "\n",
      "Top: 1\n",
      "Dimension: cold <------> hot\n",
      "Definitions:  having a low or inadequate temperature or feeling a sensation of coldness or having been made cold by e.g. ice or refrigeration<------>used of physical heat; having a high or higher than desirable temperature or giving off heat or feeling or causing a sensation of heat or burning\n",
      "Value:0.33801084756851196\n",
      "\n",
      "\n",
      "Top: 2\n",
      "Dimension: intelligent <------> unintelligent\n",
      "Definitions:  having the capacity for thought and reason especially to a high degree<------>lacking intelligence\n",
      "Value: -0.09588365\n",
      "\n",
      "\n",
      "Top: 3\n",
      "Dimension: capable <------> incapable\n",
      "Definitions:  (usually followed by `of') having capacity or ability<------>(followed by `of') lacking capacity or ability\n",
      "Value: -0.060893767\n",
      "\n",
      "\n",
      "Top: 4\n",
      "Dimension: bad <------> good\n",
      "Definitions:  having undesirable or negative qualities<------>having desirable or positive qualities especially those suitable for a thing specified\n",
      "Value: -0.057877045\n",
      "\n",
      "\n"
     ]
    },
    {
     "data": {
      "application/vnd.plotly.v1+json": {
       "config": {
        "plotlyServerURL": "https://plot.ly"
       },
       "data": [
        {
         "marker": {
          "color": "rgb(0, 255, 0)",
          "size": 10,
          "symbol": "square"
         },
         "mode": "markers",
         "name": "sun",
         "showlegend": true,
         "type": "scatter",
         "x": [
          0.33801084756851196
         ],
         "y": [
          0.01
         ]
        },
        {
         "marker": {
          "color": "rgb(255, 0, 0)",
          "size": 10,
          "symbol": "square"
         },
         "mode": "markers",
         "name": "fire",
         "showlegend": true,
         "type": "scatter",
         "x": [
          0.3066955804824829
         ],
         "y": [
          0.01
         ]
        },
        {
         "marker": {
          "color": "rgb(0, 255, 0)",
          "size": 10,
          "symbol": "square"
         },
         "mode": "markers",
         "name": "sun",
         "showlegend": false,
         "type": "scatter",
         "x": [
          -0.09588365256786346
         ],
         "y": [
          0.115
         ]
        },
        {
         "marker": {
          "color": "rgb(255, 0, 0)",
          "size": 10,
          "symbol": "square"
         },
         "mode": "markers",
         "name": "fire",
         "showlegend": false,
         "type": "scatter",
         "x": [
          -0.08927027136087418
         ],
         "y": [
          0.115
         ]
        },
        {
         "marker": {
          "color": "rgb(0, 255, 0)",
          "size": 10,
          "symbol": "square"
         },
         "mode": "markers",
         "name": "sun",
         "showlegend": false,
         "type": "scatter",
         "x": [
          -0.060893766582012177
         ],
         "y": [
          0.22000000000000003
         ]
        },
        {
         "marker": {
          "color": "rgb(255, 0, 0)",
          "size": 10,
          "symbol": "square"
         },
         "mode": "markers",
         "name": "fire",
         "showlegend": false,
         "type": "scatter",
         "x": [
          0.0321553498506546
         ],
         "y": [
          0.22000000000000003
         ]
        },
        {
         "marker": {
          "color": "rgb(0, 255, 0)",
          "size": 10,
          "symbol": "square"
         },
         "mode": "markers",
         "name": "sun",
         "showlegend": false,
         "type": "scatter",
         "x": [
          -0.05787704512476921
         ],
         "y": [
          0.32500000000000007
         ]
        },
        {
         "marker": {
          "color": "rgb(255, 0, 0)",
          "size": 10,
          "symbol": "square"
         },
         "mode": "markers",
         "name": "fire",
         "showlegend": false,
         "type": "scatter",
         "x": [
          -0.08153009414672852
         ],
         "y": [
          0.32500000000000007
         ]
        }
       ],
       "layout": {
        "annotations": [
         {
          "font": {
           "size": 18
          },
          "showarrow": false,
          "text": "cold",
          "x": -1.1,
          "xanchor": "right",
          "y": 0.01
         },
         {
          "font": {
           "size": 18
          },
          "showarrow": false,
          "text": "hot",
          "x": 1.1,
          "xanchor": "left",
          "y": 0.01
         },
         {
          "font": {
           "size": 18
          },
          "showarrow": false,
          "text": "intelligent",
          "x": -1.1,
          "xanchor": "right",
          "y": 0.115
         },
         {
          "font": {
           "size": 18
          },
          "showarrow": false,
          "text": "unintelligent",
          "x": 1.1,
          "xanchor": "left",
          "y": 0.115
         },
         {
          "font": {
           "size": 18
          },
          "showarrow": false,
          "text": "capable",
          "x": -1.1,
          "xanchor": "right",
          "y": 0.22000000000000003
         },
         {
          "font": {
           "size": 18
          },
          "showarrow": false,
          "text": "incapable",
          "x": 1.1,
          "xanchor": "left",
          "y": 0.22000000000000003
         },
         {
          "font": {
           "size": 18
          },
          "showarrow": false,
          "text": "bad",
          "x": -1.1,
          "xanchor": "right",
          "y": 0.32500000000000007
         },
         {
          "font": {
           "size": 18
          },
          "showarrow": false,
          "text": "good",
          "x": 1.1,
          "xanchor": "left",
          "y": 0.32500000000000007
         }
        ],
        "shapes": [
         {
          "line": {
           "color": "black",
           "width": 1
          },
          "type": "line",
          "x0": -1,
          "x1": 1,
          "y0": 0,
          "y1": 0
         },
         {
          "line": {
           "color": "black",
           "width": 1
          },
          "type": "line",
          "x0": -1,
          "x1": -1,
          "y0": 0,
          "y1": 0.4
         },
         {
          "line": {
           "color": "black",
           "width": 1
          },
          "type": "line",
          "x0": 1,
          "x1": 1,
          "y0": 0,
          "y1": 0.4
         },
         {
          "line": {
           "color": "black",
           "dash": "dash",
           "width": 1
          },
          "type": "line",
          "x0": 0,
          "x1": 0,
          "y0": 0,
          "y1": 0.4
         },
         {
          "line": {
           "color": "rgb(0, 255, 0)",
           "width": 1
          },
          "type": "line",
          "x0": 0.33801084756851196,
          "x1": 0,
          "y0": 0.01,
          "y1": 0.01
         },
         {
          "line": {
           "color": "rgb(255, 0, 0)",
           "width": 1
          },
          "type": "line",
          "x0": 0.3066955804824829,
          "x1": 0,
          "y0": 0.01,
          "y1": 0.01
         },
         {
          "line": {
           "color": "rgb(0, 255, 0)",
           "width": 1
          },
          "type": "line",
          "x0": -0.09588365256786346,
          "x1": 0,
          "y0": 0.115,
          "y1": 0.115
         },
         {
          "line": {
           "color": "rgb(255, 0, 0)",
           "width": 1
          },
          "type": "line",
          "x0": -0.08927027136087418,
          "x1": 0,
          "y0": 0.115,
          "y1": 0.115
         },
         {
          "line": {
           "color": "rgb(0, 255, 0)",
           "width": 1
          },
          "type": "line",
          "x0": -0.060893766582012177,
          "x1": 0,
          "y0": 0.22000000000000003,
          "y1": 0.22000000000000003
         },
         {
          "line": {
           "color": "rgb(255, 0, 0)",
           "width": 1
          },
          "type": "line",
          "x0": 0.0321553498506546,
          "x1": 0,
          "y0": 0.22000000000000003,
          "y1": 0.22000000000000003
         },
         {
          "line": {
           "color": "rgb(0, 255, 0)",
           "width": 1
          },
          "type": "line",
          "x0": -0.05787704512476921,
          "x1": 0,
          "y0": 0.32500000000000007,
          "y1": 0.32500000000000007
         },
         {
          "line": {
           "color": "rgb(255, 0, 0)",
           "width": 1
          },
          "type": "line",
          "x0": -0.08153009414672852,
          "x1": 0,
          "y0": 0.32500000000000007,
          "y1": 0.32500000000000007
         }
        ],
        "template": {
         "data": {
          "bar": [
           {
            "error_x": {
             "color": "#2a3f5f"
            },
            "error_y": {
             "color": "#2a3f5f"
            },
            "marker": {
             "line": {
              "color": "#E5ECF6",
              "width": 0.5
             },
             "pattern": {
              "fillmode": "overlay",
              "size": 10,
              "solidity": 0.2
             }
            },
            "type": "bar"
           }
          ],
          "barpolar": [
           {
            "marker": {
             "line": {
              "color": "#E5ECF6",
              "width": 0.5
             },
             "pattern": {
              "fillmode": "overlay",
              "size": 10,
              "solidity": 0.2
             }
            },
            "type": "barpolar"
           }
          ],
          "carpet": [
           {
            "aaxis": {
             "endlinecolor": "#2a3f5f",
             "gridcolor": "white",
             "linecolor": "white",
             "minorgridcolor": "white",
             "startlinecolor": "#2a3f5f"
            },
            "baxis": {
             "endlinecolor": "#2a3f5f",
             "gridcolor": "white",
             "linecolor": "white",
             "minorgridcolor": "white",
             "startlinecolor": "#2a3f5f"
            },
            "type": "carpet"
           }
          ],
          "choropleth": [
           {
            "colorbar": {
             "outlinewidth": 0,
             "ticks": ""
            },
            "type": "choropleth"
           }
          ],
          "contour": [
           {
            "colorbar": {
             "outlinewidth": 0,
             "ticks": ""
            },
            "colorscale": [
             [
              0,
              "#0d0887"
             ],
             [
              0.1111111111111111,
              "#46039f"
             ],
             [
              0.2222222222222222,
              "#7201a8"
             ],
             [
              0.3333333333333333,
              "#9c179e"
             ],
             [
              0.4444444444444444,
              "#bd3786"
             ],
             [
              0.5555555555555556,
              "#d8576b"
             ],
             [
              0.6666666666666666,
              "#ed7953"
             ],
             [
              0.7777777777777778,
              "#fb9f3a"
             ],
             [
              0.8888888888888888,
              "#fdca26"
             ],
             [
              1,
              "#f0f921"
             ]
            ],
            "type": "contour"
           }
          ],
          "contourcarpet": [
           {
            "colorbar": {
             "outlinewidth": 0,
             "ticks": ""
            },
            "type": "contourcarpet"
           }
          ],
          "heatmap": [
           {
            "colorbar": {
             "outlinewidth": 0,
             "ticks": ""
            },
            "colorscale": [
             [
              0,
              "#0d0887"
             ],
             [
              0.1111111111111111,
              "#46039f"
             ],
             [
              0.2222222222222222,
              "#7201a8"
             ],
             [
              0.3333333333333333,
              "#9c179e"
             ],
             [
              0.4444444444444444,
              "#bd3786"
             ],
             [
              0.5555555555555556,
              "#d8576b"
             ],
             [
              0.6666666666666666,
              "#ed7953"
             ],
             [
              0.7777777777777778,
              "#fb9f3a"
             ],
             [
              0.8888888888888888,
              "#fdca26"
             ],
             [
              1,
              "#f0f921"
             ]
            ],
            "type": "heatmap"
           }
          ],
          "heatmapgl": [
           {
            "colorbar": {
             "outlinewidth": 0,
             "ticks": ""
            },
            "colorscale": [
             [
              0,
              "#0d0887"
             ],
             [
              0.1111111111111111,
              "#46039f"
             ],
             [
              0.2222222222222222,
              "#7201a8"
             ],
             [
              0.3333333333333333,
              "#9c179e"
             ],
             [
              0.4444444444444444,
              "#bd3786"
             ],
             [
              0.5555555555555556,
              "#d8576b"
             ],
             [
              0.6666666666666666,
              "#ed7953"
             ],
             [
              0.7777777777777778,
              "#fb9f3a"
             ],
             [
              0.8888888888888888,
              "#fdca26"
             ],
             [
              1,
              "#f0f921"
             ]
            ],
            "type": "heatmapgl"
           }
          ],
          "histogram": [
           {
            "marker": {
             "pattern": {
              "fillmode": "overlay",
              "size": 10,
              "solidity": 0.2
             }
            },
            "type": "histogram"
           }
          ],
          "histogram2d": [
           {
            "colorbar": {
             "outlinewidth": 0,
             "ticks": ""
            },
            "colorscale": [
             [
              0,
              "#0d0887"
             ],
             [
              0.1111111111111111,
              "#46039f"
             ],
             [
              0.2222222222222222,
              "#7201a8"
             ],
             [
              0.3333333333333333,
              "#9c179e"
             ],
             [
              0.4444444444444444,
              "#bd3786"
             ],
             [
              0.5555555555555556,
              "#d8576b"
             ],
             [
              0.6666666666666666,
              "#ed7953"
             ],
             [
              0.7777777777777778,
              "#fb9f3a"
             ],
             [
              0.8888888888888888,
              "#fdca26"
             ],
             [
              1,
              "#f0f921"
             ]
            ],
            "type": "histogram2d"
           }
          ],
          "histogram2dcontour": [
           {
            "colorbar": {
             "outlinewidth": 0,
             "ticks": ""
            },
            "colorscale": [
             [
              0,
              "#0d0887"
             ],
             [
              0.1111111111111111,
              "#46039f"
             ],
             [
              0.2222222222222222,
              "#7201a8"
             ],
             [
              0.3333333333333333,
              "#9c179e"
             ],
             [
              0.4444444444444444,
              "#bd3786"
             ],
             [
              0.5555555555555556,
              "#d8576b"
             ],
             [
              0.6666666666666666,
              "#ed7953"
             ],
             [
              0.7777777777777778,
              "#fb9f3a"
             ],
             [
              0.8888888888888888,
              "#fdca26"
             ],
             [
              1,
              "#f0f921"
             ]
            ],
            "type": "histogram2dcontour"
           }
          ],
          "mesh3d": [
           {
            "colorbar": {
             "outlinewidth": 0,
             "ticks": ""
            },
            "type": "mesh3d"
           }
          ],
          "parcoords": [
           {
            "line": {
             "colorbar": {
              "outlinewidth": 0,
              "ticks": ""
             }
            },
            "type": "parcoords"
           }
          ],
          "pie": [
           {
            "automargin": true,
            "type": "pie"
           }
          ],
          "scatter": [
           {
            "fillpattern": {
             "fillmode": "overlay",
             "size": 10,
             "solidity": 0.2
            },
            "type": "scatter"
           }
          ],
          "scatter3d": [
           {
            "line": {
             "colorbar": {
              "outlinewidth": 0,
              "ticks": ""
             }
            },
            "marker": {
             "colorbar": {
              "outlinewidth": 0,
              "ticks": ""
             }
            },
            "type": "scatter3d"
           }
          ],
          "scattercarpet": [
           {
            "marker": {
             "colorbar": {
              "outlinewidth": 0,
              "ticks": ""
             }
            },
            "type": "scattercarpet"
           }
          ],
          "scattergeo": [
           {
            "marker": {
             "colorbar": {
              "outlinewidth": 0,
              "ticks": ""
             }
            },
            "type": "scattergeo"
           }
          ],
          "scattergl": [
           {
            "marker": {
             "colorbar": {
              "outlinewidth": 0,
              "ticks": ""
             }
            },
            "type": "scattergl"
           }
          ],
          "scattermapbox": [
           {
            "marker": {
             "colorbar": {
              "outlinewidth": 0,
              "ticks": ""
             }
            },
            "type": "scattermapbox"
           }
          ],
          "scatterpolar": [
           {
            "marker": {
             "colorbar": {
              "outlinewidth": 0,
              "ticks": ""
             }
            },
            "type": "scatterpolar"
           }
          ],
          "scatterpolargl": [
           {
            "marker": {
             "colorbar": {
              "outlinewidth": 0,
              "ticks": ""
             }
            },
            "type": "scatterpolargl"
           }
          ],
          "scatterternary": [
           {
            "marker": {
             "colorbar": {
              "outlinewidth": 0,
              "ticks": ""
             }
            },
            "type": "scatterternary"
           }
          ],
          "surface": [
           {
            "colorbar": {
             "outlinewidth": 0,
             "ticks": ""
            },
            "colorscale": [
             [
              0,
              "#0d0887"
             ],
             [
              0.1111111111111111,
              "#46039f"
             ],
             [
              0.2222222222222222,
              "#7201a8"
             ],
             [
              0.3333333333333333,
              "#9c179e"
             ],
             [
              0.4444444444444444,
              "#bd3786"
             ],
             [
              0.5555555555555556,
              "#d8576b"
             ],
             [
              0.6666666666666666,
              "#ed7953"
             ],
             [
              0.7777777777777778,
              "#fb9f3a"
             ],
             [
              0.8888888888888888,
              "#fdca26"
             ],
             [
              1,
              "#f0f921"
             ]
            ],
            "type": "surface"
           }
          ],
          "table": [
           {
            "cells": {
             "fill": {
              "color": "#EBF0F8"
             },
             "line": {
              "color": "white"
             }
            },
            "header": {
             "fill": {
              "color": "#C8D4E3"
             },
             "line": {
              "color": "white"
             }
            },
            "type": "table"
           }
          ]
         },
         "layout": {
          "annotationdefaults": {
           "arrowcolor": "#2a3f5f",
           "arrowhead": 0,
           "arrowwidth": 1
          },
          "autotypenumbers": "strict",
          "coloraxis": {
           "colorbar": {
            "outlinewidth": 0,
            "ticks": ""
           }
          },
          "colorscale": {
           "diverging": [
            [
             0,
             "#8e0152"
            ],
            [
             0.1,
             "#c51b7d"
            ],
            [
             0.2,
             "#de77ae"
            ],
            [
             0.3,
             "#f1b6da"
            ],
            [
             0.4,
             "#fde0ef"
            ],
            [
             0.5,
             "#f7f7f7"
            ],
            [
             0.6,
             "#e6f5d0"
            ],
            [
             0.7,
             "#b8e186"
            ],
            [
             0.8,
             "#7fbc41"
            ],
            [
             0.9,
             "#4d9221"
            ],
            [
             1,
             "#276419"
            ]
           ],
           "sequential": [
            [
             0,
             "#0d0887"
            ],
            [
             0.1111111111111111,
             "#46039f"
            ],
            [
             0.2222222222222222,
             "#7201a8"
            ],
            [
             0.3333333333333333,
             "#9c179e"
            ],
            [
             0.4444444444444444,
             "#bd3786"
            ],
            [
             0.5555555555555556,
             "#d8576b"
            ],
            [
             0.6666666666666666,
             "#ed7953"
            ],
            [
             0.7777777777777778,
             "#fb9f3a"
            ],
            [
             0.8888888888888888,
             "#fdca26"
            ],
            [
             1,
             "#f0f921"
            ]
           ],
           "sequentialminus": [
            [
             0,
             "#0d0887"
            ],
            [
             0.1111111111111111,
             "#46039f"
            ],
            [
             0.2222222222222222,
             "#7201a8"
            ],
            [
             0.3333333333333333,
             "#9c179e"
            ],
            [
             0.4444444444444444,
             "#bd3786"
            ],
            [
             0.5555555555555556,
             "#d8576b"
            ],
            [
             0.6666666666666666,
             "#ed7953"
            ],
            [
             0.7777777777777778,
             "#fb9f3a"
            ],
            [
             0.8888888888888888,
             "#fdca26"
            ],
            [
             1,
             "#f0f921"
            ]
           ]
          },
          "colorway": [
           "#636efa",
           "#EF553B",
           "#00cc96",
           "#ab63fa",
           "#FFA15A",
           "#19d3f3",
           "#FF6692",
           "#B6E880",
           "#FF97FF",
           "#FECB52"
          ],
          "font": {
           "color": "#2a3f5f"
          },
          "geo": {
           "bgcolor": "white",
           "lakecolor": "white",
           "landcolor": "#E5ECF6",
           "showlakes": true,
           "showland": true,
           "subunitcolor": "white"
          },
          "hoverlabel": {
           "align": "left"
          },
          "hovermode": "closest",
          "mapbox": {
           "style": "light"
          },
          "paper_bgcolor": "white",
          "plot_bgcolor": "#E5ECF6",
          "polar": {
           "angularaxis": {
            "gridcolor": "white",
            "linecolor": "white",
            "ticks": ""
           },
           "bgcolor": "#E5ECF6",
           "radialaxis": {
            "gridcolor": "white",
            "linecolor": "white",
            "ticks": ""
           }
          },
          "scene": {
           "xaxis": {
            "backgroundcolor": "#E5ECF6",
            "gridcolor": "white",
            "gridwidth": 2,
            "linecolor": "white",
            "showbackground": true,
            "ticks": "",
            "zerolinecolor": "white"
           },
           "yaxis": {
            "backgroundcolor": "#E5ECF6",
            "gridcolor": "white",
            "gridwidth": 2,
            "linecolor": "white",
            "showbackground": true,
            "ticks": "",
            "zerolinecolor": "white"
           },
           "zaxis": {
            "backgroundcolor": "#E5ECF6",
            "gridcolor": "white",
            "gridwidth": 2,
            "linecolor": "white",
            "showbackground": true,
            "ticks": "",
            "zerolinecolor": "white"
           }
          },
          "shapedefaults": {
           "line": {
            "color": "#2a3f5f"
           }
          },
          "ternary": {
           "aaxis": {
            "gridcolor": "white",
            "linecolor": "white",
            "ticks": ""
           },
           "baxis": {
            "gridcolor": "white",
            "linecolor": "white",
            "ticks": ""
           },
           "bgcolor": "#E5ECF6",
           "caxis": {
            "gridcolor": "white",
            "linecolor": "white",
            "ticks": ""
           }
          },
          "title": {
           "x": 0.05
          },
          "xaxis": {
           "automargin": true,
           "gridcolor": "white",
           "linecolor": "white",
           "ticks": "",
           "title": {
            "standoff": 15
           },
           "zerolinecolor": "white",
           "zerolinewidth": 2
          },
          "yaxis": {
           "automargin": true,
           "gridcolor": "white",
           "linecolor": "white",
           "ticks": "",
           "title": {
            "standoff": 15
           },
           "zerolinecolor": "white",
           "zerolinewidth": 2
          }
         }
        },
        "xaxis": {
         "autorange": true,
         "range": [
          -1,
          1
         ],
         "title": {
          "text": "Polarity"
         }
        },
        "yaxis": {
         "autorange": true,
         "title": {
          "text": "Words"
         }
        }
       }
      },
      "text/html": [
       "<div>                            <div id=\"3d0d8029-c501-43b6-a8aa-b010b578c032\" class=\"plotly-graph-div\" style=\"height:525px; width:100%;\"></div>            <script type=\"text/javascript\">                require([\"plotly\"], function(Plotly) {                    window.PLOTLYENV=window.PLOTLYENV || {};                                    if (document.getElementById(\"3d0d8029-c501-43b6-a8aa-b010b578c032\")) {                    Plotly.newPlot(                        \"3d0d8029-c501-43b6-a8aa-b010b578c032\",                        [{\"marker\":{\"color\":\"rgb(0, 255, 0)\",\"size\":10,\"symbol\":\"square\"},\"mode\":\"markers\",\"name\":\"sun\",\"showlegend\":true,\"x\":[0.33801084756851196],\"y\":[0.01],\"type\":\"scatter\"},{\"marker\":{\"color\":\"rgb(255, 0, 0)\",\"size\":10,\"symbol\":\"square\"},\"mode\":\"markers\",\"name\":\"fire\",\"showlegend\":true,\"x\":[0.3066955804824829],\"y\":[0.01],\"type\":\"scatter\"},{\"marker\":{\"color\":\"rgb(0, 255, 0)\",\"size\":10,\"symbol\":\"square\"},\"mode\":\"markers\",\"name\":\"sun\",\"showlegend\":false,\"x\":[-0.09588365256786346],\"y\":[0.115],\"type\":\"scatter\"},{\"marker\":{\"color\":\"rgb(255, 0, 0)\",\"size\":10,\"symbol\":\"square\"},\"mode\":\"markers\",\"name\":\"fire\",\"showlegend\":false,\"x\":[-0.08927027136087418],\"y\":[0.115],\"type\":\"scatter\"},{\"marker\":{\"color\":\"rgb(0, 255, 0)\",\"size\":10,\"symbol\":\"square\"},\"mode\":\"markers\",\"name\":\"sun\",\"showlegend\":false,\"x\":[-0.060893766582012177],\"y\":[0.22000000000000003],\"type\":\"scatter\"},{\"marker\":{\"color\":\"rgb(255, 0, 0)\",\"size\":10,\"symbol\":\"square\"},\"mode\":\"markers\",\"name\":\"fire\",\"showlegend\":false,\"x\":[0.0321553498506546],\"y\":[0.22000000000000003],\"type\":\"scatter\"},{\"marker\":{\"color\":\"rgb(0, 255, 0)\",\"size\":10,\"symbol\":\"square\"},\"mode\":\"markers\",\"name\":\"sun\",\"showlegend\":false,\"x\":[-0.05787704512476921],\"y\":[0.32500000000000007],\"type\":\"scatter\"},{\"marker\":{\"color\":\"rgb(255, 0, 0)\",\"size\":10,\"symbol\":\"square\"},\"mode\":\"markers\",\"name\":\"fire\",\"showlegend\":false,\"x\":[-0.08153009414672852],\"y\":[0.32500000000000007],\"type\":\"scatter\"}],                        {\"template\":{\"data\":{\"histogram2dcontour\":[{\"type\":\"histogram2dcontour\",\"colorbar\":{\"outlinewidth\":0,\"ticks\":\"\"},\"colorscale\":[[0.0,\"#0d0887\"],[0.1111111111111111,\"#46039f\"],[0.2222222222222222,\"#7201a8\"],[0.3333333333333333,\"#9c179e\"],[0.4444444444444444,\"#bd3786\"],[0.5555555555555556,\"#d8576b\"],[0.6666666666666666,\"#ed7953\"],[0.7777777777777778,\"#fb9f3a\"],[0.8888888888888888,\"#fdca26\"],[1.0,\"#f0f921\"]]}],\"choropleth\":[{\"type\":\"choropleth\",\"colorbar\":{\"outlinewidth\":0,\"ticks\":\"\"}}],\"histogram2d\":[{\"type\":\"histogram2d\",\"colorbar\":{\"outlinewidth\":0,\"ticks\":\"\"},\"colorscale\":[[0.0,\"#0d0887\"],[0.1111111111111111,\"#46039f\"],[0.2222222222222222,\"#7201a8\"],[0.3333333333333333,\"#9c179e\"],[0.4444444444444444,\"#bd3786\"],[0.5555555555555556,\"#d8576b\"],[0.6666666666666666,\"#ed7953\"],[0.7777777777777778,\"#fb9f3a\"],[0.8888888888888888,\"#fdca26\"],[1.0,\"#f0f921\"]]}],\"heatmap\":[{\"type\":\"heatmap\",\"colorbar\":{\"outlinewidth\":0,\"ticks\":\"\"},\"colorscale\":[[0.0,\"#0d0887\"],[0.1111111111111111,\"#46039f\"],[0.2222222222222222,\"#7201a8\"],[0.3333333333333333,\"#9c179e\"],[0.4444444444444444,\"#bd3786\"],[0.5555555555555556,\"#d8576b\"],[0.6666666666666666,\"#ed7953\"],[0.7777777777777778,\"#fb9f3a\"],[0.8888888888888888,\"#fdca26\"],[1.0,\"#f0f921\"]]}],\"heatmapgl\":[{\"type\":\"heatmapgl\",\"colorbar\":{\"outlinewidth\":0,\"ticks\":\"\"},\"colorscale\":[[0.0,\"#0d0887\"],[0.1111111111111111,\"#46039f\"],[0.2222222222222222,\"#7201a8\"],[0.3333333333333333,\"#9c179e\"],[0.4444444444444444,\"#bd3786\"],[0.5555555555555556,\"#d8576b\"],[0.6666666666666666,\"#ed7953\"],[0.7777777777777778,\"#fb9f3a\"],[0.8888888888888888,\"#fdca26\"],[1.0,\"#f0f921\"]]}],\"contourcarpet\":[{\"type\":\"contourcarpet\",\"colorbar\":{\"outlinewidth\":0,\"ticks\":\"\"}}],\"contour\":[{\"type\":\"contour\",\"colorbar\":{\"outlinewidth\":0,\"ticks\":\"\"},\"colorscale\":[[0.0,\"#0d0887\"],[0.1111111111111111,\"#46039f\"],[0.2222222222222222,\"#7201a8\"],[0.3333333333333333,\"#9c179e\"],[0.4444444444444444,\"#bd3786\"],[0.5555555555555556,\"#d8576b\"],[0.6666666666666666,\"#ed7953\"],[0.7777777777777778,\"#fb9f3a\"],[0.8888888888888888,\"#fdca26\"],[1.0,\"#f0f921\"]]}],\"surface\":[{\"type\":\"surface\",\"colorbar\":{\"outlinewidth\":0,\"ticks\":\"\"},\"colorscale\":[[0.0,\"#0d0887\"],[0.1111111111111111,\"#46039f\"],[0.2222222222222222,\"#7201a8\"],[0.3333333333333333,\"#9c179e\"],[0.4444444444444444,\"#bd3786\"],[0.5555555555555556,\"#d8576b\"],[0.6666666666666666,\"#ed7953\"],[0.7777777777777778,\"#fb9f3a\"],[0.8888888888888888,\"#fdca26\"],[1.0,\"#f0f921\"]]}],\"mesh3d\":[{\"type\":\"mesh3d\",\"colorbar\":{\"outlinewidth\":0,\"ticks\":\"\"}}],\"scatter\":[{\"fillpattern\":{\"fillmode\":\"overlay\",\"size\":10,\"solidity\":0.2},\"type\":\"scatter\"}],\"parcoords\":[{\"type\":\"parcoords\",\"line\":{\"colorbar\":{\"outlinewidth\":0,\"ticks\":\"\"}}}],\"scatterpolargl\":[{\"type\":\"scatterpolargl\",\"marker\":{\"colorbar\":{\"outlinewidth\":0,\"ticks\":\"\"}}}],\"bar\":[{\"error_x\":{\"color\":\"#2a3f5f\"},\"error_y\":{\"color\":\"#2a3f5f\"},\"marker\":{\"line\":{\"color\":\"#E5ECF6\",\"width\":0.5},\"pattern\":{\"fillmode\":\"overlay\",\"size\":10,\"solidity\":0.2}},\"type\":\"bar\"}],\"scattergeo\":[{\"type\":\"scattergeo\",\"marker\":{\"colorbar\":{\"outlinewidth\":0,\"ticks\":\"\"}}}],\"scatterpolar\":[{\"type\":\"scatterpolar\",\"marker\":{\"colorbar\":{\"outlinewidth\":0,\"ticks\":\"\"}}}],\"histogram\":[{\"marker\":{\"pattern\":{\"fillmode\":\"overlay\",\"size\":10,\"solidity\":0.2}},\"type\":\"histogram\"}],\"scattergl\":[{\"type\":\"scattergl\",\"marker\":{\"colorbar\":{\"outlinewidth\":0,\"ticks\":\"\"}}}],\"scatter3d\":[{\"type\":\"scatter3d\",\"line\":{\"colorbar\":{\"outlinewidth\":0,\"ticks\":\"\"}},\"marker\":{\"colorbar\":{\"outlinewidth\":0,\"ticks\":\"\"}}}],\"scattermapbox\":[{\"type\":\"scattermapbox\",\"marker\":{\"colorbar\":{\"outlinewidth\":0,\"ticks\":\"\"}}}],\"scatterternary\":[{\"type\":\"scatterternary\",\"marker\":{\"colorbar\":{\"outlinewidth\":0,\"ticks\":\"\"}}}],\"scattercarpet\":[{\"type\":\"scattercarpet\",\"marker\":{\"colorbar\":{\"outlinewidth\":0,\"ticks\":\"\"}}}],\"carpet\":[{\"aaxis\":{\"endlinecolor\":\"#2a3f5f\",\"gridcolor\":\"white\",\"linecolor\":\"white\",\"minorgridcolor\":\"white\",\"startlinecolor\":\"#2a3f5f\"},\"baxis\":{\"endlinecolor\":\"#2a3f5f\",\"gridcolor\":\"white\",\"linecolor\":\"white\",\"minorgridcolor\":\"white\",\"startlinecolor\":\"#2a3f5f\"},\"type\":\"carpet\"}],\"table\":[{\"cells\":{\"fill\":{\"color\":\"#EBF0F8\"},\"line\":{\"color\":\"white\"}},\"header\":{\"fill\":{\"color\":\"#C8D4E3\"},\"line\":{\"color\":\"white\"}},\"type\":\"table\"}],\"barpolar\":[{\"marker\":{\"line\":{\"color\":\"#E5ECF6\",\"width\":0.5},\"pattern\":{\"fillmode\":\"overlay\",\"size\":10,\"solidity\":0.2}},\"type\":\"barpolar\"}],\"pie\":[{\"automargin\":true,\"type\":\"pie\"}]},\"layout\":{\"autotypenumbers\":\"strict\",\"colorway\":[\"#636efa\",\"#EF553B\",\"#00cc96\",\"#ab63fa\",\"#FFA15A\",\"#19d3f3\",\"#FF6692\",\"#B6E880\",\"#FF97FF\",\"#FECB52\"],\"font\":{\"color\":\"#2a3f5f\"},\"hovermode\":\"closest\",\"hoverlabel\":{\"align\":\"left\"},\"paper_bgcolor\":\"white\",\"plot_bgcolor\":\"#E5ECF6\",\"polar\":{\"bgcolor\":\"#E5ECF6\",\"angularaxis\":{\"gridcolor\":\"white\",\"linecolor\":\"white\",\"ticks\":\"\"},\"radialaxis\":{\"gridcolor\":\"white\",\"linecolor\":\"white\",\"ticks\":\"\"}},\"ternary\":{\"bgcolor\":\"#E5ECF6\",\"aaxis\":{\"gridcolor\":\"white\",\"linecolor\":\"white\",\"ticks\":\"\"},\"baxis\":{\"gridcolor\":\"white\",\"linecolor\":\"white\",\"ticks\":\"\"},\"caxis\":{\"gridcolor\":\"white\",\"linecolor\":\"white\",\"ticks\":\"\"}},\"coloraxis\":{\"colorbar\":{\"outlinewidth\":0,\"ticks\":\"\"}},\"colorscale\":{\"sequential\":[[0.0,\"#0d0887\"],[0.1111111111111111,\"#46039f\"],[0.2222222222222222,\"#7201a8\"],[0.3333333333333333,\"#9c179e\"],[0.4444444444444444,\"#bd3786\"],[0.5555555555555556,\"#d8576b\"],[0.6666666666666666,\"#ed7953\"],[0.7777777777777778,\"#fb9f3a\"],[0.8888888888888888,\"#fdca26\"],[1.0,\"#f0f921\"]],\"sequentialminus\":[[0.0,\"#0d0887\"],[0.1111111111111111,\"#46039f\"],[0.2222222222222222,\"#7201a8\"],[0.3333333333333333,\"#9c179e\"],[0.4444444444444444,\"#bd3786\"],[0.5555555555555556,\"#d8576b\"],[0.6666666666666666,\"#ed7953\"],[0.7777777777777778,\"#fb9f3a\"],[0.8888888888888888,\"#fdca26\"],[1.0,\"#f0f921\"]],\"diverging\":[[0,\"#8e0152\"],[0.1,\"#c51b7d\"],[0.2,\"#de77ae\"],[0.3,\"#f1b6da\"],[0.4,\"#fde0ef\"],[0.5,\"#f7f7f7\"],[0.6,\"#e6f5d0\"],[0.7,\"#b8e186\"],[0.8,\"#7fbc41\"],[0.9,\"#4d9221\"],[1,\"#276419\"]]},\"xaxis\":{\"gridcolor\":\"white\",\"linecolor\":\"white\",\"ticks\":\"\",\"title\":{\"standoff\":15},\"zerolinecolor\":\"white\",\"automargin\":true,\"zerolinewidth\":2},\"yaxis\":{\"gridcolor\":\"white\",\"linecolor\":\"white\",\"ticks\":\"\",\"title\":{\"standoff\":15},\"zerolinecolor\":\"white\",\"automargin\":true,\"zerolinewidth\":2},\"scene\":{\"xaxis\":{\"backgroundcolor\":\"#E5ECF6\",\"gridcolor\":\"white\",\"linecolor\":\"white\",\"showbackground\":true,\"ticks\":\"\",\"zerolinecolor\":\"white\",\"gridwidth\":2},\"yaxis\":{\"backgroundcolor\":\"#E5ECF6\",\"gridcolor\":\"white\",\"linecolor\":\"white\",\"showbackground\":true,\"ticks\":\"\",\"zerolinecolor\":\"white\",\"gridwidth\":2},\"zaxis\":{\"backgroundcolor\":\"#E5ECF6\",\"gridcolor\":\"white\",\"linecolor\":\"white\",\"showbackground\":true,\"ticks\":\"\",\"zerolinecolor\":\"white\",\"gridwidth\":2}},\"shapedefaults\":{\"line\":{\"color\":\"#2a3f5f\"}},\"annotationdefaults\":{\"arrowcolor\":\"#2a3f5f\",\"arrowhead\":0,\"arrowwidth\":1},\"geo\":{\"bgcolor\":\"white\",\"landcolor\":\"#E5ECF6\",\"subunitcolor\":\"white\",\"showland\":true,\"showlakes\":true,\"lakecolor\":\"white\"},\"title\":{\"x\":0.05},\"mapbox\":{\"style\":\"light\"}}},\"shapes\":[{\"line\":{\"color\":\"black\",\"width\":1},\"type\":\"line\",\"x0\":-1,\"x1\":1,\"y0\":0,\"y1\":0},{\"line\":{\"color\":\"black\",\"width\":1},\"type\":\"line\",\"x0\":-1,\"x1\":-1,\"y0\":0,\"y1\":0.4},{\"line\":{\"color\":\"black\",\"width\":1},\"type\":\"line\",\"x0\":1,\"x1\":1,\"y0\":0,\"y1\":0.4},{\"line\":{\"color\":\"black\",\"dash\":\"dash\",\"width\":1},\"type\":\"line\",\"x0\":0,\"x1\":0,\"y0\":0,\"y1\":0.4},{\"line\":{\"color\":\"rgb(0, 255, 0)\",\"width\":1},\"type\":\"line\",\"x0\":0.33801084756851196,\"x1\":0,\"y0\":0.01,\"y1\":0.01},{\"line\":{\"color\":\"rgb(255, 0, 0)\",\"width\":1},\"type\":\"line\",\"x0\":0.3066955804824829,\"x1\":0,\"y0\":0.01,\"y1\":0.01},{\"line\":{\"color\":\"rgb(0, 255, 0)\",\"width\":1},\"type\":\"line\",\"x0\":-0.09588365256786346,\"x1\":0,\"y0\":0.115,\"y1\":0.115},{\"line\":{\"color\":\"rgb(255, 0, 0)\",\"width\":1},\"type\":\"line\",\"x0\":-0.08927027136087418,\"x1\":0,\"y0\":0.115,\"y1\":0.115},{\"line\":{\"color\":\"rgb(0, 255, 0)\",\"width\":1},\"type\":\"line\",\"x0\":-0.060893766582012177,\"x1\":0,\"y0\":0.22000000000000003,\"y1\":0.22000000000000003},{\"line\":{\"color\":\"rgb(255, 0, 0)\",\"width\":1},\"type\":\"line\",\"x0\":0.0321553498506546,\"x1\":0,\"y0\":0.22000000000000003,\"y1\":0.22000000000000003},{\"line\":{\"color\":\"rgb(0, 255, 0)\",\"width\":1},\"type\":\"line\",\"x0\":-0.05787704512476921,\"x1\":0,\"y0\":0.32500000000000007,\"y1\":0.32500000000000007},{\"line\":{\"color\":\"rgb(255, 0, 0)\",\"width\":1},\"type\":\"line\",\"x0\":-0.08153009414672852,\"x1\":0,\"y0\":0.32500000000000007,\"y1\":0.32500000000000007}],\"annotations\":[{\"font\":{\"size\":18},\"showarrow\":false,\"text\":\"cold\",\"x\":-1.1,\"xanchor\":\"right\",\"y\":0.01},{\"font\":{\"size\":18},\"showarrow\":false,\"text\":\"hot\",\"x\":1.1,\"xanchor\":\"left\",\"y\":0.01},{\"font\":{\"size\":18},\"showarrow\":false,\"text\":\"intelligent\",\"x\":-1.1,\"xanchor\":\"right\",\"y\":0.115},{\"font\":{\"size\":18},\"showarrow\":false,\"text\":\"unintelligent\",\"x\":1.1,\"xanchor\":\"left\",\"y\":0.115},{\"font\":{\"size\":18},\"showarrow\":false,\"text\":\"capable\",\"x\":-1.1,\"xanchor\":\"right\",\"y\":0.22000000000000003},{\"font\":{\"size\":18},\"showarrow\":false,\"text\":\"incapable\",\"x\":1.1,\"xanchor\":\"left\",\"y\":0.22000000000000003},{\"font\":{\"size\":18},\"showarrow\":false,\"text\":\"bad\",\"x\":-1.1,\"xanchor\":\"right\",\"y\":0.32500000000000007},{\"font\":{\"size\":18},\"showarrow\":false,\"text\":\"good\",\"x\":1.1,\"xanchor\":\"left\",\"y\":0.32500000000000007}],\"xaxis\":{\"title\":{\"text\":\"Polarity\"},\"range\":[-1,1],\"autorange\":true},\"yaxis\":{\"title\":{\"text\":\"Words\"},\"autorange\":true}},                        {\"responsive\": true}                    ).then(function(){\n",
       "                            \n",
       "var gd = document.getElementById('3d0d8029-c501-43b6-a8aa-b010b578c032');\n",
       "var x = new MutationObserver(function (mutations, observer) {{\n",
       "        var display = window.getComputedStyle(gd).display;\n",
       "        if (!display || display === 'none') {{\n",
       "            console.log([gd, 'removed!']);\n",
       "            Plotly.purge(gd);\n",
       "            observer.disconnect();\n",
       "        }}\n",
       "}});\n",
       "\n",
       "// Listen for the removal of the full notebook cells\n",
       "var notebookContainer = gd.closest('#notebook-container');\n",
       "if (notebookContainer) {{\n",
       "    x.observe(notebookContainer, {childList: true});\n",
       "}}\n",
       "\n",
       "// Listen for the clearing of the current output cell\n",
       "var outputEl = gd.closest('.output');\n",
       "if (outputEl) {{\n",
       "    x.observe(outputEl, {childList: true});\n",
       "}}\n",
       "\n",
       "                        })                };                });            </script>        </div>"
      ]
     },
     "metadata": {},
     "output_type": "display_data"
    }
   ],
   "source": [
    "word1 = \"fire\"\n",
    "context1 = \"the fire is burning\"\n",
    "wp = WordPolarity(model, antonym_path=antonym_path, method='base-change', number_polar=4)\n",
    "polarity_base_change1 = wp.analyze_word(word1, context1)\n",
    "\n",
    "word = \"sun\"\n",
    "context = \"the sun is shining today and it is a beautiful hot day\"\n",
    "polarity_base_change = wp.analyze_word(word, context)\n",
    "\n",
    "plot_word_polarity([word, word1],  [polarity_base_change, polarity_base_change1])"
   ]
  },
  {
   "cell_type": "code",
   "execution_count": 29,
   "metadata": {},
   "outputs": [],
   "source": [
    "from collections import defaultdict\n",
    "import plotly.graph_objects as go\n",
    "\n",
    "def plot_word_polarity_2d(words, polar_dimension):\n",
    "    # create dictionary with antonyms as key and (word,polar) as value\n",
    "    antonym_dict = defaultdict(list)\n",
    "    for w_i in range(len(words)):\n",
    "        for antonym1, antonym2, value in polar_dimension[w_i]:\n",
    "            antonym_dict[(antonym1, antonym2)].append((words[w_i], value))\n",
    "    \n",
    "    #create dictionary with word as key and (polar1,polar2) as value\n",
    "    word_dict = defaultdict(list)\n",
    "    for w_i in range(len(words)):\n",
    "        for antonym1, antonym2, value in polar_dimension[w_i]:\n",
    "            word_dict[words[w_i]].append(value)\n",
    "    \n",
    "    fig = go.Figure()\n",
    "\n",
    "    antonyms = list(antonym_dict.keys())\n",
    "    # Set axis titles\n",
    "    fig.update_layout(\n",
    "        xaxis_range=(-1, 1),\n",
    "        yaxis_range=(-1, 1)\n",
    "    )\n",
    "\n",
    "    # Add lines for each antonym pair\n",
    "    fig.add_shape(type=\"line\", x0=-1, y0=0, x1=1, y1=0, line=dict(color='black', width=1))\n",
    "    fig.add_shape(type=\"line\", x0=0, y0=-1, x1=0, y1=1, line=dict(color='black', width=1))\n",
    "\n",
    "    # Define color scale for the words\n",
    "    colors = ['red', 'blue', 'green', 'orange', 'purple', 'brown', 'pink', 'gray', 'olive', 'cyan']\n",
    "\n",
    "    # Add markers for each word's polar value\n",
    "    for word in word_dict:\n",
    "        x, y = word_dict[word][:2]\n",
    "        fig.add_trace(go.Scatter(x=[x], y=[y], mode='markers', marker=dict(color=colors.pop(), size=10), name=word))\n",
    "        \n",
    "    # Add antonyms as labels on the edges of the plot\n",
    "    fig.add_annotation(x=-1, y=0, text=antonyms[0][0], showarrow=False, xshift=-15)\n",
    "    fig.add_annotation(x=1, y=0, text=antonyms[0][1], showarrow=False, xshift=15)\n",
    "    fig.add_annotation(x=0, y=-1, text=antonyms[1][0], showarrow=False, yshift=-15)\n",
    "    fig.add_annotation(x=0, y=1, text=antonyms[1][1], showarrow=False, yshift=15)\n",
    "\n",
    "    fig.show()\n"
   ]
  },
  {
   "cell_type": "code",
   "execution_count": 28,
   "metadata": {},
   "outputs": [
    {
     "name": "stdout",
     "output_type": "stream",
     "text": [
      "Loading antonyms from ./antonyms/lookup_anto_example_dict.pkl\n",
      "Top: 1\n",
      "Dimension: bad <------> good\n",
      "Definitions:  having undesirable or negative qualities<------>having desirable or positive qualities especially those suitable for a thing specified\n",
      "Value: -0.14473194\n",
      "\n",
      "\n",
      "Top: 2\n",
      "Dimension: intelligent <------> unintelligent\n",
      "Definitions:  having the capacity for thought and reason especially to a high degree<------>lacking intelligence\n",
      "Value: -0.11401199\n",
      "\n",
      "\n",
      "Top: 1\n",
      "Dimension: bad <------> good\n",
      "Definitions:  having undesirable or negative qualities<------>having desirable or positive qualities especially those suitable for a thing specified\n",
      "Value: -0.21808979\n",
      "\n",
      "\n",
      "Top: 2\n",
      "Dimension: intelligent <------> unintelligent\n",
      "Definitions:  having the capacity for thought and reason especially to a high degree<------>lacking intelligence\n",
      "Value: -0.1021716\n",
      "\n",
      "\n"
     ]
    },
    {
     "data": {
      "application/vnd.plotly.v1+json": {
       "config": {
        "plotlyServerURL": "https://plot.ly"
       },
       "data": [
        {
         "marker": {
          "color": "cyan",
          "size": 10
         },
         "mode": "markers",
         "name": "earth",
         "type": "scatter",
         "x": [
          -0.14473193883895874
         ],
         "y": [
          -0.1140119880437851
         ]
        },
        {
         "marker": {
          "color": "olive",
          "size": 10
         },
         "mode": "markers",
         "name": "air",
         "type": "scatter",
         "x": [
          -0.21808978915214539
         ],
         "y": [
          -0.10217159986495972
         ]
        }
       ],
       "layout": {
        "annotations": [
         {
          "showarrow": false,
          "text": "bad",
          "x": -1,
          "xshift": -15,
          "y": 0
         },
         {
          "showarrow": false,
          "text": "good",
          "x": 1,
          "xshift": 15,
          "y": 0
         },
         {
          "showarrow": false,
          "text": "intelligent",
          "x": 0,
          "y": -1,
          "yshift": -15
         },
         {
          "showarrow": false,
          "text": "unintelligent",
          "x": 0,
          "y": 1,
          "yshift": 15
         }
        ],
        "shapes": [
         {
          "line": {
           "color": "black",
           "width": 1
          },
          "type": "line",
          "x0": -1,
          "x1": 1,
          "y0": 0,
          "y1": 0
         },
         {
          "line": {
           "color": "black",
           "width": 1
          },
          "type": "line",
          "x0": 0,
          "x1": 0,
          "y0": -1,
          "y1": 1
         }
        ],
        "template": {
         "data": {
          "bar": [
           {
            "error_x": {
             "color": "#2a3f5f"
            },
            "error_y": {
             "color": "#2a3f5f"
            },
            "marker": {
             "line": {
              "color": "#E5ECF6",
              "width": 0.5
             },
             "pattern": {
              "fillmode": "overlay",
              "size": 10,
              "solidity": 0.2
             }
            },
            "type": "bar"
           }
          ],
          "barpolar": [
           {
            "marker": {
             "line": {
              "color": "#E5ECF6",
              "width": 0.5
             },
             "pattern": {
              "fillmode": "overlay",
              "size": 10,
              "solidity": 0.2
             }
            },
            "type": "barpolar"
           }
          ],
          "carpet": [
           {
            "aaxis": {
             "endlinecolor": "#2a3f5f",
             "gridcolor": "white",
             "linecolor": "white",
             "minorgridcolor": "white",
             "startlinecolor": "#2a3f5f"
            },
            "baxis": {
             "endlinecolor": "#2a3f5f",
             "gridcolor": "white",
             "linecolor": "white",
             "minorgridcolor": "white",
             "startlinecolor": "#2a3f5f"
            },
            "type": "carpet"
           }
          ],
          "choropleth": [
           {
            "colorbar": {
             "outlinewidth": 0,
             "ticks": ""
            },
            "type": "choropleth"
           }
          ],
          "contour": [
           {
            "colorbar": {
             "outlinewidth": 0,
             "ticks": ""
            },
            "colorscale": [
             [
              0,
              "#0d0887"
             ],
             [
              0.1111111111111111,
              "#46039f"
             ],
             [
              0.2222222222222222,
              "#7201a8"
             ],
             [
              0.3333333333333333,
              "#9c179e"
             ],
             [
              0.4444444444444444,
              "#bd3786"
             ],
             [
              0.5555555555555556,
              "#d8576b"
             ],
             [
              0.6666666666666666,
              "#ed7953"
             ],
             [
              0.7777777777777778,
              "#fb9f3a"
             ],
             [
              0.8888888888888888,
              "#fdca26"
             ],
             [
              1,
              "#f0f921"
             ]
            ],
            "type": "contour"
           }
          ],
          "contourcarpet": [
           {
            "colorbar": {
             "outlinewidth": 0,
             "ticks": ""
            },
            "type": "contourcarpet"
           }
          ],
          "heatmap": [
           {
            "colorbar": {
             "outlinewidth": 0,
             "ticks": ""
            },
            "colorscale": [
             [
              0,
              "#0d0887"
             ],
             [
              0.1111111111111111,
              "#46039f"
             ],
             [
              0.2222222222222222,
              "#7201a8"
             ],
             [
              0.3333333333333333,
              "#9c179e"
             ],
             [
              0.4444444444444444,
              "#bd3786"
             ],
             [
              0.5555555555555556,
              "#d8576b"
             ],
             [
              0.6666666666666666,
              "#ed7953"
             ],
             [
              0.7777777777777778,
              "#fb9f3a"
             ],
             [
              0.8888888888888888,
              "#fdca26"
             ],
             [
              1,
              "#f0f921"
             ]
            ],
            "type": "heatmap"
           }
          ],
          "heatmapgl": [
           {
            "colorbar": {
             "outlinewidth": 0,
             "ticks": ""
            },
            "colorscale": [
             [
              0,
              "#0d0887"
             ],
             [
              0.1111111111111111,
              "#46039f"
             ],
             [
              0.2222222222222222,
              "#7201a8"
             ],
             [
              0.3333333333333333,
              "#9c179e"
             ],
             [
              0.4444444444444444,
              "#bd3786"
             ],
             [
              0.5555555555555556,
              "#d8576b"
             ],
             [
              0.6666666666666666,
              "#ed7953"
             ],
             [
              0.7777777777777778,
              "#fb9f3a"
             ],
             [
              0.8888888888888888,
              "#fdca26"
             ],
             [
              1,
              "#f0f921"
             ]
            ],
            "type": "heatmapgl"
           }
          ],
          "histogram": [
           {
            "marker": {
             "pattern": {
              "fillmode": "overlay",
              "size": 10,
              "solidity": 0.2
             }
            },
            "type": "histogram"
           }
          ],
          "histogram2d": [
           {
            "colorbar": {
             "outlinewidth": 0,
             "ticks": ""
            },
            "colorscale": [
             [
              0,
              "#0d0887"
             ],
             [
              0.1111111111111111,
              "#46039f"
             ],
             [
              0.2222222222222222,
              "#7201a8"
             ],
             [
              0.3333333333333333,
              "#9c179e"
             ],
             [
              0.4444444444444444,
              "#bd3786"
             ],
             [
              0.5555555555555556,
              "#d8576b"
             ],
             [
              0.6666666666666666,
              "#ed7953"
             ],
             [
              0.7777777777777778,
              "#fb9f3a"
             ],
             [
              0.8888888888888888,
              "#fdca26"
             ],
             [
              1,
              "#f0f921"
             ]
            ],
            "type": "histogram2d"
           }
          ],
          "histogram2dcontour": [
           {
            "colorbar": {
             "outlinewidth": 0,
             "ticks": ""
            },
            "colorscale": [
             [
              0,
              "#0d0887"
             ],
             [
              0.1111111111111111,
              "#46039f"
             ],
             [
              0.2222222222222222,
              "#7201a8"
             ],
             [
              0.3333333333333333,
              "#9c179e"
             ],
             [
              0.4444444444444444,
              "#bd3786"
             ],
             [
              0.5555555555555556,
              "#d8576b"
             ],
             [
              0.6666666666666666,
              "#ed7953"
             ],
             [
              0.7777777777777778,
              "#fb9f3a"
             ],
             [
              0.8888888888888888,
              "#fdca26"
             ],
             [
              1,
              "#f0f921"
             ]
            ],
            "type": "histogram2dcontour"
           }
          ],
          "mesh3d": [
           {
            "colorbar": {
             "outlinewidth": 0,
             "ticks": ""
            },
            "type": "mesh3d"
           }
          ],
          "parcoords": [
           {
            "line": {
             "colorbar": {
              "outlinewidth": 0,
              "ticks": ""
             }
            },
            "type": "parcoords"
           }
          ],
          "pie": [
           {
            "automargin": true,
            "type": "pie"
           }
          ],
          "scatter": [
           {
            "fillpattern": {
             "fillmode": "overlay",
             "size": 10,
             "solidity": 0.2
            },
            "type": "scatter"
           }
          ],
          "scatter3d": [
           {
            "line": {
             "colorbar": {
              "outlinewidth": 0,
              "ticks": ""
             }
            },
            "marker": {
             "colorbar": {
              "outlinewidth": 0,
              "ticks": ""
             }
            },
            "type": "scatter3d"
           }
          ],
          "scattercarpet": [
           {
            "marker": {
             "colorbar": {
              "outlinewidth": 0,
              "ticks": ""
             }
            },
            "type": "scattercarpet"
           }
          ],
          "scattergeo": [
           {
            "marker": {
             "colorbar": {
              "outlinewidth": 0,
              "ticks": ""
             }
            },
            "type": "scattergeo"
           }
          ],
          "scattergl": [
           {
            "marker": {
             "colorbar": {
              "outlinewidth": 0,
              "ticks": ""
             }
            },
            "type": "scattergl"
           }
          ],
          "scattermapbox": [
           {
            "marker": {
             "colorbar": {
              "outlinewidth": 0,
              "ticks": ""
             }
            },
            "type": "scattermapbox"
           }
          ],
          "scatterpolar": [
           {
            "marker": {
             "colorbar": {
              "outlinewidth": 0,
              "ticks": ""
             }
            },
            "type": "scatterpolar"
           }
          ],
          "scatterpolargl": [
           {
            "marker": {
             "colorbar": {
              "outlinewidth": 0,
              "ticks": ""
             }
            },
            "type": "scatterpolargl"
           }
          ],
          "scatterternary": [
           {
            "marker": {
             "colorbar": {
              "outlinewidth": 0,
              "ticks": ""
             }
            },
            "type": "scatterternary"
           }
          ],
          "surface": [
           {
            "colorbar": {
             "outlinewidth": 0,
             "ticks": ""
            },
            "colorscale": [
             [
              0,
              "#0d0887"
             ],
             [
              0.1111111111111111,
              "#46039f"
             ],
             [
              0.2222222222222222,
              "#7201a8"
             ],
             [
              0.3333333333333333,
              "#9c179e"
             ],
             [
              0.4444444444444444,
              "#bd3786"
             ],
             [
              0.5555555555555556,
              "#d8576b"
             ],
             [
              0.6666666666666666,
              "#ed7953"
             ],
             [
              0.7777777777777778,
              "#fb9f3a"
             ],
             [
              0.8888888888888888,
              "#fdca26"
             ],
             [
              1,
              "#f0f921"
             ]
            ],
            "type": "surface"
           }
          ],
          "table": [
           {
            "cells": {
             "fill": {
              "color": "#EBF0F8"
             },
             "line": {
              "color": "white"
             }
            },
            "header": {
             "fill": {
              "color": "#C8D4E3"
             },
             "line": {
              "color": "white"
             }
            },
            "type": "table"
           }
          ]
         },
         "layout": {
          "annotationdefaults": {
           "arrowcolor": "#2a3f5f",
           "arrowhead": 0,
           "arrowwidth": 1
          },
          "autotypenumbers": "strict",
          "coloraxis": {
           "colorbar": {
            "outlinewidth": 0,
            "ticks": ""
           }
          },
          "colorscale": {
           "diverging": [
            [
             0,
             "#8e0152"
            ],
            [
             0.1,
             "#c51b7d"
            ],
            [
             0.2,
             "#de77ae"
            ],
            [
             0.3,
             "#f1b6da"
            ],
            [
             0.4,
             "#fde0ef"
            ],
            [
             0.5,
             "#f7f7f7"
            ],
            [
             0.6,
             "#e6f5d0"
            ],
            [
             0.7,
             "#b8e186"
            ],
            [
             0.8,
             "#7fbc41"
            ],
            [
             0.9,
             "#4d9221"
            ],
            [
             1,
             "#276419"
            ]
           ],
           "sequential": [
            [
             0,
             "#0d0887"
            ],
            [
             0.1111111111111111,
             "#46039f"
            ],
            [
             0.2222222222222222,
             "#7201a8"
            ],
            [
             0.3333333333333333,
             "#9c179e"
            ],
            [
             0.4444444444444444,
             "#bd3786"
            ],
            [
             0.5555555555555556,
             "#d8576b"
            ],
            [
             0.6666666666666666,
             "#ed7953"
            ],
            [
             0.7777777777777778,
             "#fb9f3a"
            ],
            [
             0.8888888888888888,
             "#fdca26"
            ],
            [
             1,
             "#f0f921"
            ]
           ],
           "sequentialminus": [
            [
             0,
             "#0d0887"
            ],
            [
             0.1111111111111111,
             "#46039f"
            ],
            [
             0.2222222222222222,
             "#7201a8"
            ],
            [
             0.3333333333333333,
             "#9c179e"
            ],
            [
             0.4444444444444444,
             "#bd3786"
            ],
            [
             0.5555555555555556,
             "#d8576b"
            ],
            [
             0.6666666666666666,
             "#ed7953"
            ],
            [
             0.7777777777777778,
             "#fb9f3a"
            ],
            [
             0.8888888888888888,
             "#fdca26"
            ],
            [
             1,
             "#f0f921"
            ]
           ]
          },
          "colorway": [
           "#636efa",
           "#EF553B",
           "#00cc96",
           "#ab63fa",
           "#FFA15A",
           "#19d3f3",
           "#FF6692",
           "#B6E880",
           "#FF97FF",
           "#FECB52"
          ],
          "font": {
           "color": "#2a3f5f"
          },
          "geo": {
           "bgcolor": "white",
           "lakecolor": "white",
           "landcolor": "#E5ECF6",
           "showlakes": true,
           "showland": true,
           "subunitcolor": "white"
          },
          "hoverlabel": {
           "align": "left"
          },
          "hovermode": "closest",
          "mapbox": {
           "style": "light"
          },
          "paper_bgcolor": "white",
          "plot_bgcolor": "#E5ECF6",
          "polar": {
           "angularaxis": {
            "gridcolor": "white",
            "linecolor": "white",
            "ticks": ""
           },
           "bgcolor": "#E5ECF6",
           "radialaxis": {
            "gridcolor": "white",
            "linecolor": "white",
            "ticks": ""
           }
          },
          "scene": {
           "xaxis": {
            "backgroundcolor": "#E5ECF6",
            "gridcolor": "white",
            "gridwidth": 2,
            "linecolor": "white",
            "showbackground": true,
            "ticks": "",
            "zerolinecolor": "white"
           },
           "yaxis": {
            "backgroundcolor": "#E5ECF6",
            "gridcolor": "white",
            "gridwidth": 2,
            "linecolor": "white",
            "showbackground": true,
            "ticks": "",
            "zerolinecolor": "white"
           },
           "zaxis": {
            "backgroundcolor": "#E5ECF6",
            "gridcolor": "white",
            "gridwidth": 2,
            "linecolor": "white",
            "showbackground": true,
            "ticks": "",
            "zerolinecolor": "white"
           }
          },
          "shapedefaults": {
           "line": {
            "color": "#2a3f5f"
           }
          },
          "ternary": {
           "aaxis": {
            "gridcolor": "white",
            "linecolor": "white",
            "ticks": ""
           },
           "baxis": {
            "gridcolor": "white",
            "linecolor": "white",
            "ticks": ""
           },
           "bgcolor": "#E5ECF6",
           "caxis": {
            "gridcolor": "white",
            "linecolor": "white",
            "ticks": ""
           }
          },
          "title": {
           "x": 0.05
          },
          "xaxis": {
           "automargin": true,
           "gridcolor": "white",
           "linecolor": "white",
           "ticks": "",
           "title": {
            "standoff": 15
           },
           "zerolinecolor": "white",
           "zerolinewidth": 2
          },
          "yaxis": {
           "automargin": true,
           "gridcolor": "white",
           "linecolor": "white",
           "ticks": "",
           "title": {
            "standoff": 15
           },
           "zerolinecolor": "white",
           "zerolinewidth": 2
          }
         }
        },
        "xaxis": {
         "range": [
          -1,
          1
         ]
        },
        "yaxis": {
         "range": [
          -1,
          1
         ]
        }
       }
      },
      "text/html": [
       "<div>                            <div id=\"e1788f0f-0431-4601-a676-56dc248aea89\" class=\"plotly-graph-div\" style=\"height:525px; width:100%;\"></div>            <script type=\"text/javascript\">                require([\"plotly\"], function(Plotly) {                    window.PLOTLYENV=window.PLOTLYENV || {};                                    if (document.getElementById(\"e1788f0f-0431-4601-a676-56dc248aea89\")) {                    Plotly.newPlot(                        \"e1788f0f-0431-4601-a676-56dc248aea89\",                        [{\"marker\":{\"color\":\"cyan\",\"size\":10},\"mode\":\"markers\",\"name\":\"earth\",\"x\":[-0.14473193883895874],\"y\":[-0.1140119880437851],\"type\":\"scatter\"},{\"marker\":{\"color\":\"olive\",\"size\":10},\"mode\":\"markers\",\"name\":\"air\",\"x\":[-0.21808978915214539],\"y\":[-0.10217159986495972],\"type\":\"scatter\"}],                        {\"template\":{\"data\":{\"histogram2dcontour\":[{\"type\":\"histogram2dcontour\",\"colorbar\":{\"outlinewidth\":0,\"ticks\":\"\"},\"colorscale\":[[0.0,\"#0d0887\"],[0.1111111111111111,\"#46039f\"],[0.2222222222222222,\"#7201a8\"],[0.3333333333333333,\"#9c179e\"],[0.4444444444444444,\"#bd3786\"],[0.5555555555555556,\"#d8576b\"],[0.6666666666666666,\"#ed7953\"],[0.7777777777777778,\"#fb9f3a\"],[0.8888888888888888,\"#fdca26\"],[1.0,\"#f0f921\"]]}],\"choropleth\":[{\"type\":\"choropleth\",\"colorbar\":{\"outlinewidth\":0,\"ticks\":\"\"}}],\"histogram2d\":[{\"type\":\"histogram2d\",\"colorbar\":{\"outlinewidth\":0,\"ticks\":\"\"},\"colorscale\":[[0.0,\"#0d0887\"],[0.1111111111111111,\"#46039f\"],[0.2222222222222222,\"#7201a8\"],[0.3333333333333333,\"#9c179e\"],[0.4444444444444444,\"#bd3786\"],[0.5555555555555556,\"#d8576b\"],[0.6666666666666666,\"#ed7953\"],[0.7777777777777778,\"#fb9f3a\"],[0.8888888888888888,\"#fdca26\"],[1.0,\"#f0f921\"]]}],\"heatmap\":[{\"type\":\"heatmap\",\"colorbar\":{\"outlinewidth\":0,\"ticks\":\"\"},\"colorscale\":[[0.0,\"#0d0887\"],[0.1111111111111111,\"#46039f\"],[0.2222222222222222,\"#7201a8\"],[0.3333333333333333,\"#9c179e\"],[0.4444444444444444,\"#bd3786\"],[0.5555555555555556,\"#d8576b\"],[0.6666666666666666,\"#ed7953\"],[0.7777777777777778,\"#fb9f3a\"],[0.8888888888888888,\"#fdca26\"],[1.0,\"#f0f921\"]]}],\"heatmapgl\":[{\"type\":\"heatmapgl\",\"colorbar\":{\"outlinewidth\":0,\"ticks\":\"\"},\"colorscale\":[[0.0,\"#0d0887\"],[0.1111111111111111,\"#46039f\"],[0.2222222222222222,\"#7201a8\"],[0.3333333333333333,\"#9c179e\"],[0.4444444444444444,\"#bd3786\"],[0.5555555555555556,\"#d8576b\"],[0.6666666666666666,\"#ed7953\"],[0.7777777777777778,\"#fb9f3a\"],[0.8888888888888888,\"#fdca26\"],[1.0,\"#f0f921\"]]}],\"contourcarpet\":[{\"type\":\"contourcarpet\",\"colorbar\":{\"outlinewidth\":0,\"ticks\":\"\"}}],\"contour\":[{\"type\":\"contour\",\"colorbar\":{\"outlinewidth\":0,\"ticks\":\"\"},\"colorscale\":[[0.0,\"#0d0887\"],[0.1111111111111111,\"#46039f\"],[0.2222222222222222,\"#7201a8\"],[0.3333333333333333,\"#9c179e\"],[0.4444444444444444,\"#bd3786\"],[0.5555555555555556,\"#d8576b\"],[0.6666666666666666,\"#ed7953\"],[0.7777777777777778,\"#fb9f3a\"],[0.8888888888888888,\"#fdca26\"],[1.0,\"#f0f921\"]]}],\"surface\":[{\"type\":\"surface\",\"colorbar\":{\"outlinewidth\":0,\"ticks\":\"\"},\"colorscale\":[[0.0,\"#0d0887\"],[0.1111111111111111,\"#46039f\"],[0.2222222222222222,\"#7201a8\"],[0.3333333333333333,\"#9c179e\"],[0.4444444444444444,\"#bd3786\"],[0.5555555555555556,\"#d8576b\"],[0.6666666666666666,\"#ed7953\"],[0.7777777777777778,\"#fb9f3a\"],[0.8888888888888888,\"#fdca26\"],[1.0,\"#f0f921\"]]}],\"mesh3d\":[{\"type\":\"mesh3d\",\"colorbar\":{\"outlinewidth\":0,\"ticks\":\"\"}}],\"scatter\":[{\"fillpattern\":{\"fillmode\":\"overlay\",\"size\":10,\"solidity\":0.2},\"type\":\"scatter\"}],\"parcoords\":[{\"type\":\"parcoords\",\"line\":{\"colorbar\":{\"outlinewidth\":0,\"ticks\":\"\"}}}],\"scatterpolargl\":[{\"type\":\"scatterpolargl\",\"marker\":{\"colorbar\":{\"outlinewidth\":0,\"ticks\":\"\"}}}],\"bar\":[{\"error_x\":{\"color\":\"#2a3f5f\"},\"error_y\":{\"color\":\"#2a3f5f\"},\"marker\":{\"line\":{\"color\":\"#E5ECF6\",\"width\":0.5},\"pattern\":{\"fillmode\":\"overlay\",\"size\":10,\"solidity\":0.2}},\"type\":\"bar\"}],\"scattergeo\":[{\"type\":\"scattergeo\",\"marker\":{\"colorbar\":{\"outlinewidth\":0,\"ticks\":\"\"}}}],\"scatterpolar\":[{\"type\":\"scatterpolar\",\"marker\":{\"colorbar\":{\"outlinewidth\":0,\"ticks\":\"\"}}}],\"histogram\":[{\"marker\":{\"pattern\":{\"fillmode\":\"overlay\",\"size\":10,\"solidity\":0.2}},\"type\":\"histogram\"}],\"scattergl\":[{\"type\":\"scattergl\",\"marker\":{\"colorbar\":{\"outlinewidth\":0,\"ticks\":\"\"}}}],\"scatter3d\":[{\"type\":\"scatter3d\",\"line\":{\"colorbar\":{\"outlinewidth\":0,\"ticks\":\"\"}},\"marker\":{\"colorbar\":{\"outlinewidth\":0,\"ticks\":\"\"}}}],\"scattermapbox\":[{\"type\":\"scattermapbox\",\"marker\":{\"colorbar\":{\"outlinewidth\":0,\"ticks\":\"\"}}}],\"scatterternary\":[{\"type\":\"scatterternary\",\"marker\":{\"colorbar\":{\"outlinewidth\":0,\"ticks\":\"\"}}}],\"scattercarpet\":[{\"type\":\"scattercarpet\",\"marker\":{\"colorbar\":{\"outlinewidth\":0,\"ticks\":\"\"}}}],\"carpet\":[{\"aaxis\":{\"endlinecolor\":\"#2a3f5f\",\"gridcolor\":\"white\",\"linecolor\":\"white\",\"minorgridcolor\":\"white\",\"startlinecolor\":\"#2a3f5f\"},\"baxis\":{\"endlinecolor\":\"#2a3f5f\",\"gridcolor\":\"white\",\"linecolor\":\"white\",\"minorgridcolor\":\"white\",\"startlinecolor\":\"#2a3f5f\"},\"type\":\"carpet\"}],\"table\":[{\"cells\":{\"fill\":{\"color\":\"#EBF0F8\"},\"line\":{\"color\":\"white\"}},\"header\":{\"fill\":{\"color\":\"#C8D4E3\"},\"line\":{\"color\":\"white\"}},\"type\":\"table\"}],\"barpolar\":[{\"marker\":{\"line\":{\"color\":\"#E5ECF6\",\"width\":0.5},\"pattern\":{\"fillmode\":\"overlay\",\"size\":10,\"solidity\":0.2}},\"type\":\"barpolar\"}],\"pie\":[{\"automargin\":true,\"type\":\"pie\"}]},\"layout\":{\"autotypenumbers\":\"strict\",\"colorway\":[\"#636efa\",\"#EF553B\",\"#00cc96\",\"#ab63fa\",\"#FFA15A\",\"#19d3f3\",\"#FF6692\",\"#B6E880\",\"#FF97FF\",\"#FECB52\"],\"font\":{\"color\":\"#2a3f5f\"},\"hovermode\":\"closest\",\"hoverlabel\":{\"align\":\"left\"},\"paper_bgcolor\":\"white\",\"plot_bgcolor\":\"#E5ECF6\",\"polar\":{\"bgcolor\":\"#E5ECF6\",\"angularaxis\":{\"gridcolor\":\"white\",\"linecolor\":\"white\",\"ticks\":\"\"},\"radialaxis\":{\"gridcolor\":\"white\",\"linecolor\":\"white\",\"ticks\":\"\"}},\"ternary\":{\"bgcolor\":\"#E5ECF6\",\"aaxis\":{\"gridcolor\":\"white\",\"linecolor\":\"white\",\"ticks\":\"\"},\"baxis\":{\"gridcolor\":\"white\",\"linecolor\":\"white\",\"ticks\":\"\"},\"caxis\":{\"gridcolor\":\"white\",\"linecolor\":\"white\",\"ticks\":\"\"}},\"coloraxis\":{\"colorbar\":{\"outlinewidth\":0,\"ticks\":\"\"}},\"colorscale\":{\"sequential\":[[0.0,\"#0d0887\"],[0.1111111111111111,\"#46039f\"],[0.2222222222222222,\"#7201a8\"],[0.3333333333333333,\"#9c179e\"],[0.4444444444444444,\"#bd3786\"],[0.5555555555555556,\"#d8576b\"],[0.6666666666666666,\"#ed7953\"],[0.7777777777777778,\"#fb9f3a\"],[0.8888888888888888,\"#fdca26\"],[1.0,\"#f0f921\"]],\"sequentialminus\":[[0.0,\"#0d0887\"],[0.1111111111111111,\"#46039f\"],[0.2222222222222222,\"#7201a8\"],[0.3333333333333333,\"#9c179e\"],[0.4444444444444444,\"#bd3786\"],[0.5555555555555556,\"#d8576b\"],[0.6666666666666666,\"#ed7953\"],[0.7777777777777778,\"#fb9f3a\"],[0.8888888888888888,\"#fdca26\"],[1.0,\"#f0f921\"]],\"diverging\":[[0,\"#8e0152\"],[0.1,\"#c51b7d\"],[0.2,\"#de77ae\"],[0.3,\"#f1b6da\"],[0.4,\"#fde0ef\"],[0.5,\"#f7f7f7\"],[0.6,\"#e6f5d0\"],[0.7,\"#b8e186\"],[0.8,\"#7fbc41\"],[0.9,\"#4d9221\"],[1,\"#276419\"]]},\"xaxis\":{\"gridcolor\":\"white\",\"linecolor\":\"white\",\"ticks\":\"\",\"title\":{\"standoff\":15},\"zerolinecolor\":\"white\",\"automargin\":true,\"zerolinewidth\":2},\"yaxis\":{\"gridcolor\":\"white\",\"linecolor\":\"white\",\"ticks\":\"\",\"title\":{\"standoff\":15},\"zerolinecolor\":\"white\",\"automargin\":true,\"zerolinewidth\":2},\"scene\":{\"xaxis\":{\"backgroundcolor\":\"#E5ECF6\",\"gridcolor\":\"white\",\"linecolor\":\"white\",\"showbackground\":true,\"ticks\":\"\",\"zerolinecolor\":\"white\",\"gridwidth\":2},\"yaxis\":{\"backgroundcolor\":\"#E5ECF6\",\"gridcolor\":\"white\",\"linecolor\":\"white\",\"showbackground\":true,\"ticks\":\"\",\"zerolinecolor\":\"white\",\"gridwidth\":2},\"zaxis\":{\"backgroundcolor\":\"#E5ECF6\",\"gridcolor\":\"white\",\"linecolor\":\"white\",\"showbackground\":true,\"ticks\":\"\",\"zerolinecolor\":\"white\",\"gridwidth\":2}},\"shapedefaults\":{\"line\":{\"color\":\"#2a3f5f\"}},\"annotationdefaults\":{\"arrowcolor\":\"#2a3f5f\",\"arrowhead\":0,\"arrowwidth\":1},\"geo\":{\"bgcolor\":\"white\",\"landcolor\":\"#E5ECF6\",\"subunitcolor\":\"white\",\"showland\":true,\"showlakes\":true,\"lakecolor\":\"white\"},\"title\":{\"x\":0.05},\"mapbox\":{\"style\":\"light\"}}},\"xaxis\":{\"range\":[-1,1]},\"yaxis\":{\"range\":[-1,1]},\"shapes\":[{\"line\":{\"color\":\"black\",\"width\":1},\"type\":\"line\",\"x0\":-1,\"x1\":1,\"y0\":0,\"y1\":0},{\"line\":{\"color\":\"black\",\"width\":1},\"type\":\"line\",\"x0\":0,\"x1\":0,\"y0\":-1,\"y1\":1}],\"annotations\":[{\"showarrow\":false,\"text\":\"bad\",\"x\":-1,\"xshift\":-15,\"y\":0},{\"showarrow\":false,\"text\":\"good\",\"x\":1,\"xshift\":15,\"y\":0},{\"showarrow\":false,\"text\":\"intelligent\",\"x\":0,\"y\":-1,\"yshift\":-15},{\"showarrow\":false,\"text\":\"unintelligent\",\"x\":0,\"y\":1,\"yshift\":15}]},                        {\"responsive\": true}                    ).then(function(){\n",
       "                            \n",
       "var gd = document.getElementById('e1788f0f-0431-4601-a676-56dc248aea89');\n",
       "var x = new MutationObserver(function (mutations, observer) {{\n",
       "        var display = window.getComputedStyle(gd).display;\n",
       "        if (!display || display === 'none') {{\n",
       "            console.log([gd, 'removed!']);\n",
       "            Plotly.purge(gd);\n",
       "            observer.disconnect();\n",
       "        }}\n",
       "}});\n",
       "\n",
       "// Listen for the removal of the full notebook cells\n",
       "var notebookContainer = gd.closest('#notebook-container');\n",
       "if (notebookContainer) {{\n",
       "    x.observe(notebookContainer, {childList: true});\n",
       "}}\n",
       "\n",
       "// Listen for the clearing of the current output cell\n",
       "var outputEl = gd.closest('.output');\n",
       "if (outputEl) {{\n",
       "    x.observe(outputEl, {childList: true});\n",
       "}}\n",
       "\n",
       "                        })                };                });            </script>        </div>"
      ]
     },
     "metadata": {},
     "output_type": "display_data"
    }
   ],
   "source": [
    "wp = WordPolarity(model, antonym_path=antonym_path, method='base-change', number_polar=2)\n",
    "words = [\"earth\", \"air\"]\n",
    "context = [ \"the earth is shaking\", \"the air is blowing\"]\n",
    "\n",
    "polar_dimensions = []\n",
    "for word, context in zip(words, context):\n",
    "    polar_dimensions.append(wp.analyze_word(word, context))\n",
    "\n",
    "plot_word_polarity_2d(words, polar_dimensions)"
   ]
  },
  {
   "cell_type": "code",
   "execution_count": null,
   "metadata": {},
   "outputs": [],
   "source": [
    "out_path = './antonyms/'\n",
    "\n",
    "dimensions = [['cold.a.01', 'hot.a.01'], ['bad.a.01', 'good.a.01'], ['intelligent.a.01', 'unintelligent.a.01'], ['capable.a.01', 'incapable.a.01']]\n",
    "    \n",
    "lookupSpace = LookupCreator(dimensions, out_path)\n",
    "lookupSpace.create_lookup_files()\n",
    "\n",
    "antonym_path = out_path + \"polar_dimensions.pkl\"\n",
    "\n",
    "model = BERTWordEmbeddings()\n",
    "\n",
    "pdc = PolarDimensions(model, antonym_path=out_path + \"antonym_wordnet_example_sentences_readable_extended.txt\")\n",
    "pdc.create_polar_dimensions(out_path)\n",
    "\n",
    "\n",
    "wp = WordPolarity(model, antonym_path=antonym_path, method='base-change', number_polar=4)"
   ]
  },
  {
   "cell_type": "code",
   "execution_count": null,
   "metadata": {},
   "outputs": [],
   "source": []
  }
 ],
 "metadata": {
  "kernelspec": {
   "display_name": "Python 3",
   "language": "python",
   "name": "python3"
  },
  "language_info": {
   "codemirror_mode": {
    "name": "ipython",
    "version": 3
   },
   "file_extension": ".py",
   "mimetype": "text/x-python",
   "name": "python",
   "nbconvert_exporter": "python",
   "pygments_lexer": "ipython3",
   "version": "3.10.9"
  },
  "orig_nbformat": 4
 },
 "nbformat": 4,
 "nbformat_minor": 2
}
